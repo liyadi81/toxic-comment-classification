{
 "cells": [
  {
   "cell_type": "code",
   "execution_count": 5,
   "metadata": {},
   "outputs": [
    {
     "name": "stdout",
     "output_type": "stream",
     "text": [
      "If you want to save 2400000.34 for retirement, you need to save exactly 1610.35 every month\n",
      "That's 38.65 percent of current monthly income, the percent gose down gradually as your income increses\n"
     ]
    }
   ],
   "source": [
    "def constant_amount(monthly, annual_rate, periods):\n",
    "    total = 0\n",
    "    for i in range(1, periods+1):\n",
    "        total = monthly + total*(1+annual_rate/12)\n",
    "    return(round(total, 2))\n",
    "current_month = 1610.35\n",
    "print(\"If you want to save {} for retirement, \\\n",
    "you need to save exactly {} every month\".format(constant_amount(current_month, 0.08, 360), current_month))\n",
    "print('That\\'s {:.2f} percent of current monthly income, \\\n",
    "the percent gose down gradually as your income increses'.format(current_month*100/(50000/12)))"
   ]
  },
  {
   "cell_type": "code",
   "execution_count": 6,
   "metadata": {},
   "outputs": [
    {
     "name": "stdout",
     "output_type": "stream",
     "text": [
      "If you want to save 2400004.61 for retirement, you need to save 1197.9 every month now and increase 0.03% each year\n",
      "That's 28.75 percent of monthly income during the whole 30 years\n"
     ]
    }
   ],
   "source": [
    "inflation = 0.03\n",
    "def constant_percent(monthly, annual_rate, periods):\n",
    "    total = 0\n",
    "    for i in range(1, periods+1):\n",
    "        if not i%12:\n",
    "            monthly = monthly*(1+inflation)\n",
    "        total = monthly + total*(1+annual_rate/12)\n",
    "    return(round(total, 2))\n",
    "current_month = 1197.90\n",
    "print(\"If you want to save {} for retirement, \\\n",
    "you need to save {} every month now and increase 0.03% each year\".format(\n",
    "    constant_percent(1197.90, 0.08, 360), current_month))\n",
    "print('That\\'s {:.2f} percent of monthly income during the whole 30 years'.format(current_month*100/(50000/12)))"
   ]
  }
 ],
 "metadata": {
  "kernelspec": {
   "display_name": "Python 3",
   "language": "python",
   "name": "python3"
  },
  "language_info": {
   "codemirror_mode": {
    "name": "ipython",
    "version": 3
   },
   "file_extension": ".py",
   "mimetype": "text/x-python",
   "name": "python",
   "nbconvert_exporter": "python",
   "pygments_lexer": "ipython3",
   "version": "3.6.2"
  }
 },
 "nbformat": 4,
 "nbformat_minor": 2
}
