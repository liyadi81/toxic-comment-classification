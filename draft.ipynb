{
 "cells": [
  {
   "cell_type": "code",
   "execution_count": 1,
   "metadata": {
    "collapsed": true
   },
   "outputs": [],
   "source": [
    "import numpy as np\n",
    "import pandas as pd\n",
    "import matplotlib.pyplot as plt\n",
    "import seaborn as sns\n",
    "import time\n",
    "import re\n",
    "import string\n",
    "import os\n",
    "from collections import defaultdict\n",
    "\n",
    "pd.set_option(\"display.max_rows\",10)"
   ]
  },
  {
   "cell_type": "markdown",
   "metadata": {},
   "source": [
    "## Loading data"
   ]
  },
  {
   "cell_type": "code",
   "execution_count": 2,
   "metadata": {},
   "outputs": [
    {
     "name": "stdout",
     "output_type": "stream",
     "text": [
      "Training set shape: (159571, 8) \n",
      "Test set shape: (153164, 2)\n"
     ]
    }
   ],
   "source": [
    "train = pd.read_csv('train.csv', sep=',', encoding='utf8')\n",
    "test = pd.read_csv('test.csv', sep=',', encoding='utf8')\n",
    "print(\"Training set shape: {} \\nTest set shape: {}\".format(train.shape, test.shape))"
   ]
  },
  {
   "cell_type": "code",
   "execution_count": 3,
   "metadata": {
    "collapsed": true
   },
   "outputs": [],
   "source": [
    "n_train = train.shape[0]\n",
    "n_test = test.shape[0]"
   ]
  },
  {
   "cell_type": "code",
   "execution_count": 4,
   "metadata": {},
   "outputs": [
    {
     "data": {
      "text/html": [
       "<div>\n",
       "<style>\n",
       "    .dataframe thead tr:only-child th {\n",
       "        text-align: right;\n",
       "    }\n",
       "\n",
       "    .dataframe thead th {\n",
       "        text-align: left;\n",
       "    }\n",
       "\n",
       "    .dataframe tbody tr th {\n",
       "        vertical-align: top;\n",
       "    }\n",
       "</style>\n",
       "<table border=\"1\" class=\"dataframe\">\n",
       "  <thead>\n",
       "    <tr style=\"text-align: right;\">\n",
       "      <th></th>\n",
       "      <th>id</th>\n",
       "      <th>comment_text</th>\n",
       "      <th>toxic</th>\n",
       "      <th>severe_toxic</th>\n",
       "      <th>obscene</th>\n",
       "      <th>threat</th>\n",
       "      <th>insult</th>\n",
       "      <th>identity_hate</th>\n",
       "    </tr>\n",
       "  </thead>\n",
       "  <tbody>\n",
       "    <tr>\n",
       "      <th>0</th>\n",
       "      <td>0000997932d777bf</td>\n",
       "      <td>Explanation\\nWhy the edits made under my usern...</td>\n",
       "      <td>0</td>\n",
       "      <td>0</td>\n",
       "      <td>0</td>\n",
       "      <td>0</td>\n",
       "      <td>0</td>\n",
       "      <td>0</td>\n",
       "    </tr>\n",
       "    <tr>\n",
       "      <th>1</th>\n",
       "      <td>000103f0d9cfb60f</td>\n",
       "      <td>D'aww! He matches this background colour I'm s...</td>\n",
       "      <td>0</td>\n",
       "      <td>0</td>\n",
       "      <td>0</td>\n",
       "      <td>0</td>\n",
       "      <td>0</td>\n",
       "      <td>0</td>\n",
       "    </tr>\n",
       "    <tr>\n",
       "      <th>2</th>\n",
       "      <td>000113f07ec002fd</td>\n",
       "      <td>Hey man, I'm really not trying to edit war. It...</td>\n",
       "      <td>0</td>\n",
       "      <td>0</td>\n",
       "      <td>0</td>\n",
       "      <td>0</td>\n",
       "      <td>0</td>\n",
       "      <td>0</td>\n",
       "    </tr>\n",
       "    <tr>\n",
       "      <th>3</th>\n",
       "      <td>0001b41b1c6bb37e</td>\n",
       "      <td>\"\\nMore\\nI can't make any real suggestions on ...</td>\n",
       "      <td>0</td>\n",
       "      <td>0</td>\n",
       "      <td>0</td>\n",
       "      <td>0</td>\n",
       "      <td>0</td>\n",
       "      <td>0</td>\n",
       "    </tr>\n",
       "    <tr>\n",
       "      <th>4</th>\n",
       "      <td>0001d958c54c6e35</td>\n",
       "      <td>You, sir, are my hero. Any chance you remember...</td>\n",
       "      <td>0</td>\n",
       "      <td>0</td>\n",
       "      <td>0</td>\n",
       "      <td>0</td>\n",
       "      <td>0</td>\n",
       "      <td>0</td>\n",
       "    </tr>\n",
       "    <tr>\n",
       "      <th>5</th>\n",
       "      <td>00025465d4725e87</td>\n",
       "      <td>\"\\n\\nCongratulations from me as well, use the ...</td>\n",
       "      <td>0</td>\n",
       "      <td>0</td>\n",
       "      <td>0</td>\n",
       "      <td>0</td>\n",
       "      <td>0</td>\n",
       "      <td>0</td>\n",
       "    </tr>\n",
       "    <tr>\n",
       "      <th>6</th>\n",
       "      <td>0002bcb3da6cb337</td>\n",
       "      <td>COCKSUCKER BEFORE YOU PISS AROUND ON MY WORK</td>\n",
       "      <td>1</td>\n",
       "      <td>1</td>\n",
       "      <td>1</td>\n",
       "      <td>0</td>\n",
       "      <td>1</td>\n",
       "      <td>0</td>\n",
       "    </tr>\n",
       "    <tr>\n",
       "      <th>7</th>\n",
       "      <td>00031b1e95af7921</td>\n",
       "      <td>Your vandalism to the Matt Shirvington article...</td>\n",
       "      <td>0</td>\n",
       "      <td>0</td>\n",
       "      <td>0</td>\n",
       "      <td>0</td>\n",
       "      <td>0</td>\n",
       "      <td>0</td>\n",
       "    </tr>\n",
       "    <tr>\n",
       "      <th>8</th>\n",
       "      <td>00037261f536c51d</td>\n",
       "      <td>Sorry if the word 'nonsense' was offensive to ...</td>\n",
       "      <td>0</td>\n",
       "      <td>0</td>\n",
       "      <td>0</td>\n",
       "      <td>0</td>\n",
       "      <td>0</td>\n",
       "      <td>0</td>\n",
       "    </tr>\n",
       "    <tr>\n",
       "      <th>9</th>\n",
       "      <td>00040093b2687caa</td>\n",
       "      <td>alignment on this subject and which are contra...</td>\n",
       "      <td>0</td>\n",
       "      <td>0</td>\n",
       "      <td>0</td>\n",
       "      <td>0</td>\n",
       "      <td>0</td>\n",
       "      <td>0</td>\n",
       "    </tr>\n",
       "  </tbody>\n",
       "</table>\n",
       "</div>"
      ],
      "text/plain": [
       "                 id                                       comment_text  toxic  \\\n",
       "0  0000997932d777bf  Explanation\\nWhy the edits made under my usern...      0   \n",
       "1  000103f0d9cfb60f  D'aww! He matches this background colour I'm s...      0   \n",
       "2  000113f07ec002fd  Hey man, I'm really not trying to edit war. It...      0   \n",
       "3  0001b41b1c6bb37e  \"\\nMore\\nI can't make any real suggestions on ...      0   \n",
       "4  0001d958c54c6e35  You, sir, are my hero. Any chance you remember...      0   \n",
       "5  00025465d4725e87  \"\\n\\nCongratulations from me as well, use the ...      0   \n",
       "6  0002bcb3da6cb337       COCKSUCKER BEFORE YOU PISS AROUND ON MY WORK      1   \n",
       "7  00031b1e95af7921  Your vandalism to the Matt Shirvington article...      0   \n",
       "8  00037261f536c51d  Sorry if the word 'nonsense' was offensive to ...      0   \n",
       "9  00040093b2687caa  alignment on this subject and which are contra...      0   \n",
       "\n",
       "   severe_toxic  obscene  threat  insult  identity_hate  \n",
       "0             0        0       0       0              0  \n",
       "1             0        0       0       0              0  \n",
       "2             0        0       0       0              0  \n",
       "3             0        0       0       0              0  \n",
       "4             0        0       0       0              0  \n",
       "5             0        0       0       0              0  \n",
       "6             1        1       0       1              0  \n",
       "7             0        0       0       0              0  \n",
       "8             0        0       0       0              0  \n",
       "9             0        0       0       0              0  "
      ]
     },
     "execution_count": 4,
     "metadata": {},
     "output_type": "execute_result"
    }
   ],
   "source": [
    "train.head(10)"
   ]
  },
  {
   "cell_type": "code",
   "execution_count": 5,
   "metadata": {},
   "outputs": [
    {
     "data": {
      "text/plain": [
       "id               0\n",
       "comment_text     0\n",
       "toxic            0\n",
       "severe_toxic     0\n",
       "obscene          0\n",
       "threat           0\n",
       "insult           0\n",
       "identity_hate    0\n",
       "dtype: int64"
      ]
     },
     "execution_count": 5,
     "metadata": {},
     "output_type": "execute_result"
    }
   ],
   "source": [
    "# no missing value\n",
    "train.isnull().sum()"
   ]
  },
  {
   "cell_type": "code",
   "execution_count": 6,
   "metadata": {},
   "outputs": [
    {
     "data": {
      "text/html": [
       "<div>\n",
       "<style>\n",
       "    .dataframe thead tr:only-child th {\n",
       "        text-align: right;\n",
       "    }\n",
       "\n",
       "    .dataframe thead th {\n",
       "        text-align: left;\n",
       "    }\n",
       "\n",
       "    .dataframe tbody tr th {\n",
       "        vertical-align: top;\n",
       "    }\n",
       "</style>\n",
       "<table border=\"1\" class=\"dataframe\">\n",
       "  <thead>\n",
       "    <tr style=\"text-align: right;\">\n",
       "      <th></th>\n",
       "      <th>toxic</th>\n",
       "      <th>severe_toxic</th>\n",
       "      <th>obscene</th>\n",
       "      <th>threat</th>\n",
       "      <th>insult</th>\n",
       "      <th>identity_hate</th>\n",
       "    </tr>\n",
       "  </thead>\n",
       "  <tbody>\n",
       "    <tr>\n",
       "      <th>count</th>\n",
       "      <td>159571.000000</td>\n",
       "      <td>159571.000000</td>\n",
       "      <td>159571.000000</td>\n",
       "      <td>159571.000000</td>\n",
       "      <td>159571.000000</td>\n",
       "      <td>159571.000000</td>\n",
       "    </tr>\n",
       "    <tr>\n",
       "      <th>mean</th>\n",
       "      <td>0.095844</td>\n",
       "      <td>0.009996</td>\n",
       "      <td>0.052948</td>\n",
       "      <td>0.002996</td>\n",
       "      <td>0.049364</td>\n",
       "      <td>0.008805</td>\n",
       "    </tr>\n",
       "    <tr>\n",
       "      <th>std</th>\n",
       "      <td>0.294379</td>\n",
       "      <td>0.099477</td>\n",
       "      <td>0.223931</td>\n",
       "      <td>0.054650</td>\n",
       "      <td>0.216627</td>\n",
       "      <td>0.093420</td>\n",
       "    </tr>\n",
       "    <tr>\n",
       "      <th>min</th>\n",
       "      <td>0.000000</td>\n",
       "      <td>0.000000</td>\n",
       "      <td>0.000000</td>\n",
       "      <td>0.000000</td>\n",
       "      <td>0.000000</td>\n",
       "      <td>0.000000</td>\n",
       "    </tr>\n",
       "    <tr>\n",
       "      <th>25%</th>\n",
       "      <td>0.000000</td>\n",
       "      <td>0.000000</td>\n",
       "      <td>0.000000</td>\n",
       "      <td>0.000000</td>\n",
       "      <td>0.000000</td>\n",
       "      <td>0.000000</td>\n",
       "    </tr>\n",
       "    <tr>\n",
       "      <th>50%</th>\n",
       "      <td>0.000000</td>\n",
       "      <td>0.000000</td>\n",
       "      <td>0.000000</td>\n",
       "      <td>0.000000</td>\n",
       "      <td>0.000000</td>\n",
       "      <td>0.000000</td>\n",
       "    </tr>\n",
       "    <tr>\n",
       "      <th>75%</th>\n",
       "      <td>0.000000</td>\n",
       "      <td>0.000000</td>\n",
       "      <td>0.000000</td>\n",
       "      <td>0.000000</td>\n",
       "      <td>0.000000</td>\n",
       "      <td>0.000000</td>\n",
       "    </tr>\n",
       "    <tr>\n",
       "      <th>max</th>\n",
       "      <td>1.000000</td>\n",
       "      <td>1.000000</td>\n",
       "      <td>1.000000</td>\n",
       "      <td>1.000000</td>\n",
       "      <td>1.000000</td>\n",
       "      <td>1.000000</td>\n",
       "    </tr>\n",
       "  </tbody>\n",
       "</table>\n",
       "</div>"
      ],
      "text/plain": [
       "               toxic   severe_toxic        obscene         threat  \\\n",
       "count  159571.000000  159571.000000  159571.000000  159571.000000   \n",
       "mean        0.095844       0.009996       0.052948       0.002996   \n",
       "std         0.294379       0.099477       0.223931       0.054650   \n",
       "min         0.000000       0.000000       0.000000       0.000000   \n",
       "25%         0.000000       0.000000       0.000000       0.000000   \n",
       "50%         0.000000       0.000000       0.000000       0.000000   \n",
       "75%         0.000000       0.000000       0.000000       0.000000   \n",
       "max         1.000000       1.000000       1.000000       1.000000   \n",
       "\n",
       "              insult  identity_hate  \n",
       "count  159571.000000  159571.000000  \n",
       "mean        0.049364       0.008805  \n",
       "std         0.216627       0.093420  \n",
       "min         0.000000       0.000000  \n",
       "25%         0.000000       0.000000  \n",
       "50%         0.000000       0.000000  \n",
       "75%         0.000000       0.000000  \n",
       "max         1.000000       1.000000  "
      ]
     },
     "execution_count": 6,
     "metadata": {},
     "output_type": "execute_result"
    }
   ],
   "source": [
    "# Checking statistics of the labels in the training set\n",
    "train.describe()"
   ]
  },
  {
   "cell_type": "code",
   "execution_count": 7,
   "metadata": {},
   "outputs": [
    {
     "data": {
      "text/html": [
       "<div>\n",
       "<style>\n",
       "    .dataframe thead tr:only-child th {\n",
       "        text-align: right;\n",
       "    }\n",
       "\n",
       "    .dataframe thead th {\n",
       "        text-align: left;\n",
       "    }\n",
       "\n",
       "    .dataframe tbody tr th {\n",
       "        vertical-align: top;\n",
       "    }\n",
       "</style>\n",
       "<table border=\"1\" class=\"dataframe\">\n",
       "  <thead>\n",
       "    <tr style=\"text-align: right;\">\n",
       "      <th></th>\n",
       "      <th>toxic</th>\n",
       "      <th>severe_toxic</th>\n",
       "      <th>obscene</th>\n",
       "      <th>threat</th>\n",
       "      <th>insult</th>\n",
       "      <th>identity_hate</th>\n",
       "    </tr>\n",
       "  </thead>\n",
       "  <tbody>\n",
       "    <tr>\n",
       "      <th>0</th>\n",
       "      <td>15294</td>\n",
       "      <td>1595</td>\n",
       "      <td>8449</td>\n",
       "      <td>478</td>\n",
       "      <td>7877</td>\n",
       "      <td>1405</td>\n",
       "    </tr>\n",
       "  </tbody>\n",
       "</table>\n",
       "</div>"
      ],
      "text/plain": [
       "   toxic  severe_toxic  obscene  threat  insult  identity_hate\n",
       "0  15294          1595     8449     478    7877           1405"
      ]
     },
     "execution_count": 7,
     "metadata": {},
     "output_type": "execute_result"
    }
   ],
   "source": [
    "# number of positive examples for each label\n",
    "pd.DataFrame(train.iloc[:, 2:8].sum()).transpose()"
   ]
  },
  {
   "cell_type": "code",
   "execution_count": 8,
   "metadata": {
    "scrolled": true
   },
   "outputs": [
    {
     "name": "stdout",
     "output_type": "stream",
     "text": [
      "                                                        comment_text\n",
      "toxic severe_toxic obscene threat insult identity_hate              \n",
      "0     0            0       0      0      0                    143346\n",
      "                                         1                        54\n",
      "                                  1      0                       301\n",
      "                                         1                        28\n",
      "                           1      0      0                        22\n",
      "                                  1      0                         3\n",
      "                   1       0      0      0                       317\n",
      "                                         1                         3\n",
      "                                  1      0                       181\n",
      "                                         1                        18\n",
      "                           1      0      0                         2\n",
      "                                  1      0                         2\n",
      "1     0            0       0      0      0                      5666\n",
      "                                         1                       136\n",
      "                                  1      0                      1215\n",
      "                                         1                       134\n",
      "                           1      0      0                       113\n",
      "                                         1                         7\n",
      "                                  1      0                        16\n",
      "                                         1                         3\n",
      "                   1       0      0      0                      1758\n",
      "                                         1                        35\n",
      "                                  1      0                      3800\n",
      "                                         1                       618\n",
      "                           1      0      0                        11\n",
      "                                  1      0                       131\n",
      "                                         1                        56\n",
      "      1            0       0      0      0                        41\n",
      "                                         1                         3\n",
      "                                  1      0                        14\n",
      "                                         1                         7\n",
      "                           1      0      0                        11\n",
      "                                         1                         1\n",
      "                                  1      0                         1\n",
      "                   1       0      0      0                       158\n",
      "                                         1                         6\n",
      "                                  1      0                       989\n",
      "                                         1                       265\n",
      "                           1      0      0                         4\n",
      "                                  1      0                        64\n",
      "                                         1                        31\n"
     ]
    }
   ],
   "source": [
    "# more detailed count for different toxic comments\n",
    "\n",
    "labels = train.columns[2:8].tolist()\n",
    "grp = train.iloc[:,1:8].groupby(labels)\n",
    "\n",
    "pd.set_option(\"display.max_rows\",50)\n",
    "print(grp.count())\n",
    "pd.set_option(\"display.max_rows\",10)"
   ]
  },
  {
   "cell_type": "code",
   "execution_count": 9,
   "metadata": {},
   "outputs": [
    {
     "data": {
      "image/png": "[encoded data removed]",
      "text/plain": [
       "<matplotlib.figure.Figure at 0x18828c4f4e0>"
      ]
     },
     "metadata": {},
     "output_type": "display_data"
    }
   ],
   "source": [
    "# visuallize the distribution of value for different labels\n",
    "train.hist(figsize=(10,5), layout=(2,3))\n",
    "plt.show()"
   ]
  },
  {
   "cell_type": "code",
   "execution_count": 10,
   "metadata": {
    "scrolled": false
   },
   "outputs": [
    {
     "data": {
      "image/png": "[encoded data removed]",
      "text/plain": [
       "<matplotlib.figure.Figure at 0x188366fdfd0>"
      ]
     },
     "metadata": {},
     "output_type": "display_data"
    }
   ],
   "source": [
    "# checking correlation of different lables\n",
    "\n",
    "plt.figure(figsize=(8,7))\n",
    "sns.set(font_scale=1.5)\n",
    "plt.yticks(rotation=0)\n",
    "sns.heatmap(train.iloc[:,2:].corr(method='spearman'), annot=True, square=True, linewidths=0.1)\n",
    "plt.show()"
   ]
  },
  {
   "cell_type": "markdown",
   "metadata": {},
   "source": [
    "<p><a name=\"textpreprocessing\"></a></p>\n",
    "## Text preprocessing\n",
    "<div style=\"text-align: right\"> [[back to top]](#table of content) </div>"
   ]
  },
  {
   "cell_type": "code",
   "execution_count": 11,
   "metadata": {},
   "outputs": [
    {
     "data": {
      "text/html": [
       "<div>\n",
       "<style>\n",
       "    .dataframe thead tr:only-child th {\n",
       "        text-align: right;\n",
       "    }\n",
       "\n",
       "    .dataframe thead th {\n",
       "        text-align: left;\n",
       "    }\n",
       "\n",
       "    .dataframe tbody tr th {\n",
       "        vertical-align: top;\n",
       "    }\n",
       "</style>\n",
       "<table border=\"1\" class=\"dataframe\">\n",
       "  <thead>\n",
       "    <tr style=\"text-align: right;\">\n",
       "      <th></th>\n",
       "      <th>comment_text</th>\n",
       "      <th>id</th>\n",
       "      <th>identity_hate</th>\n",
       "      <th>insult</th>\n",
       "      <th>obscene</th>\n",
       "      <th>severe_toxic</th>\n",
       "      <th>threat</th>\n",
       "      <th>toxic</th>\n",
       "    </tr>\n",
       "  </thead>\n",
       "  <tbody>\n",
       "    <tr>\n",
       "      <th>0</th>\n",
       "      <td>Explanation\\nWhy the edits made under my usern...</td>\n",
       "      <td>0000997932d777bf</td>\n",
       "      <td>0.0</td>\n",
       "      <td>0.0</td>\n",
       "      <td>0.0</td>\n",
       "      <td>0.0</td>\n",
       "      <td>0.0</td>\n",
       "      <td>0.0</td>\n",
       "    </tr>\n",
       "    <tr>\n",
       "      <th>1</th>\n",
       "      <td>D'aww! He matches this background colour I'm s...</td>\n",
       "      <td>000103f0d9cfb60f</td>\n",
       "      <td>0.0</td>\n",
       "      <td>0.0</td>\n",
       "      <td>0.0</td>\n",
       "      <td>0.0</td>\n",
       "      <td>0.0</td>\n",
       "      <td>0.0</td>\n",
       "    </tr>\n",
       "    <tr>\n",
       "      <th>2</th>\n",
       "      <td>Hey man, I'm really not trying to edit war. It...</td>\n",
       "      <td>000113f07ec002fd</td>\n",
       "      <td>0.0</td>\n",
       "      <td>0.0</td>\n",
       "      <td>0.0</td>\n",
       "      <td>0.0</td>\n",
       "      <td>0.0</td>\n",
       "      <td>0.0</td>\n",
       "    </tr>\n",
       "    <tr>\n",
       "      <th>3</th>\n",
       "      <td>\"\\nMore\\nI can't make any real suggestions on ...</td>\n",
       "      <td>0001b41b1c6bb37e</td>\n",
       "      <td>0.0</td>\n",
       "      <td>0.0</td>\n",
       "      <td>0.0</td>\n",
       "      <td>0.0</td>\n",
       "      <td>0.0</td>\n",
       "      <td>0.0</td>\n",
       "    </tr>\n",
       "    <tr>\n",
       "      <th>4</th>\n",
       "      <td>You, sir, are my hero. Any chance you remember...</td>\n",
       "      <td>0001d958c54c6e35</td>\n",
       "      <td>0.0</td>\n",
       "      <td>0.0</td>\n",
       "      <td>0.0</td>\n",
       "      <td>0.0</td>\n",
       "      <td>0.0</td>\n",
       "      <td>0.0</td>\n",
       "    </tr>\n",
       "    <tr>\n",
       "      <th>...</th>\n",
       "      <td>...</td>\n",
       "      <td>...</td>\n",
       "      <td>...</td>\n",
       "      <td>...</td>\n",
       "      <td>...</td>\n",
       "      <td>...</td>\n",
       "      <td>...</td>\n",
       "      <td>...</td>\n",
       "    </tr>\n",
       "    <tr>\n",
       "      <th>312730</th>\n",
       "      <td>. \\n i totally agree, this stuff is nothing bu...</td>\n",
       "      <td>fffcd0960ee309b5</td>\n",
       "      <td>NaN</td>\n",
       "      <td>NaN</td>\n",
       "      <td>NaN</td>\n",
       "      <td>NaN</td>\n",
       "      <td>NaN</td>\n",
       "      <td>NaN</td>\n",
       "    </tr>\n",
       "    <tr>\n",
       "      <th>312731</th>\n",
       "      <td>== Throw from out field to home plate. == \\n\\n...</td>\n",
       "      <td>fffd7a9a6eb32c16</td>\n",
       "      <td>NaN</td>\n",
       "      <td>NaN</td>\n",
       "      <td>NaN</td>\n",
       "      <td>NaN</td>\n",
       "      <td>NaN</td>\n",
       "      <td>NaN</td>\n",
       "    </tr>\n",
       "    <tr>\n",
       "      <th>312732</th>\n",
       "      <td>\" \\n\\n == Okinotorishima categories == \\n\\n I ...</td>\n",
       "      <td>fffda9e8d6fafa9e</td>\n",
       "      <td>NaN</td>\n",
       "      <td>NaN</td>\n",
       "      <td>NaN</td>\n",
       "      <td>NaN</td>\n",
       "      <td>NaN</td>\n",
       "      <td>NaN</td>\n",
       "    </tr>\n",
       "    <tr>\n",
       "      <th>312733</th>\n",
       "      <td>\" \\n\\n == \"\"One of the founding nations of the...</td>\n",
       "      <td>fffe8f1340a79fc2</td>\n",
       "      <td>NaN</td>\n",
       "      <td>NaN</td>\n",
       "      <td>NaN</td>\n",
       "      <td>NaN</td>\n",
       "      <td>NaN</td>\n",
       "      <td>NaN</td>\n",
       "    </tr>\n",
       "    <tr>\n",
       "      <th>312734</th>\n",
       "      <td>\" \\n :::Stop already. Your bullshit is not wel...</td>\n",
       "      <td>ffffce3fb183ee80</td>\n",
       "      <td>NaN</td>\n",
       "      <td>NaN</td>\n",
       "      <td>NaN</td>\n",
       "      <td>NaN</td>\n",
       "      <td>NaN</td>\n",
       "      <td>NaN</td>\n",
       "    </tr>\n",
       "  </tbody>\n",
       "</table>\n",
       "<p>312735 rows × 8 columns</p>\n",
       "</div>"
      ],
      "text/plain": [
       "                                             comment_text                id  \\\n",
       "0       Explanation\\nWhy the edits made under my usern...  0000997932d777bf   \n",
       "1       D'aww! He matches this background colour I'm s...  000103f0d9cfb60f   \n",
       "2       Hey man, I'm really not trying to edit war. It...  000113f07ec002fd   \n",
       "3       \"\\nMore\\nI can't make any real suggestions on ...  0001b41b1c6bb37e   \n",
       "4       You, sir, are my hero. Any chance you remember...  0001d958c54c6e35   \n",
       "...                                                   ...               ...   \n",
       "312730  . \\n i totally agree, this stuff is nothing bu...  fffcd0960ee309b5   \n",
       "312731  == Throw from out field to home plate. == \\n\\n...  fffd7a9a6eb32c16   \n",
       "312732  \" \\n\\n == Okinotorishima categories == \\n\\n I ...  fffda9e8d6fafa9e   \n",
       "312733  \" \\n\\n == \"\"One of the founding nations of the...  fffe8f1340a79fc2   \n",
       "312734  \" \\n :::Stop already. Your bullshit is not wel...  ffffce3fb183ee80   \n",
       "\n",
       "        identity_hate  insult  obscene  severe_toxic  threat  toxic  \n",
       "0                 0.0     0.0      0.0           0.0     0.0    0.0  \n",
       "1                 0.0     0.0      0.0           0.0     0.0    0.0  \n",
       "2                 0.0     0.0      0.0           0.0     0.0    0.0  \n",
       "3                 0.0     0.0      0.0           0.0     0.0    0.0  \n",
       "4                 0.0     0.0      0.0           0.0     0.0    0.0  \n",
       "...               ...     ...      ...           ...     ...    ...  \n",
       "312730            NaN     NaN      NaN           NaN     NaN    NaN  \n",
       "312731            NaN     NaN      NaN           NaN     NaN    NaN  \n",
       "312732            NaN     NaN      NaN           NaN     NaN    NaN  \n",
       "312733            NaN     NaN      NaN           NaN     NaN    NaN  \n",
       "312734            NaN     NaN      NaN           NaN     NaN    NaN  \n",
       "\n",
       "[312735 rows x 8 columns]"
      ]
     },
     "execution_count": 11,
     "metadata": {},
     "output_type": "execute_result"
    }
   ],
   "source": [
    "full_set = pd.concat([train,test], axis=0, ignore_index=True)\n",
    "full_set"
   ]
  },
  {
   "cell_type": "code",
   "execution_count": 12,
   "metadata": {
    "collapsed": true
   },
   "outputs": [],
   "source": [
    "import spacy\n",
    "nlp = spacy.load('en_core_web_lg') \n",
    "\n",
    "from spacy.tokenizer import Tokenizer\n",
    "tokenizer = Tokenizer(nlp.vocab)"
   ]
  },
  {
   "cell_type": "code",
   "execution_count": 13,
   "metadata": {
    "collapsed": true
   },
   "outputs": [],
   "source": [
    "# update punctuation in spacy\n",
    "nlp.vocab[\"$\"].is_punct = True\n",
    "nlp.vocab[\"|\"].is_punct = True\n",
    "nlp.vocab[\"+\"].is_punct = True\n",
    "nlp.vocab[\"<\"].is_punct = True\n",
    "nlp.vocab[\">\"].is_punct = True\n",
    "nlp.vocab[\"=\"].is_punct = True\n",
    "nlp.vocab[\"^\"].is_punct = True\n",
    "nlp.vocab[\"`\"].is_punct = True\n",
    "nlp.vocab[\"~\"].is_punct = True"
   ]
  },
  {
   "cell_type": "code",
   "execution_count": 14,
   "metadata": {
    "collapsed": true
   },
   "outputs": [],
   "source": [
    "import multiprocessing\n",
    "cores = multiprocessing.cpu_count()"
   ]
  },
  {
   "cell_type": "code",
   "execution_count": 15,
   "metadata": {
    "collapsed": true
   },
   "outputs": [],
   "source": [
    "def nlp_to_remove(token):\n",
    "    return(token.is_stop or                                                # remove stop words\n",
    "           token.is_punct or                                               # reomve punctuations\n",
    "           token.is_space or                                               # remove white space char\n",
    "           token.lemma_=='-PRON-'                                          # fixing '-PRON-' issue\n",
    "           )\n",
    "\n",
    "def nlp_pip(comment_column, n_cores=cores):\n",
    "    res = defaultdict(list)\n",
    "    n = 0\n",
    "    start_time = time.time()\n",
    "    for doc in nlp.pipe(comment_column, n_threads=cores):\n",
    "        filtered_tokens = [token for token in doc if not nlp_to_remove(token)]\n",
    "        m = len(filtered_tokens)\n",
    "        if m>0:\n",
    "            res['caps'].append(sum([token.is_upper for token in filtered_tokens])/m)          # percentage of upper words\n",
    "            res['longest_word'].append(max([len(token) for token in filtered_tokens]))        # length of the longest word\n",
    "        else:\n",
    "            res['caps'].append(0)\n",
    "            res['longest_word'].append(0)\n",
    "        lemma_token = [token.lemma_.lower() for token in filtered_tokens]\n",
    "        res['tokenized'].append(lemma_token)                                                  # list of tokens\n",
    "        res['cleaned_text'].append(' '.join(lemma_token))                                     # recombined text\n",
    "        res['len_doc'].append(len(doc))                                                       # number of char\n",
    "        res['n_words'].append(m)                                                              # number of words\n",
    "        res['oov'].append(sum([token.is_oov for token in filtered_tokens]))                   # count of out of vocabulary words \n",
    "        n += 1\n",
    "        if n%10000 ==0:\n",
    "            print(\"finished {} iterattions, elapsed time: {:.2f} min\".format(n, (time.time()-start_time)/60))\n",
    "    return(res)\n",
    "\n",
    "def token_to_remove(token):    \n",
    "    return(token.is_punct or \n",
    "           token.is_space or \n",
    "           token.lemma_.lower() in nlp.Defaults.stop_words                                   # is_stop not working with lg model\n",
    "           )\n",
    "    \n",
    "def token_pip(comment_column, n_cores=cores):\n",
    "    res = defaultdict(list)\n",
    "    n = 0\n",
    "    start_time = time.time()\n",
    "    for doc in tokenizer.pipe(comment_column, n_threads=cores):\n",
    "        filtered_tokens = [token for token in doc if not token_to_remove(token)]\n",
    "        m = len(filtered_tokens)\n",
    "        if m>0:\n",
    "            res['caps'].append(sum([token.is_upper for token in filtered_tokens])/m)          # percentage of upper words\n",
    "            res['longest_word'].append(max([len(token) for token in filtered_tokens]))        # length of the longest word\n",
    "        else:\n",
    "            res['caps'].append(0)\n",
    "            res['longest_word'].append(0)\n",
    "        lemma_token = [token.lemma_.lower() for token in filtered_tokens]\n",
    "#         res['tokenized'].append([token.lemma_.lower() for token in filtered_tokens])        \n",
    "        res['cleaned_text'].append(' '.join(lemma_token))                                     # recombined text\n",
    "        res['len_doc'].append(len(doc))                                                       # length of doc\n",
    "        res['n_words'].append(m)                                                              # number of filtered words\n",
    "        res['oov'].append(sum([token.is_oov for token in filtered_tokens]))                   # count of out of vocabulary words \n",
    "        n += 1\n",
    "        if n%10000 ==0:\n",
    "            print(\"finished {} iterattions, elapsed time: {:.2f} s\".format(n, time.time()-start_time))\n",
    "    return(res)\n",
    "\n",
    "def token_combine(nested_list):\n",
    "    combined_doc = []\n",
    "    for i in range(len(nested_list)):\n",
    "        combined_doc.append(' '.join(nested_list[i]))\n",
    "    return(combined_doc)"
   ]
  },
  {
   "cell_type": "code",
   "execution_count": 16,
   "metadata": {
    "scrolled": true
   },
   "outputs": [
    {
     "name": "stdout",
     "output_type": "stream",
     "text": [
      "Wall time: 2.95 s\n"
     ]
    }
   ],
   "source": [
    "%%time\n",
    "\n",
    "# takes a few minutes to process\n",
    "\n",
    "if not os.path.exists('full_cleaned.pkl') or 0==1:\n",
    "    print(\"start processing text...\")\n",
    "    \n",
    "    # processing url, ip address and punctuations\n",
    "    full_set.comment_text = full_set.comment_text.apply(lambda x: re.sub(r\"(https|http)\\S+\", \"\", x))\n",
    "    full_set.comment_text = full_set.comment_text.apply(lambda x: re.sub(r'[0-9]+(\\.[0-9]+){3}', 'ipaddress', x))\n",
    "    full_set.comment_text = full_set.comment_text.apply(lambda x: re.sub(r'([{}])'.format(string.punctuation),\n",
    "                                                                         ' \\g<1> ', x))  # “”¨«»®´·º½¾¿¡§£₤‘’\n",
    "    \n",
    "#     features = nlp_pip(full_set.comment_text)            # this one takes long time\n",
    "    features = token_pip(full_set.comment_text)      # this one much faster\n",
    "    for k in features:\n",
    "        if k=='cleaned_text':\n",
    "            full_set[k] = features[k]\n",
    "        else:\n",
    "            full_set[k] = features[k]/np.std(features[k])    # normalize\n",
    "    print('Saving dataframe...')\n",
    "    full_set.to_pickle('full_cleaned.pkl')\n",
    "else:\n",
    "    full_set = pd.read_pickle('full_cleaned.pkl')"
   ]
  },
  {
   "cell_type": "code",
   "execution_count": 17,
   "metadata": {
    "scrolled": true
   },
   "outputs": [
    {
     "data": {
      "text/html": [
       "<div>\n",
       "<style>\n",
       "    .dataframe thead tr:only-child th {\n",
       "        text-align: right;\n",
       "    }\n",
       "\n",
       "    .dataframe thead th {\n",
       "        text-align: left;\n",
       "    }\n",
       "\n",
       "    .dataframe tbody tr th {\n",
       "        vertical-align: top;\n",
       "    }\n",
       "</style>\n",
       "<table border=\"1\" class=\"dataframe\">\n",
       "  <thead>\n",
       "    <tr style=\"text-align: right;\">\n",
       "      <th></th>\n",
       "      <th>comment_text</th>\n",
       "      <th>id</th>\n",
       "      <th>identity_hate</th>\n",
       "      <th>insult</th>\n",
       "      <th>obscene</th>\n",
       "      <th>severe_toxic</th>\n",
       "      <th>threat</th>\n",
       "      <th>toxic</th>\n",
       "      <th>caps</th>\n",
       "      <th>longest_word</th>\n",
       "      <th>cleaned_text</th>\n",
       "      <th>len_doc</th>\n",
       "      <th>n_words</th>\n",
       "      <th>oov</th>\n",
       "    </tr>\n",
       "  </thead>\n",
       "  <tbody>\n",
       "    <tr>\n",
       "      <th>0</th>\n",
       "      <td>Explanation\\nWhy the edits made under my usern...</td>\n",
       "      <td>0000997932d777bf</td>\n",
       "      <td>0.0</td>\n",
       "      <td>0.0</td>\n",
       "      <td>0.0</td>\n",
       "      <td>0.0</td>\n",
       "      <td>0.0</td>\n",
       "      <td>0.0</td>\n",
       "      <td>0.271503</td>\n",
       "      <td>0.329716</td>\n",
       "      <td>explanation edit username hardcore metallica f...</td>\n",
       "      <td>0.363484</td>\n",
       "      <td>0.458368</td>\n",
       "      <td>0.000000</td>\n",
       "    </tr>\n",
       "    <tr>\n",
       "      <th>1</th>\n",
       "      <td>D ' aww !  He matches this background colour I...</td>\n",
       "      <td>000103f0d9cfb60f</td>\n",
       "      <td>0.0</td>\n",
       "      <td>0.0</td>\n",
       "      <td>0.0</td>\n",
       "      <td>0.0</td>\n",
       "      <td>0.0</td>\n",
       "      <td>0.0</td>\n",
       "      <td>0.905010</td>\n",
       "      <td>0.299741</td>\n",
       "      <td>d aww match background colour seemingly stick ...</td>\n",
       "      <td>0.244412</td>\n",
       "      <td>0.275021</td>\n",
       "      <td>0.000000</td>\n",
       "    </tr>\n",
       "    <tr>\n",
       "      <th>2</th>\n",
       "      <td>Hey man ,  I ' m really not trying to edit war...</td>\n",
       "      <td>000113f07ec002fd</td>\n",
       "      <td>0.0</td>\n",
       "      <td>0.0</td>\n",
       "      <td>0.0</td>\n",
       "      <td>0.0</td>\n",
       "      <td>0.0</td>\n",
       "      <td>0.0</td>\n",
       "      <td>0.000000</td>\n",
       "      <td>0.329716</td>\n",
       "      <td>hey man try edit war s guy constantly remove r...</td>\n",
       "      <td>0.332149</td>\n",
       "      <td>0.366694</td>\n",
       "      <td>0.000000</td>\n",
       "    </tr>\n",
       "    <tr>\n",
       "      <th>3</th>\n",
       "      <td>\" \\nMore\\nI can ' t make any real suggestions...</td>\n",
       "      <td>0001b41b1c6bb37e</td>\n",
       "      <td>0.0</td>\n",
       "      <td>0.0</td>\n",
       "      <td>0.0</td>\n",
       "      <td>0.0</td>\n",
       "      <td>0.0</td>\n",
       "      <td>0.0</td>\n",
       "      <td>0.000000</td>\n",
       "      <td>0.329716</td>\n",
       "      <td>t real suggestion improvement wonder section s...</td>\n",
       "      <td>0.965113</td>\n",
       "      <td>0.898401</td>\n",
       "      <td>0.000000</td>\n",
       "    </tr>\n",
       "    <tr>\n",
       "      <th>4</th>\n",
       "      <td>You ,  sir ,  are my hero .  Any chance you re...</td>\n",
       "      <td>0001d958c54c6e35</td>\n",
       "      <td>0.0</td>\n",
       "      <td>0.0</td>\n",
       "      <td>0.0</td>\n",
       "      <td>0.0</td>\n",
       "      <td>0.0</td>\n",
       "      <td>0.0</td>\n",
       "      <td>0.000000</td>\n",
       "      <td>0.239793</td>\n",
       "      <td>sir hero chance remember page s</td>\n",
       "      <td>0.137873</td>\n",
       "      <td>0.110008</td>\n",
       "      <td>0.000000</td>\n",
       "    </tr>\n",
       "    <tr>\n",
       "      <th>...</th>\n",
       "      <td>...</td>\n",
       "      <td>...</td>\n",
       "      <td>...</td>\n",
       "      <td>...</td>\n",
       "      <td>...</td>\n",
       "      <td>...</td>\n",
       "      <td>...</td>\n",
       "      <td>...</td>\n",
       "      <td>...</td>\n",
       "      <td>...</td>\n",
       "      <td>...</td>\n",
       "      <td>...</td>\n",
       "      <td>...</td>\n",
       "      <td>...</td>\n",
       "    </tr>\n",
       "    <tr>\n",
       "      <th>312730</th>\n",
       "      <td>.  \\n i totally agree ,  this stuff is nothin...</td>\n",
       "      <td>fffcd0960ee309b5</td>\n",
       "      <td>NaN</td>\n",
       "      <td>NaN</td>\n",
       "      <td>NaN</td>\n",
       "      <td>NaN</td>\n",
       "      <td>NaN</td>\n",
       "      <td>NaN</td>\n",
       "      <td>0.000000</td>\n",
       "      <td>0.209819</td>\n",
       "      <td>totally agree stuff long crap</td>\n",
       "      <td>0.112805</td>\n",
       "      <td>0.091674</td>\n",
       "      <td>0.000000</td>\n",
       "    </tr>\n",
       "    <tr>\n",
       "      <th>312731</th>\n",
       "      <td>=  =  Throw from out field to home plate .   ...</td>\n",
       "      <td>fffd7a9a6eb32c16</td>\n",
       "      <td>NaN</td>\n",
       "      <td>NaN</td>\n",
       "      <td>NaN</td>\n",
       "      <td>NaN</td>\n",
       "      <td>NaN</td>\n",
       "      <td>NaN</td>\n",
       "      <td>0.000000</td>\n",
       "      <td>0.239793</td>\n",
       "      <td>throw field home plate fast throw cut man dire...</td>\n",
       "      <td>0.319615</td>\n",
       "      <td>0.293356</td>\n",
       "      <td>0.000000</td>\n",
       "    </tr>\n",
       "    <tr>\n",
       "      <th>312732</th>\n",
       "      <td>\"  \\n\\n  =  =  Okinotorishima categories  =  ...</td>\n",
       "      <td>fffda9e8d6fafa9e</td>\n",
       "      <td>NaN</td>\n",
       "      <td>NaN</td>\n",
       "      <td>NaN</td>\n",
       "      <td>NaN</td>\n",
       "      <td>NaN</td>\n",
       "      <td>NaN</td>\n",
       "      <td>0.484827</td>\n",
       "      <td>0.419638</td>\n",
       "      <td>okinotorishima category change agree correct c...</td>\n",
       "      <td>0.827240</td>\n",
       "      <td>0.513372</td>\n",
       "      <td>0.234331</td>\n",
       "    </tr>\n",
       "    <tr>\n",
       "      <th>312733</th>\n",
       "      <td>\"  \\n\\n  =  =   \"  \" One of the founding nati...</td>\n",
       "      <td>fffe8f1340a79fc2</td>\n",
       "      <td>NaN</td>\n",
       "      <td>NaN</td>\n",
       "      <td>NaN</td>\n",
       "      <td>NaN</td>\n",
       "      <td>NaN</td>\n",
       "      <td>NaN</td>\n",
       "      <td>0.301670</td>\n",
       "      <td>0.329716</td>\n",
       "      <td>found nation eu germany law return similar isr...</td>\n",
       "      <td>0.933778</td>\n",
       "      <td>0.825063</td>\n",
       "      <td>0.078110</td>\n",
       "    </tr>\n",
       "    <tr>\n",
       "      <th>312734</th>\n",
       "      <td>\"  \\n  :  :  : Stop already .  Your bullshit ...</td>\n",
       "      <td>ffffce3fb183ee80</td>\n",
       "      <td>NaN</td>\n",
       "      <td>NaN</td>\n",
       "      <td>NaN</td>\n",
       "      <td>NaN</td>\n",
       "      <td>NaN</td>\n",
       "      <td>NaN</td>\n",
       "      <td>0.000000</td>\n",
       "      <td>0.329716</td>\n",
       "      <td>stop bullshit welcome fool think kind explinat...</td>\n",
       "      <td>0.282014</td>\n",
       "      <td>0.165013</td>\n",
       "      <td>0.000000</td>\n",
       "    </tr>\n",
       "  </tbody>\n",
       "</table>\n",
       "<p>312735 rows × 14 columns</p>\n",
       "</div>"
      ],
      "text/plain": [
       "                                             comment_text                id  \\\n",
       "0       Explanation\\nWhy the edits made under my usern...  0000997932d777bf   \n",
       "1       D ' aww !  He matches this background colour I...  000103f0d9cfb60f   \n",
       "2       Hey man ,  I ' m really not trying to edit war...  000113f07ec002fd   \n",
       "3        \" \\nMore\\nI can ' t make any real suggestions...  0001b41b1c6bb37e   \n",
       "4       You ,  sir ,  are my hero .  Any chance you re...  0001d958c54c6e35   \n",
       "...                                                   ...               ...   \n",
       "312730   .  \\n i totally agree ,  this stuff is nothin...  fffcd0960ee309b5   \n",
       "312731   =  =  Throw from out field to home plate .   ...  fffd7a9a6eb32c16   \n",
       "312732   \"  \\n\\n  =  =  Okinotorishima categories  =  ...  fffda9e8d6fafa9e   \n",
       "312733   \"  \\n\\n  =  =   \"  \" One of the founding nati...  fffe8f1340a79fc2   \n",
       "312734   \"  \\n  :  :  : Stop already .  Your bullshit ...  ffffce3fb183ee80   \n",
       "\n",
       "        identity_hate  insult  obscene  severe_toxic  threat  toxic      caps  \\\n",
       "0                 0.0     0.0      0.0           0.0     0.0    0.0  0.271503   \n",
       "1                 0.0     0.0      0.0           0.0     0.0    0.0  0.905010   \n",
       "2                 0.0     0.0      0.0           0.0     0.0    0.0  0.000000   \n",
       "3                 0.0     0.0      0.0           0.0     0.0    0.0  0.000000   \n",
       "4                 0.0     0.0      0.0           0.0     0.0    0.0  0.000000   \n",
       "...               ...     ...      ...           ...     ...    ...       ...   \n",
       "312730            NaN     NaN      NaN           NaN     NaN    NaN  0.000000   \n",
       "312731            NaN     NaN      NaN           NaN     NaN    NaN  0.000000   \n",
       "312732            NaN     NaN      NaN           NaN     NaN    NaN  0.484827   \n",
       "312733            NaN     NaN      NaN           NaN     NaN    NaN  0.301670   \n",
       "312734            NaN     NaN      NaN           NaN     NaN    NaN  0.000000   \n",
       "\n",
       "        longest_word                                       cleaned_text  \\\n",
       "0           0.329716  explanation edit username hardcore metallica f...   \n",
       "1           0.299741  d aww match background colour seemingly stick ...   \n",
       "2           0.329716  hey man try edit war s guy constantly remove r...   \n",
       "3           0.329716  t real suggestion improvement wonder section s...   \n",
       "4           0.239793                    sir hero chance remember page s   \n",
       "...              ...                                                ...   \n",
       "312730      0.209819                      totally agree stuff long crap   \n",
       "312731      0.239793  throw field home plate fast throw cut man dire...   \n",
       "312732      0.419638  okinotorishima category change agree correct c...   \n",
       "312733      0.329716  found nation eu germany law return similar isr...   \n",
       "312734      0.329716  stop bullshit welcome fool think kind explinat...   \n",
       "\n",
       "         len_doc   n_words       oov  \n",
       "0       0.363484  0.458368  0.000000  \n",
       "1       0.244412  0.275021  0.000000  \n",
       "2       0.332149  0.366694  0.000000  \n",
       "3       0.965113  0.898401  0.000000  \n",
       "4       0.137873  0.110008  0.000000  \n",
       "...          ...       ...       ...  \n",
       "312730  0.112805  0.091674  0.000000  \n",
       "312731  0.319615  0.293356  0.000000  \n",
       "312732  0.827240  0.513372  0.234331  \n",
       "312733  0.933778  0.825063  0.078110  \n",
       "312734  0.282014  0.165013  0.000000  \n",
       "\n",
       "[312735 rows x 14 columns]"
      ]
     },
     "execution_count": 17,
     "metadata": {},
     "output_type": "execute_result"
    }
   ],
   "source": [
    "full_set"
   ]
  },
  {
   "cell_type": "markdown",
   "metadata": {},
   "source": [
    "**check an example**"
   ]
  },
  {
   "cell_type": "code",
   "execution_count": 18,
   "metadata": {
    "scrolled": true
   },
   "outputs": [
    {
     "name": "stdout",
     "output_type": "stream",
     "text": [
      "I'm Sorry \n",
      "\n",
      "I'm sorry I screwed around with someones talk page.  It was very bad to do.  I know how having the templates on their talk page helps you assert your dominance over them.  I know I should bow down to the almighty administrators.  But then again, I'm going to go play outside....with your mom.   76.122.79.82\n",
      "sorry sorry screw someones talk page bad know template talk page help assert dominance know bow almighty administrator play outside mom ipaddress\n"
     ]
    }
   ],
   "source": [
    "# example comment in train set before and after processing\n",
    "\n",
    "idx = list(train.id).index('001956c382006abd')\n",
    "print(train.comment_text[idx])\n",
    "print(full_set.cleaned_text[idx])"
   ]
  },
  {
   "cell_type": "code",
   "execution_count": 19,
   "metadata": {},
   "outputs": [
    {
     "name": "stdout",
     "output_type": "stream",
     "text": [
      "FAT KID POOPS IN HIDS MOTHERNESS!!!!!!!! FREE SESSION ON LEARNING HOW TO POOP ON TUESDAYS AT THE PARK WITH A KITTEN WITH POOPNESS!!!!!!!!\n",
      "fat kid poops hids motherness free session learning poop tuesdays park kitten poopness\n"
     ]
    }
   ],
   "source": [
    "# example comment in test set before and after processing\n",
    "\n",
    "idx2 = 999\n",
    "print(test.comment_text[idx2])\n",
    "print(full_set.cleaned_text[n_train+idx2])"
   ]
  },
  {
   "cell_type": "markdown",
   "metadata": {},
   "source": [
    "**Some more EDA**"
   ]
  },
  {
   "cell_type": "code",
   "execution_count": 20,
   "metadata": {},
   "outputs": [
    {
     "name": "stdout",
     "output_type": "stream",
     "text": [
      "number of unique words in full set: 339501\n",
      "number of unique words in train set: 173819\n",
      "number of unique words in test set: 239113\n",
      "number of unique words in both train and test set: 73431\n"
     ]
    }
   ],
   "source": [
    "# number of unique words in train, test and full set. Large amount of non-overlapping words in train and test set\n",
    "\n",
    "from itertools import chain\n",
    "full_words = set(chain(*[text.split() for text in full_set.cleaned_text]))\n",
    "train_words = set(chain(*[text.split() for text in full_set.cleaned_text[:n_train]]))\n",
    "test_words = set(chain(*[text.split() for text in full_set.cleaned_text[n_train:]]))\n",
    "common_words = train_words & test_words\n",
    "print('number of unique words in full set: {}'.format(len(full_words)))\n",
    "print('number of unique words in train set: {}'.format(len(train_words)))\n",
    "print('number of unique words in test set: {}'.format(len(test_words)))\n",
    "print('number of unique words in both train and test set: {}'.format(len(common_words)))"
   ]
  },
  {
   "cell_type": "code",
   "execution_count": 21,
   "metadata": {},
   "outputs": [
    {
     "data": {
      "image/png": "[encoded data removed]",
      "text/plain": [
       "<matplotlib.figure.Figure at 0x188addab2e8>"
      ]
     },
     "metadata": {},
     "output_type": "display_data"
    }
   ],
   "source": [
    "# visuallize the overlapping unique words in train and test set\n",
    "\n",
    "from matplotlib_venn import venn2\n",
    "\n",
    "venn2(subsets = (173819-73431, 239113-73431, 73431), set_labels = ('Train', 'Test'))\n",
    "plt.show()"
   ]
  },
  {
   "cell_type": "code",
   "execution_count": 22,
   "metadata": {},
   "outputs": [
    {
     "name": "stdout",
     "output_type": "stream",
     "text": [
      "Total number of toxic comments in train set: 16225\n",
      "Number of words in toxic comments: 30847\n",
      "--------------------------------------------------\n",
      "Number of common words in toxic comments: 22285\n",
      "Number of train only words in toxic comments: 8562\n"
     ]
    }
   ],
   "source": [
    "# Majority of the words in toxic comments are common words also in test set. There are still ~27% words\n",
    "# in toxic train comments, but not seen in test comments\n",
    "# using features by tfidf with analyzer='char' should help to reduce this problem\n",
    "\n",
    "toxic_comments_idx = train.iloc[:,2:8].any(axis=1)\n",
    "print('Total number of toxic comments in train set: {}'.format(toxic_comments_idx.sum()))\n",
    "words_in_toxic_comments = set(chain(*[text.split() for text in full_set[:n_train][toxic_comments_idx].cleaned_text]))\n",
    "print('Number of words in toxic comments: {}'.format(len(words_in_toxic_comments)))\n",
    "print('-'*50)\n",
    "print('Number of common words in toxic comments: {}'.format(len(words_in_toxic_comments & common_words)))\n",
    "print('Number of train only words in toxic comments: {}'.format(len(words_in_toxic_comments & (train_words - common_words))))"
   ]
  },
  {
   "cell_type": "code",
   "execution_count": 23,
   "metadata": {
    "collapsed": true
   },
   "outputs": [],
   "source": [
    "# frequent words in toxic comments:\n",
    "\n",
    "from collections import Counter\n",
    "toxic_word_freq = Counter(list(chain(*[text.split() for text in full_set[:n_train][toxic_comments_idx].cleaned_text])))"
   ]
  },
  {
   "cell_type": "code",
   "execution_count": 24,
   "metadata": {
    "scrolled": true
   },
   "outputs": [
    {
     "data": {
      "text/plain": [
       "[('oi', 70),\n",
       " ('bill', 70),\n",
       " ('culture', 69),\n",
       " ('male', 69),\n",
       " ('advice', 69),\n",
       " ('wife', 69),\n",
       " ('date', 69),\n",
       " ('basically', 69),\n",
       " ('angry', 69),\n",
       " ('lady', 69),\n",
       " ('bestfrozen', 69),\n",
       " ('red', 69),\n",
       " ('vuvuzelas', 69),\n",
       " ('disruptive', 68),\n",
       " ('dispute', 68),\n",
       " ('gg', 68),\n",
       " ('share', 68),\n",
       " ('medium', 68),\n",
       " ('effort', 68),\n",
       " ('offend', 68),\n",
       " ('actual', 68),\n",
       " ('18', 68),\n",
       " ('uncivil', 68),\n",
       " ('controversial', 68),\n",
       " ('sup', 68),\n",
       " ('recent', 67),\n",
       " ('islam', 67),\n",
       " ('goodbye', 67),\n",
       " ('land', 67),\n",
       " ('motherfucking', 67),\n",
       " ('father', 67),\n",
       " ('star', 67),\n",
       " ('theory', 67),\n",
       " ('multiple', 67),\n",
       " ('thousand', 67),\n",
       " ('purpose', 67),\n",
       " ('figure', 67),\n",
       " ('npov', 67),\n",
       " ('lead', 67),\n",
       " ('position', 67),\n",
       " ('team', 67),\n",
       " ('vote', 67),\n",
       " ('repeatedly', 67),\n",
       " ('result', 67),\n",
       " ('billj', 67),\n",
       " ('lolooolbootstoots', 67),\n",
       " ('jump', 66),\n",
       " ('neutral', 66),\n",
       " ('situation', 66),\n",
       " ('honestly', 66)]"
      ]
     },
     "execution_count": 24,
     "metadata": {},
     "output_type": "execute_result"
    }
   ],
   "source": [
    "toxic_word_freq.most_common(1000)[-50:]"
   ]
  },
  {
   "cell_type": "code",
   "execution_count": 25,
   "metadata": {},
   "outputs": [
    {
     "data": {
      "text/html": [
       "<div>\n",
       "<style>\n",
       "    .dataframe thead tr:only-child th {\n",
       "        text-align: right;\n",
       "    }\n",
       "\n",
       "    .dataframe thead th {\n",
       "        text-align: left;\n",
       "    }\n",
       "\n",
       "    .dataframe tbody tr th {\n",
       "        vertical-align: top;\n",
       "    }\n",
       "</style>\n",
       "<table border=\"1\" class=\"dataframe\">\n",
       "  <thead>\n",
       "    <tr style=\"text-align: right;\">\n",
       "      <th></th>\n",
       "      <th>caps</th>\n",
       "      <th>longest_word</th>\n",
       "      <th>len_doc</th>\n",
       "      <th>n_words</th>\n",
       "      <th>oov</th>\n",
       "    </tr>\n",
       "  </thead>\n",
       "  <tbody>\n",
       "    <tr>\n",
       "      <th>count</th>\n",
       "      <td>312735.000000</td>\n",
       "      <td>312735.000000</td>\n",
       "      <td>312735.000000</td>\n",
       "      <td>312735.000000</td>\n",
       "      <td>312735.000000</td>\n",
       "    </tr>\n",
       "    <tr>\n",
       "      <th>mean</th>\n",
       "      <td>0.349168</td>\n",
       "      <td>0.326700</td>\n",
       "      <td>0.601420</td>\n",
       "      <td>0.574276</td>\n",
       "      <td>0.115535</td>\n",
       "    </tr>\n",
       "    <tr>\n",
       "      <th>std</th>\n",
       "      <td>1.000002</td>\n",
       "      <td>1.000002</td>\n",
       "      <td>1.000002</td>\n",
       "      <td>1.000002</td>\n",
       "      <td>1.000002</td>\n",
       "    </tr>\n",
       "    <tr>\n",
       "      <th>min</th>\n",
       "      <td>0.000000</td>\n",
       "      <td>0.000000</td>\n",
       "      <td>0.000000</td>\n",
       "      <td>0.000000</td>\n",
       "      <td>0.000000</td>\n",
       "    </tr>\n",
       "    <tr>\n",
       "      <th>25%</th>\n",
       "      <td>0.000000</td>\n",
       "      <td>0.269767</td>\n",
       "      <td>0.150407</td>\n",
       "      <td>0.128343</td>\n",
       "      <td>0.000000</td>\n",
       "    </tr>\n",
       "    <tr>\n",
       "      <th>50%</th>\n",
       "      <td>0.000000</td>\n",
       "      <td>0.299741</td>\n",
       "      <td>0.319615</td>\n",
       "      <td>0.293356</td>\n",
       "      <td>0.000000</td>\n",
       "    </tr>\n",
       "    <tr>\n",
       "      <th>75%</th>\n",
       "      <td>0.282816</td>\n",
       "      <td>0.359690</td>\n",
       "      <td>0.651765</td>\n",
       "      <td>0.605046</td>\n",
       "      <td>0.078110</td>\n",
       "    </tr>\n",
       "    <tr>\n",
       "      <th>max</th>\n",
       "      <td>6.787576</td>\n",
       "      <td>148.521895</td>\n",
       "      <td>62.256054</td>\n",
       "      <td>35.991060</td>\n",
       "      <td>96.153690</td>\n",
       "    </tr>\n",
       "  </tbody>\n",
       "</table>\n",
       "</div>"
      ],
      "text/plain": [
       "                caps   longest_word        len_doc        n_words  \\\n",
       "count  312735.000000  312735.000000  312735.000000  312735.000000   \n",
       "mean        0.349168       0.326700       0.601420       0.574276   \n",
       "std         1.000002       1.000002       1.000002       1.000002   \n",
       "min         0.000000       0.000000       0.000000       0.000000   \n",
       "25%         0.000000       0.269767       0.150407       0.128343   \n",
       "50%         0.000000       0.299741       0.319615       0.293356   \n",
       "75%         0.282816       0.359690       0.651765       0.605046   \n",
       "max         6.787576     148.521895      62.256054      35.991060   \n",
       "\n",
       "                 oov  \n",
       "count  312735.000000  \n",
       "mean        0.115535  \n",
       "std         1.000002  \n",
       "min         0.000000  \n",
       "25%         0.000000  \n",
       "50%         0.000000  \n",
       "75%         0.078110  \n",
       "max        96.153690  "
      ]
     },
     "execution_count": 25,
     "metadata": {},
     "output_type": "execute_result"
    }
   ],
   "source": [
    "# Checking features generated\n",
    "full_set.iloc[:, 8:].describe()"
   ]
  },
  {
   "cell_type": "code",
   "execution_count": 26,
   "metadata": {
    "scrolled": true
   },
   "outputs": [
    {
     "data": {
      "text/html": [
       "<div>\n",
       "<style>\n",
       "    .dataframe thead tr:only-child th {\n",
       "        text-align: right;\n",
       "    }\n",
       "\n",
       "    .dataframe thead th {\n",
       "        text-align: left;\n",
       "    }\n",
       "\n",
       "    .dataframe tbody tr th {\n",
       "        vertical-align: top;\n",
       "    }\n",
       "</style>\n",
       "<table border=\"1\" class=\"dataframe\">\n",
       "  <thead>\n",
       "    <tr style=\"text-align: right;\">\n",
       "      <th></th>\n",
       "      <th>comment_text</th>\n",
       "      <th>id</th>\n",
       "      <th>identity_hate</th>\n",
       "      <th>insult</th>\n",
       "      <th>obscene</th>\n",
       "      <th>severe_toxic</th>\n",
       "      <th>threat</th>\n",
       "      <th>toxic</th>\n",
       "      <th>caps</th>\n",
       "      <th>longest_word</th>\n",
       "      <th>cleaned_text</th>\n",
       "      <th>len_doc</th>\n",
       "      <th>n_words</th>\n",
       "      <th>oov</th>\n",
       "    </tr>\n",
       "  </thead>\n",
       "  <tbody>\n",
       "    <tr>\n",
       "      <th>6</th>\n",
       "      <td>COCKSUCKER BEFORE YOU PISS AROUND ON MY WORK</td>\n",
       "      <td>0002bcb3da6cb337</td>\n",
       "      <td>0.0</td>\n",
       "      <td>1.0</td>\n",
       "      <td>1.0</td>\n",
       "      <td>1.0</td>\n",
       "      <td>0.0</td>\n",
       "      <td>1.0</td>\n",
       "      <td>6.787576</td>\n",
       "      <td>0.299741</td>\n",
       "      <td>cocksucker piss work</td>\n",
       "      <td>0.050136</td>\n",
       "      <td>0.055004</td>\n",
       "      <td>0.000000</td>\n",
       "    </tr>\n",
       "    <tr>\n",
       "      <th>43</th>\n",
       "      <td>FUCK YOUR FILTHY MOTHER IN THE ASS ,  DRY !</td>\n",
       "      <td>00190820581d90ce</td>\n",
       "      <td>0.0</td>\n",
       "      <td>1.0</td>\n",
       "      <td>1.0</td>\n",
       "      <td>0.0</td>\n",
       "      <td>0.0</td>\n",
       "      <td>1.0</td>\n",
       "      <td>6.787576</td>\n",
       "      <td>0.179845</td>\n",
       "      <td>fuck filthy mother ass dry</td>\n",
       "      <td>0.068937</td>\n",
       "      <td>0.091674</td>\n",
       "      <td>0.000000</td>\n",
       "    </tr>\n",
       "    <tr>\n",
       "      <th>51</th>\n",
       "      <td>GET FUCKED UP .  GET FUCKEEED UP .   GOT A DRI...</td>\n",
       "      <td>001dc38a83d420cf</td>\n",
       "      <td>0.0</td>\n",
       "      <td>0.0</td>\n",
       "      <td>1.0</td>\n",
       "      <td>0.0</td>\n",
       "      <td>0.0</td>\n",
       "      <td>1.0</td>\n",
       "      <td>6.787576</td>\n",
       "      <td>0.239793</td>\n",
       "      <td>fucked fuckeeed got drink cant fuck fucked m f...</td>\n",
       "      <td>0.263213</td>\n",
       "      <td>0.183347</td>\n",
       "      <td>0.078110</td>\n",
       "    </tr>\n",
       "    <tr>\n",
       "      <th>159</th>\n",
       "      <td>\" \\n\\nUNBLOCK ME OR I ' LL GET MY LAWYERS ON ...</td>\n",
       "      <td>00637960a7ec3436</td>\n",
       "      <td>0.0</td>\n",
       "      <td>0.0</td>\n",
       "      <td>0.0</td>\n",
       "      <td>0.0</td>\n",
       "      <td>0.0</td>\n",
       "      <td>1.0</td>\n",
       "      <td>6.787576</td>\n",
       "      <td>0.419638</td>\n",
       "      <td>unblock ll lawyers blocking constitutional rig...</td>\n",
       "      <td>0.150407</td>\n",
       "      <td>0.146678</td>\n",
       "      <td>0.000000</td>\n",
       "    </tr>\n",
       "    <tr>\n",
       "      <th>338</th>\n",
       "      <td>THIS WIIL BE MY LAST USE OF THIS ACOUNT PLEASE...</td>\n",
       "      <td>00d8def7111797e6</td>\n",
       "      <td>0.0</td>\n",
       "      <td>0.0</td>\n",
       "      <td>0.0</td>\n",
       "      <td>0.0</td>\n",
       "      <td>0.0</td>\n",
       "      <td>0.0</td>\n",
       "      <td>6.787576</td>\n",
       "      <td>0.179845</td>\n",
       "      <td>wiil use acount delete</td>\n",
       "      <td>0.094005</td>\n",
       "      <td>0.073339</td>\n",
       "      <td>0.156220</td>\n",
       "    </tr>\n",
       "    <tr>\n",
       "      <th>...</th>\n",
       "      <td>...</td>\n",
       "      <td>...</td>\n",
       "      <td>...</td>\n",
       "      <td>...</td>\n",
       "      <td>...</td>\n",
       "      <td>...</td>\n",
       "      <td>...</td>\n",
       "      <td>...</td>\n",
       "      <td>...</td>\n",
       "      <td>...</td>\n",
       "      <td>...</td>\n",
       "      <td>...</td>\n",
       "      <td>...</td>\n",
       "      <td>...</td>\n",
       "    </tr>\n",
       "    <tr>\n",
       "      <th>312473</th>\n",
       "      <td>=  =   YOU SUCK   =  =</td>\n",
       "      <td>ff8e520038ac36d8</td>\n",
       "      <td>NaN</td>\n",
       "      <td>NaN</td>\n",
       "      <td>NaN</td>\n",
       "      <td>NaN</td>\n",
       "      <td>NaN</td>\n",
       "      <td>NaN</td>\n",
       "      <td>6.787576</td>\n",
       "      <td>0.119897</td>\n",
       "      <td>suck</td>\n",
       "      <td>0.068937</td>\n",
       "      <td>0.018335</td>\n",
       "      <td>0.000000</td>\n",
       "    </tr>\n",
       "    <tr>\n",
       "      <th>312479</th>\n",
       "      <td>NIGEL IS A CRAZY IDIOT !  !  !</td>\n",
       "      <td>ff91c3d8a3e34398</td>\n",
       "      <td>NaN</td>\n",
       "      <td>NaN</td>\n",
       "      <td>NaN</td>\n",
       "      <td>NaN</td>\n",
       "      <td>NaN</td>\n",
       "      <td>NaN</td>\n",
       "      <td>6.787576</td>\n",
       "      <td>0.149871</td>\n",
       "      <td>nigel crazy idiot</td>\n",
       "      <td>0.062670</td>\n",
       "      <td>0.055004</td>\n",
       "      <td>0.000000</td>\n",
       "    </tr>\n",
       "    <tr>\n",
       "      <th>312524</th>\n",
       "      <td>=  =   CUNT CUNT CUNT CUNT CUNT CUNT   =  =  ...</td>\n",
       "      <td>ffa53a5948abe71d</td>\n",
       "      <td>NaN</td>\n",
       "      <td>NaN</td>\n",
       "      <td>NaN</td>\n",
       "      <td>NaN</td>\n",
       "      <td>NaN</td>\n",
       "      <td>NaN</td>\n",
       "      <td>6.787576</td>\n",
       "      <td>0.119897</td>\n",
       "      <td>cunt cunt cunt cunt cunt cunt cunt cunt cunt c...</td>\n",
       "      <td>3.039479</td>\n",
       "      <td>7.498902</td>\n",
       "      <td>0.000000</td>\n",
       "    </tr>\n",
       "    <tr>\n",
       "      <th>312668</th>\n",
       "      <td>I HATE MILEY CYRUS DDDDDDDDDDDDDD SEE YA SUCKE...</td>\n",
       "      <td>ffe4badc2184252d</td>\n",
       "      <td>NaN</td>\n",
       "      <td>NaN</td>\n",
       "      <td>NaN</td>\n",
       "      <td>NaN</td>\n",
       "      <td>NaN</td>\n",
       "      <td>NaN</td>\n",
       "      <td>6.787576</td>\n",
       "      <td>0.749354</td>\n",
       "      <td>hate miley cyrus dddddddddddddd ya suckersssss...</td>\n",
       "      <td>0.150407</td>\n",
       "      <td>0.256686</td>\n",
       "      <td>0.234331</td>\n",
       "    </tr>\n",
       "    <tr>\n",
       "      <th>312726</th>\n",
       "      <td>MEL GIBSON IS A NAZI BITCH WHO MAKES SHITTY MO...</td>\n",
       "      <td>fffac2a094c8e0e2</td>\n",
       "      <td>NaN</td>\n",
       "      <td>NaN</td>\n",
       "      <td>NaN</td>\n",
       "      <td>NaN</td>\n",
       "      <td>NaN</td>\n",
       "      <td>NaN</td>\n",
       "      <td>6.787576</td>\n",
       "      <td>0.299741</td>\n",
       "      <td>mel gibson nazi bitch makes shitty movies butt...</td>\n",
       "      <td>0.188009</td>\n",
       "      <td>0.220017</td>\n",
       "      <td>0.000000</td>\n",
       "    </tr>\n",
       "  </tbody>\n",
       "</table>\n",
       "<p>4987 rows × 14 columns</p>\n",
       "</div>"
      ],
      "text/plain": [
       "                                             comment_text                id  \\\n",
       "6            COCKSUCKER BEFORE YOU PISS AROUND ON MY WORK  0002bcb3da6cb337   \n",
       "43           FUCK YOUR FILTHY MOTHER IN THE ASS ,  DRY !   00190820581d90ce   \n",
       "51      GET FUCKED UP .  GET FUCKEEED UP .   GOT A DRI...  001dc38a83d420cf   \n",
       "159      \" \\n\\nUNBLOCK ME OR I ' LL GET MY LAWYERS ON ...  00637960a7ec3436   \n",
       "338     THIS WIIL BE MY LAST USE OF THIS ACOUNT PLEASE...  00d8def7111797e6   \n",
       "...                                                   ...               ...   \n",
       "312473                            =  =   YOU SUCK   =  =   ff8e520038ac36d8   \n",
       "312479                    NIGEL IS A CRAZY IDIOT !  !  !   ff91c3d8a3e34398   \n",
       "312524   =  =   CUNT CUNT CUNT CUNT CUNT CUNT   =  =  ...  ffa53a5948abe71d   \n",
       "312668  I HATE MILEY CYRUS DDDDDDDDDDDDDD SEE YA SUCKE...  ffe4badc2184252d   \n",
       "312726  MEL GIBSON IS A NAZI BITCH WHO MAKES SHITTY MO...  fffac2a094c8e0e2   \n",
       "\n",
       "        identity_hate  insult  obscene  severe_toxic  threat  toxic      caps  \\\n",
       "6                 0.0     1.0      1.0           1.0     0.0    1.0  6.787576   \n",
       "43                0.0     1.0      1.0           0.0     0.0    1.0  6.787576   \n",
       "51                0.0     0.0      1.0           0.0     0.0    1.0  6.787576   \n",
       "159               0.0     0.0      0.0           0.0     0.0    1.0  6.787576   \n",
       "338               0.0     0.0      0.0           0.0     0.0    0.0  6.787576   \n",
       "...               ...     ...      ...           ...     ...    ...       ...   \n",
       "312473            NaN     NaN      NaN           NaN     NaN    NaN  6.787576   \n",
       "312479            NaN     NaN      NaN           NaN     NaN    NaN  6.787576   \n",
       "312524            NaN     NaN      NaN           NaN     NaN    NaN  6.787576   \n",
       "312668            NaN     NaN      NaN           NaN     NaN    NaN  6.787576   \n",
       "312726            NaN     NaN      NaN           NaN     NaN    NaN  6.787576   \n",
       "\n",
       "        longest_word                                       cleaned_text  \\\n",
       "6           0.299741                               cocksucker piss work   \n",
       "43          0.179845                         fuck filthy mother ass dry   \n",
       "51          0.239793  fucked fuckeeed got drink cant fuck fucked m f...   \n",
       "159         0.419638  unblock ll lawyers blocking constitutional rig...   \n",
       "338         0.179845                             wiil use acount delete   \n",
       "...              ...                                                ...   \n",
       "312473      0.119897                                               suck   \n",
       "312479      0.149871                                  nigel crazy idiot   \n",
       "312524      0.119897  cunt cunt cunt cunt cunt cunt cunt cunt cunt c...   \n",
       "312668      0.749354  hate miley cyrus dddddddddddddd ya suckersssss...   \n",
       "312726      0.299741  mel gibson nazi bitch makes shitty movies butt...   \n",
       "\n",
       "         len_doc   n_words       oov  \n",
       "6       0.050136  0.055004  0.000000  \n",
       "43      0.068937  0.091674  0.000000  \n",
       "51      0.263213  0.183347  0.078110  \n",
       "159     0.150407  0.146678  0.000000  \n",
       "338     0.094005  0.073339  0.156220  \n",
       "...          ...       ...       ...  \n",
       "312473  0.068937  0.018335  0.000000  \n",
       "312479  0.062670  0.055004  0.000000  \n",
       "312524  3.039479  7.498902  0.000000  \n",
       "312668  0.150407  0.256686  0.234331  \n",
       "312726  0.188009  0.220017  0.000000  \n",
       "\n",
       "[4987 rows x 14 columns]"
      ]
     },
     "execution_count": 26,
     "metadata": {},
     "output_type": "execute_result"
    }
   ],
   "source": [
    "# comments that are all uppercase words\n",
    "full_set[full_set.caps>6]"
   ]
  },
  {
   "cell_type": "code",
   "execution_count": 27,
   "metadata": {
    "scrolled": true
   },
   "outputs": [
    {
     "data": {
      "text/html": [
       "<div>\n",
       "<style>\n",
       "    .dataframe thead tr:only-child th {\n",
       "        text-align: right;\n",
       "    }\n",
       "\n",
       "    .dataframe thead th {\n",
       "        text-align: left;\n",
       "    }\n",
       "\n",
       "    .dataframe tbody tr th {\n",
       "        vertical-align: top;\n",
       "    }\n",
       "</style>\n",
       "<table border=\"1\" class=\"dataframe\">\n",
       "  <thead>\n",
       "    <tr style=\"text-align: right;\">\n",
       "      <th></th>\n",
       "      <th>comment_text</th>\n",
       "      <th>id</th>\n",
       "      <th>identity_hate</th>\n",
       "      <th>insult</th>\n",
       "      <th>obscene</th>\n",
       "      <th>severe_toxic</th>\n",
       "      <th>threat</th>\n",
       "      <th>toxic</th>\n",
       "      <th>caps</th>\n",
       "      <th>longest_word</th>\n",
       "      <th>cleaned_text</th>\n",
       "      <th>len_doc</th>\n",
       "      <th>n_words</th>\n",
       "      <th>oov</th>\n",
       "    </tr>\n",
       "  </thead>\n",
       "  <tbody>\n",
       "    <tr>\n",
       "      <th>627</th>\n",
       "      <td>Seems we both have some .</td>\n",
       "      <td>01ad9cd4eb4a53c3</td>\n",
       "      <td>0.0</td>\n",
       "      <td>0.0</td>\n",
       "      <td>0.0</td>\n",
       "      <td>0.0</td>\n",
       "      <td>0.0</td>\n",
       "      <td>0.0</td>\n",
       "      <td>0.0</td>\n",
       "      <td>0.0</td>\n",
       "      <td></td>\n",
       "      <td>0.037602</td>\n",
       "      <td>0.0</td>\n",
       "      <td>0.0</td>\n",
       "    </tr>\n",
       "    <tr>\n",
       "      <th>899</th>\n",
       "      <td>I ' ve just seen that</td>\n",
       "      <td>0278c8c0d71aec70</td>\n",
       "      <td>0.0</td>\n",
       "      <td>0.0</td>\n",
       "      <td>0.0</td>\n",
       "      <td>0.0</td>\n",
       "      <td>0.0</td>\n",
       "      <td>0.0</td>\n",
       "      <td>0.0</td>\n",
       "      <td>0.0</td>\n",
       "      <td></td>\n",
       "      <td>0.037602</td>\n",
       "      <td>0.0</td>\n",
       "      <td>0.0</td>\n",
       "    </tr>\n",
       "    <tr>\n",
       "      <th>2009</th>\n",
       "      <td>No ,  I ' ve not seen anything .</td>\n",
       "      <td>05729c95eb3dc41c</td>\n",
       "      <td>0.0</td>\n",
       "      <td>0.0</td>\n",
       "      <td>0.0</td>\n",
       "      <td>0.0</td>\n",
       "      <td>0.0</td>\n",
       "      <td>0.0</td>\n",
       "      <td>0.0</td>\n",
       "      <td>0.0</td>\n",
       "      <td></td>\n",
       "      <td>0.062670</td>\n",
       "      <td>0.0</td>\n",
       "      <td>0.0</td>\n",
       "    </tr>\n",
       "    <tr>\n",
       "      <th>2407</th>\n",
       "      <td>Here ,  here and here .</td>\n",
       "      <td>067638a445ccd93b</td>\n",
       "      <td>0.0</td>\n",
       "      <td>0.0</td>\n",
       "      <td>0.0</td>\n",
       "      <td>0.0</td>\n",
       "      <td>0.0</td>\n",
       "      <td>0.0</td>\n",
       "      <td>0.0</td>\n",
       "      <td>0.0</td>\n",
       "      <td></td>\n",
       "      <td>0.043869</td>\n",
       "      <td>0.0</td>\n",
       "      <td>0.0</td>\n",
       "    </tr>\n",
       "    <tr>\n",
       "      <th>5198</th>\n",
       "      <td>Who are you showing it to ?</td>\n",
       "      <td>0dd89223c129d0d4</td>\n",
       "      <td>0.0</td>\n",
       "      <td>0.0</td>\n",
       "      <td>0.0</td>\n",
       "      <td>0.0</td>\n",
       "      <td>0.0</td>\n",
       "      <td>0.0</td>\n",
       "      <td>0.0</td>\n",
       "      <td>0.0</td>\n",
       "      <td></td>\n",
       "      <td>0.043869</td>\n",
       "      <td>0.0</td>\n",
       "      <td>0.0</td>\n",
       "    </tr>\n",
       "    <tr>\n",
       "      <th>...</th>\n",
       "      <td>...</td>\n",
       "      <td>...</td>\n",
       "      <td>...</td>\n",
       "      <td>...</td>\n",
       "      <td>...</td>\n",
       "      <td>...</td>\n",
       "      <td>...</td>\n",
       "      <td>...</td>\n",
       "      <td>...</td>\n",
       "      <td>...</td>\n",
       "      <td>...</td>\n",
       "      <td>...</td>\n",
       "      <td>...</td>\n",
       "      <td>...</td>\n",
       "    </tr>\n",
       "    <tr>\n",
       "      <th>309172</th>\n",
       "      <td>Well  (  *  ^  #  &amp;  %  %  )  (  @   #  you , ...</td>\n",
       "      <td>fa0b49ac1e36b739</td>\n",
       "      <td>NaN</td>\n",
       "      <td>NaN</td>\n",
       "      <td>NaN</td>\n",
       "      <td>NaN</td>\n",
       "      <td>NaN</td>\n",
       "      <td>NaN</td>\n",
       "      <td>0.0</td>\n",
       "      <td>0.0</td>\n",
       "      <td></td>\n",
       "      <td>0.238145</td>\n",
       "      <td>0.0</td>\n",
       "      <td>0.0</td>\n",
       "    </tr>\n",
       "    <tr>\n",
       "      <th>309212</th>\n",
       "      <td>: This has since been done .</td>\n",
       "      <td>fa1d8cdba2cd3ca1</td>\n",
       "      <td>NaN</td>\n",
       "      <td>NaN</td>\n",
       "      <td>NaN</td>\n",
       "      <td>NaN</td>\n",
       "      <td>NaN</td>\n",
       "      <td>NaN</td>\n",
       "      <td>0.0</td>\n",
       "      <td>0.0</td>\n",
       "      <td></td>\n",
       "      <td>0.050136</td>\n",
       "      <td>0.0</td>\n",
       "      <td>0.0</td>\n",
       "    </tr>\n",
       "    <tr>\n",
       "      <th>309519</th>\n",
       "      <td>(    )</td>\n",
       "      <td>faa0510471f87cb7</td>\n",
       "      <td>NaN</td>\n",
       "      <td>NaN</td>\n",
       "      <td>NaN</td>\n",
       "      <td>NaN</td>\n",
       "      <td>NaN</td>\n",
       "      <td>NaN</td>\n",
       "      <td>0.0</td>\n",
       "      <td>0.0</td>\n",
       "      <td></td>\n",
       "      <td>0.025068</td>\n",
       "      <td>0.0</td>\n",
       "      <td>0.0</td>\n",
       "    </tr>\n",
       "    <tr>\n",
       "      <th>309847</th>\n",
       "      <td>what about as a last name ?</td>\n",
       "      <td>fb2910e8ce01f045</td>\n",
       "      <td>NaN</td>\n",
       "      <td>NaN</td>\n",
       "      <td>NaN</td>\n",
       "      <td>NaN</td>\n",
       "      <td>NaN</td>\n",
       "      <td>NaN</td>\n",
       "      <td>0.0</td>\n",
       "      <td>0.0</td>\n",
       "      <td></td>\n",
       "      <td>0.043869</td>\n",
       "      <td>0.0</td>\n",
       "      <td>0.0</td>\n",
       "    </tr>\n",
       "    <tr>\n",
       "      <th>310003</th>\n",
       "      <td>And me .</td>\n",
       "      <td>fb7359769708196e</td>\n",
       "      <td>NaN</td>\n",
       "      <td>NaN</td>\n",
       "      <td>NaN</td>\n",
       "      <td>NaN</td>\n",
       "      <td>NaN</td>\n",
       "      <td>NaN</td>\n",
       "      <td>0.0</td>\n",
       "      <td>0.0</td>\n",
       "      <td></td>\n",
       "      <td>0.018801</td>\n",
       "      <td>0.0</td>\n",
       "      <td>0.0</td>\n",
       "    </tr>\n",
       "  </tbody>\n",
       "</table>\n",
       "<p>305 rows × 14 columns</p>\n",
       "</div>"
      ],
      "text/plain": [
       "                                             comment_text                id  \\\n",
       "627                            Seems we both have some .   01ad9cd4eb4a53c3   \n",
       "899                                 I ' ve just seen that  0278c8c0d71aec70   \n",
       "2009                    No ,  I ' ve not seen anything .   05729c95eb3dc41c   \n",
       "2407                             Here ,  here and here .   067638a445ccd93b   \n",
       "5198                         Who are you showing it to ?   0dd89223c129d0d4   \n",
       "...                                                   ...               ...   \n",
       "309172  Well  (  *  ^  #  &  %  %  )  (  @   #  you , ...  fa0b49ac1e36b739   \n",
       "309212                      : This has since been done .   fa1d8cdba2cd3ca1   \n",
       "309519                                            (    )   faa0510471f87cb7   \n",
       "309847                       what about as a last name ?   fb2910e8ce01f045   \n",
       "310003                                          And me .   fb7359769708196e   \n",
       "\n",
       "        identity_hate  insult  obscene  severe_toxic  threat  toxic  caps  \\\n",
       "627               0.0     0.0      0.0           0.0     0.0    0.0   0.0   \n",
       "899               0.0     0.0      0.0           0.0     0.0    0.0   0.0   \n",
       "2009              0.0     0.0      0.0           0.0     0.0    0.0   0.0   \n",
       "2407              0.0     0.0      0.0           0.0     0.0    0.0   0.0   \n",
       "5198              0.0     0.0      0.0           0.0     0.0    0.0   0.0   \n",
       "...               ...     ...      ...           ...     ...    ...   ...   \n",
       "309172            NaN     NaN      NaN           NaN     NaN    NaN   0.0   \n",
       "309212            NaN     NaN      NaN           NaN     NaN    NaN   0.0   \n",
       "309519            NaN     NaN      NaN           NaN     NaN    NaN   0.0   \n",
       "309847            NaN     NaN      NaN           NaN     NaN    NaN   0.0   \n",
       "310003            NaN     NaN      NaN           NaN     NaN    NaN   0.0   \n",
       "\n",
       "        longest_word cleaned_text   len_doc  n_words  oov  \n",
       "627              0.0               0.037602      0.0  0.0  \n",
       "899              0.0               0.037602      0.0  0.0  \n",
       "2009             0.0               0.062670      0.0  0.0  \n",
       "2407             0.0               0.043869      0.0  0.0  \n",
       "5198             0.0               0.043869      0.0  0.0  \n",
       "...              ...          ...       ...      ...  ...  \n",
       "309172           0.0               0.238145      0.0  0.0  \n",
       "309212           0.0               0.050136      0.0  0.0  \n",
       "309519           0.0               0.025068      0.0  0.0  \n",
       "309847           0.0               0.043869      0.0  0.0  \n",
       "310003           0.0               0.018801      0.0  0.0  \n",
       "\n",
       "[305 rows x 14 columns]"
      ]
     },
     "execution_count": 27,
     "metadata": {},
     "output_type": "execute_result"
    }
   ],
   "source": [
    "# comments that ended up with no token after processing\n",
    "full_set[full_set.n_words==0]"
   ]
  },
  {
   "cell_type": "code",
   "execution_count": 28,
   "metadata": {
    "scrolled": true
   },
   "outputs": [
    {
     "data": {
      "text/html": [
       "<div>\n",
       "<style>\n",
       "    .dataframe thead tr:only-child th {\n",
       "        text-align: right;\n",
       "    }\n",
       "\n",
       "    .dataframe thead th {\n",
       "        text-align: left;\n",
       "    }\n",
       "\n",
       "    .dataframe tbody tr th {\n",
       "        vertical-align: top;\n",
       "    }\n",
       "</style>\n",
       "<table border=\"1\" class=\"dataframe\">\n",
       "  <thead>\n",
       "    <tr style=\"text-align: right;\">\n",
       "      <th></th>\n",
       "      <th>comment_text</th>\n",
       "      <th>id</th>\n",
       "      <th>identity_hate</th>\n",
       "      <th>insult</th>\n",
       "      <th>obscene</th>\n",
       "      <th>severe_toxic</th>\n",
       "      <th>threat</th>\n",
       "      <th>toxic</th>\n",
       "      <th>caps</th>\n",
       "      <th>longest_word</th>\n",
       "      <th>cleaned_text</th>\n",
       "      <th>len_doc</th>\n",
       "      <th>n_words</th>\n",
       "      <th>oov</th>\n",
       "    </tr>\n",
       "  </thead>\n",
       "  <tbody>\n",
       "    <tr>\n",
       "      <th>11796</th>\n",
       "      <td>=  = U R GAY =  =  \\n\\nFUCKFUCKFUCKFUCKFUCKFU...</td>\n",
       "      <td>1f31848ca28571da</td>\n",
       "      <td>1.0</td>\n",
       "      <td>1.0</td>\n",
       "      <td>1.0</td>\n",
       "      <td>1.0</td>\n",
       "      <td>0.0</td>\n",
       "      <td>1.0</td>\n",
       "      <td>6.787576</td>\n",
       "      <td>148.521895</td>\n",
       "      <td>u r gay fuckfuckfuckfuckfuckfuckfuckfuckfuckfu...</td>\n",
       "      <td>0.075204</td>\n",
       "      <td>0.073339</td>\n",
       "      <td>0.078110</td>\n",
       "    </tr>\n",
       "    <tr>\n",
       "      <th>34637</th>\n",
       "      <td>shut up you cunt\\nWWWWWWWWWWWWWWWWWWWWWWWWWWWW...</td>\n",
       "      <td>5c854590da41ac65</td>\n",
       "      <td>0.0</td>\n",
       "      <td>1.0</td>\n",
       "      <td>1.0</td>\n",
       "      <td>0.0</td>\n",
       "      <td>0.0</td>\n",
       "      <td>1.0</td>\n",
       "      <td>2.262525</td>\n",
       "      <td>124.692449</td>\n",
       "      <td>shut cunt wwwwwwwwwwwwwwwwwwwwwwwwwwwwwwwwwwww...</td>\n",
       "      <td>0.037602</td>\n",
       "      <td>0.055004</td>\n",
       "      <td>0.078110</td>\n",
       "    </tr>\n",
       "    <tr>\n",
       "      <th>36097</th>\n",
       "      <td>Death To Wikipedia !  Down with free Speach ! ...</td>\n",
       "      <td>6076128b2bd25f28</td>\n",
       "      <td>0.0</td>\n",
       "      <td>0.0</td>\n",
       "      <td>0.0</td>\n",
       "      <td>0.0</td>\n",
       "      <td>0.0</td>\n",
       "      <td>1.0</td>\n",
       "      <td>0.000000</td>\n",
       "      <td>147.592697</td>\n",
       "      <td>death wikipedia free speach hjyunnnnnnnnnnnnnn...</td>\n",
       "      <td>0.075204</td>\n",
       "      <td>0.091674</td>\n",
       "      <td>0.078110</td>\n",
       "    </tr>\n",
       "    <tr>\n",
       "      <th>40851</th>\n",
       "      <td>Discussion destroying CRAP topic \\n\\nIt seems ...</td>\n",
       "      <td>6d063d8888c30ce7</td>\n",
       "      <td>0.0</td>\n",
       "      <td>0.0</td>\n",
       "      <td>0.0</td>\n",
       "      <td>0.0</td>\n",
       "      <td>0.0</td>\n",
       "      <td>1.0</td>\n",
       "      <td>1.018136</td>\n",
       "      <td>140.938436</td>\n",
       "      <td>discussion destroy crap topic edit topic prope...</td>\n",
       "      <td>0.394819</td>\n",
       "      <td>0.366694</td>\n",
       "      <td>0.078110</td>\n",
       "    </tr>\n",
       "    <tr>\n",
       "      <th>90297</th>\n",
       "      <td>I shall purge this web site of the weak !  \\n\\...</td>\n",
       "      <td>f1a77465fee65775</td>\n",
       "      <td>0.0</td>\n",
       "      <td>0.0</td>\n",
       "      <td>0.0</td>\n",
       "      <td>0.0</td>\n",
       "      <td>0.0</td>\n",
       "      <td>1.0</td>\n",
       "      <td>0.000000</td>\n",
       "      <td>147.652645</td>\n",
       "      <td>shall purge web site weak hyyuyuyuyuyuyuyuyuyu...</td>\n",
       "      <td>0.075204</td>\n",
       "      <td>0.110008</td>\n",
       "      <td>0.078110</td>\n",
       "    </tr>\n",
       "    <tr>\n",
       "      <th>...</th>\n",
       "      <td>...</td>\n",
       "      <td>...</td>\n",
       "      <td>...</td>\n",
       "      <td>...</td>\n",
       "      <td>...</td>\n",
       "      <td>...</td>\n",
       "      <td>...</td>\n",
       "      <td>...</td>\n",
       "      <td>...</td>\n",
       "      <td>...</td>\n",
       "      <td>...</td>\n",
       "      <td>...</td>\n",
       "      <td>...</td>\n",
       "      <td>...</td>\n",
       "    </tr>\n",
       "    <tr>\n",
       "      <th>115606</th>\n",
       "      <td>Feel the might of Cyber Apocalypse !  \\n\\nyyyy...</td>\n",
       "      <td>6a4a92c6631e7b90</td>\n",
       "      <td>0.0</td>\n",
       "      <td>0.0</td>\n",
       "      <td>0.0</td>\n",
       "      <td>0.0</td>\n",
       "      <td>0.0</td>\n",
       "      <td>0.0</td>\n",
       "      <td>0.000000</td>\n",
       "      <td>147.802516</td>\n",
       "      <td>feel cyber apocalypse yyyyyyyyyyyyyyybvgtfrrrr...</td>\n",
       "      <td>0.056403</td>\n",
       "      <td>0.073339</td>\n",
       "      <td>0.078110</td>\n",
       "    </tr>\n",
       "    <tr>\n",
       "      <th>172779</th>\n",
       "      <td>=  =  bitch .   =  =  \\n\\n vgdfut tey        ...</td>\n",
       "      <td>16391569cf25129e</td>\n",
       "      <td>NaN</td>\n",
       "      <td>NaN</td>\n",
       "      <td>NaN</td>\n",
       "      <td>NaN</td>\n",
       "      <td>NaN</td>\n",
       "      <td>NaN</td>\n",
       "      <td>0.000000</td>\n",
       "      <td>135.033530</td>\n",
       "      <td>bitch vgdfut tey fsddfsssssssssssssssssdtrdttt...</td>\n",
       "      <td>0.100271</td>\n",
       "      <td>0.073339</td>\n",
       "      <td>0.156220</td>\n",
       "    </tr>\n",
       "    <tr>\n",
       "      <th>221482</th>\n",
       "      <td>=  =  they suck balls  =  =  \\n\\n    v  baaaa...</td>\n",
       "      <td>66feb5cc4b40f0e2</td>\n",
       "      <td>NaN</td>\n",
       "      <td>NaN</td>\n",
       "      <td>NaN</td>\n",
       "      <td>NaN</td>\n",
       "      <td>NaN</td>\n",
       "      <td>NaN</td>\n",
       "      <td>0.000000</td>\n",
       "      <td>148.222154</td>\n",
       "      <td>suck ball v baaaaaaaaabaaaaaaaaabaaaaaaaaabaaa...</td>\n",
       "      <td>0.100271</td>\n",
       "      <td>0.073339</td>\n",
       "      <td>0.078110</td>\n",
       "    </tr>\n",
       "    <tr>\n",
       "      <th>257279</th>\n",
       "      <td>Ï äm̈ ä ẅïk̈ïp̈ëd̈ïä üs̈ër̈ . ̈Ï äm̈ ä ẅïk̈ïp̈...</td>\n",
       "      <td>a308c80d9c7b8d97</td>\n",
       "      <td>NaN</td>\n",
       "      <td>NaN</td>\n",
       "      <td>NaN</td>\n",
       "      <td>NaN</td>\n",
       "      <td>NaN</td>\n",
       "      <td>NaN</td>\n",
       "      <td>1.234105</td>\n",
       "      <td>148.162206</td>\n",
       "      <td>ï äm̈ ä ẅïk̈ïp̈ëd̈ïä üs̈ër̈ ̈ï äm̈ ä ẅïk̈ïp̈ëd...</td>\n",
       "      <td>0.081471</td>\n",
       "      <td>0.201682</td>\n",
       "      <td>0.624882</td>\n",
       "    </tr>\n",
       "    <tr>\n",
       "      <th>284181</th>\n",
       "      <td>=  =  hoopla  =  =  \\n\\n dkjfhdkjfahsdkjfhasj...</td>\n",
       "      <td>d0296733a4dfbb61</td>\n",
       "      <td>NaN</td>\n",
       "      <td>NaN</td>\n",
       "      <td>NaN</td>\n",
       "      <td>NaN</td>\n",
       "      <td>NaN</td>\n",
       "      <td>NaN</td>\n",
       "      <td>5.027834</td>\n",
       "      <td>136.891927</td>\n",
       "      <td>hoopla dkjfhdkjfahsdkjfhasjkdfh ajsdfh jasdhfj...</td>\n",
       "      <td>0.231878</td>\n",
       "      <td>0.495038</td>\n",
       "      <td>1.796535</td>\n",
       "    </tr>\n",
       "  </tbody>\n",
       "</table>\n",
       "<p>12 rows × 14 columns</p>\n",
       "</div>"
      ],
      "text/plain": [
       "                                             comment_text                id  \\\n",
       "11796    =  = U R GAY =  =  \\n\\nFUCKFUCKFUCKFUCKFUCKFU...  1f31848ca28571da   \n",
       "34637   shut up you cunt\\nWWWWWWWWWWWWWWWWWWWWWWWWWWWW...  5c854590da41ac65   \n",
       "36097   Death To Wikipedia !  Down with free Speach ! ...  6076128b2bd25f28   \n",
       "40851   Discussion destroying CRAP topic \\n\\nIt seems ...  6d063d8888c30ce7   \n",
       "90297   I shall purge this web site of the weak !  \\n\\...  f1a77465fee65775   \n",
       "...                                                   ...               ...   \n",
       "115606  Feel the might of Cyber Apocalypse !  \\n\\nyyyy...  6a4a92c6631e7b90   \n",
       "172779   =  =  bitch .   =  =  \\n\\n vgdfut tey        ...  16391569cf25129e   \n",
       "221482   =  =  they suck balls  =  =  \\n\\n    v  baaaa...  66feb5cc4b40f0e2   \n",
       "257279  Ï äm̈ ä ẅïk̈ïp̈ëd̈ïä üs̈ër̈ . ̈Ï äm̈ ä ẅïk̈ïp̈...  a308c80d9c7b8d97   \n",
       "284181   =  =  hoopla  =  =  \\n\\n dkjfhdkjfahsdkjfhasj...  d0296733a4dfbb61   \n",
       "\n",
       "        identity_hate  insult  obscene  severe_toxic  threat  toxic      caps  \\\n",
       "11796             1.0     1.0      1.0           1.0     0.0    1.0  6.787576   \n",
       "34637             0.0     1.0      1.0           0.0     0.0    1.0  2.262525   \n",
       "36097             0.0     0.0      0.0           0.0     0.0    1.0  0.000000   \n",
       "40851             0.0     0.0      0.0           0.0     0.0    1.0  1.018136   \n",
       "90297             0.0     0.0      0.0           0.0     0.0    1.0  0.000000   \n",
       "...               ...     ...      ...           ...     ...    ...       ...   \n",
       "115606            0.0     0.0      0.0           0.0     0.0    0.0  0.000000   \n",
       "172779            NaN     NaN      NaN           NaN     NaN    NaN  0.000000   \n",
       "221482            NaN     NaN      NaN           NaN     NaN    NaN  0.000000   \n",
       "257279            NaN     NaN      NaN           NaN     NaN    NaN  1.234105   \n",
       "284181            NaN     NaN      NaN           NaN     NaN    NaN  5.027834   \n",
       "\n",
       "        longest_word                                       cleaned_text  \\\n",
       "11796     148.521895  u r gay fuckfuckfuckfuckfuckfuckfuckfuckfuckfu...   \n",
       "34637     124.692449  shut cunt wwwwwwwwwwwwwwwwwwwwwwwwwwwwwwwwwwww...   \n",
       "36097     147.592697  death wikipedia free speach hjyunnnnnnnnnnnnnn...   \n",
       "40851     140.938436  discussion destroy crap topic edit topic prope...   \n",
       "90297     147.652645  shall purge web site weak hyyuyuyuyuyuyuyuyuyu...   \n",
       "...              ...                                                ...   \n",
       "115606    147.802516  feel cyber apocalypse yyyyyyyyyyyyyyybvgtfrrrr...   \n",
       "172779    135.033530  bitch vgdfut tey fsddfsssssssssssssssssdtrdttt...   \n",
       "221482    148.222154  suck ball v baaaaaaaaabaaaaaaaaabaaaaaaaaabaaa...   \n",
       "257279    148.162206  ï äm̈ ä ẅïk̈ïp̈ëd̈ïä üs̈ër̈ ̈ï äm̈ ä ẅïk̈ïp̈ëd...   \n",
       "284181    136.891927  hoopla dkjfhdkjfahsdkjfhasjkdfh ajsdfh jasdhfj...   \n",
       "\n",
       "         len_doc   n_words       oov  \n",
       "11796   0.075204  0.073339  0.078110  \n",
       "34637   0.037602  0.055004  0.078110  \n",
       "36097   0.075204  0.091674  0.078110  \n",
       "40851   0.394819  0.366694  0.078110  \n",
       "90297   0.075204  0.110008  0.078110  \n",
       "...          ...       ...       ...  \n",
       "115606  0.056403  0.073339  0.078110  \n",
       "172779  0.100271  0.073339  0.156220  \n",
       "221482  0.100271  0.073339  0.078110  \n",
       "257279  0.081471  0.201682  0.624882  \n",
       "284181  0.231878  0.495038  1.796535  \n",
       "\n",
       "[12 rows x 14 columns]"
      ]
     },
     "execution_count": 28,
     "metadata": {},
     "output_type": "execute_result"
    }
   ],
   "source": [
    "# abnormal long word\n",
    "full_set[full_set.longest_word>100]"
   ]
  },
  {
   "cell_type": "code",
   "execution_count": 29,
   "metadata": {
    "scrolled": true
   },
   "outputs": [
    {
     "data": {
      "text/html": [
       "<div>\n",
       "<style>\n",
       "    .dataframe thead tr:only-child th {\n",
       "        text-align: right;\n",
       "    }\n",
       "\n",
       "    .dataframe thead th {\n",
       "        text-align: left;\n",
       "    }\n",
       "\n",
       "    .dataframe tbody tr th {\n",
       "        vertical-align: top;\n",
       "    }\n",
       "</style>\n",
       "<table border=\"1\" class=\"dataframe\">\n",
       "  <thead>\n",
       "    <tr style=\"text-align: right;\">\n",
       "      <th></th>\n",
       "      <th>comment_text</th>\n",
       "      <th>id</th>\n",
       "      <th>identity_hate</th>\n",
       "      <th>insult</th>\n",
       "      <th>obscene</th>\n",
       "      <th>severe_toxic</th>\n",
       "      <th>threat</th>\n",
       "      <th>toxic</th>\n",
       "      <th>caps</th>\n",
       "      <th>longest_word</th>\n",
       "      <th>cleaned_text</th>\n",
       "      <th>len_doc</th>\n",
       "      <th>n_words</th>\n",
       "      <th>oov</th>\n",
       "    </tr>\n",
       "  </thead>\n",
       "  <tbody>\n",
       "    <tr>\n",
       "      <th>126</th>\n",
       "      <td>Ahh ,  Hello Witzeman \\n\\nipaddress  \\nSymbols...</td>\n",
       "      <td>00510c3d06745849</td>\n",
       "      <td>0.0</td>\n",
       "      <td>0.0</td>\n",
       "      <td>0.0</td>\n",
       "      <td>0.0</td>\n",
       "      <td>0.0</td>\n",
       "      <td>0.0</td>\n",
       "      <td>1.690222</td>\n",
       "      <td>0.419638</td>\n",
       "      <td>ahh hello witzeman ipaddress symbols ↔ ↑ ↓ ¶ ½...</td>\n",
       "      <td>8.027985</td>\n",
       "      <td>13.989393</td>\n",
       "      <td>24.136060</td>\n",
       "    </tr>\n",
       "    <tr>\n",
       "      <th>6572</th>\n",
       "      <td>Sex sex sex sex Sex sex sex sexSex sex sex sex...</td>\n",
       "      <td>118e2e7cd2b30188</td>\n",
       "      <td>0.0</td>\n",
       "      <td>0.0</td>\n",
       "      <td>0.0</td>\n",
       "      <td>0.0</td>\n",
       "      <td>0.0</td>\n",
       "      <td>1.0</td>\n",
       "      <td>0.000000</td>\n",
       "      <td>0.179845</td>\n",
       "      <td>sex sex sex sex sex sex sex sexsex sex sex sex...</td>\n",
       "      <td>6.273234</td>\n",
       "      <td>18.353057</td>\n",
       "      <td>25.932595</td>\n",
       "    </tr>\n",
       "    <tr>\n",
       "      <th>53408</th>\n",
       "      <td>BunkSteve is gay !  BunkSteve is gay !  BunkSt...</td>\n",
       "      <td>8ecc71e2dd4e2fbe</td>\n",
       "      <td>1.0</td>\n",
       "      <td>1.0</td>\n",
       "      <td>0.0</td>\n",
       "      <td>1.0</td>\n",
       "      <td>0.0</td>\n",
       "      <td>1.0</td>\n",
       "      <td>0.000000</td>\n",
       "      <td>0.269767</td>\n",
       "      <td>bunksteve gay bunksteve gay bunksteve gay bunk...</td>\n",
       "      <td>8.698551</td>\n",
       "      <td>10.194106</td>\n",
       "      <td>21.714643</td>\n",
       "    </tr>\n",
       "    <tr>\n",
       "      <th>57594</th>\n",
       "      <td>SuPeRTR0LL WiLL LiVe FoReVeR !  iF You DoN ' T...</td>\n",
       "      <td>9a176c24d63a5c60</td>\n",
       "      <td>0.0</td>\n",
       "      <td>1.0</td>\n",
       "      <td>0.0</td>\n",
       "      <td>0.0</td>\n",
       "      <td>1.0</td>\n",
       "      <td>0.0</td>\n",
       "      <td>0.678758</td>\n",
       "      <td>0.299741</td>\n",
       "      <td>supertr0ll live forever don t respect supertr0...</td>\n",
       "      <td>7.006470</td>\n",
       "      <td>9.350709</td>\n",
       "      <td>23.823619</td>\n",
       "    </tr>\n",
       "    <tr>\n",
       "      <th>64020</th>\n",
       "      <td>PenIS pennnis pneis pensnsnnienSNsn peNis PenI...</td>\n",
       "      <td>ab53f74f30338528</td>\n",
       "      <td>0.0</td>\n",
       "      <td>0.0</td>\n",
       "      <td>1.0</td>\n",
       "      <td>0.0</td>\n",
       "      <td>0.0</td>\n",
       "      <td>1.0</td>\n",
       "      <td>0.000000</td>\n",
       "      <td>0.449612</td>\n",
       "      <td>penis pennnis pneis pensnsnniensnsn penis peni...</td>\n",
       "      <td>3.290158</td>\n",
       "      <td>9.625729</td>\n",
       "      <td>41.007869</td>\n",
       "    </tr>\n",
       "    <tr>\n",
       "      <th>...</th>\n",
       "      <td>...</td>\n",
       "      <td>...</td>\n",
       "      <td>...</td>\n",
       "      <td>...</td>\n",
       "      <td>...</td>\n",
       "      <td>...</td>\n",
       "      <td>...</td>\n",
       "      <td>...</td>\n",
       "      <td>...</td>\n",
       "      <td>...</td>\n",
       "      <td>...</td>\n",
       "      <td>...</td>\n",
       "      <td>...</td>\n",
       "      <td>...</td>\n",
       "    </tr>\n",
       "    <tr>\n",
       "      <th>311557</th>\n",
       "      <td>=  =  اشاره ای مجددا به سری دوم مباحثات اصلاح...</td>\n",
       "      <td>fdfab8c744626646</td>\n",
       "      <td>NaN</td>\n",
       "      <td>NaN</td>\n",
       "      <td>NaN</td>\n",
       "      <td>NaN</td>\n",
       "      <td>NaN</td>\n",
       "      <td>NaN</td>\n",
       "      <td>0.000000</td>\n",
       "      <td>0.329716</td>\n",
       "      <td>اشاره ای مجددا به سری دوم مباحثات اصلاحاتی دست...</td>\n",
       "      <td>6.768325</td>\n",
       "      <td>19.508145</td>\n",
       "      <td>50.068656</td>\n",
       "    </tr>\n",
       "    <tr>\n",
       "      <th>311941</th>\n",
       "      <td>=  =  اتحاد عملکردی اتحاد سیاسی سیر تاملی حل ...</td>\n",
       "      <td>fea1ffc2a9054e21</td>\n",
       "      <td>NaN</td>\n",
       "      <td>NaN</td>\n",
       "      <td>NaN</td>\n",
       "      <td>NaN</td>\n",
       "      <td>NaN</td>\n",
       "      <td>NaN</td>\n",
       "      <td>0.000000</td>\n",
       "      <td>0.239793</td>\n",
       "      <td>اتحاد عملکردی اتحاد سیاسی سیر تاملی حل بحران ج...</td>\n",
       "      <td>6.981402</td>\n",
       "      <td>20.168195</td>\n",
       "      <td>53.271175</td>\n",
       "    </tr>\n",
       "    <tr>\n",
       "      <th>312123</th>\n",
       "      <td>=  =  PHCK U A $  $ HOLE PHCK U A $  $ HOLE P...</td>\n",
       "      <td>fef08b01324576bf</td>\n",
       "      <td>NaN</td>\n",
       "      <td>NaN</td>\n",
       "      <td>NaN</td>\n",
       "      <td>NaN</td>\n",
       "      <td>NaN</td>\n",
       "      <td>NaN</td>\n",
       "      <td>6.787576</td>\n",
       "      <td>0.239793</td>\n",
       "      <td>phck u hole phck u hole phck u hole phck u hol...</td>\n",
       "      <td>14.576966</td>\n",
       "      <td>18.206380</td>\n",
       "      <td>26.010706</td>\n",
       "    </tr>\n",
       "    <tr>\n",
       "      <th>312133</th>\n",
       "      <td>=  =  دومین متن مباحثه با موضوع اختصاصی داعش ...</td>\n",
       "      <td>fef5468c148e51d2</td>\n",
       "      <td>NaN</td>\n",
       "      <td>NaN</td>\n",
       "      <td>NaN</td>\n",
       "      <td>NaN</td>\n",
       "      <td>NaN</td>\n",
       "      <td>NaN</td>\n",
       "      <td>0.000000</td>\n",
       "      <td>0.299741</td>\n",
       "      <td>دومین متن مباحثه با موضوع اختصاصی داعش و اسرائ...</td>\n",
       "      <td>6.812194</td>\n",
       "      <td>19.599818</td>\n",
       "      <td>49.131333</td>\n",
       "    </tr>\n",
       "    <tr>\n",
       "      <th>312505</th>\n",
       "      <td>سوال ۱۰ \\n سوال ۱۰ ۔ کیا اُم المومنین حضرت عائ...</td>\n",
       "      <td>ff9bbe71e8996418</td>\n",
       "      <td>NaN</td>\n",
       "      <td>NaN</td>\n",
       "      <td>NaN</td>\n",
       "      <td>NaN</td>\n",
       "      <td>NaN</td>\n",
       "      <td>NaN</td>\n",
       "      <td>0.000000</td>\n",
       "      <td>0.329716</td>\n",
       "      <td>سوال ۱۰ سوال ۱۰ کیا اُم المومنین حضرت عائشہؓ ک...</td>\n",
       "      <td>7.163144</td>\n",
       "      <td>19.728161</td>\n",
       "      <td>60.144875</td>\n",
       "    </tr>\n",
       "  </tbody>\n",
       "</table>\n",
       "<p>161 rows × 14 columns</p>\n",
       "</div>"
      ],
      "text/plain": [
       "                                             comment_text                id  \\\n",
       "126     Ahh ,  Hello Witzeman \\n\\nipaddress  \\nSymbols...  00510c3d06745849   \n",
       "6572    Sex sex sex sex Sex sex sex sexSex sex sex sex...  118e2e7cd2b30188   \n",
       "53408   BunkSteve is gay !  BunkSteve is gay !  BunkSt...  8ecc71e2dd4e2fbe   \n",
       "57594   SuPeRTR0LL WiLL LiVe FoReVeR !  iF You DoN ' T...  9a176c24d63a5c60   \n",
       "64020   PenIS pennnis pneis pensnsnnienSNsn peNis PenI...  ab53f74f30338528   \n",
       "...                                                   ...               ...   \n",
       "311557   =  =  اشاره ای مجددا به سری دوم مباحثات اصلاح...  fdfab8c744626646   \n",
       "311941   =  =  اتحاد عملکردی اتحاد سیاسی سیر تاملی حل ...  fea1ffc2a9054e21   \n",
       "312123   =  =  PHCK U A $  $ HOLE PHCK U A $  $ HOLE P...  fef08b01324576bf   \n",
       "312133   =  =  دومین متن مباحثه با موضوع اختصاصی داعش ...  fef5468c148e51d2   \n",
       "312505  سوال ۱۰ \\n سوال ۱۰ ۔ کیا اُم المومنین حضرت عائ...  ff9bbe71e8996418   \n",
       "\n",
       "        identity_hate  insult  obscene  severe_toxic  threat  toxic      caps  \\\n",
       "126               0.0     0.0      0.0           0.0     0.0    0.0  1.690222   \n",
       "6572              0.0     0.0      0.0           0.0     0.0    1.0  0.000000   \n",
       "53408             1.0     1.0      0.0           1.0     0.0    1.0  0.000000   \n",
       "57594             0.0     1.0      0.0           0.0     1.0    0.0  0.678758   \n",
       "64020             0.0     0.0      1.0           0.0     0.0    1.0  0.000000   \n",
       "...               ...     ...      ...           ...     ...    ...       ...   \n",
       "311557            NaN     NaN      NaN           NaN     NaN    NaN  0.000000   \n",
       "311941            NaN     NaN      NaN           NaN     NaN    NaN  0.000000   \n",
       "312123            NaN     NaN      NaN           NaN     NaN    NaN  6.787576   \n",
       "312133            NaN     NaN      NaN           NaN     NaN    NaN  0.000000   \n",
       "312505            NaN     NaN      NaN           NaN     NaN    NaN  0.000000   \n",
       "\n",
       "        longest_word                                       cleaned_text  \\\n",
       "126         0.419638  ahh hello witzeman ipaddress symbols ↔ ↑ ↓ ¶ ½...   \n",
       "6572        0.179845  sex sex sex sex sex sex sex sexsex sex sex sex...   \n",
       "53408       0.269767  bunksteve gay bunksteve gay bunksteve gay bunk...   \n",
       "57594       0.299741  supertr0ll live forever don t respect supertr0...   \n",
       "64020       0.449612  penis pennnis pneis pensnsnniensnsn penis peni...   \n",
       "...              ...                                                ...   \n",
       "311557      0.329716  اشاره ای مجددا به سری دوم مباحثات اصلاحاتی دست...   \n",
       "311941      0.239793  اتحاد عملکردی اتحاد سیاسی سیر تاملی حل بحران ج...   \n",
       "312123      0.239793  phck u hole phck u hole phck u hole phck u hol...   \n",
       "312133      0.299741  دومین متن مباحثه با موضوع اختصاصی داعش و اسرائ...   \n",
       "312505      0.329716  سوال ۱۰ سوال ۱۰ کیا اُم المومنین حضرت عائشہؓ ک...   \n",
       "\n",
       "          len_doc    n_words        oov  \n",
       "126      8.027985  13.989393  24.136060  \n",
       "6572     6.273234  18.353057  25.932595  \n",
       "53408    8.698551  10.194106  21.714643  \n",
       "57594    7.006470   9.350709  23.823619  \n",
       "64020    3.290158   9.625729  41.007869  \n",
       "...           ...        ...        ...  \n",
       "311557   6.768325  19.508145  50.068656  \n",
       "311941   6.981402  20.168195  53.271175  \n",
       "312123  14.576966  18.206380  26.010706  \n",
       "312133   6.812194  19.599818  49.131333  \n",
       "312505   7.163144  19.728161  60.144875  \n",
       "\n",
       "[161 rows x 14 columns]"
      ]
     },
     "execution_count": 29,
     "metadata": {},
     "output_type": "execute_result"
    }
   ],
   "source": [
    "# abnormal number of oov words\n",
    "full_set[full_set.oov>20]"
   ]
  },
  {
   "cell_type": "code",
   "execution_count": 30,
   "metadata": {},
   "outputs": [
    {
     "data": {
      "image/png": "[encoded data removed]",
      "text/plain": [
       "<matplotlib.figure.Figure at 0x188aea77be0>"
      ]
     },
     "metadata": {},
     "output_type": "display_data"
    }
   ],
   "source": [
    "# visuallize the distribution of features\n",
    "full_set.iloc[:, 8:].hist(figsize=(10,5), layout=(2,3))\n",
    "plt.show()"
   ]
  },
  {
   "cell_type": "code",
   "execution_count": 31,
   "metadata": {},
   "outputs": [
    {
     "data": {
      "image/png": "[encoded data removed]",
      "text/plain": [
       "<matplotlib.figure.Figure at 0x188b73e08d0>"
      ]
     },
     "metadata": {},
     "output_type": "display_data"
    }
   ],
   "source": [
    "# checking correlation in the train set\n",
    "\n",
    "plt.figure(figsize=(13,11))\n",
    "sns.set(font_scale=1.5)\n",
    "sns.heatmap(full_set.iloc[:n_train,2:].corr(), annot=True, square=True, linewidths=0.1, fmt='.2f')\n",
    "plt.show()"
   ]
  },
  {
   "cell_type": "markdown",
   "metadata": {},
   "source": [
    "## using word embeding\n",
    "\n",
    "- first need to reprocess text, not removing stop words"
   ]
  },
  {
   "cell_type": "code",
   "execution_count": 32,
   "metadata": {
    "collapsed": true
   },
   "outputs": [],
   "source": [
    "def token_to_remove(token):    \n",
    "    return(token.is_punct or \n",
    "           token.is_space # or \n",
    "           # token.lemma_.lower() in nlp.Defaults.stop_words                                   # is_stop not working with lg model\n",
    "           )\n",
    "    \n",
    "def token_pip(comment_column, n_cores=cores):\n",
    "    res = defaultdict(list)\n",
    "    n = 0\n",
    "    start_time = time.time()\n",
    "    for doc in tokenizer.pipe(comment_column, n_threads=cores):\n",
    "        filtered_tokens = [token for token in doc if not token_to_remove(token)]\n",
    "        m = len(filtered_tokens)\n",
    "        if m>0:\n",
    "            res['caps'].append(sum([token.is_upper for token in filtered_tokens])/m)          # percentage of upper words\n",
    "            res['longest_word'].append(max([len(token) for token in filtered_tokens]))        # length of the longest word\n",
    "        else:\n",
    "            res['caps'].append(0)\n",
    "            res['longest_word'].append(0)\n",
    "        lemma_token = [token.lemma_.lower() for token in filtered_tokens]\n",
    "#         res['tokenized'].append([token.lemma_.lower() for token in filtered_tokens])        \n",
    "        res['cleaned_text'].append(' '.join(lemma_token))                                     # recombined text\n",
    "        res['len_doc'].append(len(doc))                                                       # length of doc\n",
    "        res['n_words'].append(m)                                                              # number of filtered words\n",
    "        res['oov'].append(sum([token.is_oov for token in filtered_tokens]))                   # count of out of vocabulary words \n",
    "        n += 1\n",
    "        if n%10000 ==0:\n",
    "            print(\"finished {} iterattions, elapsed time: {:.2f} s\".format(n, time.time()-start_time))\n",
    "    return(res)"
   ]
  },
  {
   "cell_type": "code",
   "execution_count": 33,
   "metadata": {
    "scrolled": true
   },
   "outputs": [
    {
     "name": "stdout",
     "output_type": "stream",
     "text": [
      "Wall time: 4 s\n"
     ]
    }
   ],
   "source": [
    "%%time\n",
    "\n",
    "# takes a few minutes to process\n",
    "\n",
    "if not os.path.exists('full_cleaned_sw.pkl') or 0==1:\n",
    "    print(\"start processing text...\")\n",
    "    full_set_sw = pd.concat([train,test], axis=0, ignore_index=True)\n",
    "    # processing url, ip address and punctuations\n",
    "    full_set_sw.comment_text = full_set_sw.comment_text.apply(lambda x: re.sub(r\"(https|http)\\S+\", \"\", x))\n",
    "    full_set_sw.comment_text = full_set_sw.comment_text.apply(lambda x: re.sub(r'[0-9]+(\\.[0-9]+){3}', 'ipaddress', x))\n",
    "    full_set_sw.comment_text = full_set_sw.comment_text.apply(lambda x: re.sub(r'([{}])'.format(string.punctuation),\n",
    "                                                                         ' \\g<1> ', x))  # “”¨«»®´·º½¾¿¡§£₤‘’\n",
    "    \n",
    "    features = token_pip(full_set_sw.comment_text)\n",
    "    for k in features:\n",
    "        if k=='cleaned_text':\n",
    "            full_set_sw[k] = features[k]\n",
    "        else:\n",
    "            full_set_sw[k] = features[k]/np.std(features[k])    # normalize\n",
    "    print('Saving dataframe...')\n",
    "    full_set_sw.to_pickle('full_cleaned_sw.pkl')\n",
    "else:\n",
    "    full_set_sw = pd.read_pickle('full_cleaned_sw.pkl')"
   ]
  },
  {
   "cell_type": "code",
   "execution_count": 34,
   "metadata": {},
   "outputs": [
    {
     "name": "stdout",
     "output_type": "stream",
     "text": [
      "I'm Sorry \n",
      "\n",
      "I'm sorry I screwed around with someones talk page.  It was very bad to do.  I know how having the templates on their talk page helps you assert your dominance over them.  I know I should bow down to the almighty administrators.  But then again, I'm going to go play outside....with your mom.   76.122.79.82\n",
      "i be sorry i be sorry i screw around with someones talk page it be very bad to do i know how have the template on their talk page help you assert your dominance over them i know i should bow down to the almighty administrator but then again i be go to go play outside with your mom ipaddress\n",
      "FAT KID POOPS IN HIDS MOTHERNESS!!!!!!!! FREE SESSION ON LEARNING HOW TO POOP ON TUESDAYS AT THE PARK WITH A KITTEN WITH POOPNESS!!!!!!!!\n",
      "fat kid poops in hids motherness free session on learning how to poop on tuesdays at the park with a kitten with poopness\n"
     ]
    }
   ],
   "source": [
    "idx = list(train.id).index('001956c382006abd')\n",
    "print(train.comment_text[idx])\n",
    "print(full_set_sw.cleaned_text[idx])\n",
    "\n",
    "idx2 = 999\n",
    "print(test.comment_text[idx2])\n",
    "print(full_set_sw.cleaned_text[n_train+idx2])"
   ]
  },
  {
   "cell_type": "markdown",
   "metadata": {},
   "source": [
    "## Word2Vec model"
   ]
  },
  {
   "cell_type": "code",
   "execution_count": 35,
   "metadata": {},
   "outputs": [
    {
     "name": "stderr",
     "output_type": "stream",
     "text": [
      "C:\\Users\\liyadi\\Anaconda3\\lib\\site-packages\\gensim\\utils.py:860: UserWarning: detected Windows; aliasing chunkize to chunkize_serial\n",
      "  warnings.warn(\"detected Windows; aliasing chunkize to chunkize_serial\")\n"
     ]
    }
   ],
   "source": [
    "import multiprocessing\n",
    "from gensim.models import Word2Vec, doc2vec, Doc2Vec"
   ]
  },
  {
   "cell_type": "code",
   "execution_count": 36,
   "metadata": {
    "collapsed": true
   },
   "outputs": [],
   "source": [
    "assert doc2vec.FAST_VERSION > -1, \"this will be painfully slow otherwise\""
   ]
  },
  {
   "cell_type": "code",
   "execution_count": 37,
   "metadata": {
    "collapsed": true
   },
   "outputs": [],
   "source": [
    "class MySentences(object): \n",
    "    def __iter__(self):\n",
    "        for text in full_set_sw.cleaned_text:\n",
    "            yield text.split()"
   ]
  },
  {
   "cell_type": "code",
   "execution_count": 38,
   "metadata": {},
   "outputs": [
    {
     "name": "stdout",
     "output_type": "stream",
     "text": [
      "Wall time: 2.72 s\n"
     ]
    }
   ],
   "source": [
    "%%time\n",
    "\n",
    "cores = multiprocessing.cpu_count()\n",
    "\n",
    "if not os.path.exists('models/Myword2vec.model') or 0==1:\n",
    "    print(\"start traing word2vec model...\")\n",
    "    sentences = MySentences()\n",
    "    word2vec_model = Word2Vec(sentences, min_count=5, size=300, workers=cores, negative=5, window=5)\n",
    "    if not os.path.exists('models'):\n",
    "        os.makedirs('models')\n",
    "        word2vec_model.save('models/Myword2vec.model')\n",
    "    else:\n",
    "        word2vec_model.save('models/Myword2vec.model')\n",
    "else:\n",
    "    word2vec_model = Word2Vec.load('models/Myword2vec.model')"
   ]
  },
  {
   "cell_type": "code",
   "execution_count": 39,
   "metadata": {
    "scrolled": true
   },
   "outputs": [
    {
     "data": {
      "text/plain": [
       "array([-0.62986785,  0.90035379,  0.92187142,  0.63451374,  1.03516209,\n",
       "        0.56667721, -0.02889404,  0.50108987,  0.45022294,  0.12572996,\n",
       "        0.12277775,  0.73625278,  0.66869652,  0.36966693,  1.4668932 ,\n",
       "        0.26365376,  0.46341097, -0.21577294,  0.89870042,  0.56658405,\n",
       "       -0.61508524, -0.61335135, -0.50820106, -1.09883142,  1.39327121,\n",
       "        1.06125796,  0.49634683, -0.49469385,  0.1606711 ,  0.09628511,\n",
       "       -1.44178593, -0.94830042,  1.03851724, -0.68920833, -0.32048383,\n",
       "        0.3490558 , -0.57345366, -0.53664863,  1.32812381, -0.38178852,\n",
       "        1.0663904 , -0.09459729, -0.52389783, -0.14254262,  0.4201884 ,\n",
       "        0.9700498 , -0.69526345, -0.73616415,  0.10051283,  0.93738914,\n",
       "       -0.14044155, -0.28327048, -1.08880818,  0.82605219, -0.54956234,\n",
       "       -0.19918643, -1.24786794,  0.12010295, -0.51986527, -0.15915595,\n",
       "        0.02063912,  0.90439987,  0.54010874, -1.06937766, -0.04381254,\n",
       "        0.66162777, -1.1865685 ,  1.57620478,  1.07316232, -0.9926247 ,\n",
       "        0.39792743, -0.13313691, -0.74651533,  1.30306101, -0.33214012,\n",
       "       -0.62284338,  1.65565097, -0.41680974, -0.77867252, -0.0362634 ,\n",
       "       -1.68824291,  0.69423872,  0.40378103,  1.01359463,  0.31936616,\n",
       "        0.76972342,  0.41330281, -1.18700707,  1.24607182,  0.66823471,\n",
       "       -0.50251555, -1.54832411, -0.12182108,  0.07614384,  0.32645595,\n",
       "        0.60846561,  0.34681353, -0.14662875,  1.11179364,  0.32225761,\n",
       "       -0.39281547,  0.43790552,  0.86034185,  0.03575163,  0.03384876,\n",
       "       -0.57767695, -0.21178406,  0.58210504,  0.21166106, -1.71700573,\n",
       "        0.58888191,  0.43440348, -0.43295076,  1.15914834,  0.1829375 ,\n",
       "        1.45352328, -2.91857338, -0.6072281 , -1.1097343 , -0.13079533,\n",
       "       -1.22309673,  0.0638851 , -1.3144232 ,  0.5540185 ,  0.2899681 ,\n",
       "        1.27221656,  0.86654139,  0.53673857, -0.0704626 , -1.806476  ,\n",
       "        1.37337506,  0.02777845, -0.38043228, -0.36136413, -0.83853251,\n",
       "       -0.36876458, -0.37299481, -0.01623715, -1.48960686,  0.1282607 ,\n",
       "       -0.09885816, -1.29130828,  0.5979417 ,  0.02385155, -1.22030938,\n",
       "        0.61292094, -1.27712762,  0.34272447,  1.25653267,  1.30594182,\n",
       "       -0.59464329,  0.82149088,  0.06476204, -0.74882758,  0.952663  ,\n",
       "       -0.08814994,  0.06990021,  1.23885345,  0.17899898,  0.60617632,\n",
       "        0.41625413, -1.32856762, -0.39110139, -0.40290377,  0.41931909,\n",
       "        0.03538432,  0.10554568, -0.4179872 ,  0.46803841,  0.92684329,\n",
       "        0.3776913 ,  0.50204003, -0.42218369,  0.48786706, -0.24079618,\n",
       "       -0.44844034,  0.4655185 , -0.90398228,  0.39228898,  0.2052342 ,\n",
       "       -0.43584865,  0.36775956, -0.55229187,  1.45017278,  1.7573241 ,\n",
       "       -0.18881284, -0.43240246, -0.02710257,  0.24829677,  0.4405266 ,\n",
       "       -0.14559005, -0.98986638,  0.16563912, -0.41703579,  1.22364354,\n",
       "        1.7381525 ,  0.3813546 ,  1.42813158,  0.98209029, -2.46232629,\n",
       "        0.13031784,  0.27337357, -0.78014541,  0.3101719 ,  0.20589612,\n",
       "        0.07688195,  1.58360898,  0.40671563, -0.67375267,  0.94293493,\n",
       "       -0.22431996, -1.51232779, -1.17354083,  0.63881534,  0.1687717 ,\n",
       "        0.36006412, -0.85114062, -0.46121714,  0.84553349,  0.66344732,\n",
       "       -0.03460445,  0.34533662, -1.06358945, -0.74613035,  0.07183681,\n",
       "       -0.42811012, -0.88072956, -0.86466873, -0.14712511,  0.00801682,\n",
       "       -0.04019791,  0.12027139,  0.93167835, -1.91057312,  0.10764673,\n",
       "       -0.31288663,  0.70456427, -0.45520753,  0.41177383, -0.29231381,\n",
       "        0.95900118, -0.47821108,  0.40901482, -0.89854079, -0.15518239,\n",
       "       -0.51194596,  1.17803013,  0.73901033,  0.25032157,  0.35113174,\n",
       "        0.56320125, -1.03567326, -0.26999488, -0.34029773,  0.6654734 ,\n",
       "        0.24387592, -0.5376994 ,  0.03930629,  0.7089833 ,  0.59351206,\n",
       "        1.20083356, -0.44105488, -0.3656767 , -0.53809524,  0.83903754,\n",
       "        1.12189007, -1.2271111 ,  0.07766809, -0.06416688,  1.64847386,\n",
       "       -0.06426228, -0.6259883 , -0.40535536, -1.59318316, -1.02525592,\n",
       "       -1.13317955, -0.63884282,  0.14568843,  1.02260721, -1.37509871,\n",
       "       -0.08594496, -0.42104459, -2.17553568, -1.13162386, -0.82434136,\n",
       "       -2.27014875, -0.53961837,  0.38212058, -0.24834768,  0.2664589 ,\n",
       "        0.33712888, -1.4236021 , -0.74253893, -1.44535673,  0.93035454,\n",
       "        0.32654914,  1.24369895,  0.86632818,  0.78465343, -0.37066236], dtype=float32)"
      ]
     },
     "execution_count": 39,
     "metadata": {},
     "output_type": "execute_result"
    }
   ],
   "source": [
    "word2vec_model.wv.word_vec('fat')"
   ]
  },
  {
   "cell_type": "code",
   "execution_count": 40,
   "metadata": {},
   "outputs": [
    {
     "data": {
      "text/plain": [
       "[('dad', 0.8667240738868713),\n",
       " ('mommy', 0.8046636581420898),\n",
       " ('boyfriend', 0.8029587864875793),\n",
       " ('mum', 0.802200436592102),\n",
       " ('girlfriend', 0.7691670656204224),\n",
       " ('sister', 0.7467734813690186),\n",
       " ('grandmother', 0.7407859563827515),\n",
       " ('daddy', 0.7305997610092163),\n",
       " ('basement', 0.7250292301177979),\n",
       " ('wife', 0.7142705917358398)]"
      ]
     },
     "execution_count": 40,
     "metadata": {},
     "output_type": "execute_result"
    }
   ],
   "source": [
    "word2vec_model.wv.most_similar(positive=['mom'], topn=10)"
   ]
  },
  {
   "cell_type": "code",
   "execution_count": 41,
   "metadata": {},
   "outputs": [
    {
     "data": {
      "text/plain": [
       "59302"
      ]
     },
     "execution_count": 41,
     "metadata": {},
     "output_type": "execute_result"
    }
   ],
   "source": [
    "# size of vocabulary\n",
    "len(word2vec_model.wv.vocab)"
   ]
  },
  {
   "cell_type": "code",
   "execution_count": 42,
   "metadata": {},
   "outputs": [
    {
     "name": "stdout",
     "output_type": "stream",
     "text": [
      "Wall time: 1min 26s\n"
     ]
    }
   ],
   "source": [
    "%%time\n",
    "def get_comment_vect(comment_column):\n",
    "    return(np.array([np.mean([word2vec_model.wv.word_vec(word) \n",
    "                              for word in comment.split() if word in word2vec_model.wv.vocab] \n",
    "                             or [np.zeros(300)], axis=0) \n",
    "                     for comment in comment_column]\n",
    "                   ))\n",
    "comment_vect = pd.DataFrame(get_comment_vect(full_set_sw.cleaned_text))"
   ]
  },
  {
   "cell_type": "code",
   "execution_count": 43,
   "metadata": {},
   "outputs": [
    {
     "data": {
      "text/html": [
       "<div>\n",
       "<style>\n",
       "    .dataframe thead tr:only-child th {\n",
       "        text-align: right;\n",
       "    }\n",
       "\n",
       "    .dataframe thead th {\n",
       "        text-align: left;\n",
       "    }\n",
       "\n",
       "    .dataframe tbody tr th {\n",
       "        vertical-align: top;\n",
       "    }\n",
       "</style>\n",
       "<table border=\"1\" class=\"dataframe\">\n",
       "  <thead>\n",
       "    <tr style=\"text-align: right;\">\n",
       "      <th></th>\n",
       "      <th>0</th>\n",
       "      <th>1</th>\n",
       "      <th>2</th>\n",
       "      <th>3</th>\n",
       "      <th>4</th>\n",
       "      <th>5</th>\n",
       "      <th>6</th>\n",
       "      <th>7</th>\n",
       "      <th>8</th>\n",
       "      <th>9</th>\n",
       "      <th>...</th>\n",
       "      <th>290</th>\n",
       "      <th>291</th>\n",
       "      <th>292</th>\n",
       "      <th>293</th>\n",
       "      <th>294</th>\n",
       "      <th>295</th>\n",
       "      <th>296</th>\n",
       "      <th>297</th>\n",
       "      <th>298</th>\n",
       "      <th>299</th>\n",
       "    </tr>\n",
       "  </thead>\n",
       "  <tbody>\n",
       "    <tr>\n",
       "      <th>0</th>\n",
       "      <td>-0.364184</td>\n",
       "      <td>0.452900</td>\n",
       "      <td>-0.387562</td>\n",
       "      <td>-0.415856</td>\n",
       "      <td>0.006379</td>\n",
       "      <td>0.559033</td>\n",
       "      <td>-0.310710</td>\n",
       "      <td>-0.012331</td>\n",
       "      <td>0.024087</td>\n",
       "      <td>-0.576084</td>\n",
       "      <td>...</td>\n",
       "      <td>-0.164714</td>\n",
       "      <td>0.055692</td>\n",
       "      <td>0.035730</td>\n",
       "      <td>-0.364544</td>\n",
       "      <td>0.005134</td>\n",
       "      <td>-0.483194</td>\n",
       "      <td>-0.446950</td>\n",
       "      <td>-0.012147</td>\n",
       "      <td>-0.332311</td>\n",
       "      <td>0.489023</td>\n",
       "    </tr>\n",
       "    <tr>\n",
       "      <th>1</th>\n",
       "      <td>0.011603</td>\n",
       "      <td>0.055971</td>\n",
       "      <td>0.016059</td>\n",
       "      <td>-0.141248</td>\n",
       "      <td>-0.180623</td>\n",
       "      <td>0.036517</td>\n",
       "      <td>-0.270417</td>\n",
       "      <td>-0.008612</td>\n",
       "      <td>-0.062565</td>\n",
       "      <td>-0.210013</td>\n",
       "      <td>...</td>\n",
       "      <td>-0.078033</td>\n",
       "      <td>0.188009</td>\n",
       "      <td>-0.048226</td>\n",
       "      <td>0.073400</td>\n",
       "      <td>-0.136387</td>\n",
       "      <td>-0.168183</td>\n",
       "      <td>-0.195471</td>\n",
       "      <td>-0.000433</td>\n",
       "      <td>-0.022593</td>\n",
       "      <td>0.022061</td>\n",
       "    </tr>\n",
       "    <tr>\n",
       "      <th>2</th>\n",
       "      <td>-0.740097</td>\n",
       "      <td>0.343638</td>\n",
       "      <td>-0.465039</td>\n",
       "      <td>-0.303159</td>\n",
       "      <td>0.002779</td>\n",
       "      <td>0.428781</td>\n",
       "      <td>-0.573854</td>\n",
       "      <td>-0.094993</td>\n",
       "      <td>-0.078708</td>\n",
       "      <td>-0.599514</td>\n",
       "      <td>...</td>\n",
       "      <td>0.006661</td>\n",
       "      <td>0.029643</td>\n",
       "      <td>0.030071</td>\n",
       "      <td>-0.331424</td>\n",
       "      <td>0.059237</td>\n",
       "      <td>-0.888595</td>\n",
       "      <td>-0.484989</td>\n",
       "      <td>-0.171784</td>\n",
       "      <td>-0.542539</td>\n",
       "      <td>-0.052294</td>\n",
       "    </tr>\n",
       "    <tr>\n",
       "      <th>3</th>\n",
       "      <td>-0.434668</td>\n",
       "      <td>0.649400</td>\n",
       "      <td>-0.553400</td>\n",
       "      <td>-0.404645</td>\n",
       "      <td>-0.247069</td>\n",
       "      <td>0.354821</td>\n",
       "      <td>-0.416637</td>\n",
       "      <td>-0.216102</td>\n",
       "      <td>-0.301006</td>\n",
       "      <td>-0.522066</td>\n",
       "      <td>...</td>\n",
       "      <td>0.211888</td>\n",
       "      <td>0.082045</td>\n",
       "      <td>-0.232900</td>\n",
       "      <td>-0.285953</td>\n",
       "      <td>0.127415</td>\n",
       "      <td>-0.901864</td>\n",
       "      <td>-0.369421</td>\n",
       "      <td>-0.096774</td>\n",
       "      <td>-0.495365</td>\n",
       "      <td>0.208404</td>\n",
       "    </tr>\n",
       "    <tr>\n",
       "      <th>4</th>\n",
       "      <td>-0.838420</td>\n",
       "      <td>0.534680</td>\n",
       "      <td>-0.427061</td>\n",
       "      <td>-0.396859</td>\n",
       "      <td>0.628289</td>\n",
       "      <td>0.770606</td>\n",
       "      <td>-0.766478</td>\n",
       "      <td>-0.316568</td>\n",
       "      <td>0.217085</td>\n",
       "      <td>-0.724190</td>\n",
       "      <td>...</td>\n",
       "      <td>-0.285726</td>\n",
       "      <td>0.251099</td>\n",
       "      <td>-0.364389</td>\n",
       "      <td>-0.744906</td>\n",
       "      <td>-0.301994</td>\n",
       "      <td>-0.819212</td>\n",
       "      <td>-0.406022</td>\n",
       "      <td>0.074858</td>\n",
       "      <td>-0.547422</td>\n",
       "      <td>0.046190</td>\n",
       "    </tr>\n",
       "    <tr>\n",
       "      <th>...</th>\n",
       "      <td>...</td>\n",
       "      <td>...</td>\n",
       "      <td>...</td>\n",
       "      <td>...</td>\n",
       "      <td>...</td>\n",
       "      <td>...</td>\n",
       "      <td>...</td>\n",
       "      <td>...</td>\n",
       "      <td>...</td>\n",
       "      <td>...</td>\n",
       "      <td>...</td>\n",
       "      <td>...</td>\n",
       "      <td>...</td>\n",
       "      <td>...</td>\n",
       "      <td>...</td>\n",
       "      <td>...</td>\n",
       "      <td>...</td>\n",
       "      <td>...</td>\n",
       "      <td>...</td>\n",
       "      <td>...</td>\n",
       "      <td>...</td>\n",
       "    </tr>\n",
       "    <tr>\n",
       "      <th>312730</th>\n",
       "      <td>-0.579892</td>\n",
       "      <td>0.425241</td>\n",
       "      <td>-0.460343</td>\n",
       "      <td>0.087601</td>\n",
       "      <td>-0.104745</td>\n",
       "      <td>0.835021</td>\n",
       "      <td>-0.295064</td>\n",
       "      <td>0.097446</td>\n",
       "      <td>0.311633</td>\n",
       "      <td>-0.837787</td>\n",
       "      <td>...</td>\n",
       "      <td>0.286187</td>\n",
       "      <td>0.424213</td>\n",
       "      <td>0.238648</td>\n",
       "      <td>-0.219449</td>\n",
       "      <td>0.038929</td>\n",
       "      <td>-0.866869</td>\n",
       "      <td>0.040232</td>\n",
       "      <td>0.333268</td>\n",
       "      <td>-1.018836</td>\n",
       "      <td>-0.334703</td>\n",
       "    </tr>\n",
       "    <tr>\n",
       "      <th>312731</th>\n",
       "      <td>-0.306369</td>\n",
       "      <td>0.577906</td>\n",
       "      <td>-0.267809</td>\n",
       "      <td>0.296479</td>\n",
       "      <td>-0.184786</td>\n",
       "      <td>0.147639</td>\n",
       "      <td>-0.357782</td>\n",
       "      <td>-0.077978</td>\n",
       "      <td>-0.102118</td>\n",
       "      <td>-0.394621</td>\n",
       "      <td>...</td>\n",
       "      <td>0.107180</td>\n",
       "      <td>-0.098938</td>\n",
       "      <td>0.271085</td>\n",
       "      <td>0.190956</td>\n",
       "      <td>0.223355</td>\n",
       "      <td>-0.593752</td>\n",
       "      <td>-0.262186</td>\n",
       "      <td>0.106096</td>\n",
       "      <td>0.096091</td>\n",
       "      <td>-0.273626</td>\n",
       "    </tr>\n",
       "    <tr>\n",
       "      <th>312732</th>\n",
       "      <td>-0.362891</td>\n",
       "      <td>0.675760</td>\n",
       "      <td>-0.287103</td>\n",
       "      <td>-0.213250</td>\n",
       "      <td>-0.057149</td>\n",
       "      <td>0.266276</td>\n",
       "      <td>-0.088646</td>\n",
       "      <td>-0.283422</td>\n",
       "      <td>0.025981</td>\n",
       "      <td>-0.449596</td>\n",
       "      <td>...</td>\n",
       "      <td>0.466164</td>\n",
       "      <td>0.129334</td>\n",
       "      <td>-0.230775</td>\n",
       "      <td>-0.273139</td>\n",
       "      <td>-0.053713</td>\n",
       "      <td>-0.916291</td>\n",
       "      <td>-0.378455</td>\n",
       "      <td>-0.052945</td>\n",
       "      <td>-0.475223</td>\n",
       "      <td>-0.004298</td>\n",
       "    </tr>\n",
       "    <tr>\n",
       "      <th>312733</th>\n",
       "      <td>-0.588357</td>\n",
       "      <td>0.588382</td>\n",
       "      <td>-0.501670</td>\n",
       "      <td>-0.081754</td>\n",
       "      <td>-0.195936</td>\n",
       "      <td>0.190116</td>\n",
       "      <td>-0.279863</td>\n",
       "      <td>0.132356</td>\n",
       "      <td>-0.060839</td>\n",
       "      <td>-0.759810</td>\n",
       "      <td>...</td>\n",
       "      <td>0.037518</td>\n",
       "      <td>0.060865</td>\n",
       "      <td>-0.110780</td>\n",
       "      <td>-0.096188</td>\n",
       "      <td>0.008414</td>\n",
       "      <td>-0.746704</td>\n",
       "      <td>-0.373432</td>\n",
       "      <td>-0.146338</td>\n",
       "      <td>-0.323925</td>\n",
       "      <td>-0.111489</td>\n",
       "    </tr>\n",
       "    <tr>\n",
       "      <th>312734</th>\n",
       "      <td>-0.709864</td>\n",
       "      <td>0.507426</td>\n",
       "      <td>-0.493674</td>\n",
       "      <td>-0.560203</td>\n",
       "      <td>0.373678</td>\n",
       "      <td>0.734462</td>\n",
       "      <td>-0.327909</td>\n",
       "      <td>-0.347738</td>\n",
       "      <td>0.177908</td>\n",
       "      <td>-0.680294</td>\n",
       "      <td>...</td>\n",
       "      <td>0.039610</td>\n",
       "      <td>0.241940</td>\n",
       "      <td>-0.229382</td>\n",
       "      <td>-0.253884</td>\n",
       "      <td>-0.125960</td>\n",
       "      <td>-0.744203</td>\n",
       "      <td>0.261810</td>\n",
       "      <td>0.118633</td>\n",
       "      <td>-0.541912</td>\n",
       "      <td>-0.021671</td>\n",
       "    </tr>\n",
       "  </tbody>\n",
       "</table>\n",
       "<p>312735 rows × 300 columns</p>\n",
       "</div>"
      ],
      "text/plain": [
       "             0         1         2         3         4         5         6    \\\n",
       "0      -0.364184  0.452900 -0.387562 -0.415856  0.006379  0.559033 -0.310710   \n",
       "1       0.011603  0.055971  0.016059 -0.141248 -0.180623  0.036517 -0.270417   \n",
       "2      -0.740097  0.343638 -0.465039 -0.303159  0.002779  0.428781 -0.573854   \n",
       "3      -0.434668  0.649400 -0.553400 -0.404645 -0.247069  0.354821 -0.416637   \n",
       "4      -0.838420  0.534680 -0.427061 -0.396859  0.628289  0.770606 -0.766478   \n",
       "...          ...       ...       ...       ...       ...       ...       ...   \n",
       "312730 -0.579892  0.425241 -0.460343  0.087601 -0.104745  0.835021 -0.295064   \n",
       "312731 -0.306369  0.577906 -0.267809  0.296479 -0.184786  0.147639 -0.357782   \n",
       "312732 -0.362891  0.675760 -0.287103 -0.213250 -0.057149  0.266276 -0.088646   \n",
       "312733 -0.588357  0.588382 -0.501670 -0.081754 -0.195936  0.190116 -0.279863   \n",
       "312734 -0.709864  0.507426 -0.493674 -0.560203  0.373678  0.734462 -0.327909   \n",
       "\n",
       "             7         8         9      ...          290       291       292  \\\n",
       "0      -0.012331  0.024087 -0.576084    ...    -0.164714  0.055692  0.035730   \n",
       "1      -0.008612 -0.062565 -0.210013    ...    -0.078033  0.188009 -0.048226   \n",
       "2      -0.094993 -0.078708 -0.599514    ...     0.006661  0.029643  0.030071   \n",
       "3      -0.216102 -0.301006 -0.522066    ...     0.211888  0.082045 -0.232900   \n",
       "4      -0.316568  0.217085 -0.724190    ...    -0.285726  0.251099 -0.364389   \n",
       "...          ...       ...       ...    ...          ...       ...       ...   \n",
       "312730  0.097446  0.311633 -0.837787    ...     0.286187  0.424213  0.238648   \n",
       "312731 -0.077978 -0.102118 -0.394621    ...     0.107180 -0.098938  0.271085   \n",
       "312732 -0.283422  0.025981 -0.449596    ...     0.466164  0.129334 -0.230775   \n",
       "312733  0.132356 -0.060839 -0.759810    ...     0.037518  0.060865 -0.110780   \n",
       "312734 -0.347738  0.177908 -0.680294    ...     0.039610  0.241940 -0.229382   \n",
       "\n",
       "             293       294       295       296       297       298       299  \n",
       "0      -0.364544  0.005134 -0.483194 -0.446950 -0.012147 -0.332311  0.489023  \n",
       "1       0.073400 -0.136387 -0.168183 -0.195471 -0.000433 -0.022593  0.022061  \n",
       "2      -0.331424  0.059237 -0.888595 -0.484989 -0.171784 -0.542539 -0.052294  \n",
       "3      -0.285953  0.127415 -0.901864 -0.369421 -0.096774 -0.495365  0.208404  \n",
       "4      -0.744906 -0.301994 -0.819212 -0.406022  0.074858 -0.547422  0.046190  \n",
       "...          ...       ...       ...       ...       ...       ...       ...  \n",
       "312730 -0.219449  0.038929 -0.866869  0.040232  0.333268 -1.018836 -0.334703  \n",
       "312731  0.190956  0.223355 -0.593752 -0.262186  0.106096  0.096091 -0.273626  \n",
       "312732 -0.273139 -0.053713 -0.916291 -0.378455 -0.052945 -0.475223 -0.004298  \n",
       "312733 -0.096188  0.008414 -0.746704 -0.373432 -0.146338 -0.323925 -0.111489  \n",
       "312734 -0.253884 -0.125960 -0.744203  0.261810  0.118633 -0.541912 -0.021671  \n",
       "\n",
       "[312735 rows x 300 columns]"
      ]
     },
     "execution_count": 43,
     "metadata": {},
     "output_type": "execute_result"
    }
   ],
   "source": [
    "comment_vect"
   ]
  },
  {
   "cell_type": "code",
   "execution_count": 44,
   "metadata": {
    "collapsed": true
   },
   "outputs": [],
   "source": []
  },
  {
   "cell_type": "markdown",
   "metadata": {},
   "source": [
    "## Modeling"
   ]
  },
  {
   "cell_type": "code",
   "execution_count": 140,
   "metadata": {
    "collapsed": true
   },
   "outputs": [],
   "source": [
    "from sklearn.feature_extraction.text import TfidfVectorizer\n",
    "from sklearn.naive_bayes import MultinomialNB\n",
    "from sklearn.model_selection import train_test_split, GridSearchCV\n",
    "from sklearn.cross_validation import StratifiedKFold\n",
    "from sklearn import metrics\n",
    "from sklearn.linear_model import LogisticRegression\n",
    "from sklearn.pipeline import Pipeline, FeatureUnion\n",
    "from sklearn.svm import SVC\n",
    "from sklearn.calibration import CalibratedClassifierCV\n",
    "from scipy.sparse import hstack"
   ]
  },
  {
   "cell_type": "markdown",
   "metadata": {},
   "source": [
    "**parameters: max_df, min_df, ngrame_range, max_features**"
   ]
  },
  {
   "cell_type": "code",
   "execution_count": null,
   "metadata": {
    "collapsed": true
   },
   "outputs": [],
   "source": [
    "%%time\n",
    "\n",
    "# Takes few minutes to process\n",
    "word_tfidf = TfidfVectorizer(analyzer='word', max_df=0.2, min_df=0.0001)\n",
    "x_word = word_tfidf.fit_transform(full_set.cleaned_text)\n",
    "char_tfidf = TfidfVectorizer(analyzer='char', max_df=0.15, min_df=0.0003, ngram_range=(1,5), max_features=40000)\n",
    "x_char = char_tfidf.fit_transform(full_set.cleaned_text)\n",
    "print(x_word.shape, x_char.shape)"
   ]
  },
  {
   "cell_type": "code",
   "execution_count": null,
   "metadata": {
    "collapsed": true
   },
   "outputs": [],
   "source": [
    "x_train, x_test, y_train, y_test, train_idx, test_idx = train_test_split(full_set.cleaned_text[:n_train], \n",
    "                                                        full_set['toxic'][:n_train], \n",
    "                                                        np.arange(n_train),\n",
    "                                                        test_size = 0.2, \n",
    "                                                        random_state=2018,\n",
    "                                                        stratify = full_set['toxic'][:n_train])"
   ]
  },
  {
   "cell_type": "code",
   "execution_count": null,
   "metadata": {
    "collapsed": true
   },
   "outputs": [],
   "source": [
    "weight = [1, 0.25]\n",
    "x_train_comb = hstack([x_word[train_idx]*weight[0], x_char[train_idx]*weight[1]])\n",
    "x_test_comb = hstack([x_word[test_idx]*weight[0], x_char[test_idx]*weight[1]])\n",
    "x_sub_comb = hstack([x_word[n_train:]*weight[0], x_char[n_train:]*weight[1]])\n",
    "x_train_comb"
   ]
  },
  {
   "cell_type": "markdown",
   "metadata": {},
   "source": [
    "<p><a name=\"mnb\"></a></p>\n",
    "## Multinomial Naive Bayes\n",
    "<div style=\"text-align: right\"> [[back to top]](#table of content) </div>"
   ]
  },
  {
   "cell_type": "code",
   "execution_count": null,
   "metadata": {
    "collapsed": true
   },
   "outputs": [],
   "source": [
    "%%time\n",
    "\n",
    "# try on a single label\n",
    "# use 1:0.3 joined word char features better than 1:1 for toxic label\n",
    "mnb = MultinomialNB()\n",
    "parameters = {'alpha': (1, 0.6, 0.4, 0.2, 0.1)}\n",
    "nb_toxic = GridSearchCV(mnb, parameters, n_jobs=-1, scoring = 'roc_auc', verbose=1, cv=5)\n",
    "nb_toxic.fit(x_train_comb, y_train)\n",
    "print(nb_toxic.best_params_)\n",
    "print(nb_toxic.best_score_)\n",
    "print(r\"Training score(roc_auc): {}\".format(metrics.roc_auc_score(y_train, nb_toxic.predict_proba(x_train_comb)[:,1])))\n",
    "print(r\"Test score(roc_auc): {}\".format(metrics.roc_auc_score(y_test, nb_toxic.predict_proba(x_test_comb)[:,1])))"
   ]
  },
  {
   "cell_type": "markdown",
   "metadata": {},
   "source": [
    "### multi label models"
   ]
  },
  {
   "cell_type": "code",
   "execution_count": null,
   "metadata": {
    "collapsed": true,
    "scrolled": true
   },
   "outputs": [],
   "source": [
    "%%time\n",
    "\n",
    "mnb_records = pd.DataFrame(index=labels, columns=['best_params', 'cv_score', 'train_score', 'test_score'])\n",
    "mnb_submission = pd.read_csv('sample_submission.csv')\n",
    "for label in labels:\n",
    "    print('Start training classifier on {} label'.format(label))\n",
    "    x_train, x_test, y_train, y_test, train_idx, test_idx = train_test_split(full_set.cleaned_text[:n_train], \n",
    "                                                        full_set[label][:n_train], \n",
    "                                                        np.arange(n_train),\n",
    "                                                        test_size = 0.2, \n",
    "                                                        random_state=2018,\n",
    "                                                        stratify = full_set[label][:n_train])\n",
    "    weight = [1, 0.3]\n",
    "    x_train_comb = hstack([x_word[train_idx]*weight[0], x_char[train_idx]*weight[1]])\n",
    "    x_test_comb = hstack([x_word[test_idx]*weight[0], x_char[test_idx]*weight[1]])\n",
    "    x_sub_comb = hstack([x_word[n_train:]*weight[0], x_char[n_train:]*weight[1]])\n",
    "    mnb = MultinomialNB()\n",
    "    parameters = {'alpha': (0.2, 0.15, 0.1, 0.05, 0.03)}\n",
    "    mnb_cv = GridSearchCV(mnb, parameters, n_jobs=-1, scoring = 'roc_auc', cv=5)\n",
    "    mnb_cv.fit(x_train_comb, y_train)\n",
    "    mnb_records.loc[label,'best_params'] = str(mnb_cv.best_params_)\n",
    "    mnb_records.loc[label,'cv_score'] = mnb_cv.best_score_\n",
    "    mnb_records.loc[label, 'train_score'] = metrics.roc_auc_score(y_train, mnb_cv.predict_proba(x_train_comb)[:,1])\n",
    "    mnb_records.loc[label, 'test_score'] = metrics.roc_auc_score(y_test, mnb_cv.predict_proba(x_test_comb)[:,1])\n",
    "    print('Best params: {}, cv_score: {}, train_score: {}, test_score: {}'.format(*mnb_records.loc[label]))\n",
    "    mnb.set_params(**mnb_cv.best_params_)\n",
    "    print('Fitting final model and making prediction for submission on {} label'.format(label))\n",
    "    mnb.fit(hstack([x_word[:n_train]*weight[0], x_char[:n_train]*weight[1]]), full_set[label][:n_train])\n",
    "    mnb_submission[label] = mnb.predict_proba(hstack([x_word[n_train:]*weight[0], x_char[n_train:]*weight[1]]))[:,1]\n",
    "    "
   ]
  },
  {
   "cell_type": "code",
   "execution_count": null,
   "metadata": {
    "collapsed": true
   },
   "outputs": [],
   "source": [
    "mnb_records"
   ]
  },
  {
   "cell_type": "code",
   "execution_count": null,
   "metadata": {
    "collapsed": true
   },
   "outputs": [],
   "source": [
    "mnb_records.iloc[:,1:].mean()"
   ]
  },
  {
   "cell_type": "code",
   "execution_count": null,
   "metadata": {
    "collapsed": true
   },
   "outputs": [],
   "source": [
    "mnb_submission.to_csv('mnb_submission.csv',index=False)"
   ]
  },
  {
   "cell_type": "markdown",
   "metadata": {},
   "source": [
    "# mnb: \n",
    "- using weight(1, 0.3) to join word and char features better than 1:1 join\n",
    "\n",
    "{'alpha': 0.2}\n",
    "0.953085464608997\n",
    "Training score(roc_auc): 0.9642777587057523\n",
    "Test score(roc_auc): 0.9572685514517963\n",
    "\n",
    "0.2  0.05  0.15 0.03 0.1 0.05\n",
    "\n",
    "cv_score       0.962351\n",
    "train_score    0.980075\n",
    "test_score     0.964431\n",
    "\n",
    "kaggle score: 0.9555"
   ]
  },
  {
   "cell_type": "markdown",
   "metadata": {},
   "source": [
    "## with pipline single label"
   ]
  },
  {
   "cell_type": "code",
   "execution_count": null,
   "metadata": {
    "collapsed": true
   },
   "outputs": [],
   "source": [
    "x_train, x_test, y_train, y_test = train_test_split(full_set.cleaned_text[:n_train], \n",
    "                                                    full_set['toxic'][:n_train], \n",
    "                                                    test_size = 0.2, \n",
    "                                                    stratify = full_set['toxic'][:n_train])\n",
    "pipe_nb_toxic = Pipeline([('tfidf', TfidfVectorizer()), ('nb', MultinomialNB())])"
   ]
  },
  {
   "cell_type": "code",
   "execution_count": null,
   "metadata": {
    "collapsed": true
   },
   "outputs": [],
   "source": [
    "%%time\n",
    "# just word features\n",
    "parameters = {'tfidf__max_df': [0.2],\\\n",
    "              'tfidf__min_df': [0.0001],\\\n",
    "              'nb__alpha': [0.4]\n",
    "             }\n",
    "mnb_word_toxic = GridSearchCV(pipe_nb_toxic, parameters, n_jobs=-1, scoring = 'roc_auc', verbose=1, cv=5)\n",
    "mnb_word_toxic.fit(x_train, y_train)\n",
    "print(mnb_word_toxic.best_params_)\n",
    "print(mnb_word_toxic.best_score_)\n",
    "print(r\"Training score(roc_auc): {}\".format(metrics.roc_auc_score(y_train, mnb_word_toxic.predict_proba(x_train)[:,1])))\n",
    "print(r\"Test score(roc_auc): {}\".format(metrics.roc_auc_score(y_test, mnb_word_toxic.predict_proba(x_test)[:,1])))"
   ]
  },
  {
   "cell_type": "markdown",
   "metadata": {},
   "source": [
    "{'nb__alpha': 0.4, 'tfidf__max_df': 0.4, 'tfidf__min_df': 20}\n",
    "0.9548802633829122\n",
    "\n",
    "{'nb__alpha': 0.6, 'tfidf__max_df': 0.3, 'tfidf__min_df': 0.0003}\n",
    "0.9546047253386121\n",
    "\n",
    "{'nb__alpha': 0.4, 'tfidf__max_df': 0.2, 'tfidf__min_df': 0.0001}\n",
    "0.955109427915134"
   ]
  },
  {
   "cell_type": "code",
   "execution_count": null,
   "metadata": {
    "collapsed": true
   },
   "outputs": [],
   "source": [
    "%%time\n",
    "# just char features\n",
    "parameters = {'tfidf__analyzer': ['char'],\\\n",
    "              'tfidf__max_df': [0.15],\\\n",
    "              'tfidf__min_df': [0.0003],\\\n",
    "              'tfidf__ngram_range': [(1,5)],\\\n",
    "              'tfidf__max_features': [40000],\\\n",
    "              'nb__alpha': [0.4]}\n",
    "mnb_char_toxic = GridSearchCV(pipe_nb_toxic, parameters, n_jobs=-1, scoring = 'roc_auc', verbose=5, cv=5)\n",
    "mnb_char_toxic.fit(x_train, y_train)\n",
    "print(mnb_char_toxic.best_params_)\n",
    "print(mnb_char_toxic.best_score_)\n",
    "print(r\"Training score(roc_auc): {}\".format(metrics.roc_auc_score(y_train, mnb_char_toxic.predict_proba(x_train)[:,1])))\n",
    "print(r\"Test score(roc_auc): {}\".format(metrics.roc_auc_score(y_test, mnb_char_toxic.predict_proba(x_test)[:,1])))"
   ]
  },
  {
   "cell_type": "markdown",
   "metadata": {},
   "source": [
    "{'nb__alpha': 0.4, 'tfidf__analyzer': 'char', 'tfidf__max_df': 0.2, 'tfidf__max_features': 30000, 'tfidf__min_df': 0.001, 'tfidf__ngram_range': (1, 4)}\n",
    "0.939792906316925\n",
    "Training score(roc_auc): 0.9461465635299896\n",
    "Test score(roc_auc): 0.941953299598244\n",
    "Wall time: 4h 30min 5s\n",
    "\n",
    "{'nb__alpha': 0.4, 'tfidf__analyzer': 'char', 'tfidf__max_df': 0.15, 'tfidf__max_features': 30000, 'tfidf__min_df': 0.001, 'tfidf__ngram_range': (1, 5)}\n",
    "0.9431876996662475\n",
    "Training score(roc_auc): 0.9487234081778911\n",
    "Test score(roc_auc): 0.9449681911864919\n",
    "Wall time: 23min 2s\n",
    "\n",
    "{'nb__alpha': 0.4, 'tfidf__analyzer': 'char', 'tfidf__max_df': 0.15, 'tfidf__max_features': 40000, 'tfidf__min_df': 0.0003, 'tfidf__ngram_range': (1, 5)}\n",
    "0.9443888224165012\n",
    "Training score(roc_auc): 0.9513343689715263\n",
    "Test score(roc_auc): 0.9467136326762108\n",
    "Wall time: 5h 46min 39s"
   ]
  },
  {
   "cell_type": "markdown",
   "metadata": {},
   "source": [
    "## with pipeline+Featureunion single label"
   ]
  },
  {
   "cell_type": "code",
   "execution_count": null,
   "metadata": {
    "collapsed": true
   },
   "outputs": [],
   "source": [
    "%%time\n",
    "pip_mnb_union = Pipeline([\n",
    "           \n",
    "            # use FeatureUnion to combine features from tfidf and other already generated features\n",
    "            ('union', FeatureUnion(\n",
    "                transformer_list=[\n",
    "                    \n",
    "                    # pipeline to generate features from comments using tfidf analyzed by word\n",
    "                    ('tfidf_word', Pipeline([\n",
    "                        ('tfidf', TfidfVectorizer(analyzer='word'))\n",
    "                    ])),\n",
    "                    \n",
    "                    # pipeline to generate features from comments using tfidf analyzed by char\n",
    "                    ('tfidf_char', Pipeline([\n",
    "                        ('tfidf', TfidfVectorizer(analyzer='char'))\n",
    "                    ]))\n",
    "                ],    \n",
    "                transformer_weights={\n",
    "                    'tfidf_word': 1.0,\n",
    "                    'tfidf_char': 0.2,\n",
    "                }\n",
    "                \n",
    "            )),\n",
    "    \n",
    "            ('nb', MultinomialNB())\n",
    "            ])\n",
    "\n",
    "parameters = {'union__tfidf_word__tfidf__max_df': [0.2],\\\n",
    "              'union__tfidf_word__tfidf__min_df': [0.0001],\\\n",
    "              'union__tfidf_char__tfidf__max_df': [0.15],\\\n",
    "              'union__tfidf_char__tfidf__min_df': [0.0003],\\\n",
    "              'union__tfidf_char__tfidf__max_features': [40000],\\\n",
    "              'union__tfidf_char__tfidf__ngram_range': [(1,5)],\\\n",
    "              'nb__alpha': [0.6,0.4,0.2],\n",
    "              }\n",
    "\n",
    "union_mnb_cv = GridSearchCV(pip_mnb_union, parameters, n_jobs=-1, scoring = 'roc_auc', verbose=5, cv=3)\n",
    "union_mnb_cv.fit(x_train, y_train)\n",
    "print(union_mnb_cv.best_params_)\n",
    "print(union_mnb_cv.best_score_)\n",
    "print(r\"Training score(roc_auc): {}\".format(metrics.roc_auc_score(y_train, union_mnb_cv.predict_proba(x_train)[:,1])))\n",
    "print(r\"Test score(roc_auc): {}\".format(metrics.roc_auc_score(y_test, union_mnb_cv.predict_proba(x_test)[:,1])))"
   ]
  },
  {
   "cell_type": "markdown",
   "metadata": {},
   "source": [
    "{'nb__alpha': 0.4, 'union__tfidf_char__tfidf__max_df': 0.15, 'union__tfidf_char__tfidf__max_features': 40000, 'union__tfidf_char__tfidf__min_df': 0.0003, 'union__tfidf_char__tfidf__ngram_range': (1, 5), 'union__tfidf_word__tfidf__max_df': 0.2, 'union__tfidf_word__tfidf__min_df': 0.0001}\n",
    "0.9526365240927905\n",
    "Training score(roc_auc): 0.9615181461083318\n",
    "Test score(roc_auc): 0.9547861593721046\n",
    "\n",
    "{'nb__alpha': 0.2, 'union__tfidf_char__tfidf__max_df': 0.15, 'union__tfidf_char__tfidf__max_features': 40000, 'union__tfidf_char__tfidf__min_df': 0.0003, 'union__tfidf_char__tfidf__ngram_range': (1, 5), 'union__tfidf_word__tfidf__max_df': 0.2, 'union__tfidf_word__tfidf__min_df': 0.0001}\n",
    "0.955850195663717\n",
    "Training score(roc_auc): 0.9689354350879801\n",
    "Test score(roc_auc): 0.9580927452277831\n",
    "Wall time: 23min 19s"
   ]
  },
  {
   "cell_type": "markdown",
   "metadata": {},
   "source": [
    "## simple stacking pipline models with word and char features"
   ]
  },
  {
   "cell_type": "code",
   "execution_count": null,
   "metadata": {
    "collapsed": true
   },
   "outputs": [],
   "source": [
    "print(r\"Training score(roc_auc): {}\".format(metrics.roc_auc_score(y_train, (mnb_word_toxic.predict_proba(x_train)[:,1]*0.8+\n",
    "                                                                               mnb_char_toxic.predict_proba(x_train)[:,1]*0.2))))\n",
    "print(r\"Test score(roc_auc): {}\".format(metrics.roc_auc_score(y_test, (mnb_word_toxic.predict_proba(x_test)[:,1]*0.8+\n",
    "                                                                          mnb_char_toxic.predict_proba(x_test)[:,1]*0.2))))"
   ]
  },
  {
   "cell_type": "markdown",
   "metadata": {},
   "source": [
    "1:1\n",
    "Training score(roc_auc): 0.9651714798553057\n",
    "Test score(roc_auc): 0.9568482298458384\n",
    "\n",
    "4:1\n",
    "Training score(roc_auc): 0.9685301647630753\n",
    "Test score(roc_auc): 0.9589809694527178"
   ]
  },
  {
   "cell_type": "markdown",
   "metadata": {},
   "source": [
    "## mnb model with tfidf-word, all labels"
   ]
  },
  {
   "cell_type": "code",
   "execution_count": 33,
   "metadata": {
    "scrolled": true
   },
   "outputs": [
    {
     "name": "stdout",
     "output_type": "stream",
     "text": [
      "Start training classifier on toxic label\n",
      "Fitting 5 folds for each of 36 candidates, totalling 180 fits\n"
     ]
    },
    {
     "name": "stderr",
     "output_type": "stream",
     "text": [
      "[Parallel(n_jobs=-1)]: Done  42 tasks      | elapsed:  4.4min\n",
      "[Parallel(n_jobs=-1)]: Done 180 out of 180 | elapsed: 15.5min finished\n"
     ]
    },
    {
     "name": "stdout",
     "output_type": "stream",
     "text": [
      "Best params: {'nb__alpha': 0.4, 'tfidf__max_df': 0.2, 'tfidf__min_df': 0.0001}, cv_score: 0.9550078827130518, train_score: 0.9679276328979506, test_score: 0.9596303256634855\n",
      "Fitting final model and making prediction for submission on toxic label\n",
      "Start training classifier on severe_toxic label\n",
      "Fitting 5 folds for each of 36 candidates, totalling 180 fits\n"
     ]
    },
    {
     "name": "stderr",
     "output_type": "stream",
     "text": [
      "[Parallel(n_jobs=-1)]: Done  42 tasks      | elapsed:  3.8min\n",
      "[Parallel(n_jobs=-1)]: Done 180 out of 180 | elapsed: 14.2min finished\n"
     ]
    },
    {
     "name": "stdout",
     "output_type": "stream",
     "text": [
      "Best params: {'nb__alpha': 0.2, 'tfidf__max_df': 0.2, 'tfidf__min_df': 0.0003}, cv_score: 0.9789676614405037, train_score: 0.9883241955519528, test_score: 0.9772268899559129\n",
      "Fitting final model and making prediction for submission on severe_toxic label\n",
      "Start training classifier on obscene label\n",
      "Fitting 5 folds for each of 36 candidates, totalling 180 fits\n"
     ]
    },
    {
     "name": "stderr",
     "output_type": "stream",
     "text": [
      "[Parallel(n_jobs=-1)]: Done  42 tasks      | elapsed:  3.5min\n",
      "[Parallel(n_jobs=-1)]: Done 180 out of 180 | elapsed: 13.9min finished\n"
     ]
    },
    {
     "name": "stdout",
     "output_type": "stream",
     "text": [
      "Best params: {'nb__alpha': 0.6, 'tfidf__max_df': 0.2, 'tfidf__min_df': 0.0003}, cv_score: 0.9657177130254938, train_score: 0.9733249942525654, test_score: 0.9642367549101658\n",
      "Fitting final model and making prediction for submission on obscene label\n",
      "Start training classifier on threat label\n",
      "Fitting 5 folds for each of 36 candidates, totalling 180 fits\n"
     ]
    },
    {
     "name": "stderr",
     "output_type": "stream",
     "text": [
      "[Parallel(n_jobs=-1)]: Done  42 tasks      | elapsed:  3.4min\n",
      "[Parallel(n_jobs=-1)]: Done 180 out of 180 | elapsed: 13.9min finished\n"
     ]
    },
    {
     "name": "stdout",
     "output_type": "stream",
     "text": [
      "Best params: {'nb__alpha': 0.2, 'tfidf__max_df': 0.4, 'tfidf__min_df': 0.003}, cv_score: 0.9697533098478018, train_score: 0.9853950030058413, test_score: 0.9615744851084782\n",
      "Fitting final model and making prediction for submission on threat label\n",
      "Start training classifier on insult label\n",
      "Fitting 5 folds for each of 36 candidates, totalling 180 fits\n"
     ]
    },
    {
     "name": "stderr",
     "output_type": "stream",
     "text": [
      "[Parallel(n_jobs=-1)]: Done  42 tasks      | elapsed:  3.3min\n",
      "[Parallel(n_jobs=-1)]: Done 180 out of 180 | elapsed: 13.7min finished\n"
     ]
    },
    {
     "name": "stdout",
     "output_type": "stream",
     "text": [
      "Best params: {'nb__alpha': 0.4, 'tfidf__max_df': 0.2, 'tfidf__min_df': 0.0003}, cv_score: 0.9612750237601925, train_score: 0.9712145235929304, test_score: 0.9640399284301722\n",
      "Fitting final model and making prediction for submission on insult label\n",
      "Start training classifier on identity_hate label\n",
      "Fitting 5 folds for each of 36 candidates, totalling 180 fits\n"
     ]
    },
    {
     "name": "stderr",
     "output_type": "stream",
     "text": [
      "[Parallel(n_jobs=-1)]: Done  42 tasks      | elapsed:  3.3min\n",
      "[Parallel(n_jobs=-1)]: Done 180 out of 180 | elapsed: 13.6min finished\n"
     ]
    },
    {
     "name": "stdout",
     "output_type": "stream",
     "text": [
      "Best params: {'nb__alpha': 0.2, 'tfidf__max_df': 0.4, 'tfidf__min_df': 0.0003}, cv_score: 0.9625447197861673, train_score: 0.9818428366846956, test_score: 0.9723479872212811\n",
      "Fitting final model and making prediction for submission on identity_hate label\n",
      "Wall time: 1h 34min 16s\n"
     ]
    }
   ],
   "source": [
    "%%time\n",
    "\n",
    "word_mnb_records = pd.DataFrame(index=labels, columns=['best_params', 'cv_score', 'train_score', 'test_score'])\n",
    "word_mnb_full = pd.DataFrame(index=full_set.index, columns=labels)\n",
    "for label in labels:\n",
    "    print('Start training classifier on {} label'.format(label))\n",
    "    x_train, x_test, y_train, y_test, train_idx, test_idx = train_test_split(full_set.cleaned_text[:n_train], \n",
    "                                                        full_set[label][:n_train], \n",
    "                                                        np.arange(n_train),\n",
    "                                                        test_size = 0.2, \n",
    "                                                        random_state=2018,\n",
    "                                                        stratify = full_set[label][:n_train])\n",
    "    word_mnb = Pipeline([('tfidf', TfidfVectorizer()), ('nb', MultinomialNB())])\n",
    "    parameters = {'tfidf__max_df': [0.4, 0.2, 0.15],\\\n",
    "                  'tfidf__min_df': [0.0001, 0.0003, 0.003],\\\n",
    "                  'nb__alpha': [0.6, 0.5, 0.4, 0.2]\n",
    "                 }\n",
    "    word_mnb_cv = GridSearchCV(word_mnb, parameters, n_jobs=-1, scoring = 'roc_auc', verbose=1, cv=5)\n",
    "    word_mnb_cv.fit(x_train, y_train)\n",
    "    word_mnb_records.loc[label,'best_params'] = str(word_mnb_cv.best_params_)\n",
    "    word_mnb_records.loc[label,'cv_score'] = word_mnb_cv.best_score_\n",
    "    word_mnb_records.loc[label, 'train_score'] = metrics.roc_auc_score(y_train, word_mnb_cv.predict_proba(x_train)[:,1])\n",
    "    word_mnb_records.loc[label, 'test_score'] = metrics.roc_auc_score(y_test, word_mnb_cv.predict_proba(x_test)[:,1])\n",
    "    print('Best params: {}, cv_score: {}, train_score: {}, test_score: {}'.format(*word_mnb_records.loc[label]))\n",
    "    word_mnb.set_params(**word_mnb_cv.best_params_)\n",
    "    print('Fitting final model and making prediction for submission on {} label'.format(label))\n",
    "    word_mnb.fit(full_set.cleaned_text[:n_train], full_set[label][:n_train])\n",
    "    word_mnb_full[label] = word_mnb.predict_proba(full_set.cleaned_text)[:,1]"
   ]
  },
  {
   "cell_type": "code",
   "execution_count": 34,
   "metadata": {},
   "outputs": [
    {
     "name": "stdout",
     "output_type": "stream",
     "text": [
      "{'nb__alpha': 0.4, 'tfidf__max_df': 0.2, 'tfidf__min_df': 0.0001}\n",
      "{'nb__alpha': 0.2, 'tfidf__max_df': 0.2, 'tfidf__min_df': 0.0003}\n",
      "{'nb__alpha': 0.6, 'tfidf__max_df': 0.2, 'tfidf__min_df': 0.0003}\n",
      "{'nb__alpha': 0.2, 'tfidf__max_df': 0.4, 'tfidf__min_df': 0.003}\n",
      "{'nb__alpha': 0.4, 'tfidf__max_df': 0.2, 'tfidf__min_df': 0.0003}\n",
      "{'nb__alpha': 0.2, 'tfidf__max_df': 0.4, 'tfidf__min_df': 0.0003}\n",
      "               cv_score train_score test_score\n",
      "toxic          0.955008    0.967928    0.95963\n",
      "severe_toxic   0.978968    0.988324   0.977227\n",
      "obscene        0.965718    0.973325   0.964237\n",
      "threat         0.969753    0.985395   0.961574\n",
      "insult         0.961275    0.971215    0.96404\n",
      "identity_hate  0.962545    0.981843   0.972348\n",
      "cv_score       0.965544\n",
      "train_score    0.978005\n",
      "test_score     0.966509\n",
      "dtype: float64\n"
     ]
    }
   ],
   "source": [
    "print(*word_mnb_records.best_params, sep='\\n')\n",
    "print(word_mnb_records.iloc[:,1:])\n",
    "print(word_mnb_records.iloc[:,1:].mean())"
   ]
  },
  {
   "cell_type": "markdown",
   "metadata": {},
   "source": [
    "{'nb__alpha': 0.4, 'tfidf__max_df': 0.2, 'tfidf__min_df': 0.0001}\n",
    "{'nb__alpha': 0.2, 'tfidf__max_df': 0.2, 'tfidf__min_df': 0.0003}\n",
    "{'nb__alpha': 0.5, 'tfidf__max_df': 0.2, 'tfidf__min_df': 0.0003}\n",
    "{'nb__alpha': 0.2, 'tfidf__max_df': 0.4, 'tfidf__min_df': 0.003}\n",
    "{'nb__alpha': 0.4, 'tfidf__max_df': 0.2, 'tfidf__min_df': 0.0003}\n",
    "{'nb__alpha': 0.2, 'tfidf__max_df': 0.4, 'tfidf__min_df': 0.0003}\n",
    "               cv_score train_score test_score\n",
    "toxic          0.955008    0.967928    0.95963\n",
    "severe_toxic   0.978968    0.988324   0.977227\n",
    "obscene         0.96566    0.973624   0.964084\n",
    "threat         0.969753    0.985395   0.961574\n",
    "insult         0.961275    0.971215    0.96404\n",
    "identity_hate  0.962545    0.981843   0.972348\n",
    "cv_score       0.965535\n",
    "train_score    0.978055\n",
    "test_score     0.966484\n",
    "dtype: float64"
   ]
  },
  {
   "cell_type": "code",
   "execution_count": 36,
   "metadata": {
    "collapsed": true
   },
   "outputs": [],
   "source": [
    "word_mnb_full.to_csv('word_mnb_full.csv',index=False)\n",
    "word_mnb_records.to_csv('word_mnb_records.csv',index=True)"
   ]
  },
  {
   "cell_type": "markdown",
   "metadata": {},
   "source": [
    "                  'tfidf__max_df': [0.4, 0.3, 0.2, 0.15],\\\n",
    "                  'tfidf__min_df': [0.0001, 0.0003, 0.001, 0.003],\\\n",
    "                  'nb__alpha': [0.6, 0.5, 0.4, 0.2, 0.1]\n",
    "                  "
   ]
  },
  {
   "cell_type": "markdown",
   "metadata": {
    "collapsed": true
   },
   "source": [
    "## mnb model with tfidf-char, all labels ---very time consuming to fine tune"
   ]
  },
  {
   "cell_type": "code",
   "execution_count": 45,
   "metadata": {
    "scrolled": true
   },
   "outputs": [
    {
     "name": "stdout",
     "output_type": "stream",
     "text": [
      "Start training classifier on toxic label\n",
      "Fitting 3 folds for each of 4 candidates, totalling 12 fits\n"
     ]
    },
    {
     "name": "stderr",
     "output_type": "stream",
     "text": [
      "[Parallel(n_jobs=-1)]: Done  12 out of  12 | elapsed: 19.2min finished\n"
     ]
    },
    {
     "name": "stdout",
     "output_type": "stream",
     "text": [
      "Best params: {'nb__alpha': 0.4, 'tfidf__analyzer': 'char', 'tfidf__max_df': 0.15, 'tfidf__max_features': 40000, 'tfidf__min_df': 0.0003, 'tfidf__ngram_range': (1, 5)}, cv_score: 0.9438663617735209, train_score: 0.9513621686238408, test_score: 0.947215629356778\n",
      "Fitting final model and making prediction for submission on toxic label\n",
      "Start training classifier on severe_toxic label\n",
      "Fitting 3 folds for each of 4 candidates, totalling 12 fits\n"
     ]
    },
    {
     "name": "stderr",
     "output_type": "stream",
     "text": [
      "[Parallel(n_jobs=-1)]: Done  12 out of  12 | elapsed: 18.0min finished\n"
     ]
    },
    {
     "name": "stdout",
     "output_type": "stream",
     "text": [
      "Best params: {'nb__alpha': 0.2, 'tfidf__analyzer': 'char', 'tfidf__max_df': 0.15, 'tfidf__max_features': 40000, 'tfidf__min_df': 0.0003, 'tfidf__ngram_range': (1, 5)}, cv_score: 0.9810017332462886, train_score: 0.9877322633982899, test_score: 0.9796894551550314\n",
      "Fitting final model and making prediction for submission on severe_toxic label\n",
      "Start training classifier on obscene label\n",
      "Fitting 3 folds for each of 4 candidates, totalling 12 fits\n"
     ]
    },
    {
     "name": "stderr",
     "output_type": "stream",
     "text": [
      "[Parallel(n_jobs=-1)]: Done  12 out of  12 | elapsed: 21.0min finished\n"
     ]
    },
    {
     "name": "stdout",
     "output_type": "stream",
     "text": [
      "Best params: {'nb__alpha': 0.4, 'tfidf__analyzer': 'char', 'tfidf__max_df': 0.15, 'tfidf__max_features': 40000, 'tfidf__min_df': 0.0003, 'tfidf__ngram_range': (1, 5)}, cv_score: 0.9616746624720707, train_score: 0.9677143459412112, test_score: 0.9615631971260908\n",
      "Fitting final model and making prediction for submission on obscene label\n",
      "Start training classifier on threat label\n",
      "Fitting 3 folds for each of 4 candidates, totalling 12 fits\n"
     ]
    },
    {
     "name": "stderr",
     "output_type": "stream",
     "text": [
      "[Parallel(n_jobs=-1)]: Done  12 out of  12 | elapsed: 21.0min finished\n"
     ]
    },
    {
     "name": "stdout",
     "output_type": "stream",
     "text": [
      "Best params: {'nb__alpha': 0.2, 'tfidf__analyzer': 'char', 'tfidf__max_df': 0.12, 'tfidf__max_features': 40000, 'tfidf__min_df': 0.0003, 'tfidf__ngram_range': (1, 5)}, cv_score: 0.9491728837908645, train_score: 0.9793309125622283, test_score: 0.9514403409388522\n",
      "Fitting final model and making prediction for submission on threat label\n",
      "Start training classifier on insult label\n",
      "Fitting 3 folds for each of 4 candidates, totalling 12 fits\n"
     ]
    },
    {
     "name": "stderr",
     "output_type": "stream",
     "text": [
      "[Parallel(n_jobs=-1)]: Done  12 out of  12 | elapsed: 18.0min finished\n"
     ]
    },
    {
     "name": "stdout",
     "output_type": "stream",
     "text": [
      "Best params: {'nb__alpha': 0.4, 'tfidf__analyzer': 'char', 'tfidf__max_df': 0.12, 'tfidf__max_features': 40000, 'tfidf__min_df': 0.0003, 'tfidf__ngram_range': (1, 5)}, cv_score: 0.9555089673517058, train_score: 0.9635760462895477, test_score: 0.9627183245963734\n",
      "Fitting final model and making prediction for submission on insult label\n",
      "Start training classifier on identity_hate label\n",
      "Fitting 3 folds for each of 4 candidates, totalling 12 fits\n"
     ]
    },
    {
     "name": "stderr",
     "output_type": "stream",
     "text": [
      "[Parallel(n_jobs=-1)]: Done  12 out of  12 | elapsed: 19.2min finished\n"
     ]
    },
    {
     "name": "stdout",
     "output_type": "stream",
     "text": [
      "Best params: {'nb__alpha': 0.2, 'tfidf__analyzer': 'char', 'tfidf__max_df': 0.12, 'tfidf__max_features': 40000, 'tfidf__min_df': 0.0003, 'tfidf__ngram_range': (1, 5)}, cv_score: 0.9625542433104942, train_score: 0.9789429647042994, test_score: 0.970552315777182\n",
      "Fitting final model and making prediction for submission on identity_hate label\n",
      "Wall time: 2h 58min 1s\n"
     ]
    }
   ],
   "source": [
    "%%time\n",
    "\n",
    "char_mnb_records = pd.DataFrame(index=labels, columns=['best_params', 'cv_score', 'train_score', 'test_score'])\n",
    "char_mnb_full = pd.DataFrame(index=full_set.index, columns=labels)\n",
    "for label in labels:\n",
    "    print('Start training classifier on {} label'.format(label))\n",
    "    x_train, x_test, y_train, y_test, train_idx, test_idx = train_test_split(full_set.cleaned_text[:n_train], \n",
    "                                                        full_set[label][:n_train], \n",
    "                                                        np.arange(n_train),\n",
    "                                                        test_size = 0.2, \n",
    "                                                        random_state=2018,\n",
    "                                                        stratify = full_set[label][:n_train])\n",
    "    char_mnb = Pipeline([('tfidf', TfidfVectorizer()), ('nb', MultinomialNB())])\n",
    "    parameters = {'tfidf__analyzer': ['char'],\\\n",
    "              'tfidf__max_df': [0.15, 0.12],\\\n",
    "              'tfidf__min_df': [0.0003],\\\n",
    "              'tfidf__ngram_range': [(1,5)],\\\n",
    "              'tfidf__max_features': [40000],\\\n",
    "              'nb__alpha': [0.4, 0.2]}\n",
    "    char_mnb_cv = GridSearchCV(char_mnb, parameters, n_jobs=-1, scoring = 'roc_auc', verbose=1, cv=3)\n",
    "    char_mnb_cv.fit(x_train, y_train)\n",
    "    char_mnb_records.loc[label,'best_params'] = str(char_mnb_cv.best_params_)\n",
    "    char_mnb_records.loc[label,'cv_score'] = char_mnb_cv.best_score_\n",
    "    char_mnb_records.loc[label, 'train_score'] = metrics.roc_auc_score(y_train, char_mnb_cv.predict_proba(x_train)[:,1])\n",
    "    char_mnb_records.loc[label, 'test_score'] = metrics.roc_auc_score(y_test, char_mnb_cv.predict_proba(x_test)[:,1])\n",
    "    print('Best params: {}, cv_score: {}, train_score: {}, test_score: {}'.format(*char_mnb_records.loc[label]))\n",
    "    char_mnb.set_params(**char_mnb_cv.best_params_)\n",
    "    print('Fitting final model and making prediction for submission on {} label'.format(label))\n",
    "    char_mnb.fit(full_set.cleaned_text[:n_train], full_set[label][:n_train])\n",
    "    char_mnb_full[label] = char_mnb.predict_proba(full_set.cleaned_text)[:,1]"
   ]
  },
  {
   "cell_type": "code",
   "execution_count": 46,
   "metadata": {},
   "outputs": [
    {
     "name": "stdout",
     "output_type": "stream",
     "text": [
      "{'nb__alpha': 0.4, 'tfidf__analyzer': 'char', 'tfidf__max_df': 0.15, 'tfidf__max_features': 40000, 'tfidf__min_df': 0.0003, 'tfidf__ngram_range': (1, 5)}\n",
      "{'nb__alpha': 0.2, 'tfidf__analyzer': 'char', 'tfidf__max_df': 0.15, 'tfidf__max_features': 40000, 'tfidf__min_df': 0.0003, 'tfidf__ngram_range': (1, 5)}\n",
      "{'nb__alpha': 0.4, 'tfidf__analyzer': 'char', 'tfidf__max_df': 0.15, 'tfidf__max_features': 40000, 'tfidf__min_df': 0.0003, 'tfidf__ngram_range': (1, 5)}\n",
      "{'nb__alpha': 0.2, 'tfidf__analyzer': 'char', 'tfidf__max_df': 0.12, 'tfidf__max_features': 40000, 'tfidf__min_df': 0.0003, 'tfidf__ngram_range': (1, 5)}\n",
      "{'nb__alpha': 0.4, 'tfidf__analyzer': 'char', 'tfidf__max_df': 0.12, 'tfidf__max_features': 40000, 'tfidf__min_df': 0.0003, 'tfidf__ngram_range': (1, 5)}\n",
      "{'nb__alpha': 0.2, 'tfidf__analyzer': 'char', 'tfidf__max_df': 0.12, 'tfidf__max_features': 40000, 'tfidf__min_df': 0.0003, 'tfidf__ngram_range': (1, 5)}\n",
      "               cv_score train_score test_score\n",
      "toxic          0.943866    0.951362   0.947216\n",
      "severe_toxic   0.981002    0.987732   0.979689\n",
      "obscene        0.961675    0.967714   0.961563\n",
      "threat         0.949173    0.979331    0.95144\n",
      "insult         0.955509    0.963576   0.962718\n",
      "identity_hate  0.962554    0.978943   0.970552\n",
      "cv_score       0.958963\n",
      "train_score    0.971443\n",
      "test_score     0.962197\n",
      "dtype: float64\n"
     ]
    }
   ],
   "source": [
    "print(*char_mnb_records.best_params, sep='\\n')\n",
    "print(char_mnb_records.iloc[:,1:])\n",
    "print(char_mnb_records.iloc[:,1:].mean())"
   ]
  },
  {
   "cell_type": "markdown",
   "metadata": {},
   "source": [
    "{'nb__alpha': 0.4, 'tfidf__analyzer': 'char', 'tfidf__max_df': 0.15, 'tfidf__max_features': 40000, 'tfidf__min_df': 0.0003, 'tfidf__ngram_range': (1, 5)}\n",
    "{'nb__alpha': 0.2, 'tfidf__analyzer': 'char', 'tfidf__max_df': 0.15, 'tfidf__max_features': 40000, 'tfidf__min_df': 0.0003, 'tfidf__ngram_range': (1, 5)}\n",
    "{'nb__alpha': 0.4, 'tfidf__analyzer': 'char', 'tfidf__max_df': 0.15, 'tfidf__max_features': 40000, 'tfidf__min_df': 0.0003, 'tfidf__ngram_range': (1, 5)}\n",
    "{'nb__alpha': 0.2, 'tfidf__analyzer': 'char', 'tfidf__max_df': 0.15, 'tfidf__max_features': 40000, 'tfidf__min_df': 0.0003, 'tfidf__ngram_range': (1, 5)}\n",
    "{'nb__alpha': 0.4, 'tfidf__analyzer': 'char', 'tfidf__max_df': 0.15, 'tfidf__max_features': 40000, 'tfidf__min_df': 0.0003, 'tfidf__ngram_range': (1, 5)}\n",
    "{'nb__alpha': 0.2, 'tfidf__analyzer': 'char', 'tfidf__max_df': 0.15, 'tfidf__max_features': 40000, 'tfidf__min_df': 0.0003, 'tfidf__ngram_range': (1, 5)}\n",
    "               cv_score train_score test_score\n",
    "toxic          0.943866    0.951362   0.947216\n",
    "severe_toxic   0.981002    0.987732   0.979689\n",
    "obscene        0.961675    0.967714   0.961563\n",
    "threat         0.948283    0.978424   0.950496\n",
    "insult         0.955456    0.963371   0.962704\n",
    "identity_hate  0.962063    0.978343   0.970227\n",
    "cv_score       0.958724\n",
    "train_score    0.971158\n",
    "test_score     0.961983\n",
    "\n",
    "{'nb__alpha': 0.2, 'tfidf__analyzer': 'char', 'tfidf__max_df': 0.15, 'tfidf__min_df': 0.0003, 'tfidf__ngram_range': (1, 5)}\n",
    "{'nb__alpha': 0.2, 'tfidf__analyzer': 'char', 'tfidf__max_df': 0.15, 'tfidf__min_df': 0.0003, 'tfidf__ngram_range': (1, 5)}\n",
    "{'nb__alpha': 0.2, 'tfidf__analyzer': 'char', 'tfidf__max_df': 0.15, 'tfidf__min_df': 0.0003, 'tfidf__ngram_range': (1, 5)}\n",
    "{'nb__alpha': 0.2, 'tfidf__analyzer': 'char', 'tfidf__max_df': 0.15, 'tfidf__min_df': 0.0003, 'tfidf__ngram_range': (1, 5)}\n",
    "{'nb__alpha': 0.2, 'tfidf__analyzer': 'char', 'tfidf__max_df': 0.15, 'tfidf__min_df': 0.0003, 'tfidf__ngram_range': (1, 5)}\n",
    "{'nb__alpha': 0.2, 'tfidf__analyzer': 'char', 'tfidf__max_df': 0.15, 'tfidf__min_df': 0.0003, 'tfidf__ngram_range': (1, 5)}\n",
    "               cv_score train_score test_score\n",
    "toxic          0.943409    0.956741   0.948965\n",
    "severe_toxic   0.973072    0.985497   0.973623\n",
    "obscene        0.958114    0.969775    0.95988\n",
    "threat         0.912432    0.962793   0.919866\n",
    "insult         0.952491    0.966795   0.961544\n",
    "identity_hate  0.940987    0.970586   0.954784\n",
    "cv_score       0.946751\n",
    "train_score    0.968698\n",
    "test_score     0.953111\n",
    "\n",
    "              'tfidf__analyzer': ['char'],\\\n",
    "              'tfidf__max_df': [0.3, 0.2, 0.15],\\\n",
    "              'tfidf__min_df': [0.0001, 0.0003],\\\n",
    "              'tfidf__ngram_range': [(1,5)],\\\n",
    "              'tfidf__max_features': [40000],\\\n",
    "              'nb__alpha': [0.6, 0.4, 0.2]}"
   ]
  },
  {
   "cell_type": "code",
   "execution_count": 47,
   "metadata": {
    "collapsed": true
   },
   "outputs": [],
   "source": [
    "char_mnb_full.to_csv('char_mnb_full.csv',index=False)\n",
    "char_mnb_records.to_csv('char_mnb_records.csv', index=True)"
   ]
  },
  {
   "cell_type": "markdown",
   "metadata": {},
   "source": [
    "<p><a name=\"lg\"></a></p>\n",
    "## Logistic Regression\n",
    "<div style=\"text-align: right\"> [[back to top]](#table of content) </div>"
   ]
  },
  {
   "cell_type": "code",
   "execution_count": null,
   "metadata": {
    "collapsed": true
   },
   "outputs": [],
   "source": [
    "%%time\n",
    "\n",
    "# use 1:1 joined word char features\n",
    "lg = LogisticRegression()\n",
    "parameters = {'C': [0.03, 0.1, 0.3, 0.9],\\\n",
    "             'class_weight': ['balanced'],\\\n",
    "             'solver': ['lbfgs'],\\\n",
    "             }\n",
    "lg_toxic = GridSearchCV(lg, parameters, n_jobs=-1, scoring = 'roc_auc', verbose=5, cv=5)\n",
    "lg_toxic.fit(x_train_comb, y_train)\n",
    "print(lg_toxic.best_params_)\n",
    "print(lg_toxic.best_score_)\n",
    "print(r\"Training score(roc_auc): {}\".format(metrics.roc_auc_score(y_train, lg_toxic.predict_proba(x_train_comb)[:,1])))\n",
    "print(r\"Test score(roc_auc): {}\".format(metrics.roc_auc_score(y_test, lg_toxic.predict_proba(x_test_comb)[:,1])))"
   ]
  },
  {
   "cell_type": "markdown",
   "metadata": {},
   "source": [
    "### multi label models"
   ]
  },
  {
   "cell_type": "code",
   "execution_count": null,
   "metadata": {
    "collapsed": true,
    "scrolled": true
   },
   "outputs": [],
   "source": [
    "%%time\n",
    "\n",
    "lg_records = pd.DataFrame(index=labels, columns=['best_params', 'cv_score', 'train_score', 'test_score'])\n",
    "lg_submission = pd.read_csv('sample_submission.csv')\n",
    "for label in labels:\n",
    "    print('Start training classifier on {} label'.format(label))\n",
    "    x_train, x_test, y_train, y_test, train_idx, test_idx = train_test_split(full_set.cleaned_text[:n_train], \n",
    "                                                        full_set[label][:n_train], \n",
    "                                                        np.arange(n_train),\n",
    "                                                        test_size = 0.2, \n",
    "                                                        random_state=2018,\n",
    "                                                        stratify = full_set[label][:n_train])\n",
    "    weight = [1, 1]\n",
    "    x_train_comb = hstack([x_word[train_idx]*weight[0], x_char[train_idx]*weight[1]])\n",
    "    x_test_comb = hstack([x_word[test_idx]*weight[0], x_char[test_idx]*weight[1]])\n",
    "    x_sub_comb = hstack([x_word[n_train:]*weight[0], x_char[n_train:]*weight[1]])\n",
    "    lg = LogisticRegression()\n",
    "    parameters = {'C': [0.1, 0.2, 0.4, 0.8],\\\n",
    "                  'class_weight': ['balanced'],\\\n",
    "                  'solver': ['lbfgs'],\\\n",
    "                 }\n",
    "    lg_cv = GridSearchCV(lg, parameters, n_jobs=-1, scoring = 'roc_auc', verbose=1, cv=5)\n",
    "    lg_cv.fit(x_train_comb, y_train)\n",
    "    lg_records.loc[label,'best_params'] = str(lg_cv.best_params_)\n",
    "    lg_records.loc[label,'cv_score'] = lg_cv.best_score_\n",
    "    lg_records.loc[label, 'train_score'] = metrics.roc_auc_score(y_train, lg_cv.predict_proba(x_train_comb)[:,1])\n",
    "    lg_records.loc[label, 'test_score'] = metrics.roc_auc_score(y_test, lg_cv.predict_proba(x_test_comb)[:,1])\n",
    "    print('Best params: {}, cv_score: {:.6f}, train_score: {:.6f}, test_score: {:.6f}'.format(*lg_records.loc[label]))\n",
    "    lg.set_params(**lg_cv.best_params_)\n",
    "    print('Fitting final model and making prediction for submission on {} label'.format(label))\n",
    "    lg.fit(hstack([x_word[:n_train]*weight[0], x_char[:n_train]*weight[1]]), full_set[label][:n_train])\n",
    "    lg_submission[label] = lg.predict_proba(x_sub_comb)[:,1]"
   ]
  },
  {
   "cell_type": "code",
   "execution_count": null,
   "metadata": {
    "collapsed": true
   },
   "outputs": [],
   "source": [
    "lg_records"
   ]
  },
  {
   "cell_type": "code",
   "execution_count": null,
   "metadata": {
    "collapsed": true
   },
   "outputs": [],
   "source": [
    "lg_records.iloc[:,1:].mean()"
   ]
  },
  {
   "cell_type": "code",
   "execution_count": null,
   "metadata": {
    "collapsed": true
   },
   "outputs": [],
   "source": [
    "lg_submission.to_csv('lg_submission.csv',index=False)"
   ]
  },
  {
   "cell_type": "markdown",
   "metadata": {
    "collapsed": true
   },
   "source": [
    "# logistic regression\n",
    "- [1,1] joined word and char features better than [1,0.3] joined features\n",
    "\n",
    "{'C': 0.1, 'class_weight': 'balanced', 'solver': 'lbfgs'}\n",
    "0.9873947097951655\n",
    "Training score(roc_auc): 0.993149330451378\n",
    "Test score(roc_auc): 0.9879700358880396\n",
    "Wall time: 4min 33s\n",
    "\n",
    "0.8 0.1 0.4 0.1 0.4 0.2\n",
    "\n",
    "cv_score       0.981977\n",
    "train_score    0.994437\n",
    "test_score     0.982493\n",
    "\n",
    "kaggle score: 0.9774"
   ]
  },
  {
   "cell_type": "markdown",
   "metadata": {},
   "source": [
    "## logistic regression model from tfidf-word, all labels"
   ]
  },
  {
   "cell_type": "code",
   "execution_count": 34,
   "metadata": {
    "scrolled": true
   },
   "outputs": [
    {
     "name": "stdout",
     "output_type": "stream",
     "text": [
      "Start training classifier on toxic label\n",
      "Fitting 5 folds for each of 54 candidates, totalling 270 fits\n"
     ]
    },
    {
     "name": "stderr",
     "output_type": "stream",
     "text": [
      "[Parallel(n_jobs=-1)]: Done  42 tasks      | elapsed:  4.0min\n",
      "[Parallel(n_jobs=-1)]: Done 192 tasks      | elapsed: 17.4min\n",
      "[Parallel(n_jobs=-1)]: Done 270 out of 270 | elapsed: 31.8min finished\n"
     ]
    },
    {
     "name": "stdout",
     "output_type": "stream",
     "text": [
      "Best params: {'lg__C': 0.8, 'lg__class_weight': 'balanced', 'lg__solver': 'lbfgs', 'tfidf__max_df': 0.5, 'tfidf__min_df': 5e-05}, cv_score: 0.9686441612554454, train_score: 0.9872585613774817, test_score: 0.9717791800531692\n",
      "Fitting final model and making prediction for submission on toxic label\n",
      "Start training classifier on severe_toxic label\n",
      "Fitting 5 folds for each of 54 candidates, totalling 270 fits\n"
     ]
    },
    {
     "name": "stderr",
     "output_type": "stream",
     "text": [
      "[Parallel(n_jobs=-1)]: Done  42 tasks      | elapsed:  3.6min\n",
      "[Parallel(n_jobs=-1)]: Done 192 tasks      | elapsed: 17.2min\n",
      "[Parallel(n_jobs=-1)]: Done 270 out of 270 | elapsed: 31.9min finished\n"
     ]
    },
    {
     "name": "stdout",
     "output_type": "stream",
     "text": [
      "Best params: {'lg__C': 0.1, 'lg__class_weight': 'balanced', 'lg__solver': 'lbfgs', 'tfidf__max_df': 0.5, 'tfidf__min_df': 5e-05}, cv_score: 0.9851474552431835, train_score: 0.9917170363946917, test_score: 0.9833844191221379\n",
      "Fitting final model and making prediction for submission on severe_toxic label\n",
      "Start training classifier on obscene label\n",
      "Fitting 5 folds for each of 54 candidates, totalling 270 fits\n"
     ]
    },
    {
     "name": "stderr",
     "output_type": "stream",
     "text": [
      "[Parallel(n_jobs=-1)]: Done  42 tasks      | elapsed:  3.5min\n",
      "[Parallel(n_jobs=-1)]: Done 192 tasks      | elapsed: 15.8min\n",
      "[Parallel(n_jobs=-1)]: Done 270 out of 270 | elapsed: 28.9min finished\n"
     ]
    },
    {
     "name": "stdout",
     "output_type": "stream",
     "text": [
      "Best params: {'lg__C': 0.4, 'lg__class_weight': 'balanced', 'lg__solver': 'lbfgs', 'tfidf__max_df': 0.2, 'tfidf__min_df': 5e-05}, cv_score: 0.9848137941650619, train_score: 0.9943263376125865, test_score: 0.9831182110502592\n",
      "Fitting final model and making prediction for submission on obscene label\n",
      "Start training classifier on threat label\n",
      "Fitting 5 folds for each of 54 candidates, totalling 270 fits\n"
     ]
    },
    {
     "name": "stderr",
     "output_type": "stream",
     "text": [
      "[Parallel(n_jobs=-1)]: Done  42 tasks      | elapsed:  3.5min\n",
      "[Parallel(n_jobs=-1)]: Done 192 tasks      | elapsed: 16.1min\n",
      "[Parallel(n_jobs=-1)]: Done 270 out of 270 | elapsed: 30.3min finished\n"
     ]
    },
    {
     "name": "stdout",
     "output_type": "stream",
     "text": [
      "Best params: {'lg__C': 0.1, 'lg__class_weight': 'balanced', 'lg__solver': 'lbfgs', 'tfidf__max_df': 0.5, 'tfidf__min_df': 0.0001}, cv_score: 0.9811428041068667, train_score: 0.9973667522113111, test_score: 0.9736231038582817\n",
      "Fitting final model and making prediction for submission on threat label\n",
      "Start training classifier on insult label\n",
      "Fitting 5 folds for each of 54 candidates, totalling 270 fits\n"
     ]
    },
    {
     "name": "stderr",
     "output_type": "stream",
     "text": [
      "[Parallel(n_jobs=-1)]: Done  42 tasks      | elapsed:  3.5min\n",
      "[Parallel(n_jobs=-1)]: Done 192 tasks      | elapsed: 15.7min\n",
      "[Parallel(n_jobs=-1)]: Done 270 out of 270 | elapsed: 29.5min finished\n"
     ]
    },
    {
     "name": "stdout",
     "output_type": "stream",
     "text": [
      "Best params: {'lg__C': 0.4, 'lg__class_weight': 'balanced', 'lg__solver': 'lbfgs', 'tfidf__max_df': 0.2, 'tfidf__min_df': 5e-05}, cv_score: 0.9761933842973832, train_score: 0.9889081949539981, test_score: 0.9758932102834541\n",
      "Fitting final model and making prediction for submission on insult label\n",
      "Start training classifier on identity_hate label\n",
      "Fitting 5 folds for each of 54 candidates, totalling 270 fits\n"
     ]
    },
    {
     "name": "stderr",
     "output_type": "stream",
     "text": [
      "[Parallel(n_jobs=-1)]: Done  42 tasks      | elapsed:  3.5min\n",
      "[Parallel(n_jobs=-1)]: Done 192 tasks      | elapsed: 16.1min\n",
      "[Parallel(n_jobs=-1)]: Done 270 out of 270 | elapsed: 30.6min finished\n"
     ]
    },
    {
     "name": "stdout",
     "output_type": "stream",
     "text": [
      "Best params: {'lg__C': 0.2, 'lg__class_weight': 'balanced', 'lg__solver': 'lbfgs', 'tfidf__max_df': 0.5, 'tfidf__min_df': 5e-05}, cv_score: 0.9727445487435387, train_score: 0.9927667679299728, test_score: 0.9790201632236318\n",
      "Fitting final model and making prediction for submission on identity_hate label\n",
      "Wall time: 3h 11min 54s\n"
     ]
    }
   ],
   "source": [
    "%%time\n",
    "\n",
    "word_lg_records = pd.DataFrame(index=labels, columns=['best_params', 'cv_score', 'train_score', 'test_score'])\n",
    "word_lg_full = pd.DataFrame(index=full_set.index, columns=labels)\n",
    "for label in labels:\n",
    "    print('Start training classifier on {} label'.format(label))\n",
    "    x_train, x_test, y_train, y_test, train_idx, test_idx = train_test_split(full_set.cleaned_text[:n_train], \n",
    "                                                        full_set[label][:n_train], \n",
    "                                                        np.arange(n_train),\n",
    "                                                        test_size = 0.2, \n",
    "                                                        random_state=2018,\n",
    "                                                        stratify = full_set[label][:n_train])\n",
    "    word_lg = Pipeline([('tfidf', TfidfVectorizer()), ('lg', LogisticRegression())])\n",
    "    parameters = {'tfidf__max_df': [0.5, 0.4, 0.2],\\\n",
    "                  'tfidf__min_df': [0.00005, 0.0001, 0.0002],\\\n",
    "                  'lg__class_weight': ['balanced'],\\\n",
    "                  'lg__solver': ['lbfgs'],\\\n",
    "                  'lg__C': [0.05, 0.1, 0.2, 0.4, 0.8, 1]\n",
    "                 }\n",
    "    word_lg_cv = GridSearchCV(word_lg, parameters, n_jobs=-1, scoring = 'roc_auc', verbose=1, cv=5)\n",
    "    word_lg_cv.fit(x_train, y_train)\n",
    "    word_lg_records.loc[label,'best_params'] = str(word_lg_cv.best_params_)\n",
    "    word_lg_records.loc[label,'cv_score'] = word_lg_cv.best_score_\n",
    "    word_lg_records.loc[label, 'train_score'] = metrics.roc_auc_score(y_train, word_lg_cv.predict_proba(x_train)[:,1])\n",
    "    word_lg_records.loc[label, 'test_score'] = metrics.roc_auc_score(y_test, word_lg_cv.predict_proba(x_test)[:,1])\n",
    "    print('Best params: {}, cv_score: {}, train_score: {}, test_score: {}'.format(*word_lg_records.loc[label]))\n",
    "    word_lg.set_params(**word_lg_cv.best_params_)\n",
    "    print('Fitting final model and making prediction for submission on {} label'.format(label))\n",
    "    word_lg.fit(full_set.cleaned_text[:n_train], full_set[label][:n_train])\n",
    "    word_lg_full[label] = word_lg.predict_proba(full_set.cleaned_text)[:,1]"
   ]
  },
  {
   "cell_type": "code",
   "execution_count": 35,
   "metadata": {},
   "outputs": [
    {
     "name": "stdout",
     "output_type": "stream",
     "text": [
      "{'lg__C': 0.8, 'lg__class_weight': 'balanced', 'lg__solver': 'lbfgs', 'tfidf__max_df': 0.5, 'tfidf__min_df': 5e-05}\n",
      "{'lg__C': 0.1, 'lg__class_weight': 'balanced', 'lg__solver': 'lbfgs', 'tfidf__max_df': 0.5, 'tfidf__min_df': 5e-05}\n",
      "{'lg__C': 0.4, 'lg__class_weight': 'balanced', 'lg__solver': 'lbfgs', 'tfidf__max_df': 0.2, 'tfidf__min_df': 5e-05}\n",
      "{'lg__C': 0.1, 'lg__class_weight': 'balanced', 'lg__solver': 'lbfgs', 'tfidf__max_df': 0.5, 'tfidf__min_df': 0.0001}\n",
      "{'lg__C': 0.4, 'lg__class_weight': 'balanced', 'lg__solver': 'lbfgs', 'tfidf__max_df': 0.2, 'tfidf__min_df': 5e-05}\n",
      "{'lg__C': 0.2, 'lg__class_weight': 'balanced', 'lg__solver': 'lbfgs', 'tfidf__max_df': 0.5, 'tfidf__min_df': 5e-05}\n",
      "               cv_score train_score test_score\n",
      "toxic          0.968644    0.987259   0.971779\n",
      "severe_toxic   0.985147    0.991717   0.983384\n",
      "obscene        0.984814    0.994326   0.983118\n",
      "threat         0.981143    0.997367   0.973623\n",
      "insult         0.976193    0.988908   0.975893\n",
      "identity_hate  0.972745    0.992767    0.97902\n",
      "cv_score       0.978114\n",
      "train_score    0.992057\n",
      "test_score     0.977803\n",
      "dtype: float64\n"
     ]
    }
   ],
   "source": [
    "print(*word_lg_records.best_params, sep='\\n')\n",
    "print(word_lg_records.iloc[:,1:])\n",
    "print(word_lg_records.iloc[:,1:].mean())"
   ]
  },
  {
   "cell_type": "markdown",
   "metadata": {},
   "source": [
    "{'lg__C': 0.8, 'lg__class_weight': 'balanced', 'lg__solver': 'lbfgs', 'tfidf__max_df': 0.4, 'tfidf__min_df': 0.0001}\n",
    "{'lg__C': 0.1, 'lg__class_weight': 'balanced', 'lg__solver': 'lbfgs', 'tfidf__max_df': 0.4, 'tfidf__min_df': 0.0001}\n",
    "{'lg__C': 0.4, 'lg__class_weight': 'balanced', 'lg__solver': 'lbfgs', 'tfidf__max_df': 0.2, 'tfidf__min_df': 0.0001}\n",
    "{'lg__C': 0.1, 'lg__class_weight': 'balanced', 'lg__solver': 'lbfgs', 'tfidf__max_df': 0.4, 'tfidf__min_df': 0.0001}\n",
    "{'lg__C': 0.4, 'lg__class_weight': 'balanced', 'lg__solver': 'lbfgs', 'tfidf__max_df': 0.2, 'tfidf__min_df': 0.0001}\n",
    "{'lg__C': 0.2, 'lg__class_weight': 'balanced', 'lg__solver': 'lbfgs', 'tfidf__max_df': 0.4, 'tfidf__min_df': 0.0001}\n",
    "               cv_score train_score test_score\n",
    "toxic           0.96785     0.98584   0.971031\n",
    "severe_toxic   0.984672    0.991401    0.98346\n",
    "obscene        0.984222    0.993775   0.981968\n",
    "threat         0.981143    0.997367   0.973623\n",
    "insult          0.97526    0.988024   0.975399\n",
    "identity_hate  0.971298    0.992237   0.978517\n",
    "cv_score       0.977407\n",
    "train_score    0.991440\n",
    "test_score     0.977333\n",
    "dtype: float64\n",
    "\n",
    "{'lg__C': 0.8, 'lg__class_weight': 'balanced', 'lg__solver': 'lbfgs', 'tfidf__max_df': 0.5, 'tfidf__min_df': 5e-05}\n",
    "{'lg__C': 0.1, 'lg__class_weight': 'balanced', 'lg__solver': 'lbfgs', 'tfidf__max_df': 0.5, 'tfidf__min_df': 5e-05}\n",
    "{'lg__C': 0.4, 'lg__class_weight': 'balanced', 'lg__solver': 'lbfgs', 'tfidf__max_df': 0.2, 'tfidf__min_df': 5e-05}\n",
    "{'lg__C': 0.1, 'lg__class_weight': 'balanced', 'lg__solver': 'lbfgs', 'tfidf__max_df': 0.5, 'tfidf__min_df': 0.0001}\n",
    "{'lg__C': 0.4, 'lg__class_weight': 'balanced', 'lg__solver': 'lbfgs', 'tfidf__max_df': 0.2, 'tfidf__min_df': 5e-05}\n",
    "{'lg__C': 0.2, 'lg__class_weight': 'balanced', 'lg__solver': 'lbfgs', 'tfidf__max_df': 0.5, 'tfidf__min_df': 5e-05}\n",
    "               cv_score train_score test_score\n",
    "toxic          0.968644    0.987259   0.971779\n",
    "severe_toxic   0.985147    0.991717   0.983384\n",
    "obscene        0.984814    0.994326   0.983118\n",
    "threat         0.981143    0.997367   0.973623\n",
    "insult         0.976193    0.988908   0.975893\n",
    "identity_hate  0.972745    0.992767    0.97902\n",
    "cv_score       0.978114\n",
    "train_score    0.992057\n",
    "test_score     0.977803\n",
    "\n",
    "                  'tfidf__max_df': [0.5, 0.4, 0.3, 0.2],\\\n",
    "                  'tfidf__min_df': [0.00005, 0.0001, 0.0002, 0.0003, 0.001, 0.003],\\\n",
    "                  'lg__class_weight': ['balanced'],\\\n",
    "                  'lg__solver': ['lbfgs'],\\\n",
    "                  'lg__C': [0.05, 0.1, 0.2, 0.4, 0.8, 1]"
   ]
  },
  {
   "cell_type": "code",
   "execution_count": 43,
   "metadata": {
    "collapsed": true
   },
   "outputs": [],
   "source": [
    "word_lg_full.to_csv('word_lg_full.csv',index=False)\n",
    "word_lg_records.to_csv('word_lg_records.csv', index=True)"
   ]
  },
  {
   "cell_type": "markdown",
   "metadata": {},
   "source": [
    "## logistic regression model with tfidf-char, all labels"
   ]
  },
  {
   "cell_type": "code",
   "execution_count": 37,
   "metadata": {
    "scrolled": true
   },
   "outputs": [
    {
     "name": "stdout",
     "output_type": "stream",
     "text": [
      "Start training classifier on toxic label\n",
      "Fitting 3 folds for each of 20 candidates, totalling 60 fits\n"
     ]
    },
    {
     "name": "stderr",
     "output_type": "stream",
     "text": [
      "[Parallel(n_jobs=-1)]: Done  42 tasks      | elapsed: 76.6min\n",
      "[Parallel(n_jobs=-1)]: Done  60 out of  60 | elapsed: 104.6min finished\n"
     ]
    },
    {
     "name": "stdout",
     "output_type": "stream",
     "text": [
      "Best params: {'lg__C': 1, 'lg__class_weight': 'balanced', 'lg__solver': 'lbfgs', 'tfidf__analyzer': 'char', 'tfidf__max_df': 0.2, 'tfidf__min_df': 0.0001, 'tfidf__ngram_range': (1, 5)}, cv_score: 0.9688033831267864, train_score: 0.9923210747108505, test_score: 0.9725522185757541\n",
      "Fitting final model and making prediction for submission on toxic label\n",
      "Start training classifier on severe_toxic label\n",
      "Fitting 3 folds for each of 20 candidates, totalling 60 fits\n"
     ]
    },
    {
     "name": "stderr",
     "output_type": "stream",
     "text": [
      "[Parallel(n_jobs=-1)]: Done  42 tasks      | elapsed: 71.0min\n",
      "[Parallel(n_jobs=-1)]: Done  60 out of  60 | elapsed: 99.7min finished\n"
     ]
    },
    {
     "name": "stdout",
     "output_type": "stream",
     "text": [
      "Best params: {'lg__C': 0.2, 'lg__class_weight': 'balanced', 'lg__solver': 'lbfgs', 'tfidf__analyzer': 'char', 'tfidf__max_df': 0.2, 'tfidf__min_df': 0.0003, 'tfidf__ngram_range': (1, 5)}, cv_score: 0.9872511038013121, train_score: 0.993530780682829, test_score: 0.9875079917659509\n",
      "Fitting final model and making prediction for submission on severe_toxic label\n",
      "Start training classifier on obscene label\n",
      "Fitting 3 folds for each of 20 candidates, totalling 60 fits\n"
     ]
    },
    {
     "name": "stderr",
     "output_type": "stream",
     "text": [
      "[Parallel(n_jobs=-1)]: Done  42 tasks      | elapsed: 77.2min\n",
      "[Parallel(n_jobs=-1)]: Done  60 out of  60 | elapsed: 166.8min finished\n"
     ]
    },
    {
     "name": "stdout",
     "output_type": "stream",
     "text": [
      "Best params: {'lg__C': 1, 'lg__class_weight': 'balanced', 'lg__solver': 'lbfgs', 'tfidf__analyzer': 'char', 'tfidf__max_df': 0.2, 'tfidf__min_df': 0.0001, 'tfidf__ngram_range': (1, 5)}, cv_score: 0.9886951396500243, train_score: 0.9973444868645687, test_score: 0.988596326368802\n",
      "Fitting final model and making prediction for submission on obscene label\n",
      "Start training classifier on threat label\n",
      "Fitting 3 folds for each of 20 candidates, totalling 60 fits\n"
     ]
    },
    {
     "name": "stderr",
     "output_type": "stream",
     "text": [
      "[Parallel(n_jobs=-1)]: Done  42 tasks      | elapsed: 82.1min\n",
      "[Parallel(n_jobs=-1)]: Done  60 out of  60 | elapsed: 111.3min finished\n"
     ]
    },
    {
     "name": "stdout",
     "output_type": "stream",
     "text": [
      "Best params: {'lg__C': 0.4, 'lg__class_weight': 'balanced', 'lg__solver': 'lbfgs', 'tfidf__analyzer': 'char', 'tfidf__max_df': 0.4, 'tfidf__min_df': 0.0001, 'tfidf__ngram_range': (1, 5)}, cv_score: 0.9761448347308186, train_score: 0.999219692732018, test_score: 0.9760630113558986\n",
      "Fitting final model and making prediction for submission on threat label\n",
      "Start training classifier on insult label\n",
      "Fitting 3 folds for each of 20 candidates, totalling 60 fits\n"
     ]
    },
    {
     "name": "stderr",
     "output_type": "stream",
     "text": [
      "[Parallel(n_jobs=-1)]: Done  42 tasks      | elapsed: 87.7min\n",
      "[Parallel(n_jobs=-1)]: Done  60 out of  60 | elapsed: 123.4min finished\n"
     ]
    },
    {
     "name": "stdout",
     "output_type": "stream",
     "text": [
      "Best params: {'lg__C': 1, 'lg__class_weight': 'balanced', 'lg__solver': 'lbfgs', 'tfidf__analyzer': 'char', 'tfidf__max_df': 0.2, 'tfidf__min_df': 0.0001, 'tfidf__ngram_range': (1, 5)}, cv_score: 0.9778383091315479, train_score: 0.9935849276972556, test_score: 0.9778042816335499\n",
      "Fitting final model and making prediction for submission on insult label\n",
      "Start training classifier on identity_hate label\n",
      "Fitting 3 folds for each of 20 candidates, totalling 60 fits\n"
     ]
    },
    {
     "name": "stderr",
     "output_type": "stream",
     "text": [
      "[Parallel(n_jobs=-1)]: Done  42 tasks      | elapsed: 87.3min\n",
      "[Parallel(n_jobs=-1)]: Done  60 out of  60 | elapsed: 122.9min finished\n"
     ]
    },
    {
     "name": "stdout",
     "output_type": "stream",
     "text": [
      "Best params: {'lg__C': 0.4, 'lg__class_weight': 'balanced', 'lg__solver': 'lbfgs', 'tfidf__analyzer': 'char', 'tfidf__max_df': 0.2, 'tfidf__min_df': 0.0003, 'tfidf__ngram_range': (1, 5)}, cv_score: 0.9795780395096644, train_score: 0.9965552579050235, test_score: 0.9858488220588821\n",
      "Fitting final model and making prediction for submission on identity_hate label\n",
      "Wall time: 13h 26min 45s\n"
     ]
    }
   ],
   "source": [
    "%%time\n",
    "\n",
    "char_lg_records = pd.DataFrame(index=labels, columns=['best_params', 'cv_score', 'train_score', 'test_score'])\n",
    "char_lg_full = pd.DataFrame(index=full_set.index, columns=labels)\n",
    "for label in labels:\n",
    "    print('Start training classifier on {} label'.format(label))\n",
    "    x_train, x_test, y_train, y_test, train_idx, test_idx = train_test_split(full_set.cleaned_text[:n_train], \n",
    "                                                        full_set[label][:n_train], \n",
    "                                                        np.arange(n_train),\n",
    "                                                        test_size = 0.2, \n",
    "                                                        random_state=2018,\n",
    "                                                        stratify = full_set[label][:n_train])\n",
    "    char_lg = Pipeline([('tfidf', TfidfVectorizer()), ('lg', LogisticRegression())])\n",
    "    parameters = {'tfidf__analyzer': ['char'],\\\n",
    "              'tfidf__max_df': [0.4, 0.2],\\\n",
    "              'tfidf__min_df': [0.0001, 0.0003],\\\n",
    "              'tfidf__ngram_range': [(1,5)],\\\n",
    "#               'tfidf__max_features': [40000],\\\n",
    "              'lg__class_weight': ['balanced'],\\\n",
    "              'lg__solver': ['lbfgs'],\\\n",
    "              'lg__C': [0.1, 0.2, 0.4, 0.8, 1]\n",
    "                 }\n",
    "    char_lg_cv = GridSearchCV(char_lg, parameters, n_jobs=-1, scoring = 'roc_auc', verbose=1, cv=3)\n",
    "    char_lg_cv.fit(x_train, y_train)\n",
    "    char_lg_records.loc[label,'best_params'] = str(char_lg_cv.best_params_)\n",
    "    char_lg_records.loc[label,'cv_score'] = char_lg_cv.best_score_\n",
    "    char_lg_records.loc[label, 'train_score'] = metrics.roc_auc_score(y_train, char_lg_cv.predict_proba(x_train)[:,1])\n",
    "    char_lg_records.loc[label, 'test_score'] = metrics.roc_auc_score(y_test, char_lg_cv.predict_proba(x_test)[:,1])\n",
    "    print('Best params: {}, cv_score: {}, train_score: {}, test_score: {}'.format(*char_lg_records.loc[label]))\n",
    "    char_lg.set_params(**char_lg_cv.best_params_)\n",
    "    print('Fitting final model and making prediction for submission on {} label'.format(label))\n",
    "    char_lg.fit(full_set.cleaned_text[:n_train], full_set[label][:n_train])\n",
    "    char_lg_full[label] = char_lg.predict_proba(full_set.cleaned_text)[:,1]"
   ]
  },
  {
   "cell_type": "code",
   "execution_count": 38,
   "metadata": {},
   "outputs": [
    {
     "name": "stdout",
     "output_type": "stream",
     "text": [
      "{'lg__C': 1, 'lg__class_weight': 'balanced', 'lg__solver': 'lbfgs', 'tfidf__analyzer': 'char', 'tfidf__max_df': 0.2, 'tfidf__min_df': 0.0001, 'tfidf__ngram_range': (1, 5)}\n",
      "{'lg__C': 0.2, 'lg__class_weight': 'balanced', 'lg__solver': 'lbfgs', 'tfidf__analyzer': 'char', 'tfidf__max_df': 0.2, 'tfidf__min_df': 0.0003, 'tfidf__ngram_range': (1, 5)}\n",
      "{'lg__C': 1, 'lg__class_weight': 'balanced', 'lg__solver': 'lbfgs', 'tfidf__analyzer': 'char', 'tfidf__max_df': 0.2, 'tfidf__min_df': 0.0001, 'tfidf__ngram_range': (1, 5)}\n",
      "{'lg__C': 0.4, 'lg__class_weight': 'balanced', 'lg__solver': 'lbfgs', 'tfidf__analyzer': 'char', 'tfidf__max_df': 0.4, 'tfidf__min_df': 0.0001, 'tfidf__ngram_range': (1, 5)}\n",
      "{'lg__C': 1, 'lg__class_weight': 'balanced', 'lg__solver': 'lbfgs', 'tfidf__analyzer': 'char', 'tfidf__max_df': 0.2, 'tfidf__min_df': 0.0001, 'tfidf__ngram_range': (1, 5)}\n",
      "{'lg__C': 0.4, 'lg__class_weight': 'balanced', 'lg__solver': 'lbfgs', 'tfidf__analyzer': 'char', 'tfidf__max_df': 0.2, 'tfidf__min_df': 0.0003, 'tfidf__ngram_range': (1, 5)}\n",
      "               cv_score train_score test_score\n",
      "toxic          0.968803    0.992321   0.972552\n",
      "severe_toxic   0.987251    0.993531   0.987508\n",
      "obscene        0.988695    0.997344   0.988596\n",
      "threat         0.976145     0.99922   0.976063\n",
      "insult         0.977838    0.993585   0.977804\n",
      "identity_hate  0.979578    0.996555   0.985849\n",
      "cv_score       0.979718\n",
      "train_score    0.995426\n",
      "test_score     0.981395\n",
      "dtype: float64\n"
     ]
    }
   ],
   "source": [
    "print(*char_lg_records.best_params, sep='\\n')\n",
    "print(char_lg_records.iloc[:,1:])\n",
    "print(char_lg_records.iloc[:,1:].mean())"
   ]
  },
  {
   "cell_type": "markdown",
   "metadata": {},
   "source": [
    "{'lg__C': 0.8, 'lg__class_weight': 'balanced', 'lg__solver': 'lbfgs', 'tfidf__analyzer': 'char', 'tfidf__max_df': 0.2, 'tfidf__max_features': 40000, 'tfidf__min_df': 0.0001, 'tfidf__ngram_range': (1, 5)}\n",
    "{'lg__C': 0.1, 'lg__class_weight': 'balanced', 'lg__solver': 'lbfgs', 'tfidf__analyzer': 'char', 'tfidf__max_df': 0.2, 'tfidf__max_features': 40000, 'tfidf__min_df': 0.0001, 'tfidf__ngram_range': (1, 5)}\n",
    "{'lg__C': 0.8, 'lg__class_weight': 'balanced', 'lg__solver': 'lbfgs', 'tfidf__analyzer': 'char', 'tfidf__max_df': 0.2, 'tfidf__max_features': 40000, 'tfidf__min_df': 0.0001, 'tfidf__ngram_range': (1, 5)}\n",
    "{'lg__C': 0.2, 'lg__class_weight': 'balanced', 'lg__solver': 'lbfgs', 'tfidf__analyzer': 'char', 'tfidf__max_df': 0.4, 'tfidf__max_features': 40000, 'tfidf__min_df': 0.0001, 'tfidf__ngram_range': (1, 5)}\n",
    "{'lg__C': 0.8, 'lg__class_weight': 'balanced', 'lg__solver': 'lbfgs', 'tfidf__analyzer': 'char', 'tfidf__max_df': 0.2, 'tfidf__max_features': 40000, 'tfidf__min_df': 0.0001, 'tfidf__ngram_range': (1, 5)}\n",
    "{'lg__C': 0.4, 'lg__class_weight': 'balanced', 'lg__solver': 'lbfgs', 'tfidf__analyzer': 'char', 'tfidf__max_df': 0.2, 'tfidf__max_features': 40000, 'tfidf__min_df': 0.0001, 'tfidf__ngram_range': (1, 5)}\n",
    "               cv_score train_score test_score\n",
    "toxic          0.967772    0.988358   0.971176\n",
    "severe_toxic   0.987057    0.992343    0.98716\n",
    "obscene        0.988175    0.996573   0.988169\n",
    "threat         0.975422    0.998486   0.976327\n",
    "insult         0.977073    0.991987   0.977095\n",
    "identity_hate  0.979267    0.996085   0.985326\n",
    "cv_score       0.979128\n",
    "train_score    0.993972\n",
    "test_score     0.980875\n",
    "dtype: float64\n",
    "\n",
    "{'lg__C': 1, 'lg__class_weight': 'balanced', 'lg__solver': 'lbfgs', 'tfidf__analyzer': 'char', 'tfidf__max_df': 0.2, 'tfidf__min_df': 0.0001, 'tfidf__ngram_range': (1, 5)}\n",
    "{'lg__C': 0.2, 'lg__class_weight': 'balanced', 'lg__solver': 'lbfgs', 'tfidf__analyzer': 'char', 'tfidf__max_df': 0.2, 'tfidf__min_df': 0.0003, 'tfidf__ngram_range': (1, 5)}\n",
    "{'lg__C': 1, 'lg__class_weight': 'balanced', 'lg__solver': 'lbfgs', 'tfidf__analyzer': 'char', 'tfidf__max_df': 0.2, 'tfidf__min_df': 0.0001, 'tfidf__ngram_range': (1, 5)}\n",
    "{'lg__C': 0.4, 'lg__class_weight': 'balanced', 'lg__solver': 'lbfgs', 'tfidf__analyzer': 'char', 'tfidf__max_df': 0.4, 'tfidf__min_df': 0.0001, 'tfidf__ngram_range': (1, 5)}\n",
    "{'lg__C': 1, 'lg__class_weight': 'balanced', 'lg__solver': 'lbfgs', 'tfidf__analyzer': 'char', 'tfidf__max_df': 0.2, 'tfidf__min_df': 0.0001, 'tfidf__ngram_range': (1, 5)}\n",
    "{'lg__C': 0.4, 'lg__class_weight': 'balanced', 'lg__solver': 'lbfgs', 'tfidf__analyzer': 'char', 'tfidf__max_df': 0.2, 'tfidf__min_df': 0.0003, 'tfidf__ngram_range': (1, 5)}\n",
    "               cv_score train_score test_score\n",
    "toxic          0.968803    0.992321   0.972552\n",
    "severe_toxic   0.987251    0.993531   0.987508\n",
    "obscene        0.988695    0.997344   0.988596\n",
    "threat         0.976145     0.99922   0.976063\n",
    "insult         0.977838    0.993585   0.977804\n",
    "identity_hate  0.979578    0.996555   0.985849\n",
    "cv_score       0.979718\n",
    "train_score    0.995426\n",
    "test_score     0.981395\n",
    "\n",
    "              'tfidf__analyzer': ['char'],\\\n",
    "              'tfidf__max_df': [0.4, 0.2],\\\n",
    "              'tfidf__min_df': [0.0001],\\\n",
    "              'tfidf__ngram_range': [(1,5)],\\\n",
    "              'tfidf__max_features': [40000],\\\n",
    "              'lg__class_weight': ['balanced'],\\\n",
    "              'lg__solver': ['lbfgs'],\\\n",
    "              'lg__C': [0.1, 0.2, 0.4, 0.8]"
   ]
  },
  {
   "cell_type": "code",
   "execution_count": 44,
   "metadata": {
    "collapsed": true
   },
   "outputs": [],
   "source": [
    "char_lg_full.to_csv('char_lg_full.csv',index=False)\n",
    "char_lg_records.to_csv('char_lg_records.csv', index=True)"
   ]
  },
  {
   "cell_type": "markdown",
   "metadata": {},
   "source": [
    "## logistic regression model with word2vec, all labels"
   ]
  },
  {
   "cell_type": "code",
   "execution_count": 114,
   "metadata": {
    "scrolled": true
   },
   "outputs": [
    {
     "name": "stdout",
     "output_type": "stream",
     "text": [
      "Start training classifier on toxic label\n",
      "Fitting 5 folds for each of 6 candidates, totalling 30 fits\n"
     ]
    },
    {
     "name": "stderr",
     "output_type": "stream",
     "text": [
      "[Parallel(n_jobs=-1)]: Done  10 tasks      | elapsed:   46.8s\n",
      "[Parallel(n_jobs=-1)]: Done  30 out of  30 | elapsed:  2.6min remaining:    0.0s\n",
      "[Parallel(n_jobs=-1)]: Done  30 out of  30 | elapsed:  2.6min finished\n"
     ]
    },
    {
     "name": "stdout",
     "output_type": "stream",
     "text": [
      "Best params: {'C': 0.3, 'class_weight': 'balanced', 'solver': 'lbfgs'}, cv_score: 0.9596047524368049, train_score: 0.9621766444419689, test_score: 0.9625495850799717\n",
      "Fitting final model and making prediction for submission on toxic label\n",
      "Start training classifier on severe_toxic label\n",
      "Fitting 5 folds for each of 6 candidates, totalling 30 fits\n"
     ]
    },
    {
     "name": "stderr",
     "output_type": "stream",
     "text": [
      "[Parallel(n_jobs=-1)]: Done  10 tasks      | elapsed:   38.7s\n",
      "[Parallel(n_jobs=-1)]: Done  30 out of  30 | elapsed:  2.8min remaining:    0.0s\n",
      "[Parallel(n_jobs=-1)]: Done  30 out of  30 | elapsed:  2.8min finished\n"
     ]
    },
    {
     "name": "stdout",
     "output_type": "stream",
     "text": [
      "Best params: {'C': 0.01, 'class_weight': 'balanced', 'solver': 'lbfgs'}, cv_score: 0.9829759387488306, train_score: 0.9855514617060257, test_score: 0.9818582944311431\n",
      "Fitting final model and making prediction for submission on severe_toxic label\n",
      "Start training classifier on obscene label\n",
      "Fitting 5 folds for each of 6 candidates, totalling 30 fits\n"
     ]
    },
    {
     "name": "stderr",
     "output_type": "stream",
     "text": [
      "[Parallel(n_jobs=-1)]: Done  10 tasks      | elapsed:   52.3s\n",
      "[Parallel(n_jobs=-1)]: Done  30 out of  30 | elapsed:  2.9min remaining:    0.0s\n",
      "[Parallel(n_jobs=-1)]: Done  30 out of  30 | elapsed:  2.9min finished\n"
     ]
    },
    {
     "name": "stdout",
     "output_type": "stream",
     "text": [
      "Best params: {'C': 0.1, 'class_weight': 'balanced', 'solver': 'lbfgs'}, cv_score: 0.9716778450816964, train_score: 0.9749443268377088, test_score: 0.9706400418948615\n",
      "Fitting final model and making prediction for submission on obscene label\n",
      "Start training classifier on threat label\n",
      "Fitting 5 folds for each of 6 candidates, totalling 30 fits\n"
     ]
    },
    {
     "name": "stderr",
     "output_type": "stream",
     "text": [
      "[Parallel(n_jobs=-1)]: Done  10 tasks      | elapsed:   38.9s\n",
      "[Parallel(n_jobs=-1)]: Done  30 out of  30 | elapsed:  2.8min remaining:    0.0s\n",
      "[Parallel(n_jobs=-1)]: Done  30 out of  30 | elapsed:  2.8min finished\n"
     ]
    },
    {
     "name": "stdout",
     "output_type": "stream",
     "text": [
      "Best params: {'C': 0.01, 'class_weight': 'balanced', 'solver': 'lbfgs'}, cv_score: 0.9775136135931969, train_score: 0.9867680969787161, test_score: 0.9751129762615628\n",
      "Fitting final model and making prediction for submission on threat label\n",
      "Start training classifier on insult label\n",
      "Fitting 5 folds for each of 6 candidates, totalling 30 fits\n"
     ]
    },
    {
     "name": "stderr",
     "output_type": "stream",
     "text": [
      "[Parallel(n_jobs=-1)]: Done  10 tasks      | elapsed:  1.0min\n",
      "[Parallel(n_jobs=-1)]: Done  30 out of  30 | elapsed:  2.9min remaining:    0.0s\n",
      "[Parallel(n_jobs=-1)]: Done  30 out of  30 | elapsed:  2.9min finished\n"
     ]
    },
    {
     "name": "stdout",
     "output_type": "stream",
     "text": [
      "Best params: {'C': 0.1, 'class_weight': 'balanced', 'solver': 'lbfgs'}, cv_score: 0.9675018756965723, train_score: 0.9705305976921453, test_score: 0.9692536752780653\n",
      "Fitting final model and making prediction for submission on insult label\n",
      "Start training classifier on identity_hate label\n",
      "Fitting 5 folds for each of 6 candidates, totalling 30 fits\n"
     ]
    },
    {
     "name": "stderr",
     "output_type": "stream",
     "text": [
      "[Parallel(n_jobs=-1)]: Done  10 tasks      | elapsed:   43.9s\n",
      "[Parallel(n_jobs=-1)]: Done  30 out of  30 | elapsed:  3.2min remaining:    0.0s\n",
      "[Parallel(n_jobs=-1)]: Done  30 out of  30 | elapsed:  3.2min finished\n"
     ]
    },
    {
     "name": "stdout",
     "output_type": "stream",
     "text": [
      "Best params: {'C': 0.01, 'class_weight': 'balanced', 'solver': 'lbfgs'}, cv_score: 0.960261719137092, train_score: 0.9681775813986767, test_score: 0.9641517066753486\n",
      "Fitting final model and making prediction for submission on identity_hate label\n",
      "Wall time: 19min 26s\n"
     ]
    }
   ],
   "source": [
    "%%time\n",
    "\n",
    "w2v_lg_records = pd.DataFrame(index=labels, columns=['best_params', 'cv_score', 'train_score', 'test_score'])\n",
    "w2v_lg_full = pd.DataFrame(index=full_set.index, columns=labels)\n",
    "for label in labels:\n",
    "    print('Start training classifier on {} label'.format(label))\n",
    "    x_train, x_test, y_train, y_test, train_idx, test_idx = train_test_split(comment_vect[:n_train], \n",
    "                                                        full_set_sw[label][:n_train], \n",
    "                                                        np.arange(n_train),\n",
    "                                                        test_size = 0.2, \n",
    "                                                        random_state=2018,\n",
    "                                                        stratify = full_set_sw[label][:n_train])\n",
    "    w2v_lg = LogisticRegression()\n",
    "    parameters = {'class_weight': ['balanced'],\\\n",
    "                  'solver': ['lbfgs'],\\\n",
    "                  'C': [0.001, 0.003, 0.01, 0.03, 0.1, 0.3]\n",
    "                 }\n",
    "    w2v_lg_cv = GridSearchCV(w2v_lg, parameters, n_jobs=-1, scoring = 'roc_auc', verbose=5, cv=5)\n",
    "    w2v_lg_cv.fit(x_train, y_train)\n",
    "    w2v_lg_records.loc[label,'best_params'] = str(w2v_lg_cv.best_params_)\n",
    "    w2v_lg_records.loc[label,'cv_score'] = w2v_lg_cv.best_score_\n",
    "    w2v_lg_records.loc[label, 'train_score'] = metrics.roc_auc_score(y_train, w2v_lg_cv.predict_proba(x_train)[:,1])\n",
    "    w2v_lg_records.loc[label, 'test_score'] = metrics.roc_auc_score(y_test, w2v_lg_cv.predict_proba(x_test)[:,1])\n",
    "    print('Best params: {}, cv_score: {}, train_score: {}, test_score: {}'.format(*w2v_lg_records.loc[label]))\n",
    "    w2v_lg.set_params(**w2v_lg_cv.best_params_)\n",
    "    print('Fitting final model and making prediction for submission on {} label'.format(label))\n",
    "    w2v_lg.fit(comment_vect[:n_train], full_set_sw[label][:n_train])\n",
    "    w2v_lg_full[label] = w2v_lg.predict_proba(comment_vect)[:,1]"
   ]
  },
  {
   "cell_type": "code",
   "execution_count": 112,
   "metadata": {},
   "outputs": [
    {
     "name": "stdout",
     "output_type": "stream",
     "text": [
      "{'C': 0.3, 'class_weight': 'balanced', 'solver': 'lbfgs'}\n",
      "{'C': 0.01, 'class_weight': 'balanced', 'solver': 'lbfgs'}\n",
      "{'C': 0.1, 'class_weight': 'balanced', 'solver': 'lbfgs'}\n",
      "{'C': 0.01, 'class_weight': 'balanced', 'solver': 'lbfgs'}\n",
      "{'C': 0.1, 'class_weight': 'balanced', 'solver': 'lbfgs'}\n",
      "{'C': 0.01, 'class_weight': 'balanced', 'solver': 'lbfgs'}\n",
      "               cv_score train_score test_score\n",
      "toxic          0.959605    0.962177    0.96255\n",
      "severe_toxic   0.982976    0.985551   0.981858\n",
      "obscene        0.971678    0.974944    0.97064\n",
      "threat         0.977514    0.986768   0.975113\n",
      "insult         0.967502    0.970531   0.969254\n",
      "identity_hate  0.960262    0.968178   0.964152\n",
      "cv_score       0.969923\n",
      "train_score    0.974691\n",
      "test_score     0.970594\n",
      "dtype: float64\n"
     ]
    }
   ],
   "source": [
    "print(*w2v_lg_records.best_params, sep='\\n')\n",
    "print(w2v_lg_records.iloc[:,1:])\n",
    "print(w2v_lg_records.iloc[:,1:].mean())"
   ]
  },
  {
   "cell_type": "markdown",
   "metadata": {},
   "source": [
    "word2vec: size=300, window=5\n",
    "{'C': 0.3, 'class_weight': 'balanced', 'solver': 'lbfgs'}\n",
    "{'C': 0.01, 'class_weight': 'balanced', 'solver': 'lbfgs'}\n",
    "{'C': 0.1, 'class_weight': 'balanced', 'solver': 'lbfgs'}\n",
    "{'C': 0.01, 'class_weight': 'balanced', 'solver': 'lbfgs'}\n",
    "{'C': 0.1, 'class_weight': 'balanced', 'solver': 'lbfgs'}\n",
    "{'C': 0.01, 'class_weight': 'balanced', 'solver': 'lbfgs'}\n",
    "               cv_score train_score test_score\n",
    "toxic          0.959605    0.962177    0.96255\n",
    "severe_toxic   0.982976    0.985551   0.981858\n",
    "obscene        0.971678    0.974944    0.97064\n",
    "threat         0.977514    0.986768   0.975113\n",
    "insult         0.967502    0.970531   0.969254\n",
    "identity_hate  0.960262    0.968178   0.964152\n",
    "cv_score       0.969923\n",
    "train_score    0.974691\n",
    "test_score     0.970594\n",
    "\n",
    "word2vec: size=100, window=3\n",
    "{'C': 1, 'class_weight': 'balanced', 'solver': 'lbfgs'}\n",
    "{'C': 0.01, 'class_weight': 'balanced', 'solver': 'lbfgs'}\n",
    "{'C': 10, 'class_weight': 'balanced', 'solver': 'lbfgs'}\n",
    "{'C': 0.01, 'class_weight': 'balanced', 'solver': 'lbfgs'}\n",
    "{'C': 0.1, 'class_weight': 'balanced', 'solver': 'lbfgs'}\n",
    "{'C': 0.01, 'class_weight': 'balanced', 'solver': 'lbfgs'}\n",
    "               cv_score train_score test_score\n",
    "toxic           0.95375    0.954787   0.957034\n",
    "severe_toxic     0.9822    0.983757   0.982192\n",
    "obscene        0.964333    0.965793   0.966064\n",
    "threat          0.97269    0.979577   0.972365\n",
    "insult         0.963145    0.964357   0.964598\n",
    "identity_hate  0.957263    0.961801   0.959968\n",
    "cv_score       0.965564\n",
    "train_score    0.968345\n",
    "test_score     0.967037\n"
   ]
  },
  {
   "cell_type": "code",
   "execution_count": 113,
   "metadata": {
    "collapsed": true
   },
   "outputs": [],
   "source": [
    "w2v_lg_full.to_csv('w2v_lg_full.csv',index=False)\n",
    "w2v_lg_records.to_csv('w2v_lg_records.csv', index=True)"
   ]
  },
  {
   "cell_type": "markdown",
   "metadata": {},
   "source": [
    "- create train test sets for stacking"
   ]
  },
  {
   "cell_type": "code",
   "execution_count": 170,
   "metadata": {
    "scrolled": true
   },
   "outputs": [
    {
     "name": "stdout",
     "output_type": "stream",
     "text": [
      "Start generating out-of-sample predictions on toxic label for stacking\n",
      "Fold 1\n",
      "Fold 2\n",
      "Fold 3\n",
      "Fold 4\n",
      "Fold 5\n",
      "Start generating out-of-sample predictions on severe_toxic label for stacking\n",
      "Fold 1\n",
      "Fold 2\n",
      "Fold 3\n",
      "Fold 4\n",
      "Fold 5\n",
      "Start generating out-of-sample predictions on obscene label for stacking\n",
      "Fold 1\n",
      "Fold 2\n",
      "Fold 3\n",
      "Fold 4\n",
      "Fold 5\n",
      "Start generating out-of-sample predictions on threat label for stacking\n",
      "Fold 1\n",
      "Fold 2\n",
      "Fold 3\n",
      "Fold 4\n",
      "Fold 5\n",
      "Start generating out-of-sample predictions on insult label for stacking\n",
      "Fold 1\n",
      "Fold 2\n",
      "Fold 3\n",
      "Fold 4\n",
      "Fold 5\n",
      "Start generating out-of-sample predictions on identity_hate label for stacking\n",
      "Fold 1\n",
      "Fold 2\n",
      "Fold 3\n",
      "Fold 4\n",
      "Fold 5\n"
     ]
    }
   ],
   "source": [
    "%%time\n",
    "\n",
    "import ast\n",
    "w2v_lg_stack_train = pd.DataFrame(np.zeros((n_train, 6)), columns=labels)\n",
    "w2v_lg_stack_test = pd.read_csv('w2v_lg_full.csv')[n_train:]\n",
    "w2v_lg_records = pd.read_csv('w2v_lg_records.csv')\n",
    "\n",
    "for j,label in enumerate(labels):\n",
    "    print('Start generating out-of-sample predictions on {} label for stacking'.format(label))\n",
    "    skf = list(StratifiedKFold(full_set_sw[label][:n_train], 5))\n",
    "    w2v_lg = LogisticRegression(**ast.literal_eval(w2v_lg_records.loc[j, 'best_params']))\n",
    "    for i,(train, test) in enumerate(skf):\n",
    "        print(\"Fold\", i+1)\n",
    "        X_train = comment_vect.iloc[train,:]\n",
    "        y_train = full_set_sw[label][train]\n",
    "        X_test = comment_vect.iloc[test,:]\n",
    "        y_test = full_set_sw[label][test]\n",
    "        w2v_lg.fit(X_train, y_train)\n",
    "        w2v_lg_stack_train.iloc[test, j] = w2v_lg.predict_proba(X_test)[:, 1]"
   ]
  },
  {
   "cell_type": "code",
   "execution_count": 176,
   "metadata": {
    "collapsed": true
   },
   "outputs": [],
   "source": [
    "w2v_lg_stack_train.to_csv('w2v_lg_stack_train.csv')\n",
    "w2v_lg_stack_test.to_csv('w2v_lg_stack_test')"
   ]
  },
  {
   "cell_type": "markdown",
   "metadata": {
    "collapsed": true
   },
   "source": [
    "## SVM "
   ]
  },
  {
   "cell_type": "markdown",
   "metadata": {
    "collapsed": true
   },
   "source": [
    "## SVM model from word features, all labels\n",
    "\n",
    "- too slow using SVC(kernal='linear'), LinearSVC can't predict proba"
   ]
  },
  {
   "cell_type": "code",
   "execution_count": null,
   "metadata": {},
   "outputs": [
    {
     "name": "stdout",
     "output_type": "stream",
     "text": [
      "Start training classifier on toxic label\n",
      "Fitting 5 folds for each of 48 candidates, totalling 240 fits\n"
     ]
    }
   ],
   "source": [
    "%%time\n",
    "\n",
    "word_svm_records = pd.DataFrame(index=labels, columns=['best_params', 'cv_score', 'train_score', 'test_score'])\n",
    "word_svm_full = pd.DataFrame(index=full_set.index, columns=labels)\n",
    "for label in labels:\n",
    "    print('Start training classifier on {} label'.format(label))\n",
    "    x_train, x_test, y_train, y_test, train_idx, test_idx = train_test_split(full_set.cleaned_text[:n_train], \n",
    "                                                        full_set[label][:n_train], \n",
    "                                                        np.arange(n_train),\n",
    "                                                        test_size = 0.2, \n",
    "                                                        random_state=2018,\n",
    "                                                        stratify = full_set[label][:n_train])\n",
    "    word_svm = Pipeline([('tfidf', TfidfVectorizer()), ('svm', SVC(kernel='linear'))])\n",
    "    parameters = {'tfidf__max_df': [0.6, 0.4, 0.2],\\\n",
    "                  'tfidf__min_df': [0.00005, 0.0001],\\\n",
    "                  'svm__C': [0.1, 0.3, 1, 3],\\\n",
    "                  'svm__probability': [True],\\\n",
    "                  'svm__class_weight': ['balanced', None]\n",
    "                 }\n",
    "    word_svm_cv = GridSearchCV(word_svm, parameters, n_jobs=-1, scoring = 'roc_auc', verbose=1, cv=5)\n",
    "    word_svm_cv.fit(x_train, y_train)\n",
    "    word_svm_records.loc[label,'best_params'] = str(word_svm_cv.best_params_)\n",
    "    word_svm_records.loc[label,'cv_score'] = word_svm_cv.best_score_\n",
    "    word_svm_records.loc[label, 'train_score'] = metrics.roc_auc_score(y_train, word_svm_cv.predict_proba(x_train)[:,1])\n",
    "    word_svm_records.loc[label, 'test_score'] = metrics.roc_auc_score(y_test, word_svm_cv.predict_proba(x_test)[:,1])\n",
    "    print('Best params: {}, cv_score: {}, train_score: {}, test_score: {}'.format(*word_svm_records.loc[label]))\n",
    "    word_svm.set_params(**word_svm_cv.best_params_)\n",
    "    print('Fitting final model and making prediction for submission on {} label'.format(label))\n",
    "    word_svm.fit(full_set.cleaned_text[:n_train], full_set[label][:n_train])\n",
    "    word_svm_full[label] = word_svm.predict_proba(full_set.cleaned_text)[:,1]"
   ]
  },
  {
   "cell_type": "code",
   "execution_count": null,
   "metadata": {
    "collapsed": true
   },
   "outputs": [],
   "source": [
    "print(*word_svm_records.best_params, sep='\\n')\n",
    "print(word_svm_records.iloc[:,1:])\n",
    "print(word_svm_records.iloc[:,1:].mean())"
   ]
  },
  {
   "cell_type": "code",
   "execution_count": null,
   "metadata": {
    "collapsed": true
   },
   "outputs": [],
   "source": [
    "word_svm_full.to_csv('word_lg_full.csv',index=False)\n",
    "word_svm_records.to_csv('word_lg_records.csv', index=False)"
   ]
  },
  {
   "cell_type": "code",
   "execution_count": null,
   "metadata": {
    "collapsed": true
   },
   "outputs": [],
   "source": []
  },
  {
   "cell_type": "markdown",
   "metadata": {},
   "source": [
    "## Tree \n",
    "- slow for tfidf features"
   ]
  },
  {
   "cell_type": "code",
   "execution_count": 117,
   "metadata": {
    "collapsed": true
   },
   "outputs": [],
   "source": [
    "import xgboost"
   ]
  },
  {
   "cell_type": "code",
   "execution_count": null,
   "metadata": {
    "collapsed": true
   },
   "outputs": [],
   "source": [
    "train_df = xgboost.DMatrix(x_train_comb, label = y_train)"
   ]
  },
  {
   "cell_type": "code",
   "execution_count": null,
   "metadata": {
    "collapsed": true,
    "scrolled": true
   },
   "outputs": [],
   "source": [
    "%%time\n",
    "\n",
    "# use 1:1 joined word char features\n",
    "\n",
    "param = {'eta':0.3,  # learning_rate\n",
    "         'silent':0,  # printing running messages\n",
    "         'objective':'binary:logistic', # logistic regression for binary classification, output probability\n",
    "         'subsample': 1,  # subsample rows\n",
    "         'scale_pos_weight': 1, # for balancing the classes         \n",
    "         'colsample_bytree': 0.2,  # subsample columns\n",
    "         'gamma': 11, # minimum loss reduction required to make a further partition on a leaf node of the tree\n",
    "         'max_depth':4,  # maximum depth of a tree, 4-10\n",
    "         'min_child_weight': 5,  # minimum sum of instance weight (hessian) needed in a child\n",
    "#          'colsample_bylevel': 1, # subsample ratio of columns for each split, in each level\n",
    "#          'max_delta_step': 0 # help in logistic regression when class is extremely imbalanced, 1-10\n",
    "         }\n",
    "xgb_toxic = xgboost.cv(params=param, dtrain=train_df, num_boost_round=500, nfold=3, metrics='auc',\\\n",
    "                   stratified=True, early_stopping_rounds=50,\\\n",
    "                   verbose_eval=True, seed=2018)\n",
    "\n",
    "# print(lg_toxic.best_params_)\n",
    "# print(lg_toxic.best_score_)\n",
    "# print(r\"Training score(roc_auc): {}\".format(metrics.roc_auc_score(y_train, lg_toxic.predict_proba(x_train_comb)[:,1])))\n",
    "# print(r\"Test score(roc_auc): {}\".format(metrics.roc_auc_score(y_test, lg_toxic.predict_proba(x_test_comb)[:,1])))"
   ]
  },
  {
   "cell_type": "markdown",
   "metadata": {},
   "source": [
    "- best auc:\n",
    "[231]\ttrain-auc:0.983466+0.000306972\ttest-auc:0.962364+0.00119056\n",
    "[2777]\ttrain-auc:0.984029+0.000176414\ttest-auc:0.964967+0.00121307\n",
    "\n",
    "[158]\ttrain-auc:0.983336+0.000192297\ttest-auc:0.959391+0.000734916\n",
    "[151]\ttrain-auc:0.983416+0.000487931\ttest-auc:0.958959+0.000854794\n",
    "\n",
    "         'eta':0.3, \n",
    "         'silent':0,  \n",
    "         'objective':'binary:logistic', \n",
    "         'subsample': 1,  \n",
    "         'scale_pos_weight': 1,                          9\n",
    "         'colsample_bytree': 0.2,                        0.3\n",
    "         'gamma': 11,                                    11\n",
    "         'max_depth':4,  \n",
    "         'min_child_weight': 5,                          50\n",
    "         'colsample_bylevel': 1, \n"
   ]
  },
  {
   "cell_type": "markdown",
   "metadata": {
    "collapsed": true
   },
   "source": [
    "## xgboost with word2vec"
   ]
  },
  {
   "cell_type": "code",
   "execution_count": 115,
   "metadata": {
    "collapsed": true
   },
   "outputs": [],
   "source": [
    "x_train, x_test, y_train, y_test, train_idx, test_idx = train_test_split(comment_vect[:n_train], \n",
    "                                                    full_set_sw['toxic'][:n_train], \n",
    "                                                    np.arange(n_train),\n",
    "                                                    test_size = 0.2, \n",
    "                                                    random_state=2018,\n",
    "                                                    stratify = full_set_sw['toxic'][:n_train])"
   ]
  },
  {
   "cell_type": "code",
   "execution_count": 118,
   "metadata": {
    "collapsed": true
   },
   "outputs": [],
   "source": [
    "train_df = xgboost.DMatrix(x_train, label = y_train)"
   ]
  },
  {
   "cell_type": "code",
   "execution_count": 133,
   "metadata": {
    "scrolled": true
   },
   "outputs": [
    {
     "name": "stdout",
     "output_type": "stream",
     "text": [
      "[0]\ttrain-auc:0.868187+0.000872263\ttest-auc:0.862609+0.00194823\n",
      "[1]\ttrain-auc:0.891631+0.00126283\ttest-auc:0.885143+0.00229899\n",
      "[2]\ttrain-auc:0.902786+0.000754947\ttest-auc:0.895528+0.00108561\n",
      "[3]\ttrain-auc:0.90896+0.00111809\ttest-auc:0.901907+0.00130322\n",
      "[4]\ttrain-auc:0.914854+0.00109227\ttest-auc:0.907806+0.00238326\n",
      "[5]\ttrain-auc:0.919297+0.00118623\ttest-auc:0.91257+0.00129537\n",
      "[6]\ttrain-auc:0.923548+0.00124324\ttest-auc:0.916305+0.000597618\n",
      "[7]\ttrain-auc:0.926631+0.0011966\ttest-auc:0.918766+0.000533132\n",
      "[8]\ttrain-auc:0.929523+0.00151898\ttest-auc:0.921912+0.000424178\n",
      "[9]\ttrain-auc:0.931896+0.000929377\ttest-auc:0.92379+0.0015033\n",
      "[10]\ttrain-auc:0.935091+0.000535518\ttest-auc:0.926758+0.00165482\n",
      "[11]\ttrain-auc:0.937314+0.000529107\ttest-auc:0.928997+0.00181481\n",
      "[12]\ttrain-auc:0.939667+0.000409986\ttest-auc:0.930945+0.00170342\n",
      "[13]\ttrain-auc:0.941504+0.000509453\ttest-auc:0.93246+0.00170682\n",
      "[14]\ttrain-auc:0.943414+0.000313965\ttest-auc:0.93398+0.00188622\n",
      "[15]\ttrain-auc:0.945237+0.000503866\ttest-auc:0.935252+0.0016552\n",
      "[16]\ttrain-auc:0.946748+0.000568331\ttest-auc:0.936336+0.00192711\n",
      "[17]\ttrain-auc:0.948331+0.000564114\ttest-auc:0.937707+0.00211304\n",
      "[18]\ttrain-auc:0.949841+0.000419266\ttest-auc:0.93881+0.00202231\n",
      "[19]\ttrain-auc:0.951303+0.000583822\ttest-auc:0.939897+0.00182295\n",
      "[20]\ttrain-auc:0.952386+0.00054119\ttest-auc:0.940806+0.00174894\n",
      "[21]\ttrain-auc:0.953518+0.000583097\ttest-auc:0.941605+0.00160698\n",
      "[22]\ttrain-auc:0.954611+0.000614672\ttest-auc:0.94234+0.00164904\n",
      "[23]\ttrain-auc:0.955597+0.000611911\ttest-auc:0.94313+0.00158817\n",
      "[24]\ttrain-auc:0.956477+0.000690323\ttest-auc:0.943656+0.00160689\n",
      "[25]\ttrain-auc:0.957409+0.000692748\ttest-auc:0.944192+0.00152855\n",
      "[26]\ttrain-auc:0.958279+0.00059505\ttest-auc:0.944673+0.00156429\n",
      "[27]\ttrain-auc:0.959077+0.000548018\ttest-auc:0.94518+0.0015279\n",
      "[28]\ttrain-auc:0.959788+0.000507287\ttest-auc:0.945534+0.00152951\n",
      "[29]\ttrain-auc:0.960551+0.000561482\ttest-auc:0.945974+0.00148774\n",
      "[30]\ttrain-auc:0.961195+0.000547014\ttest-auc:0.946367+0.00143735\n",
      "[31]\ttrain-auc:0.962008+0.000586662\ttest-auc:0.94683+0.0014142\n",
      "[32]\ttrain-auc:0.962636+0.000705619\ttest-auc:0.94722+0.0014988\n",
      "[33]\ttrain-auc:0.963242+0.000710488\ttest-auc:0.947543+0.00135853\n",
      "[34]\ttrain-auc:0.963844+0.000741245\ttest-auc:0.94789+0.0013675\n",
      "[35]\ttrain-auc:0.96443+0.000667623\ttest-auc:0.948117+0.00143008\n",
      "[36]\ttrain-auc:0.964924+0.000668376\ttest-auc:0.948315+0.00138964\n",
      "[37]\ttrain-auc:0.965513+0.000640592\ttest-auc:0.948556+0.00138785\n",
      "[38]\ttrain-auc:0.966098+0.000596793\ttest-auc:0.948826+0.00149839\n",
      "[39]\ttrain-auc:0.966688+0.000589027\ttest-auc:0.949142+0.00150204\n",
      "[40]\ttrain-auc:0.967191+0.000593198\ttest-auc:0.949353+0.00142909\n",
      "[41]\ttrain-auc:0.967654+0.000595358\ttest-auc:0.949588+0.00142256\n",
      "[42]\ttrain-auc:0.968021+0.000604115\ttest-auc:0.949746+0.00138699\n",
      "[43]\ttrain-auc:0.968544+0.000578263\ttest-auc:0.949954+0.00144297\n",
      "[44]\ttrain-auc:0.96896+0.000572238\ttest-auc:0.950208+0.00142457\n",
      "[45]\ttrain-auc:0.969437+0.000590916\ttest-auc:0.950436+0.00144821\n",
      "[46]\ttrain-auc:0.969894+0.000593563\ttest-auc:0.950615+0.00154661\n",
      "[47]\ttrain-auc:0.970277+0.000626792\ttest-auc:0.950715+0.00147174\n",
      "[48]\ttrain-auc:0.970672+0.000586621\ttest-auc:0.950831+0.0015433\n",
      "[49]\ttrain-auc:0.971045+0.000635094\ttest-auc:0.951107+0.001553\n",
      "[50]\ttrain-auc:0.971462+0.000678789\ttest-auc:0.95125+0.0014733\n",
      "[51]\ttrain-auc:0.971826+0.000644766\ttest-auc:0.951399+0.00145337\n",
      "[52]\ttrain-auc:0.972168+0.000650412\ttest-auc:0.951471+0.00145824\n",
      "[53]\ttrain-auc:0.972548+0.000596707\ttest-auc:0.951685+0.00149402\n",
      "[54]\ttrain-auc:0.972769+0.000584443\ttest-auc:0.951772+0.00154232\n",
      "[55]\ttrain-auc:0.973153+0.000532694\ttest-auc:0.951945+0.00155702\n",
      "[56]\ttrain-auc:0.97346+0.000522519\ttest-auc:0.952089+0.00154452\n",
      "[57]\ttrain-auc:0.973765+0.000583522\ttest-auc:0.952232+0.00165339\n",
      "[58]\ttrain-auc:0.97406+0.000564934\ttest-auc:0.952306+0.00167079\n",
      "[59]\ttrain-auc:0.974428+0.000550409\ttest-auc:0.952315+0.00172266\n",
      "[60]\ttrain-auc:0.974767+0.00054461\ttest-auc:0.952469+0.00173571\n",
      "[61]\ttrain-auc:0.975065+0.000521297\ttest-auc:0.952571+0.00170893\n",
      "[62]\ttrain-auc:0.975377+0.000572261\ttest-auc:0.952675+0.0016354\n",
      "[63]\ttrain-auc:0.975647+0.000524765\ttest-auc:0.952796+0.00164377\n",
      "[64]\ttrain-auc:0.975912+0.000484889\ttest-auc:0.952975+0.00161384\n",
      "[65]\ttrain-auc:0.976222+0.000476266\ttest-auc:0.953171+0.0015686\n",
      "[66]\ttrain-auc:0.97654+0.000462025\ttest-auc:0.953321+0.00163723\n",
      "[67]\ttrain-auc:0.976821+0.000473282\ttest-auc:0.953471+0.00163184\n",
      "[68]\ttrain-auc:0.977093+0.00048016\ttest-auc:0.953611+0.00162454\n",
      "[69]\ttrain-auc:0.977416+0.000454027\ttest-auc:0.953705+0.00164406\n",
      "[70]\ttrain-auc:0.977661+0.000377596\ttest-auc:0.953788+0.00168256\n",
      "[71]\ttrain-auc:0.977893+0.000434949\ttest-auc:0.953916+0.00167593\n",
      "[72]\ttrain-auc:0.978199+0.000390883\ttest-auc:0.953944+0.00172139\n",
      "[73]\ttrain-auc:0.978458+0.000355761\ttest-auc:0.953993+0.00173234\n",
      "[74]\ttrain-auc:0.978708+0.000366135\ttest-auc:0.95402+0.00172068\n",
      "[75]\ttrain-auc:0.978949+0.000329613\ttest-auc:0.954085+0.00180999\n",
      "[76]\ttrain-auc:0.979207+0.000330948\ttest-auc:0.95421+0.00177176\n",
      "[77]\ttrain-auc:0.979383+0.000382561\ttest-auc:0.954251+0.00182869\n",
      "[78]\ttrain-auc:0.979653+0.00039588\ttest-auc:0.95437+0.00183132\n",
      "[79]\ttrain-auc:0.979893+0.000400907\ttest-auc:0.954482+0.00177994\n",
      "[80]\ttrain-auc:0.980125+0.000341686\ttest-auc:0.954475+0.00181356\n",
      "[81]\ttrain-auc:0.980292+0.000367112\ttest-auc:0.954507+0.00186006\n",
      "[82]\ttrain-auc:0.980517+0.0003985\ttest-auc:0.954607+0.00182278\n",
      "[83]\ttrain-auc:0.980736+0.000469738\ttest-auc:0.954758+0.00178881\n",
      "[84]\ttrain-auc:0.980895+0.000481784\ttest-auc:0.954815+0.00171054\n",
      "[85]\ttrain-auc:0.981103+0.000429886\ttest-auc:0.954867+0.00166836\n",
      "[86]\ttrain-auc:0.98133+0.000463817\ttest-auc:0.954911+0.00162992\n",
      "[87]\ttrain-auc:0.981545+0.00044932\ttest-auc:0.954961+0.00175522\n",
      "[88]\ttrain-auc:0.981767+0.000465934\ttest-auc:0.955013+0.00177657\n",
      "[89]\ttrain-auc:0.981944+0.000445045\ttest-auc:0.9551+0.00181344\n",
      "[90]\ttrain-auc:0.982146+0.000455052\ttest-auc:0.955149+0.00174981\n",
      "[91]\ttrain-auc:0.982381+0.000529985\ttest-auc:0.955191+0.00167959\n",
      "[92]\ttrain-auc:0.982585+0.000526788\ttest-auc:0.9553+0.00164742\n",
      "[93]\ttrain-auc:0.982767+0.000505483\ttest-auc:0.955294+0.00169211\n",
      "[94]\ttrain-auc:0.982954+0.000504302\ttest-auc:0.955383+0.00169144\n",
      "[95]\ttrain-auc:0.98316+0.00048175\ttest-auc:0.955397+0.00163576\n",
      "[96]\ttrain-auc:0.983297+0.000480826\ttest-auc:0.955462+0.00172126\n",
      "[97]\ttrain-auc:0.983463+0.000517794\ttest-auc:0.955521+0.00176778\n",
      "[98]\ttrain-auc:0.983676+0.000504145\ttest-auc:0.955542+0.00171421\n",
      "[99]\ttrain-auc:0.983849+0.000480086\ttest-auc:0.955531+0.00169442\n",
      "[100]\ttrain-auc:0.983977+0.000451867\ttest-auc:0.955557+0.00165552\n",
      "[101]\ttrain-auc:0.9841+0.000482512\ttest-auc:0.955598+0.00162167\n",
      "[102]\ttrain-auc:0.984274+0.000467398\ttest-auc:0.955611+0.00168718\n",
      "[103]\ttrain-auc:0.984441+0.000435631\ttest-auc:0.955639+0.00168251\n",
      "[104]\ttrain-auc:0.984593+0.000476387\ttest-auc:0.955673+0.00169011\n",
      "[105]\ttrain-auc:0.984766+0.000456492\ttest-auc:0.955747+0.00172221\n",
      "[106]\ttrain-auc:0.984927+0.000482526\ttest-auc:0.955789+0.00175991\n",
      "[107]\ttrain-auc:0.985068+0.000500172\ttest-auc:0.955856+0.00176647\n",
      "[108]\ttrain-auc:0.985205+0.000498787\ttest-auc:0.955854+0.00171181\n",
      "[109]\ttrain-auc:0.985317+0.000559021\ttest-auc:0.955866+0.00177568\n",
      "[110]\ttrain-auc:0.985461+0.000515185\ttest-auc:0.955935+0.00186733\n",
      "[111]\ttrain-auc:0.985584+0.000552641\ttest-auc:0.955949+0.00185197\n",
      "[112]\ttrain-auc:0.985719+0.000545922\ttest-auc:0.955994+0.0018007\n",
      "[113]\ttrain-auc:0.98589+0.000537712\ttest-auc:0.95599+0.00173984\n",
      "[114]\ttrain-auc:0.985975+0.00051786\ttest-auc:0.956022+0.00173034\n",
      "[115]\ttrain-auc:0.986145+0.000518534\ttest-auc:0.955997+0.00174651\n",
      "[116]\ttrain-auc:0.986299+0.000523839\ttest-auc:0.95609+0.00172713\n",
      "[117]\ttrain-auc:0.986432+0.000531339\ttest-auc:0.956178+0.00167748\n",
      "[118]\ttrain-auc:0.986598+0.000502105\ttest-auc:0.956192+0.00164152\n",
      "[119]\ttrain-auc:0.986722+0.000515525\ttest-auc:0.956213+0.00159529\n",
      "[120]\ttrain-auc:0.986865+0.000501048\ttest-auc:0.956237+0.00159889\n",
      "[121]\ttrain-auc:0.986985+0.000489245\ttest-auc:0.956279+0.00156371\n",
      "[122]\ttrain-auc:0.987106+0.000533357\ttest-auc:0.956314+0.0015247\n",
      "[123]\ttrain-auc:0.987213+0.000542847\ttest-auc:0.956323+0.00154424\n",
      "[124]\ttrain-auc:0.987347+0.000552993\ttest-auc:0.956307+0.00155858\n",
      "[125]\ttrain-auc:0.987456+0.000530509\ttest-auc:0.956409+0.00154641\n",
      "[126]\ttrain-auc:0.987572+0.000523709\ttest-auc:0.956451+0.00154069\n"
     ]
    },
    {
     "name": "stdout",
     "output_type": "stream",
     "text": [
      "[127]\ttrain-auc:0.987666+0.000482545\ttest-auc:0.956534+0.00152523\n",
      "[128]\ttrain-auc:0.987803+0.000465534\ttest-auc:0.956575+0.00154099\n",
      "[129]\ttrain-auc:0.987917+0.000445081\ttest-auc:0.956581+0.00149737\n",
      "[130]\ttrain-auc:0.988056+0.000429637\ttest-auc:0.956596+0.00144307\n",
      "[131]\ttrain-auc:0.988191+0.000439101\ttest-auc:0.956572+0.00147164\n",
      "[132]\ttrain-auc:0.988315+0.00041995\ttest-auc:0.956597+0.00148127\n",
      "[133]\ttrain-auc:0.988457+0.000455529\ttest-auc:0.956526+0.0015673\n",
      "[134]\ttrain-auc:0.988562+0.000467349\ttest-auc:0.956505+0.00150706\n",
      "[135]\ttrain-auc:0.988661+0.00052519\ttest-auc:0.956556+0.00145625\n",
      "[136]\ttrain-auc:0.988792+0.000514413\ttest-auc:0.95656+0.00146945\n",
      "Wall time: 4min 8s\n"
     ]
    }
   ],
   "source": [
    "%%time\n",
    "\n",
    "param = {'eta':0.3,  # learning_rate\n",
    "         'silent':0,  # printing running messages\n",
    "         'objective':'binary:logistic', # logistic regression for binary classification, output probability\n",
    "         'subsample': 1,  # subsample rows\n",
    "         'scale_pos_weight': 1, # for balancing the classes         \n",
    "         'colsample_bytree': 0.5,  # subsample columns\n",
    "         'gamma': 3, # minimum loss reduction required to make a further partition on a leaf node of the tree\n",
    "         'max_depth': 4,  # maximum depth of a tree, 4-10\n",
    "         'min_child_weight': 6,  # minimum sum of instance weight (hessian) needed in a child\n",
    "#          'colsample_bylevel': 1, # subsample ratio of columns for each split, in each level\n",
    "#          'max_delta_step': 0 # help in logistic regression when class is extremely imbalanced, 1-10\n",
    "         }\n",
    "xgb_toxic = xgboost.cv(params=param, dtrain=train_df, num_boost_round=200, nfold=3, metrics='auc',\\\n",
    "                   stratified=True, early_stopping_rounds=5,\\\n",
    "                   verbose_eval=True, seed=2018)"
   ]
  },
  {
   "cell_type": "markdown",
   "metadata": {},
   "source": [
    "[139]\ttrain-auc:0.989307+0.000308653\ttest-auc:0.956745+0.00145265\n",
    "[150]\ttrain-auc:0.990554+0.000215784\ttest-auc:0.956494+0.00180961           0.5\n"
   ]
  },
  {
   "cell_type": "code",
   "execution_count": null,
   "metadata": {
    "collapsed": true
   },
   "outputs": [],
   "source": []
  },
  {
   "cell_type": "code",
   "execution_count": null,
   "metadata": {
    "collapsed": true
   },
   "outputs": [],
   "source": []
  },
  {
   "cell_type": "code",
   "execution_count": null,
   "metadata": {
    "collapsed": true
   },
   "outputs": [],
   "source": []
  },
  {
   "cell_type": "code",
   "execution_count": null,
   "metadata": {
    "collapsed": true
   },
   "outputs": [],
   "source": []
  },
  {
   "cell_type": "code",
   "execution_count": null,
   "metadata": {
    "collapsed": true
   },
   "outputs": [],
   "source": []
  },
  {
   "cell_type": "code",
   "execution_count": null,
   "metadata": {
    "collapsed": true
   },
   "outputs": [],
   "source": []
  },
  {
   "cell_type": "markdown",
   "metadata": {
    "collapsed": true
   },
   "source": [
    "## recycle bin"
   ]
  },
  {
   "cell_type": "code",
   "execution_count": null,
   "metadata": {
    "collapsed": true
   },
   "outputs": [],
   "source": [
    "from sklearn.base import BaseEstimator, TransformerMixin\n",
    "from sklearn.pipeline import Pipeline, FeatureUnion\n",
    "class ItemSelector(BaseEstimator, TransformerMixin):\n",
    "    def __init__(self, key='comment', idx=None):\n",
    "        self.key = key\n",
    "        self.idx = idx\n",
    "\n",
    "    def fit(self, x, y=None):\n",
    "        return(self)\n",
    "\n",
    "    def transform(self, data_dict):\n",
    "        if self.key == 'comment':\n",
    "            return(data_dict[self.key])\n",
    "        elif self.key == 'features':\n",
    "            print('Select {}x{} previous generated feature matrix'.format(len(self.idx), \n",
    "                                                                          data_dict[self.key].shape[1]))\n",
    "            return(data_dict[self.key].iloc[self.idx,:])\n",
    "\n",
    "class CommentFeatureExtractor(BaseEstimator, TransformerMixin):\n",
    "    '''\n",
    "    input data should contain cleaned comments from both train and test set\n",
    "    (first n_train samples from train set, the rest from test set), \n",
    "    as well as featurs already generated during text preprocessing\n",
    "    '''\n",
    "    def __init__(self, n_train=None):\n",
    "        self.n_train = n_train\n",
    "        \n",
    "    def fit(self, x, y=None):\n",
    "        return(self)\n",
    "\n",
    "    def transform(self, full_set):\n",
    "        data = {}\n",
    "        data['comment'] = full_set.cleaned_text\n",
    "        data['features'] = full_set.drop('cleaned_text',axis=1)[:self.n_train]\n",
    "        print('Extracted {} comments and {} feature matrix'.format(len(data['comment']), data['features'].shape))\n",
    "        return(data)\n",
    "\n",
    "class MyTfidf(BaseEstimator, TransformerMixin):\n",
    "    def __init__(self, max_df=1.0, min_df=1, max_features=None, idx=None, analyzer='word'):\n",
    "        self.max_df = max_df\n",
    "        self.min_df = min_df\n",
    "        self.max_features = max_features\n",
    "        self.idx = idx\n",
    "        self.analyzer = analyzer\n",
    "        \n",
    "    def fit(self, x, y=None):\n",
    "        return(self)\n",
    "    \n",
    "    def transform(self, comments):\n",
    "        if self.analyzer == 'word':\n",
    "            ngram_range=(1, 1)\n",
    "        elif self.analyzer == 'char':\n",
    "            ngram_range=(1, 4)\n",
    "        vectorizer = TfidfVectorizer(max_df=self.max_df, ngram_range=ngram_range, min_df=self.min_df, \n",
    "                                          max_features=self.max_features, analyzer=self.analyzer,)\n",
    "        matrix = vectorizer.fit_transform(comments)\n",
    "        print('Finished tf-idf from {}, shape of generated matrix: {}x{}'.format(self.analyzer, \n",
    "                                                                                 len(self.idx), \n",
    "                                                                                 matrix.shape[1]))\n",
    "        return(matrix[self.idx])"
   ]
  },
  {
   "cell_type": "code",
   "execution_count": null,
   "metadata": {
    "collapsed": true
   },
   "outputs": [],
   "source": [
    "pip = Pipeline([\n",
    "            # Extract comments and features columns\n",
    "            ('commentfeature', CommentFeatureExtractor()),\n",
    "            \n",
    "            # use FeatureUnion to combine features from tfidf and other already generated features\n",
    "            ('union', FeatureUnion(\n",
    "                transformer_list=[\n",
    "                    \n",
    "                    # pipeline to generate features from comments using tfidf analyzed by word\n",
    "                    ('tfidf_word', Pipeline([\n",
    "                        ('selector', ItemSelector(key='comment')),\n",
    "                        ('tfidf', MyTfidf(analyzer='word'))\n",
    "                    ])),\n",
    "                    \n",
    "                    # pipeline to generate features from comments using tfidf analyzed by char\n",
    "                    ('tfidf_char', Pipeline([\n",
    "                        ('selector', ItemSelector(key='comment')),\n",
    "                        ('tfidf', MyTfidf(analyzer='char'))\n",
    "                    ])),\n",
    "                    \n",
    "                    # get other generated features \n",
    "#                     ('other_features', Pipeline([\n",
    "#                         ('selector', ItemSelector(key='features'))\n",
    "#                     ]))\n",
    "                ], \n",
    "#                 n_jobs=-1,\n",
    "                transformer_weights={\n",
    "                    'tfidf_word': 1.0,\n",
    "                    'tfidf_char': 1.0,\n",
    "#                     'other_features': 1.0,\n",
    "                }\n",
    "            )),            \n",
    "            ])"
   ]
  },
  {
   "cell_type": "code",
   "execution_count": null,
   "metadata": {
    "collapsed": true
   },
   "outputs": [],
   "source": [
    "# takes a few minutes\n",
    "\n",
    "%%time\n",
    "parameters = {'commentfeature__n_train': n_train,\\\n",
    "              'union__tfidf_word__tfidf__max_df': 1.0,\\\n",
    "              'union__tfidf_word__tfidf__min_df': 50,\\\n",
    "              'union__tfidf_word__tfidf__idx': train_idx,\\\n",
    "              'union__tfidf_char__tfidf__max_df': 1.0,\\\n",
    "              'union__tfidf_char__tfidf__min_df': 50,\\\n",
    "              'union__tfidf_char__tfidf__idx': train_idx,\\\n",
    "              'union__tfidf_char__tfidf__max_features': 30000,\\\n",
    "#               'union__other_features__selector__idx': train_idx,\\\n",
    "              }\n",
    "pip.set_params(**parameters)\n",
    "\n",
    "x_train_comb = pip.transform(full_set.drop(['comment_text', 'id', \n",
    "                                            'identity_hate', 'insult', \n",
    "                                            'obscene', 'severe_toxic', \n",
    "                                            'threat'], axis=1))"
   ]
  },
  {
   "cell_type": "code",
   "execution_count": null,
   "metadata": {
    "collapsed": true
   },
   "outputs": [],
   "source": [
    "parameters = {'commentfeature__n_train': n_train,\\\n",
    "              'union__tfidf_word__tfidf__max_df': 1.0,\\\n",
    "              'union__tfidf_word__tfidf__min_df': 50,\\\n",
    "              'union__tfidf_word__tfidf__idx': test_idx,\\\n",
    "              'union__tfidf_char__tfidf__max_df': 1.0,\\\n",
    "              'union__tfidf_char__tfidf__min_df': 50,\\\n",
    "              'union__tfidf_char__tfidf__idx': test_idx,\\\n",
    "              'union__tfidf_char__tfidf__max_features': 30000,\\\n",
    "#               'union__other_features__selector__idx': train_idx,\\\n",
    "              }\n",
    "pip.set_params(**parameters)\n",
    "x_test_comb = pip.transform(full_set.drop(['comment_text', 'id', \n",
    "                                            'identity_hate', 'insult', \n",
    "                                            'obscene', 'severe_toxic', \n",
    "                                            'threat'], axis=1))"
   ]
  },
  {
   "cell_type": "code",
   "execution_count": null,
   "metadata": {
    "collapsed": true
   },
   "outputs": [],
   "source": [
    "print(x_train_comb.shape)"
   ]
  },
  {
   "cell_type": "markdown",
   "metadata": {},
   "source": [
    "Checking a sample"
   ]
  },
  {
   "cell_type": "code",
   "execution_count": null,
   "metadata": {
    "collapsed": true
   },
   "outputs": [],
   "source": [
    "train_idx[1]"
   ]
  },
  {
   "cell_type": "code",
   "execution_count": null,
   "metadata": {
    "collapsed": true
   },
   "outputs": [],
   "source": [
    "full_set.iloc[91099,-6:]"
   ]
  },
  {
   "cell_type": "code",
   "execution_count": null,
   "metadata": {
    "collapsed": true
   },
   "outputs": [],
   "source": [
    "print(x_train_comb[1,-5:])"
   ]
  },
  {
   "cell_type": "code",
   "execution_count": null,
   "metadata": {
    "collapsed": true
   },
   "outputs": [],
   "source": []
  },
  {
   "cell_type": "code",
   "execution_count": null,
   "metadata": {
    "collapsed": true
   },
   "outputs": [],
   "source": [
    "mnb = MultinomialNB()"
   ]
  },
  {
   "cell_type": "code",
   "execution_count": null,
   "metadata": {
    "collapsed": true
   },
   "outputs": [],
   "source": [
    "parameters = {'alpha': (1, 0.25, 0.2, 0.15, 0.1)}\n",
    "nb_toxic = GridSearchCV(mnb, parameters, n_jobs=-1, scoring = 'roc_auc', verbose=1, cv=5)"
   ]
  },
  {
   "cell_type": "code",
   "execution_count": null,
   "metadata": {
    "collapsed": true
   },
   "outputs": [],
   "source": [
    "nb_toxic.fit(x_train_comb, y_train)"
   ]
  },
  {
   "cell_type": "code",
   "execution_count": null,
   "metadata": {
    "collapsed": true
   },
   "outputs": [],
   "source": [
    "print(nb_toxic.best_params_)\n",
    "print(nb_toxic.best_score_)"
   ]
  },
  {
   "cell_type": "code",
   "execution_count": null,
   "metadata": {
    "collapsed": true
   },
   "outputs": [],
   "source": [
    "print(r\"Training score(roc_auc): {}\".format(metrics.roc_auc_score(y_train, nb_toxic.predict_proba(x_train)[:,1])))\n",
    "print(r\"Test score(roc_auc): {}\".format(metrics.roc_auc_score(y_test, gs_nb_toxic.predict_proba(x_test)[:,1])))"
   ]
  },
  {
   "cell_type": "code",
   "execution_count": null,
   "metadata": {
    "collapsed": true
   },
   "outputs": [],
   "source": [
    "{'alpha': 0.2}\n",
    "0.9497373584576353"
   ]
  },
  {
   "cell_type": "code",
   "execution_count": null,
   "metadata": {
    "collapsed": true
   },
   "outputs": [],
   "source": []
  },
  {
   "cell_type": "markdown",
   "metadata": {},
   "source": [
    "**for one label: toxic**"
   ]
  },
  {
   "cell_type": "code",
   "execution_count": null,
   "metadata": {
    "collapsed": true
   },
   "outputs": [],
   "source": [
    "\n",
    "# def evaluate_model(clf, actual, predicted):\n",
    "#     \"\"\"Scores a model with the created train and test sets.\"\"\"\n",
    "#     train_loss = metrics.roc_auc_score(y_train, clf.predict_proba(x_train)[:,1])\n",
    "#     test_loss = metrics.roc_auc_score(y_test, clf.predict_proba(x_test)[:,1])\n",
    "#     matrix = confusion_matrix(actual, predicted)\n",
    "#     report = metrics.classification_report(actual, predicted, target_names = ['0', '1'])\n",
    "#     print(\"Train score:\", train_loss)\n",
    "#     print(\"Test score:\", test_loss)\n",
    "#     print('Confusion Matrix:\\n', matrix)\n",
    "#     print('Classification report:\\n', report)\n",
    "\n",
    "#     return test_loss"
   ]
  },
  {
   "cell_type": "code",
   "execution_count": null,
   "metadata": {
    "collapsed": true
   },
   "outputs": [],
   "source": [
    "x_train, x_test, y_train, y_test = train_test_split(full_set.cleaned_text[:n_train], \n",
    "                                                    full_set['toxic'][:n_train], \n",
    "                                                    test_size = 0.2, \n",
    "                                                    stratify = full_set['toxic'][:n_train])\n",
    "pipe_nb_toxic = Pipeline([('tfidf', TfidfVectorizer()), ('nb', MultinomialNB())])"
   ]
  },
  {
   "cell_type": "code",
   "execution_count": null,
   "metadata": {
    "collapsed": true
   },
   "outputs": [],
   "source": [
    "parameters = {'tfidf__max_df': (0.70, 0.80, 0.90, 1.0),\\\n",
    "              'tfidf__min_df': (0, 0.01,0.03,0.1),\\\n",
    "              'nb__alpha': (1, 0.3, 0.1, 0.03, 0.01, 0.003)}\n",
    "gs_nb_toxic = GridSearchCV(pipe_nb_toxic, parameters, n_jobs=-1, scoring = 'roc_auc', verbose=10)"
   ]
  },
  {
   "cell_type": "code",
   "execution_count": null,
   "metadata": {
    "collapsed": true,
    "scrolled": true
   },
   "outputs": [],
   "source": [
    "%%time\n",
    "\n",
    "gs_nb_toxic.fit(x_train, y_train)"
   ]
  },
  {
   "cell_type": "code",
   "execution_count": null,
   "metadata": {
    "collapsed": true
   },
   "outputs": [],
   "source": [
    "gs_nb_toxic.best_params_"
   ]
  },
  {
   "cell_type": "code",
   "execution_count": null,
   "metadata": {
    "collapsed": true
   },
   "outputs": [],
   "source": [
    "gs_nb_toxic.best_score_"
   ]
  },
  {
   "cell_type": "code",
   "execution_count": null,
   "metadata": {
    "collapsed": true
   },
   "outputs": [],
   "source": [
    "print(r\"Training score(roc_auc): {}\".format(metrics.roc_auc_score(y_train, gs_nb_toxic.predict_proba(x_train)[:,1])))\n",
    "print(r\"Test score(roc_auc): {}\".format(metrics.roc_auc_score(y_test, gs_nb_toxic.predict_proba(x_test)[:,1])))"
   ]
  },
  {
   "cell_type": "code",
   "execution_count": null,
   "metadata": {
    "collapsed": true
   },
   "outputs": [],
   "source": [
    "metrics.confusion_matrix(y_test, gs_nb_toxic.predict(x_test))"
   ]
  },
  {
   "cell_type": "code",
   "execution_count": null,
   "metadata": {
    "collapsed": true
   },
   "outputs": [],
   "source": [
    "a = metrics.roc_curve(y_test, gs_nb_toxic.predict_proba(x_test)[:,1])\n",
    "plt.plot(a[0],a[1])\n",
    "plt.show()"
   ]
  },
  {
   "cell_type": "markdown",
   "metadata": {
    "collapsed": true
   },
   "source": [
    "**Train multipyl classifiers**"
   ]
  },
  {
   "cell_type": "code",
   "execution_count": null,
   "metadata": {
    "collapsed": true
   },
   "outputs": [],
   "source": []
  },
  {
   "cell_type": "code",
   "execution_count": null,
   "metadata": {
    "collapsed": true
   },
   "outputs": [],
   "source": []
  },
  {
   "cell_type": "code",
   "execution_count": null,
   "metadata": {
    "collapsed": true
   },
   "outputs": [],
   "source": []
  },
  {
   "cell_type": "code",
   "execution_count": null,
   "metadata": {
    "collapsed": true
   },
   "outputs": [],
   "source": []
  },
  {
   "cell_type": "code",
   "execution_count": null,
   "metadata": {
    "collapsed": true
   },
   "outputs": [],
   "source": []
  },
  {
   "cell_type": "code",
   "execution_count": null,
   "metadata": {
    "collapsed": true
   },
   "outputs": [],
   "source": []
  },
  {
   "cell_type": "code",
   "execution_count": null,
   "metadata": {
    "collapsed": true
   },
   "outputs": [],
   "source": []
  },
  {
   "cell_type": "code",
   "execution_count": null,
   "metadata": {
    "collapsed": true
   },
   "outputs": [],
   "source": []
  },
  {
   "cell_type": "markdown",
   "metadata": {},
   "source": [
    "issue:\n",
    "  - fixed  <s>is_stop dose not work with en_core_web_lg, works with en_core_web_sm</s>  \n",
    "  - is_oov dose not work with en_core_web_sm, works with en_core_web_lg"
   ]
  },
  {
   "cell_type": "markdown",
   "metadata": {},
   "source": [
    "notes:\n",
    " - keep -PRON-\n",
    " - ngrams?\n",
    " - vector from en_core_web_lg token?\n",
    " - other tokenizer?\n",
    " - tfidf with analyzer=char\n",
    " \n",
    " \n",
    " https://mlwave.com/kaggle-ensembling-guide/\n",
    " \n",
    "   "
   ]
  },
  {
   "cell_type": "markdown",
   "metadata": {},
   "source": [
    "data: \n",
    "   - v1. en_core_web_lg, nlp.pip, is_stop dose not work with lg model, http address not removed\n",
    "   - v2. en_core_web_sm, nlp.pip, stop words removed, http address removed, is_oov dose not work with sm model\n",
    "   - v3. en_core_web_lg, tokenize.pip http address removed, stop word remove fixed, is_oov working\n",
    "   - v4. en_core_web_lg, tokenize.pip, processed on full set (train and test set combined)"
   ]
  },
  {
   "cell_type": "code",
   "execution_count": null,
   "metadata": {
    "collapsed": true
   },
   "outputs": [],
   "source": [
    "# dose not work, x, y need to have same number of rows\n",
    "\n",
    "# class ItemSelector(BaseEstimator, TransformerMixin):\n",
    "#     def __init__(self, key='comment', idx=None):\n",
    "#         self.key = key\n",
    "#         self.idx = idx\n",
    "\n",
    "#     def fit(self, x, y=None):\n",
    "#         return(self)\n",
    "\n",
    "#     def transform(self, data_dict):\n",
    "#         if self.key == 'comment':\n",
    "#             return(data_dict[self.key])\n",
    "#         elif self.key == 'features':\n",
    "#             return(data_dict[self.key][self.idx,:])\n",
    "\n",
    "# class CommentFeatureExtractor(BaseEstimator, TransformerMixin):\n",
    "#     '''\n",
    "#     input data should contain a column of cleaned comments from both train and test set\n",
    "#     (first n_train samples from train set, the rest from test set), \n",
    "#     as well as featurs generated from comments ready for training\n",
    "#     '''\n",
    "#     def __init__(self, n_train=None):\n",
    "#         self.n_train = n_train\n",
    "        \n",
    "#     def fit(self, x, y=None):\n",
    "#         return(self)\n",
    "\n",
    "#     def transform(self, full_set):\n",
    "#         data = {}\n",
    "#         data['comment'] = full_set.cleaned_text\n",
    "#         data['features'] = full_set.drop('cleaned_text',axis=1)[:self.n_train]\n",
    "#         return(data)\n",
    "    \n",
    "# class MyTfidf(BaseEstimator, TransformerMixin):\n",
    "#     def __init__(self, max_df=1.0, min_df=1, max_features=None, idx=None, analyzer='word'):\n",
    "#         self.max_df = max_df\n",
    "#         self.min_df = min_df\n",
    "#         self.max_features = max_features\n",
    "#         self.idx = idx\n",
    "#         self.analyzer = analyzer\n",
    "        \n",
    "#     def fit(self, x, y=None):\n",
    "#         return(self)\n",
    "    \n",
    "#     def transform(self, comments):\n",
    "#         if self.analyzer == 'word':\n",
    "#             ngram_range=(1, 1)\n",
    "#         elif self.analyzer == 'char':\n",
    "#             ngram_range=(1, 4)\n",
    "#         Vectorizer_word = TfidfVectorizer(max_df=self.max_df, ngram_range=ngram_range, min_df=self.min_df, \n",
    "#                                           max_features=self.max_features, analyzer=self.analyzer,)\n",
    "#         word_vector = Vectorizer_word.fit_transform(comments)\n",
    "#         return(word_vector[self.idx])\n",
    "\n",
    "# # pipeline for training multipule classifiers\n",
    "# pip = Pipeline([\n",
    "#             # Extract comments and features columns\n",
    "#             ('commentfeature', CommentFeatureExtractor()),\n",
    "            \n",
    "#             # use FeatureUnion to combine features from tfidf and other already generated features\n",
    "#             ('union', FeatureUnion(\n",
    "#                 transformer_list=[\n",
    "                    \n",
    "#                     # pipeline to generate features from comments using tfidf analyzed by word\n",
    "#                     ('tfidf_word', Pipeline([\n",
    "#                         ('selector', ItemSelector(key='comment')),\n",
    "#                         ('tfidf', MyTfidf(analyzer='word'))\n",
    "#                     ])),\n",
    "                    \n",
    "#                     # pipeline to generate features from comments using tfidf analyzed by char\n",
    "#                     ('tfidf_char', Pipeline([\n",
    "#                         ('selector', ItemSelector(key='comment')),\n",
    "#                         ('tfidf', MyTfidf(analyzer='char'))\n",
    "#                     ])),\n",
    "                    \n",
    "#                     # get other generated features \n",
    "#                     ('other_features', Pipeline([\n",
    "#                         ('selector', ItemSelector(key='features'))\n",
    "#                     ]))\n",
    "#                 ], \n",
    "#                 n_jobs=-1,\n",
    "#                 transformer_weights={\n",
    "#                     'tfidf_word': 1.0,\n",
    "#                     'tfidf_char': 1.0,\n",
    "#                     'other_features': 1.0,\n",
    "#                 }\n",
    "#             )),\n",
    "            \n",
    "#             # run MNB model on x_train, y_train\n",
    "#             ('mnb', MultinomialNB())\n",
    "#             ])\n",
    "\n",
    "# parameters = {'commentfeature__n_train': [n_train],\\\n",
    "#               'union__tfidf_word__tfidf__max_df': [0.6, 0.7, 0.8, 0.9],\\\n",
    "#               'union__tfidf_word__tfidf__min_df': [0, 10, 30, 100],\\\n",
    "#               'union__tfidf_word__tfidf__idx': [train_idx],\\\n",
    "#               'union__tfidf_char__tfidf__max_df': [1],\\\n",
    "#               'union__tfidf_char__tfidf__min_df': [0],\\\n",
    "#               'union__tfidf_char__tfidf__idx': [train_idx],\\\n",
    "#               'union__other_features__selector__idx': [train_idx],\\\n",
    "#               'nb__alpha': [1, 0.3, 0.1, 0.03, 0.01, 0.003]}\n",
    "# nb_toxic = GridSearchCV(pip, parameters, n_jobs=-1, scoring = 'roc_auc', verbose=1)\n",
    "# nb_toxic.fit(full_set.drop(['comment_text', 'id', 'identity_hate', 'insult', 'obscene', 'severe_toxic', 'threat'], \n",
    "#                            axis=1),\n",
    "#             y_train)"
   ]
  }
 ],
 "metadata": {
  "kernelspec": {
   "display_name": "Python 3",
   "language": "python",
   "name": "python3"
  },
  "language_info": {
   "codemirror_mode": {
    "name": "ipython",
    "version": 3
   },
   "file_extension": ".py",
   "mimetype": "text/x-python",
   "name": "python",
   "nbconvert_exporter": "python",
   "pygments_lexer": "ipython3",
   "version": "3.6.2"
  }
 },
 "nbformat": 4,
 "nbformat_minor": 2
}
