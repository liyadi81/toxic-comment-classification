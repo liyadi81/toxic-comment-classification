{
 "cells": [
  {
   "cell_type": "code",
   "execution_count": 3,
   "metadata": {
    "collapsed": true
   },
   "outputs": [],
   "source": [
    "import numpy as np\n",
    "import pandas as pd\n",
    "import matplotlib.pyplot as plt\n",
    "import seaborn as sns\n",
    "import time\n",
    "import re\n",
    "import string\n",
    "import os\n",
    "from collections import defaultdict\n",
    "\n",
    "pd.set_option(\"display.max_rows\",10)"
   ]
  },
  {
   "cell_type": "markdown",
   "metadata": {},
   "source": [
    "## Loading data"
   ]
  },
  {
   "cell_type": "code",
   "execution_count": 4,
   "metadata": {},
   "outputs": [
    {
     "name": "stdout",
     "output_type": "stream",
     "text": [
      "Training set shape: (159571, 8) \n",
      "Test set shape: (153164, 2)\n"
     ]
    }
   ],
   "source": [
    "train = pd.read_csv('train.csv', sep=',', encoding='utf8')\n",
    "test = pd.read_csv('test.csv', sep=',', encoding='utf8')\n",
    "print(\"Training set shape: {} \\nTest set shape: {}\".format(train.shape, test.shape))"
   ]
  },
  {
   "cell_type": "code",
   "execution_count": 5,
   "metadata": {
    "collapsed": true
   },
   "outputs": [],
   "source": [
    "n_train = train.shape[0]\n",
    "n_test = test.shape[0]"
   ]
  },
  {
   "cell_type": "code",
   "execution_count": 6,
   "metadata": {},
   "outputs": [
    {
     "data": {
      "text/html": [
       "<div>\n",
       "<style>\n",
       "    .dataframe thead tr:only-child th {\n",
       "        text-align: right;\n",
       "    }\n",
       "\n",
       "    .dataframe thead th {\n",
       "        text-align: left;\n",
       "    }\n",
       "\n",
       "    .dataframe tbody tr th {\n",
       "        vertical-align: top;\n",
       "    }\n",
       "</style>\n",
       "<table border=\"1\" class=\"dataframe\">\n",
       "  <thead>\n",
       "    <tr style=\"text-align: right;\">\n",
       "      <th></th>\n",
       "      <th>id</th>\n",
       "      <th>comment_text</th>\n",
       "      <th>toxic</th>\n",
       "      <th>severe_toxic</th>\n",
       "      <th>obscene</th>\n",
       "      <th>threat</th>\n",
       "      <th>insult</th>\n",
       "      <th>identity_hate</th>\n",
       "    </tr>\n",
       "  </thead>\n",
       "  <tbody>\n",
       "    <tr>\n",
       "      <th>0</th>\n",
       "      <td>0000997932d777bf</td>\n",
       "      <td>Explanation\\nWhy the edits made under my usern...</td>\n",
       "      <td>0</td>\n",
       "      <td>0</td>\n",
       "      <td>0</td>\n",
       "      <td>0</td>\n",
       "      <td>0</td>\n",
       "      <td>0</td>\n",
       "    </tr>\n",
       "    <tr>\n",
       "      <th>1</th>\n",
       "      <td>000103f0d9cfb60f</td>\n",
       "      <td>D'aww! He matches this background colour I'm s...</td>\n",
       "      <td>0</td>\n",
       "      <td>0</td>\n",
       "      <td>0</td>\n",
       "      <td>0</td>\n",
       "      <td>0</td>\n",
       "      <td>0</td>\n",
       "    </tr>\n",
       "    <tr>\n",
       "      <th>2</th>\n",
       "      <td>000113f07ec002fd</td>\n",
       "      <td>Hey man, I'm really not trying to edit war. It...</td>\n",
       "      <td>0</td>\n",
       "      <td>0</td>\n",
       "      <td>0</td>\n",
       "      <td>0</td>\n",
       "      <td>0</td>\n",
       "      <td>0</td>\n",
       "    </tr>\n",
       "    <tr>\n",
       "      <th>3</th>\n",
       "      <td>0001b41b1c6bb37e</td>\n",
       "      <td>\"\\nMore\\nI can't make any real suggestions on ...</td>\n",
       "      <td>0</td>\n",
       "      <td>0</td>\n",
       "      <td>0</td>\n",
       "      <td>0</td>\n",
       "      <td>0</td>\n",
       "      <td>0</td>\n",
       "    </tr>\n",
       "    <tr>\n",
       "      <th>4</th>\n",
       "      <td>0001d958c54c6e35</td>\n",
       "      <td>You, sir, are my hero. Any chance you remember...</td>\n",
       "      <td>0</td>\n",
       "      <td>0</td>\n",
       "      <td>0</td>\n",
       "      <td>0</td>\n",
       "      <td>0</td>\n",
       "      <td>0</td>\n",
       "    </tr>\n",
       "    <tr>\n",
       "      <th>5</th>\n",
       "      <td>00025465d4725e87</td>\n",
       "      <td>\"\\n\\nCongratulations from me as well, use the ...</td>\n",
       "      <td>0</td>\n",
       "      <td>0</td>\n",
       "      <td>0</td>\n",
       "      <td>0</td>\n",
       "      <td>0</td>\n",
       "      <td>0</td>\n",
       "    </tr>\n",
       "    <tr>\n",
       "      <th>6</th>\n",
       "      <td>0002bcb3da6cb337</td>\n",
       "      <td>COCKSUCKER BEFORE YOU PISS AROUND ON MY WORK</td>\n",
       "      <td>1</td>\n",
       "      <td>1</td>\n",
       "      <td>1</td>\n",
       "      <td>0</td>\n",
       "      <td>1</td>\n",
       "      <td>0</td>\n",
       "    </tr>\n",
       "    <tr>\n",
       "      <th>7</th>\n",
       "      <td>00031b1e95af7921</td>\n",
       "      <td>Your vandalism to the Matt Shirvington article...</td>\n",
       "      <td>0</td>\n",
       "      <td>0</td>\n",
       "      <td>0</td>\n",
       "      <td>0</td>\n",
       "      <td>0</td>\n",
       "      <td>0</td>\n",
       "    </tr>\n",
       "    <tr>\n",
       "      <th>8</th>\n",
       "      <td>00037261f536c51d</td>\n",
       "      <td>Sorry if the word 'nonsense' was offensive to ...</td>\n",
       "      <td>0</td>\n",
       "      <td>0</td>\n",
       "      <td>0</td>\n",
       "      <td>0</td>\n",
       "      <td>0</td>\n",
       "      <td>0</td>\n",
       "    </tr>\n",
       "    <tr>\n",
       "      <th>9</th>\n",
       "      <td>00040093b2687caa</td>\n",
       "      <td>alignment on this subject and which are contra...</td>\n",
       "      <td>0</td>\n",
       "      <td>0</td>\n",
       "      <td>0</td>\n",
       "      <td>0</td>\n",
       "      <td>0</td>\n",
       "      <td>0</td>\n",
       "    </tr>\n",
       "  </tbody>\n",
       "</table>\n",
       "</div>"
      ],
      "text/plain": [
       "                 id                                       comment_text  toxic  \\\n",
       "0  0000997932d777bf  Explanation\\nWhy the edits made under my usern...      0   \n",
       "1  000103f0d9cfb60f  D'aww! He matches this background colour I'm s...      0   \n",
       "2  000113f07ec002fd  Hey man, I'm really not trying to edit war. It...      0   \n",
       "3  0001b41b1c6bb37e  \"\\nMore\\nI can't make any real suggestions on ...      0   \n",
       "4  0001d958c54c6e35  You, sir, are my hero. Any chance you remember...      0   \n",
       "5  00025465d4725e87  \"\\n\\nCongratulations from me as well, use the ...      0   \n",
       "6  0002bcb3da6cb337       COCKSUCKER BEFORE YOU PISS AROUND ON MY WORK      1   \n",
       "7  00031b1e95af7921  Your vandalism to the Matt Shirvington article...      0   \n",
       "8  00037261f536c51d  Sorry if the word 'nonsense' was offensive to ...      0   \n",
       "9  00040093b2687caa  alignment on this subject and which are contra...      0   \n",
       "\n",
       "   severe_toxic  obscene  threat  insult  identity_hate  \n",
       "0             0        0       0       0              0  \n",
       "1             0        0       0       0              0  \n",
       "2             0        0       0       0              0  \n",
       "3             0        0       0       0              0  \n",
       "4             0        0       0       0              0  \n",
       "5             0        0       0       0              0  \n",
       "6             1        1       0       1              0  \n",
       "7             0        0       0       0              0  \n",
       "8             0        0       0       0              0  \n",
       "9             0        0       0       0              0  "
      ]
     },
     "execution_count": 6,
     "metadata": {},
     "output_type": "execute_result"
    }
   ],
   "source": [
    "train.head(10)"
   ]
  },
  {
   "cell_type": "code",
   "execution_count": 7,
   "metadata": {},
   "outputs": [
    {
     "data": {
      "text/plain": [
       "id               0\n",
       "comment_text     0\n",
       "toxic            0\n",
       "severe_toxic     0\n",
       "obscene          0\n",
       "threat           0\n",
       "insult           0\n",
       "identity_hate    0\n",
       "dtype: int64"
      ]
     },
     "execution_count": 7,
     "metadata": {},
     "output_type": "execute_result"
    }
   ],
   "source": [
    "# no missing value\n",
    "train.isnull().sum()"
   ]
  },
  {
   "cell_type": "code",
   "execution_count": 8,
   "metadata": {},
   "outputs": [
    {
     "data": {
      "text/html": [
       "<div>\n",
       "<style>\n",
       "    .dataframe thead tr:only-child th {\n",
       "        text-align: right;\n",
       "    }\n",
       "\n",
       "    .dataframe thead th {\n",
       "        text-align: left;\n",
       "    }\n",
       "\n",
       "    .dataframe tbody tr th {\n",
       "        vertical-align: top;\n",
       "    }\n",
       "</style>\n",
       "<table border=\"1\" class=\"dataframe\">\n",
       "  <thead>\n",
       "    <tr style=\"text-align: right;\">\n",
       "      <th></th>\n",
       "      <th>toxic</th>\n",
       "      <th>severe_toxic</th>\n",
       "      <th>obscene</th>\n",
       "      <th>threat</th>\n",
       "      <th>insult</th>\n",
       "      <th>identity_hate</th>\n",
       "    </tr>\n",
       "  </thead>\n",
       "  <tbody>\n",
       "    <tr>\n",
       "      <th>count</th>\n",
       "      <td>159571.000000</td>\n",
       "      <td>159571.000000</td>\n",
       "      <td>159571.000000</td>\n",
       "      <td>159571.000000</td>\n",
       "      <td>159571.000000</td>\n",
       "      <td>159571.000000</td>\n",
       "    </tr>\n",
       "    <tr>\n",
       "      <th>mean</th>\n",
       "      <td>0.095844</td>\n",
       "      <td>0.009996</td>\n",
       "      <td>0.052948</td>\n",
       "      <td>0.002996</td>\n",
       "      <td>0.049364</td>\n",
       "      <td>0.008805</td>\n",
       "    </tr>\n",
       "    <tr>\n",
       "      <th>std</th>\n",
       "      <td>0.294379</td>\n",
       "      <td>0.099477</td>\n",
       "      <td>0.223931</td>\n",
       "      <td>0.054650</td>\n",
       "      <td>0.216627</td>\n",
       "      <td>0.093420</td>\n",
       "    </tr>\n",
       "    <tr>\n",
       "      <th>min</th>\n",
       "      <td>0.000000</td>\n",
       "      <td>0.000000</td>\n",
       "      <td>0.000000</td>\n",
       "      <td>0.000000</td>\n",
       "      <td>0.000000</td>\n",
       "      <td>0.000000</td>\n",
       "    </tr>\n",
       "    <tr>\n",
       "      <th>25%</th>\n",
       "      <td>0.000000</td>\n",
       "      <td>0.000000</td>\n",
       "      <td>0.000000</td>\n",
       "      <td>0.000000</td>\n",
       "      <td>0.000000</td>\n",
       "      <td>0.000000</td>\n",
       "    </tr>\n",
       "    <tr>\n",
       "      <th>50%</th>\n",
       "      <td>0.000000</td>\n",
       "      <td>0.000000</td>\n",
       "      <td>0.000000</td>\n",
       "      <td>0.000000</td>\n",
       "      <td>0.000000</td>\n",
       "      <td>0.000000</td>\n",
       "    </tr>\n",
       "    <tr>\n",
       "      <th>75%</th>\n",
       "      <td>0.000000</td>\n",
       "      <td>0.000000</td>\n",
       "      <td>0.000000</td>\n",
       "      <td>0.000000</td>\n",
       "      <td>0.000000</td>\n",
       "      <td>0.000000</td>\n",
       "    </tr>\n",
       "    <tr>\n",
       "      <th>max</th>\n",
       "      <td>1.000000</td>\n",
       "      <td>1.000000</td>\n",
       "      <td>1.000000</td>\n",
       "      <td>1.000000</td>\n",
       "      <td>1.000000</td>\n",
       "      <td>1.000000</td>\n",
       "    </tr>\n",
       "  </tbody>\n",
       "</table>\n",
       "</div>"
      ],
      "text/plain": [
       "               toxic   severe_toxic        obscene         threat  \\\n",
       "count  159571.000000  159571.000000  159571.000000  159571.000000   \n",
       "mean        0.095844       0.009996       0.052948       0.002996   \n",
       "std         0.294379       0.099477       0.223931       0.054650   \n",
       "min         0.000000       0.000000       0.000000       0.000000   \n",
       "25%         0.000000       0.000000       0.000000       0.000000   \n",
       "50%         0.000000       0.000000       0.000000       0.000000   \n",
       "75%         0.000000       0.000000       0.000000       0.000000   \n",
       "max         1.000000       1.000000       1.000000       1.000000   \n",
       "\n",
       "              insult  identity_hate  \n",
       "count  159571.000000  159571.000000  \n",
       "mean        0.049364       0.008805  \n",
       "std         0.216627       0.093420  \n",
       "min         0.000000       0.000000  \n",
       "25%         0.000000       0.000000  \n",
       "50%         0.000000       0.000000  \n",
       "75%         0.000000       0.000000  \n",
       "max         1.000000       1.000000  "
      ]
     },
     "execution_count": 8,
     "metadata": {},
     "output_type": "execute_result"
    }
   ],
   "source": [
    "# Checking statistics of the labels in the training set\n",
    "train.describe()"
   ]
  },
  {
   "cell_type": "code",
   "execution_count": 9,
   "metadata": {},
   "outputs": [
    {
     "data": {
      "text/html": [
       "<div>\n",
       "<style>\n",
       "    .dataframe thead tr:only-child th {\n",
       "        text-align: right;\n",
       "    }\n",
       "\n",
       "    .dataframe thead th {\n",
       "        text-align: left;\n",
       "    }\n",
       "\n",
       "    .dataframe tbody tr th {\n",
       "        vertical-align: top;\n",
       "    }\n",
       "</style>\n",
       "<table border=\"1\" class=\"dataframe\">\n",
       "  <thead>\n",
       "    <tr style=\"text-align: right;\">\n",
       "      <th></th>\n",
       "      <th>toxic</th>\n",
       "      <th>severe_toxic</th>\n",
       "      <th>obscene</th>\n",
       "      <th>threat</th>\n",
       "      <th>insult</th>\n",
       "      <th>identity_hate</th>\n",
       "    </tr>\n",
       "  </thead>\n",
       "  <tbody>\n",
       "    <tr>\n",
       "      <th>0</th>\n",
       "      <td>15294</td>\n",
       "      <td>1595</td>\n",
       "      <td>8449</td>\n",
       "      <td>478</td>\n",
       "      <td>7877</td>\n",
       "      <td>1405</td>\n",
       "    </tr>\n",
       "  </tbody>\n",
       "</table>\n",
       "</div>"
      ],
      "text/plain": [
       "   toxic  severe_toxic  obscene  threat  insult  identity_hate\n",
       "0  15294          1595     8449     478    7877           1405"
      ]
     },
     "execution_count": 9,
     "metadata": {},
     "output_type": "execute_result"
    }
   ],
   "source": [
    "# number of positive examples for each label\n",
    "pd.DataFrame(train.iloc[:, 2:8].sum()).transpose()"
   ]
  },
  {
   "cell_type": "code",
   "execution_count": 10,
   "metadata": {
    "scrolled": true
   },
   "outputs": [
    {
     "name": "stdout",
     "output_type": "stream",
     "text": [
      "                                                        comment_text\n",
      "toxic severe_toxic obscene threat insult identity_hate              \n",
      "0     0            0       0      0      0                    143346\n",
      "                                         1                        54\n",
      "                                  1      0                       301\n",
      "                                         1                        28\n",
      "                           1      0      0                        22\n",
      "                                  1      0                         3\n",
      "                   1       0      0      0                       317\n",
      "                                         1                         3\n",
      "                                  1      0                       181\n",
      "                                         1                        18\n",
      "                           1      0      0                         2\n",
      "                                  1      0                         2\n",
      "1     0            0       0      0      0                      5666\n",
      "                                         1                       136\n",
      "                                  1      0                      1215\n",
      "                                         1                       134\n",
      "                           1      0      0                       113\n",
      "                                         1                         7\n",
      "                                  1      0                        16\n",
      "                                         1                         3\n",
      "                   1       0      0      0                      1758\n",
      "                                         1                        35\n",
      "                                  1      0                      3800\n",
      "                                         1                       618\n",
      "                           1      0      0                        11\n",
      "                                  1      0                       131\n",
      "                                         1                        56\n",
      "      1            0       0      0      0                        41\n",
      "                                         1                         3\n",
      "                                  1      0                        14\n",
      "                                         1                         7\n",
      "                           1      0      0                        11\n",
      "                                         1                         1\n",
      "                                  1      0                         1\n",
      "                   1       0      0      0                       158\n",
      "                                         1                         6\n",
      "                                  1      0                       989\n",
      "                                         1                       265\n",
      "                           1      0      0                         4\n",
      "                                  1      0                        64\n",
      "                                         1                        31\n"
     ]
    }
   ],
   "source": [
    "# more detailed count for different toxic comments\n",
    "\n",
    "labels = train.columns[2:8].tolist()\n",
    "grp = train.iloc[:,1:8].groupby(labels)\n",
    "\n",
    "pd.set_option(\"display.max_rows\",50)\n",
    "print(grp.count())\n",
    "pd.set_option(\"display.max_rows\",10)"
   ]
  },
  {
   "cell_type": "code",
   "execution_count": 11,
   "metadata": {},
   "outputs": [
    {
     "data": {
      "image/png": "[encoded data removed]",
      "text/plain": [
       "<matplotlib.figure.Figure at 0x14c6aae5080>"
      ]
     },
     "metadata": {},
     "output_type": "display_data"
    }
   ],
   "source": [
    "# visuallize the distribution of value for different labels\n",
    "train.hist(figsize=(10,5), layout=(2,3))\n",
    "plt.show()"
   ]
  },
  {
   "cell_type": "code",
   "execution_count": 12,
   "metadata": {
    "scrolled": false
   },
   "outputs": [
    {
     "data": {
      "image/png": "[encoded data removed]",
      "text/plain": [
       "<matplotlib.figure.Figure at 0x14c6b193470>"
      ]
     },
     "metadata": {},
     "output_type": "display_data"
    }
   ],
   "source": [
    "# checking correlation of different lables\n",
    "\n",
    "plt.figure(figsize=(8,7))\n",
    "sns.set(font_scale=1.5)\n",
    "plt.yticks(rotation=0)\n",
    "sns.heatmap(train.iloc[:,2:].corr(method='spearman'), annot=True, square=True, linewidths=0.1)\n",
    "plt.show()"
   ]
  },
  {
   "cell_type": "markdown",
   "metadata": {},
   "source": [
    "## Text preprocessing\n"
   ]
  },
  {
   "cell_type": "code",
   "execution_count": 13,
   "metadata": {},
   "outputs": [
    {
     "data": {
      "text/html": [
       "<div>\n",
       "<style>\n",
       "    .dataframe thead tr:only-child th {\n",
       "        text-align: right;\n",
       "    }\n",
       "\n",
       "    .dataframe thead th {\n",
       "        text-align: left;\n",
       "    }\n",
       "\n",
       "    .dataframe tbody tr th {\n",
       "        vertical-align: top;\n",
       "    }\n",
       "</style>\n",
       "<table border=\"1\" class=\"dataframe\">\n",
       "  <thead>\n",
       "    <tr style=\"text-align: right;\">\n",
       "      <th></th>\n",
       "      <th>comment_text</th>\n",
       "      <th>id</th>\n",
       "      <th>identity_hate</th>\n",
       "      <th>insult</th>\n",
       "      <th>obscene</th>\n",
       "      <th>severe_toxic</th>\n",
       "      <th>threat</th>\n",
       "      <th>toxic</th>\n",
       "    </tr>\n",
       "  </thead>\n",
       "  <tbody>\n",
       "    <tr>\n",
       "      <th>0</th>\n",
       "      <td>Explanation\\nWhy the edits made under my usern...</td>\n",
       "      <td>0000997932d777bf</td>\n",
       "      <td>0.0</td>\n",
       "      <td>0.0</td>\n",
       "      <td>0.0</td>\n",
       "      <td>0.0</td>\n",
       "      <td>0.0</td>\n",
       "      <td>0.0</td>\n",
       "    </tr>\n",
       "    <tr>\n",
       "      <th>1</th>\n",
       "      <td>D'aww! He matches this background colour I'm s...</td>\n",
       "      <td>000103f0d9cfb60f</td>\n",
       "      <td>0.0</td>\n",
       "      <td>0.0</td>\n",
       "      <td>0.0</td>\n",
       "      <td>0.0</td>\n",
       "      <td>0.0</td>\n",
       "      <td>0.0</td>\n",
       "    </tr>\n",
       "    <tr>\n",
       "      <th>2</th>\n",
       "      <td>Hey man, I'm really not trying to edit war. It...</td>\n",
       "      <td>000113f07ec002fd</td>\n",
       "      <td>0.0</td>\n",
       "      <td>0.0</td>\n",
       "      <td>0.0</td>\n",
       "      <td>0.0</td>\n",
       "      <td>0.0</td>\n",
       "      <td>0.0</td>\n",
       "    </tr>\n",
       "    <tr>\n",
       "      <th>3</th>\n",
       "      <td>\"\\nMore\\nI can't make any real suggestions on ...</td>\n",
       "      <td>0001b41b1c6bb37e</td>\n",
       "      <td>0.0</td>\n",
       "      <td>0.0</td>\n",
       "      <td>0.0</td>\n",
       "      <td>0.0</td>\n",
       "      <td>0.0</td>\n",
       "      <td>0.0</td>\n",
       "    </tr>\n",
       "    <tr>\n",
       "      <th>4</th>\n",
       "      <td>You, sir, are my hero. Any chance you remember...</td>\n",
       "      <td>0001d958c54c6e35</td>\n",
       "      <td>0.0</td>\n",
       "      <td>0.0</td>\n",
       "      <td>0.0</td>\n",
       "      <td>0.0</td>\n",
       "      <td>0.0</td>\n",
       "      <td>0.0</td>\n",
       "    </tr>\n",
       "    <tr>\n",
       "      <th>...</th>\n",
       "      <td>...</td>\n",
       "      <td>...</td>\n",
       "      <td>...</td>\n",
       "      <td>...</td>\n",
       "      <td>...</td>\n",
       "      <td>...</td>\n",
       "      <td>...</td>\n",
       "      <td>...</td>\n",
       "    </tr>\n",
       "    <tr>\n",
       "      <th>312730</th>\n",
       "      <td>. \\n i totally agree, this stuff is nothing bu...</td>\n",
       "      <td>fffcd0960ee309b5</td>\n",
       "      <td>NaN</td>\n",
       "      <td>NaN</td>\n",
       "      <td>NaN</td>\n",
       "      <td>NaN</td>\n",
       "      <td>NaN</td>\n",
       "      <td>NaN</td>\n",
       "    </tr>\n",
       "    <tr>\n",
       "      <th>312731</th>\n",
       "      <td>== Throw from out field to home plate. == \\n\\n...</td>\n",
       "      <td>fffd7a9a6eb32c16</td>\n",
       "      <td>NaN</td>\n",
       "      <td>NaN</td>\n",
       "      <td>NaN</td>\n",
       "      <td>NaN</td>\n",
       "      <td>NaN</td>\n",
       "      <td>NaN</td>\n",
       "    </tr>\n",
       "    <tr>\n",
       "      <th>312732</th>\n",
       "      <td>\" \\n\\n == Okinotorishima categories == \\n\\n I ...</td>\n",
       "      <td>fffda9e8d6fafa9e</td>\n",
       "      <td>NaN</td>\n",
       "      <td>NaN</td>\n",
       "      <td>NaN</td>\n",
       "      <td>NaN</td>\n",
       "      <td>NaN</td>\n",
       "      <td>NaN</td>\n",
       "    </tr>\n",
       "    <tr>\n",
       "      <th>312733</th>\n",
       "      <td>\" \\n\\n == \"\"One of the founding nations of the...</td>\n",
       "      <td>fffe8f1340a79fc2</td>\n",
       "      <td>NaN</td>\n",
       "      <td>NaN</td>\n",
       "      <td>NaN</td>\n",
       "      <td>NaN</td>\n",
       "      <td>NaN</td>\n",
       "      <td>NaN</td>\n",
       "    </tr>\n",
       "    <tr>\n",
       "      <th>312734</th>\n",
       "      <td>\" \\n :::Stop already. Your bullshit is not wel...</td>\n",
       "      <td>ffffce3fb183ee80</td>\n",
       "      <td>NaN</td>\n",
       "      <td>NaN</td>\n",
       "      <td>NaN</td>\n",
       "      <td>NaN</td>\n",
       "      <td>NaN</td>\n",
       "      <td>NaN</td>\n",
       "    </tr>\n",
       "  </tbody>\n",
       "</table>\n",
       "<p>312735 rows × 8 columns</p>\n",
       "</div>"
      ],
      "text/plain": [
       "                                             comment_text                id  \\\n",
       "0       Explanation\\nWhy the edits made under my usern...  0000997932d777bf   \n",
       "1       D'aww! He matches this background colour I'm s...  000103f0d9cfb60f   \n",
       "2       Hey man, I'm really not trying to edit war. It...  000113f07ec002fd   \n",
       "3       \"\\nMore\\nI can't make any real suggestions on ...  0001b41b1c6bb37e   \n",
       "4       You, sir, are my hero. Any chance you remember...  0001d958c54c6e35   \n",
       "...                                                   ...               ...   \n",
       "312730  . \\n i totally agree, this stuff is nothing bu...  fffcd0960ee309b5   \n",
       "312731  == Throw from out field to home plate. == \\n\\n...  fffd7a9a6eb32c16   \n",
       "312732  \" \\n\\n == Okinotorishima categories == \\n\\n I ...  fffda9e8d6fafa9e   \n",
       "312733  \" \\n\\n == \"\"One of the founding nations of the...  fffe8f1340a79fc2   \n",
       "312734  \" \\n :::Stop already. Your bullshit is not wel...  ffffce3fb183ee80   \n",
       "\n",
       "        identity_hate  insult  obscene  severe_toxic  threat  toxic  \n",
       "0                 0.0     0.0      0.0           0.0     0.0    0.0  \n",
       "1                 0.0     0.0      0.0           0.0     0.0    0.0  \n",
       "2                 0.0     0.0      0.0           0.0     0.0    0.0  \n",
       "3                 0.0     0.0      0.0           0.0     0.0    0.0  \n",
       "4                 0.0     0.0      0.0           0.0     0.0    0.0  \n",
       "...               ...     ...      ...           ...     ...    ...  \n",
       "312730            NaN     NaN      NaN           NaN     NaN    NaN  \n",
       "312731            NaN     NaN      NaN           NaN     NaN    NaN  \n",
       "312732            NaN     NaN      NaN           NaN     NaN    NaN  \n",
       "312733            NaN     NaN      NaN           NaN     NaN    NaN  \n",
       "312734            NaN     NaN      NaN           NaN     NaN    NaN  \n",
       "\n",
       "[312735 rows x 8 columns]"
      ]
     },
     "execution_count": 13,
     "metadata": {},
     "output_type": "execute_result"
    }
   ],
   "source": [
    "full_set = pd.concat([train,test], axis=0, ignore_index=True)\n",
    "full_set"
   ]
  },
  {
   "cell_type": "code",
   "execution_count": 14,
   "metadata": {
    "collapsed": true
   },
   "outputs": [],
   "source": [
    "import spacy\n",
    "nlp = spacy.load('en_core_web_lg') \n",
    "\n",
    "from spacy.tokenizer import Tokenizer\n",
    "tokenizer = Tokenizer(nlp.vocab)"
   ]
  },
  {
   "cell_type": "code",
   "execution_count": 15,
   "metadata": {
    "collapsed": true
   },
   "outputs": [],
   "source": [
    "# update punctuation in spacy\n",
    "nlp.vocab[\"$\"].is_punct = True\n",
    "nlp.vocab[\"|\"].is_punct = True\n",
    "nlp.vocab[\"+\"].is_punct = True\n",
    "nlp.vocab[\"<\"].is_punct = True\n",
    "nlp.vocab[\">\"].is_punct = True\n",
    "nlp.vocab[\"=\"].is_punct = True\n",
    "nlp.vocab[\"^\"].is_punct = True\n",
    "nlp.vocab[\"`\"].is_punct = True\n",
    "nlp.vocab[\"~\"].is_punct = True"
   ]
  },
  {
   "cell_type": "code",
   "execution_count": 16,
   "metadata": {
    "collapsed": true
   },
   "outputs": [],
   "source": [
    "import multiprocessing\n",
    "cores = multiprocessing.cpu_count()"
   ]
  },
  {
   "cell_type": "code",
   "execution_count": 17,
   "metadata": {
    "collapsed": true
   },
   "outputs": [],
   "source": [
    "def nlp_to_remove(token):\n",
    "    return(token.is_stop or                                                # remove stop words\n",
    "           token.is_punct or                                               # reomve punctuations\n",
    "           token.is_space or                                               # remove white space char\n",
    "           token.lemma_=='-PRON-'                                          # fixing '-PRON-' issue\n",
    "           )\n",
    "\n",
    "def nlp_pip(comment_column, n_cores=cores):\n",
    "    res = defaultdict(list)\n",
    "    n = 0\n",
    "    start_time = time.time()\n",
    "    for doc in nlp.pipe(comment_column, n_threads=cores):\n",
    "        filtered_tokens = [token for token in doc if not nlp_to_remove(token)]\n",
    "        m = len(filtered_tokens)\n",
    "        if m>0:\n",
    "            res['caps'].append(sum([token.is_upper for token in filtered_tokens])/m)          # percentage of upper words\n",
    "            res['longest_word'].append(max([len(token) for token in filtered_tokens]))        # length of the longest word\n",
    "        else:\n",
    "            res['caps'].append(0)\n",
    "            res['longest_word'].append(0)\n",
    "        lemma_token = [token.lemma_.lower() for token in filtered_tokens]\n",
    "        res['tokenized'].append(lemma_token)                                                  # list of tokens\n",
    "        res['cleaned_text'].append(' '.join(lemma_token))                                     # recombined text\n",
    "        res['len_doc'].append(len(doc))                                                       # number of char\n",
    "        res['n_words'].append(m)                                                              # number of words\n",
    "        res['oov'].append(sum([token.is_oov for token in filtered_tokens]))                   # count of out of vocabulary words \n",
    "        n += 1\n",
    "        if n%10000 ==0:\n",
    "            print(\"finished {} iterattions, elapsed time: {:.2f} min\".format(n, (time.time()-start_time)/60))\n",
    "    return(res)\n",
    "\n",
    "def token_to_remove(token):    \n",
    "    return(token.is_punct or \n",
    "           token.is_space or \n",
    "           token.lemma_.lower() in nlp.Defaults.stop_words                                   # is_stop not working with lg model\n",
    "           )\n",
    "    \n",
    "def token_pip(comment_column, n_cores=cores):\n",
    "    res = defaultdict(list)\n",
    "    n = 0\n",
    "    start_time = time.time()\n",
    "    for doc in tokenizer.pipe(comment_column, n_threads=cores):\n",
    "        filtered_tokens = [token for token in doc if not token_to_remove(token)]\n",
    "        m = len(filtered_tokens)\n",
    "        if m>0:\n",
    "            res['caps'].append(sum([token.is_upper for token in filtered_tokens])/m)          # percentage of upper words\n",
    "            res['longest_word'].append(max([len(token) for token in filtered_tokens]))        # length of the longest word\n",
    "        else:\n",
    "            res['caps'].append(0)\n",
    "            res['longest_word'].append(0)\n",
    "        lemma_token = [token.lemma_.lower() for token in filtered_tokens]\n",
    "#         res['tokenized'].append([token.lemma_.lower() for token in filtered_tokens])        \n",
    "        res['cleaned_text'].append(' '.join(lemma_token))                                     # recombined text\n",
    "        res['len_doc'].append(len(doc))                                                       # length of doc\n",
    "        res['n_words'].append(m)                                                              # number of filtered words\n",
    "        res['oov'].append(sum([token.is_oov for token in filtered_tokens]))                   # count of out of vocabulary words \n",
    "        n += 1\n",
    "        if n%10000 ==0:\n",
    "            print(\"finished {} iterattions, elapsed time: {:.2f} s\".format(n, time.time()-start_time))\n",
    "    return(res)\n",
    "\n",
    "def token_combine(nested_list):\n",
    "    combined_doc = []\n",
    "    for i in range(len(nested_list)):\n",
    "        combined_doc.append(' '.join(nested_list[i]))\n",
    "    return(combined_doc)"
   ]
  },
  {
   "cell_type": "code",
   "execution_count": 18,
   "metadata": {
    "scrolled": true
   },
   "outputs": [
    {
     "name": "stdout",
     "output_type": "stream",
     "text": [
      "Wall time: 1.01 s\n"
     ]
    }
   ],
   "source": [
    "%%time\n",
    "\n",
    "# takes a few minutes to process\n",
    "\n",
    "if not os.path.exists('full_cleaned.pkl') or 0==1:\n",
    "    print(\"start processing text...\")\n",
    "    \n",
    "    # processing url, ip address and punctuations\n",
    "    full_set.comment_text = full_set.comment_text.apply(lambda x: re.sub(r\"(https|http)\\S+\", \"\", x))\n",
    "    full_set.comment_text = full_set.comment_text.apply(lambda x: re.sub(r'[0-9]+(\\.[0-9]+){3}', 'ipaddress', x))\n",
    "    full_set.comment_text = full_set.comment_text.apply(lambda x: re.sub(r'([{}])'.format(string.punctuation),\n",
    "                                                                         ' \\g<1> ', x))  # “”¨«»®´·º½¾¿¡§£₤‘’\n",
    "    \n",
    "#     features = nlp_pip(full_set.comment_text)            # this one takes long time\n",
    "    features = token_pip(full_set.comment_text)      # this one much faster\n",
    "    for k in features:\n",
    "        if k=='cleaned_text':\n",
    "            full_set[k] = features[k]\n",
    "        else:\n",
    "            full_set[k] = features[k]/np.std(features[k])    # normalize\n",
    "    print('Saving dataframe...')\n",
    "    full_set.to_pickle('full_cleaned.pkl')\n",
    "else:\n",
    "    full_set = pd.read_pickle('full_cleaned.pkl')"
   ]
  },
  {
   "cell_type": "code",
   "execution_count": 19,
   "metadata": {
    "scrolled": true
   },
   "outputs": [
    {
     "data": {
      "text/html": [
       "<div>\n",
       "<style>\n",
       "    .dataframe thead tr:only-child th {\n",
       "        text-align: right;\n",
       "    }\n",
       "\n",
       "    .dataframe thead th {\n",
       "        text-align: left;\n",
       "    }\n",
       "\n",
       "    .dataframe tbody tr th {\n",
       "        vertical-align: top;\n",
       "    }\n",
       "</style>\n",
       "<table border=\"1\" class=\"dataframe\">\n",
       "  <thead>\n",
       "    <tr style=\"text-align: right;\">\n",
       "      <th></th>\n",
       "      <th>comment_text</th>\n",
       "      <th>id</th>\n",
       "      <th>identity_hate</th>\n",
       "      <th>insult</th>\n",
       "      <th>obscene</th>\n",
       "      <th>severe_toxic</th>\n",
       "      <th>threat</th>\n",
       "      <th>toxic</th>\n",
       "      <th>caps</th>\n",
       "      <th>longest_word</th>\n",
       "      <th>cleaned_text</th>\n",
       "      <th>len_doc</th>\n",
       "      <th>n_words</th>\n",
       "      <th>oov</th>\n",
       "    </tr>\n",
       "  </thead>\n",
       "  <tbody>\n",
       "    <tr>\n",
       "      <th>0</th>\n",
       "      <td>Explanation\\nWhy the edits made under my usern...</td>\n",
       "      <td>0000997932d777bf</td>\n",
       "      <td>0.0</td>\n",
       "      <td>0.0</td>\n",
       "      <td>0.0</td>\n",
       "      <td>0.0</td>\n",
       "      <td>0.0</td>\n",
       "      <td>0.0</td>\n",
       "      <td>0.040000</td>\n",
       "      <td>11</td>\n",
       "      <td>explanation edit username hardcore metallica f...</td>\n",
       "      <td>58</td>\n",
       "      <td>25</td>\n",
       "      <td>0</td>\n",
       "    </tr>\n",
       "    <tr>\n",
       "      <th>1</th>\n",
       "      <td>D ' aww !  He matches this background colour I...</td>\n",
       "      <td>000103f0d9cfb60f</td>\n",
       "      <td>0.0</td>\n",
       "      <td>0.0</td>\n",
       "      <td>0.0</td>\n",
       "      <td>0.0</td>\n",
       "      <td>0.0</td>\n",
       "      <td>0.0</td>\n",
       "      <td>0.133333</td>\n",
       "      <td>10</td>\n",
       "      <td>d aww match background colour seemingly stick ...</td>\n",
       "      <td>39</td>\n",
       "      <td>15</td>\n",
       "      <td>0</td>\n",
       "    </tr>\n",
       "    <tr>\n",
       "      <th>2</th>\n",
       "      <td>Hey man ,  I ' m really not trying to edit war...</td>\n",
       "      <td>000113f07ec002fd</td>\n",
       "      <td>0.0</td>\n",
       "      <td>0.0</td>\n",
       "      <td>0.0</td>\n",
       "      <td>0.0</td>\n",
       "      <td>0.0</td>\n",
       "      <td>0.0</td>\n",
       "      <td>0.000000</td>\n",
       "      <td>11</td>\n",
       "      <td>hey man try edit war s guy constantly remove r...</td>\n",
       "      <td>53</td>\n",
       "      <td>20</td>\n",
       "      <td>0</td>\n",
       "    </tr>\n",
       "    <tr>\n",
       "      <th>3</th>\n",
       "      <td>\" \\nMore\\nI can ' t make any real suggestions...</td>\n",
       "      <td>0001b41b1c6bb37e</td>\n",
       "      <td>0.0</td>\n",
       "      <td>0.0</td>\n",
       "      <td>0.0</td>\n",
       "      <td>0.0</td>\n",
       "      <td>0.0</td>\n",
       "      <td>0.0</td>\n",
       "      <td>0.000000</td>\n",
       "      <td>11</td>\n",
       "      <td>t real suggestion improvement wonder section s...</td>\n",
       "      <td>154</td>\n",
       "      <td>49</td>\n",
       "      <td>0</td>\n",
       "    </tr>\n",
       "    <tr>\n",
       "      <th>4</th>\n",
       "      <td>You ,  sir ,  are my hero .  Any chance you re...</td>\n",
       "      <td>0001d958c54c6e35</td>\n",
       "      <td>0.0</td>\n",
       "      <td>0.0</td>\n",
       "      <td>0.0</td>\n",
       "      <td>0.0</td>\n",
       "      <td>0.0</td>\n",
       "      <td>0.0</td>\n",
       "      <td>0.000000</td>\n",
       "      <td>8</td>\n",
       "      <td>sir hero chance remember page s</td>\n",
       "      <td>22</td>\n",
       "      <td>6</td>\n",
       "      <td>0</td>\n",
       "    </tr>\n",
       "    <tr>\n",
       "      <th>...</th>\n",
       "      <td>...</td>\n",
       "      <td>...</td>\n",
       "      <td>...</td>\n",
       "      <td>...</td>\n",
       "      <td>...</td>\n",
       "      <td>...</td>\n",
       "      <td>...</td>\n",
       "      <td>...</td>\n",
       "      <td>...</td>\n",
       "      <td>...</td>\n",
       "      <td>...</td>\n",
       "      <td>...</td>\n",
       "      <td>...</td>\n",
       "      <td>...</td>\n",
       "    </tr>\n",
       "    <tr>\n",
       "      <th>312730</th>\n",
       "      <td>.  \\n i totally agree ,  this stuff is nothin...</td>\n",
       "      <td>fffcd0960ee309b5</td>\n",
       "      <td>NaN</td>\n",
       "      <td>NaN</td>\n",
       "      <td>NaN</td>\n",
       "      <td>NaN</td>\n",
       "      <td>NaN</td>\n",
       "      <td>NaN</td>\n",
       "      <td>0.000000</td>\n",
       "      <td>7</td>\n",
       "      <td>totally agree stuff long crap</td>\n",
       "      <td>18</td>\n",
       "      <td>5</td>\n",
       "      <td>0</td>\n",
       "    </tr>\n",
       "    <tr>\n",
       "      <th>312731</th>\n",
       "      <td>=  =  Throw from out field to home plate .   ...</td>\n",
       "      <td>fffd7a9a6eb32c16</td>\n",
       "      <td>NaN</td>\n",
       "      <td>NaN</td>\n",
       "      <td>NaN</td>\n",
       "      <td>NaN</td>\n",
       "      <td>NaN</td>\n",
       "      <td>NaN</td>\n",
       "      <td>0.000000</td>\n",
       "      <td>8</td>\n",
       "      <td>throw field home plate fast throw cut man dire...</td>\n",
       "      <td>51</td>\n",
       "      <td>16</td>\n",
       "      <td>0</td>\n",
       "    </tr>\n",
       "    <tr>\n",
       "      <th>312732</th>\n",
       "      <td>\"  \\n\\n  =  =  Okinotorishima categories  =  ...</td>\n",
       "      <td>fffda9e8d6fafa9e</td>\n",
       "      <td>NaN</td>\n",
       "      <td>NaN</td>\n",
       "      <td>NaN</td>\n",
       "      <td>NaN</td>\n",
       "      <td>NaN</td>\n",
       "      <td>NaN</td>\n",
       "      <td>0.071429</td>\n",
       "      <td>14</td>\n",
       "      <td>okinotorishima category change agree correct c...</td>\n",
       "      <td>132</td>\n",
       "      <td>28</td>\n",
       "      <td>3</td>\n",
       "    </tr>\n",
       "    <tr>\n",
       "      <th>312733</th>\n",
       "      <td>\"  \\n\\n  =  =   \"  \" One of the founding nati...</td>\n",
       "      <td>fffe8f1340a79fc2</td>\n",
       "      <td>NaN</td>\n",
       "      <td>NaN</td>\n",
       "      <td>NaN</td>\n",
       "      <td>NaN</td>\n",
       "      <td>NaN</td>\n",
       "      <td>NaN</td>\n",
       "      <td>0.044444</td>\n",
       "      <td>11</td>\n",
       "      <td>found nation eu germany law return similar isr...</td>\n",
       "      <td>149</td>\n",
       "      <td>45</td>\n",
       "      <td>1</td>\n",
       "    </tr>\n",
       "    <tr>\n",
       "      <th>312734</th>\n",
       "      <td>\"  \\n  :  :  : Stop already .  Your bullshit ...</td>\n",
       "      <td>ffffce3fb183ee80</td>\n",
       "      <td>NaN</td>\n",
       "      <td>NaN</td>\n",
       "      <td>NaN</td>\n",
       "      <td>NaN</td>\n",
       "      <td>NaN</td>\n",
       "      <td>NaN</td>\n",
       "      <td>0.000000</td>\n",
       "      <td>11</td>\n",
       "      <td>stop bullshit welcome fool think kind explinat...</td>\n",
       "      <td>45</td>\n",
       "      <td>9</td>\n",
       "      <td>0</td>\n",
       "    </tr>\n",
       "  </tbody>\n",
       "</table>\n",
       "<p>312735 rows × 14 columns</p>\n",
       "</div>"
      ],
      "text/plain": [
       "                                             comment_text                id  \\\n",
       "0       Explanation\\nWhy the edits made under my usern...  0000997932d777bf   \n",
       "1       D ' aww !  He matches this background colour I...  000103f0d9cfb60f   \n",
       "2       Hey man ,  I ' m really not trying to edit war...  000113f07ec002fd   \n",
       "3        \" \\nMore\\nI can ' t make any real suggestions...  0001b41b1c6bb37e   \n",
       "4       You ,  sir ,  are my hero .  Any chance you re...  0001d958c54c6e35   \n",
       "...                                                   ...               ...   \n",
       "312730   .  \\n i totally agree ,  this stuff is nothin...  fffcd0960ee309b5   \n",
       "312731   =  =  Throw from out field to home plate .   ...  fffd7a9a6eb32c16   \n",
       "312732   \"  \\n\\n  =  =  Okinotorishima categories  =  ...  fffda9e8d6fafa9e   \n",
       "312733   \"  \\n\\n  =  =   \"  \" One of the founding nati...  fffe8f1340a79fc2   \n",
       "312734   \"  \\n  :  :  : Stop already .  Your bullshit ...  ffffce3fb183ee80   \n",
       "\n",
       "        identity_hate  insult  obscene  severe_toxic  threat  toxic      caps  \\\n",
       "0                 0.0     0.0      0.0           0.0     0.0    0.0  0.040000   \n",
       "1                 0.0     0.0      0.0           0.0     0.0    0.0  0.133333   \n",
       "2                 0.0     0.0      0.0           0.0     0.0    0.0  0.000000   \n",
       "3                 0.0     0.0      0.0           0.0     0.0    0.0  0.000000   \n",
       "4                 0.0     0.0      0.0           0.0     0.0    0.0  0.000000   \n",
       "...               ...     ...      ...           ...     ...    ...       ...   \n",
       "312730            NaN     NaN      NaN           NaN     NaN    NaN  0.000000   \n",
       "312731            NaN     NaN      NaN           NaN     NaN    NaN  0.000000   \n",
       "312732            NaN     NaN      NaN           NaN     NaN    NaN  0.071429   \n",
       "312733            NaN     NaN      NaN           NaN     NaN    NaN  0.044444   \n",
       "312734            NaN     NaN      NaN           NaN     NaN    NaN  0.000000   \n",
       "\n",
       "        longest_word                                       cleaned_text  \\\n",
       "0                 11  explanation edit username hardcore metallica f...   \n",
       "1                 10  d aww match background colour seemingly stick ...   \n",
       "2                 11  hey man try edit war s guy constantly remove r...   \n",
       "3                 11  t real suggestion improvement wonder section s...   \n",
       "4                  8                    sir hero chance remember page s   \n",
       "...              ...                                                ...   \n",
       "312730             7                      totally agree stuff long crap   \n",
       "312731             8  throw field home plate fast throw cut man dire...   \n",
       "312732            14  okinotorishima category change agree correct c...   \n",
       "312733            11  found nation eu germany law return similar isr...   \n",
       "312734            11  stop bullshit welcome fool think kind explinat...   \n",
       "\n",
       "        len_doc  n_words  oov  \n",
       "0            58       25    0  \n",
       "1            39       15    0  \n",
       "2            53       20    0  \n",
       "3           154       49    0  \n",
       "4            22        6    0  \n",
       "...         ...      ...  ...  \n",
       "312730       18        5    0  \n",
       "312731       51       16    0  \n",
       "312732      132       28    3  \n",
       "312733      149       45    1  \n",
       "312734       45        9    0  \n",
       "\n",
       "[312735 rows x 14 columns]"
      ]
     },
     "execution_count": 19,
     "metadata": {},
     "output_type": "execute_result"
    }
   ],
   "source": [
    "full_set"
   ]
  },
  {
   "cell_type": "markdown",
   "metadata": {},
   "source": [
    "**check an example**"
   ]
  },
  {
   "cell_type": "code",
   "execution_count": 20,
   "metadata": {
    "scrolled": true
   },
   "outputs": [
    {
     "name": "stdout",
     "output_type": "stream",
     "text": [
      "I'm Sorry \n",
      "\n",
      "I'm sorry I screwed around with someones talk page.  It was very bad to do.  I know how having the templates on their talk page helps you assert your dominance over them.  I know I should bow down to the almighty administrators.  But then again, I'm going to go play outside....with your mom.   76.122.79.82\n",
      "sorry sorry screw someones talk page bad know template talk page help assert dominance know bow almighty administrator play outside mom ipaddress\n"
     ]
    }
   ],
   "source": [
    "# example comment in train set before and after processing\n",
    "\n",
    "idx = list(train.id).index('001956c382006abd')\n",
    "print(train.comment_text[idx])\n",
    "print(full_set.cleaned_text[idx])"
   ]
  },
  {
   "cell_type": "code",
   "execution_count": 21,
   "metadata": {},
   "outputs": [
    {
     "name": "stdout",
     "output_type": "stream",
     "text": [
      "FAT KID POOPS IN HIDS MOTHERNESS!!!!!!!! FREE SESSION ON LEARNING HOW TO POOP ON TUESDAYS AT THE PARK WITH A KITTEN WITH POOPNESS!!!!!!!!\n",
      "fat kid poops hids motherness free session learning poop tuesdays park kitten poopness\n"
     ]
    }
   ],
   "source": [
    "# example comment in test set before and after processing\n",
    "\n",
    "idx2 = 999\n",
    "print(test.comment_text[idx2])\n",
    "print(full_set.cleaned_text[n_train+idx2])"
   ]
  },
  {
   "cell_type": "markdown",
   "metadata": {},
   "source": [
    "**Some more EDA**"
   ]
  },
  {
   "cell_type": "code",
   "execution_count": 22,
   "metadata": {},
   "outputs": [
    {
     "name": "stdout",
     "output_type": "stream",
     "text": [
      "number of unique words in full set: 339501\n",
      "number of unique words in train set: 173819\n",
      "number of unique words in test set: 239113\n",
      "number of unique words in both train and test set: 73431\n"
     ]
    }
   ],
   "source": [
    "# number of unique words in train, test and full set. Large amount of non-overlapping words in train and test set\n",
    "\n",
    "from itertools import chain\n",
    "full_words = set(chain(*[text.split() for text in full_set.cleaned_text]))\n",
    "train_words = set(chain(*[text.split() for text in full_set.cleaned_text[:n_train]]))\n",
    "test_words = set(chain(*[text.split() for text in full_set.cleaned_text[n_train:]]))\n",
    "common_words = train_words & test_words\n",
    "print('number of unique words in full set: {}'.format(len(full_words)))\n",
    "print('number of unique words in train set: {}'.format(len(train_words)))\n",
    "print('number of unique words in test set: {}'.format(len(test_words)))\n",
    "print('number of unique words in both train and test set: {}'.format(len(common_words)))"
   ]
  },
  {
   "cell_type": "code",
   "execution_count": 23,
   "metadata": {},
   "outputs": [
    {
     "data": {
      "image/png": "[encoded data removed]",
      "text/plain": [
       "<matplotlib.figure.Figure at 0x14c4b923128>"
      ]
     },
     "metadata": {},
     "output_type": "display_data"
    }
   ],
   "source": [
    "# visuallize the overlapping unique words in train and test set\n",
    "\n",
    "from matplotlib_venn import venn2\n",
    "\n",
    "venn2(subsets = (173819-73431, 239113-73431, 73431), set_labels = ('Train', 'Test'))\n",
    "plt.show()"
   ]
  },
  {
   "cell_type": "code",
   "execution_count": 24,
   "metadata": {},
   "outputs": [
    {
     "name": "stdout",
     "output_type": "stream",
     "text": [
      "Total number of toxic comments in train set: 16225\n",
      "Number of words in toxic comments: 30847\n",
      "--------------------------------------------------\n",
      "Number of common words in toxic comments: 22285\n",
      "Number of train only words in toxic comments: 8562\n"
     ]
    }
   ],
   "source": [
    "# Majority of the words in toxic comments are common words also in test set. There are still ~27% words\n",
    "# in toxic train comments, but not seen in test comments\n",
    "# using features by tfidf with analyzer='char' should help to reduce this problem\n",
    "\n",
    "toxic_comments_idx = train.iloc[:,2:8].any(axis=1)\n",
    "print('Total number of toxic comments in train set: {}'.format(toxic_comments_idx.sum()))\n",
    "words_in_toxic_comments = set(chain(*[text.split() for text in full_set[:n_train][toxic_comments_idx].cleaned_text]))\n",
    "print('Number of words in toxic comments: {}'.format(len(words_in_toxic_comments)))\n",
    "print('-'*50)\n",
    "print('Number of common words in toxic comments: {}'.format(len(words_in_toxic_comments & common_words)))\n",
    "print('Number of train only words in toxic comments: {}'.format(len(words_in_toxic_comments & (train_words - common_words))))"
   ]
  },
  {
   "cell_type": "code",
   "execution_count": 25,
   "metadata": {
    "collapsed": true
   },
   "outputs": [],
   "source": [
    "# frequent words in toxic comments:\n",
    "\n",
    "from collections import Counter\n",
    "toxic_word_freq = Counter(list(chain(*[text.split() for text in full_set[:n_train][toxic_comments_idx].cleaned_text])))"
   ]
  },
  {
   "cell_type": "code",
   "execution_count": 26,
   "metadata": {
    "scrolled": true
   },
   "outputs": [
    {
     "data": {
      "text/plain": [
       "[('oi', 70),\n",
       " ('bill', 70),\n",
       " ('culture', 69),\n",
       " ('male', 69),\n",
       " ('advice', 69),\n",
       " ('wife', 69),\n",
       " ('date', 69),\n",
       " ('basically', 69),\n",
       " ('angry', 69),\n",
       " ('lady', 69),\n",
       " ('bestfrozen', 69),\n",
       " ('red', 69),\n",
       " ('vuvuzelas', 69),\n",
       " ('disruptive', 68),\n",
       " ('dispute', 68),\n",
       " ('gg', 68),\n",
       " ('share', 68),\n",
       " ('medium', 68),\n",
       " ('effort', 68),\n",
       " ('offend', 68),\n",
       " ('actual', 68),\n",
       " ('18', 68),\n",
       " ('uncivil', 68),\n",
       " ('controversial', 68),\n",
       " ('sup', 68),\n",
       " ('recent', 67),\n",
       " ('islam', 67),\n",
       " ('goodbye', 67),\n",
       " ('land', 67),\n",
       " ('motherfucking', 67),\n",
       " ('father', 67),\n",
       " ('star', 67),\n",
       " ('theory', 67),\n",
       " ('multiple', 67),\n",
       " ('thousand', 67),\n",
       " ('purpose', 67),\n",
       " ('figure', 67),\n",
       " ('npov', 67),\n",
       " ('lead', 67),\n",
       " ('position', 67),\n",
       " ('team', 67),\n",
       " ('vote', 67),\n",
       " ('repeatedly', 67),\n",
       " ('result', 67),\n",
       " ('billj', 67),\n",
       " ('lolooolbootstoots', 67),\n",
       " ('jump', 66),\n",
       " ('neutral', 66),\n",
       " ('situation', 66),\n",
       " ('honestly', 66)]"
      ]
     },
     "execution_count": 26,
     "metadata": {},
     "output_type": "execute_result"
    }
   ],
   "source": [
    "toxic_word_freq.most_common(1000)[-50:]"
   ]
  },
  {
   "cell_type": "code",
   "execution_count": 27,
   "metadata": {},
   "outputs": [
    {
     "data": {
      "text/html": [
       "<div>\n",
       "<style>\n",
       "    .dataframe thead tr:only-child th {\n",
       "        text-align: right;\n",
       "    }\n",
       "\n",
       "    .dataframe thead th {\n",
       "        text-align: left;\n",
       "    }\n",
       "\n",
       "    .dataframe tbody tr th {\n",
       "        vertical-align: top;\n",
       "    }\n",
       "</style>\n",
       "<table border=\"1\" class=\"dataframe\">\n",
       "  <thead>\n",
       "    <tr style=\"text-align: right;\">\n",
       "      <th></th>\n",
       "      <th>caps</th>\n",
       "      <th>longest_word</th>\n",
       "      <th>len_doc</th>\n",
       "      <th>n_words</th>\n",
       "      <th>oov</th>\n",
       "    </tr>\n",
       "  </thead>\n",
       "  <tbody>\n",
       "    <tr>\n",
       "      <th>count</th>\n",
       "      <td>312735.000000</td>\n",
       "      <td>312735.000000</td>\n",
       "      <td>312735.000000</td>\n",
       "      <td>312735.000000</td>\n",
       "      <td>312735.000000</td>\n",
       "    </tr>\n",
       "    <tr>\n",
       "      <th>mean</th>\n",
       "      <td>0.051442</td>\n",
       "      <td>10.899404</td>\n",
       "      <td>95.966681</td>\n",
       "      <td>31.321793</td>\n",
       "      <td>1.479131</td>\n",
       "    </tr>\n",
       "    <tr>\n",
       "      <th>std</th>\n",
       "      <td>0.147328</td>\n",
       "      <td>33.362138</td>\n",
       "      <td>159.567066</td>\n",
       "      <td>54.541409</td>\n",
       "      <td>12.802441</td>\n",
       "    </tr>\n",
       "    <tr>\n",
       "      <th>min</th>\n",
       "      <td>0.000000</td>\n",
       "      <td>0.000000</td>\n",
       "      <td>0.000000</td>\n",
       "      <td>0.000000</td>\n",
       "      <td>0.000000</td>\n",
       "    </tr>\n",
       "    <tr>\n",
       "      <th>25%</th>\n",
       "      <td>0.000000</td>\n",
       "      <td>9.000000</td>\n",
       "      <td>24.000000</td>\n",
       "      <td>7.000000</td>\n",
       "      <td>0.000000</td>\n",
       "    </tr>\n",
       "    <tr>\n",
       "      <th>50%</th>\n",
       "      <td>0.000000</td>\n",
       "      <td>10.000000</td>\n",
       "      <td>51.000000</td>\n",
       "      <td>16.000000</td>\n",
       "      <td>0.000000</td>\n",
       "    </tr>\n",
       "    <tr>\n",
       "      <th>75%</th>\n",
       "      <td>0.041667</td>\n",
       "      <td>12.000000</td>\n",
       "      <td>104.000000</td>\n",
       "      <td>33.000000</td>\n",
       "      <td>1.000000</td>\n",
       "    </tr>\n",
       "    <tr>\n",
       "      <th>max</th>\n",
       "      <td>1.000000</td>\n",
       "      <td>4955.000000</td>\n",
       "      <td>9934.000000</td>\n",
       "      <td>1963.000000</td>\n",
       "      <td>1231.000000</td>\n",
       "    </tr>\n",
       "  </tbody>\n",
       "</table>\n",
       "</div>"
      ],
      "text/plain": [
       "                caps   longest_word        len_doc        n_words  \\\n",
       "count  312735.000000  312735.000000  312735.000000  312735.000000   \n",
       "mean        0.051442      10.899404      95.966681      31.321793   \n",
       "std         0.147328      33.362138     159.567066      54.541409   \n",
       "min         0.000000       0.000000       0.000000       0.000000   \n",
       "25%         0.000000       9.000000      24.000000       7.000000   \n",
       "50%         0.000000      10.000000      51.000000      16.000000   \n",
       "75%         0.041667      12.000000     104.000000      33.000000   \n",
       "max         1.000000    4955.000000    9934.000000    1963.000000   \n",
       "\n",
       "                 oov  \n",
       "count  312735.000000  \n",
       "mean        1.479131  \n",
       "std        12.802441  \n",
       "min         0.000000  \n",
       "25%         0.000000  \n",
       "50%         0.000000  \n",
       "75%         1.000000  \n",
       "max      1231.000000  "
      ]
     },
     "execution_count": 27,
     "metadata": {},
     "output_type": "execute_result"
    }
   ],
   "source": [
    "# Checking features generated\n",
    "full_set.iloc[:, 8:].describe()"
   ]
  },
  {
   "cell_type": "code",
   "execution_count": 28,
   "metadata": {
    "scrolled": true
   },
   "outputs": [
    {
     "data": {
      "text/html": [
       "<div>\n",
       "<style>\n",
       "    .dataframe thead tr:only-child th {\n",
       "        text-align: right;\n",
       "    }\n",
       "\n",
       "    .dataframe thead th {\n",
       "        text-align: left;\n",
       "    }\n",
       "\n",
       "    .dataframe tbody tr th {\n",
       "        vertical-align: top;\n",
       "    }\n",
       "</style>\n",
       "<table border=\"1\" class=\"dataframe\">\n",
       "  <thead>\n",
       "    <tr style=\"text-align: right;\">\n",
       "      <th></th>\n",
       "      <th>comment_text</th>\n",
       "      <th>id</th>\n",
       "      <th>identity_hate</th>\n",
       "      <th>insult</th>\n",
       "      <th>obscene</th>\n",
       "      <th>severe_toxic</th>\n",
       "      <th>threat</th>\n",
       "      <th>toxic</th>\n",
       "      <th>caps</th>\n",
       "      <th>longest_word</th>\n",
       "      <th>cleaned_text</th>\n",
       "      <th>len_doc</th>\n",
       "      <th>n_words</th>\n",
       "      <th>oov</th>\n",
       "    </tr>\n",
       "  </thead>\n",
       "  <tbody>\n",
       "  </tbody>\n",
       "</table>\n",
       "</div>"
      ],
      "text/plain": [
       "Empty DataFrame\n",
       "Columns: [comment_text, id, identity_hate, insult, obscene, severe_toxic, threat, toxic, caps, longest_word, cleaned_text, len_doc, n_words, oov]\n",
       "Index: []"
      ]
     },
     "execution_count": 28,
     "metadata": {},
     "output_type": "execute_result"
    }
   ],
   "source": [
    "# comments that are all uppercase words\n",
    "full_set[full_set.caps>6]"
   ]
  },
  {
   "cell_type": "code",
   "execution_count": 29,
   "metadata": {
    "scrolled": true
   },
   "outputs": [
    {
     "data": {
      "text/html": [
       "<div>\n",
       "<style>\n",
       "    .dataframe thead tr:only-child th {\n",
       "        text-align: right;\n",
       "    }\n",
       "\n",
       "    .dataframe thead th {\n",
       "        text-align: left;\n",
       "    }\n",
       "\n",
       "    .dataframe tbody tr th {\n",
       "        vertical-align: top;\n",
       "    }\n",
       "</style>\n",
       "<table border=\"1\" class=\"dataframe\">\n",
       "  <thead>\n",
       "    <tr style=\"text-align: right;\">\n",
       "      <th></th>\n",
       "      <th>comment_text</th>\n",
       "      <th>id</th>\n",
       "      <th>identity_hate</th>\n",
       "      <th>insult</th>\n",
       "      <th>obscene</th>\n",
       "      <th>severe_toxic</th>\n",
       "      <th>threat</th>\n",
       "      <th>toxic</th>\n",
       "      <th>caps</th>\n",
       "      <th>longest_word</th>\n",
       "      <th>cleaned_text</th>\n",
       "      <th>len_doc</th>\n",
       "      <th>n_words</th>\n",
       "      <th>oov</th>\n",
       "    </tr>\n",
       "  </thead>\n",
       "  <tbody>\n",
       "    <tr>\n",
       "      <th>627</th>\n",
       "      <td>Seems we both have some .</td>\n",
       "      <td>01ad9cd4eb4a53c3</td>\n",
       "      <td>0.0</td>\n",
       "      <td>0.0</td>\n",
       "      <td>0.0</td>\n",
       "      <td>0.0</td>\n",
       "      <td>0.0</td>\n",
       "      <td>0.0</td>\n",
       "      <td>0.0</td>\n",
       "      <td>0</td>\n",
       "      <td></td>\n",
       "      <td>6</td>\n",
       "      <td>0</td>\n",
       "      <td>0</td>\n",
       "    </tr>\n",
       "    <tr>\n",
       "      <th>899</th>\n",
       "      <td>I ' ve just seen that</td>\n",
       "      <td>0278c8c0d71aec70</td>\n",
       "      <td>0.0</td>\n",
       "      <td>0.0</td>\n",
       "      <td>0.0</td>\n",
       "      <td>0.0</td>\n",
       "      <td>0.0</td>\n",
       "      <td>0.0</td>\n",
       "      <td>0.0</td>\n",
       "      <td>0</td>\n",
       "      <td></td>\n",
       "      <td>6</td>\n",
       "      <td>0</td>\n",
       "      <td>0</td>\n",
       "    </tr>\n",
       "    <tr>\n",
       "      <th>2009</th>\n",
       "      <td>No ,  I ' ve not seen anything .</td>\n",
       "      <td>05729c95eb3dc41c</td>\n",
       "      <td>0.0</td>\n",
       "      <td>0.0</td>\n",
       "      <td>0.0</td>\n",
       "      <td>0.0</td>\n",
       "      <td>0.0</td>\n",
       "      <td>0.0</td>\n",
       "      <td>0.0</td>\n",
       "      <td>0</td>\n",
       "      <td></td>\n",
       "      <td>10</td>\n",
       "      <td>0</td>\n",
       "      <td>0</td>\n",
       "    </tr>\n",
       "    <tr>\n",
       "      <th>2407</th>\n",
       "      <td>Here ,  here and here .</td>\n",
       "      <td>067638a445ccd93b</td>\n",
       "      <td>0.0</td>\n",
       "      <td>0.0</td>\n",
       "      <td>0.0</td>\n",
       "      <td>0.0</td>\n",
       "      <td>0.0</td>\n",
       "      <td>0.0</td>\n",
       "      <td>0.0</td>\n",
       "      <td>0</td>\n",
       "      <td></td>\n",
       "      <td>7</td>\n",
       "      <td>0</td>\n",
       "      <td>0</td>\n",
       "    </tr>\n",
       "    <tr>\n",
       "      <th>5198</th>\n",
       "      <td>Who are you showing it to ?</td>\n",
       "      <td>0dd89223c129d0d4</td>\n",
       "      <td>0.0</td>\n",
       "      <td>0.0</td>\n",
       "      <td>0.0</td>\n",
       "      <td>0.0</td>\n",
       "      <td>0.0</td>\n",
       "      <td>0.0</td>\n",
       "      <td>0.0</td>\n",
       "      <td>0</td>\n",
       "      <td></td>\n",
       "      <td>7</td>\n",
       "      <td>0</td>\n",
       "      <td>0</td>\n",
       "    </tr>\n",
       "    <tr>\n",
       "      <th>...</th>\n",
       "      <td>...</td>\n",
       "      <td>...</td>\n",
       "      <td>...</td>\n",
       "      <td>...</td>\n",
       "      <td>...</td>\n",
       "      <td>...</td>\n",
       "      <td>...</td>\n",
       "      <td>...</td>\n",
       "      <td>...</td>\n",
       "      <td>...</td>\n",
       "      <td>...</td>\n",
       "      <td>...</td>\n",
       "      <td>...</td>\n",
       "      <td>...</td>\n",
       "    </tr>\n",
       "    <tr>\n",
       "      <th>309172</th>\n",
       "      <td>Well  (  *  ^  #  &amp;  %  %  )  (  @   #  you , ...</td>\n",
       "      <td>fa0b49ac1e36b739</td>\n",
       "      <td>NaN</td>\n",
       "      <td>NaN</td>\n",
       "      <td>NaN</td>\n",
       "      <td>NaN</td>\n",
       "      <td>NaN</td>\n",
       "      <td>NaN</td>\n",
       "      <td>0.0</td>\n",
       "      <td>0</td>\n",
       "      <td></td>\n",
       "      <td>38</td>\n",
       "      <td>0</td>\n",
       "      <td>0</td>\n",
       "    </tr>\n",
       "    <tr>\n",
       "      <th>309212</th>\n",
       "      <td>: This has since been done .</td>\n",
       "      <td>fa1d8cdba2cd3ca1</td>\n",
       "      <td>NaN</td>\n",
       "      <td>NaN</td>\n",
       "      <td>NaN</td>\n",
       "      <td>NaN</td>\n",
       "      <td>NaN</td>\n",
       "      <td>NaN</td>\n",
       "      <td>0.0</td>\n",
       "      <td>0</td>\n",
       "      <td></td>\n",
       "      <td>8</td>\n",
       "      <td>0</td>\n",
       "      <td>0</td>\n",
       "    </tr>\n",
       "    <tr>\n",
       "      <th>309519</th>\n",
       "      <td>(    )</td>\n",
       "      <td>faa0510471f87cb7</td>\n",
       "      <td>NaN</td>\n",
       "      <td>NaN</td>\n",
       "      <td>NaN</td>\n",
       "      <td>NaN</td>\n",
       "      <td>NaN</td>\n",
       "      <td>NaN</td>\n",
       "      <td>0.0</td>\n",
       "      <td>0</td>\n",
       "      <td></td>\n",
       "      <td>4</td>\n",
       "      <td>0</td>\n",
       "      <td>0</td>\n",
       "    </tr>\n",
       "    <tr>\n",
       "      <th>309847</th>\n",
       "      <td>what about as a last name ?</td>\n",
       "      <td>fb2910e8ce01f045</td>\n",
       "      <td>NaN</td>\n",
       "      <td>NaN</td>\n",
       "      <td>NaN</td>\n",
       "      <td>NaN</td>\n",
       "      <td>NaN</td>\n",
       "      <td>NaN</td>\n",
       "      <td>0.0</td>\n",
       "      <td>0</td>\n",
       "      <td></td>\n",
       "      <td>7</td>\n",
       "      <td>0</td>\n",
       "      <td>0</td>\n",
       "    </tr>\n",
       "    <tr>\n",
       "      <th>310003</th>\n",
       "      <td>And me .</td>\n",
       "      <td>fb7359769708196e</td>\n",
       "      <td>NaN</td>\n",
       "      <td>NaN</td>\n",
       "      <td>NaN</td>\n",
       "      <td>NaN</td>\n",
       "      <td>NaN</td>\n",
       "      <td>NaN</td>\n",
       "      <td>0.0</td>\n",
       "      <td>0</td>\n",
       "      <td></td>\n",
       "      <td>3</td>\n",
       "      <td>0</td>\n",
       "      <td>0</td>\n",
       "    </tr>\n",
       "  </tbody>\n",
       "</table>\n",
       "<p>305 rows × 14 columns</p>\n",
       "</div>"
      ],
      "text/plain": [
       "                                             comment_text                id  \\\n",
       "627                            Seems we both have some .   01ad9cd4eb4a53c3   \n",
       "899                                 I ' ve just seen that  0278c8c0d71aec70   \n",
       "2009                    No ,  I ' ve not seen anything .   05729c95eb3dc41c   \n",
       "2407                             Here ,  here and here .   067638a445ccd93b   \n",
       "5198                         Who are you showing it to ?   0dd89223c129d0d4   \n",
       "...                                                   ...               ...   \n",
       "309172  Well  (  *  ^  #  &  %  %  )  (  @   #  you , ...  fa0b49ac1e36b739   \n",
       "309212                      : This has since been done .   fa1d8cdba2cd3ca1   \n",
       "309519                                            (    )   faa0510471f87cb7   \n",
       "309847                       what about as a last name ?   fb2910e8ce01f045   \n",
       "310003                                          And me .   fb7359769708196e   \n",
       "\n",
       "        identity_hate  insult  obscene  severe_toxic  threat  toxic  caps  \\\n",
       "627               0.0     0.0      0.0           0.0     0.0    0.0   0.0   \n",
       "899               0.0     0.0      0.0           0.0     0.0    0.0   0.0   \n",
       "2009              0.0     0.0      0.0           0.0     0.0    0.0   0.0   \n",
       "2407              0.0     0.0      0.0           0.0     0.0    0.0   0.0   \n",
       "5198              0.0     0.0      0.0           0.0     0.0    0.0   0.0   \n",
       "...               ...     ...      ...           ...     ...    ...   ...   \n",
       "309172            NaN     NaN      NaN           NaN     NaN    NaN   0.0   \n",
       "309212            NaN     NaN      NaN           NaN     NaN    NaN   0.0   \n",
       "309519            NaN     NaN      NaN           NaN     NaN    NaN   0.0   \n",
       "309847            NaN     NaN      NaN           NaN     NaN    NaN   0.0   \n",
       "310003            NaN     NaN      NaN           NaN     NaN    NaN   0.0   \n",
       "\n",
       "        longest_word cleaned_text  len_doc  n_words  oov  \n",
       "627                0                     6        0    0  \n",
       "899                0                     6        0    0  \n",
       "2009               0                    10        0    0  \n",
       "2407               0                     7        0    0  \n",
       "5198               0                     7        0    0  \n",
       "...              ...          ...      ...      ...  ...  \n",
       "309172             0                    38        0    0  \n",
       "309212             0                     8        0    0  \n",
       "309519             0                     4        0    0  \n",
       "309847             0                     7        0    0  \n",
       "310003             0                     3        0    0  \n",
       "\n",
       "[305 rows x 14 columns]"
      ]
     },
     "execution_count": 29,
     "metadata": {},
     "output_type": "execute_result"
    }
   ],
   "source": [
    "# comments that ended up with no token after processing\n",
    "full_set[full_set.n_words==0]"
   ]
  },
  {
   "cell_type": "code",
   "execution_count": 30,
   "metadata": {
    "scrolled": true
   },
   "outputs": [
    {
     "data": {
      "text/html": [
       "<div>\n",
       "<style>\n",
       "    .dataframe thead tr:only-child th {\n",
       "        text-align: right;\n",
       "    }\n",
       "\n",
       "    .dataframe thead th {\n",
       "        text-align: left;\n",
       "    }\n",
       "\n",
       "    .dataframe tbody tr th {\n",
       "        vertical-align: top;\n",
       "    }\n",
       "</style>\n",
       "<table border=\"1\" class=\"dataframe\">\n",
       "  <thead>\n",
       "    <tr style=\"text-align: right;\">\n",
       "      <th></th>\n",
       "      <th>comment_text</th>\n",
       "      <th>id</th>\n",
       "      <th>identity_hate</th>\n",
       "      <th>insult</th>\n",
       "      <th>obscene</th>\n",
       "      <th>severe_toxic</th>\n",
       "      <th>threat</th>\n",
       "      <th>toxic</th>\n",
       "      <th>caps</th>\n",
       "      <th>longest_word</th>\n",
       "      <th>cleaned_text</th>\n",
       "      <th>len_doc</th>\n",
       "      <th>n_words</th>\n",
       "      <th>oov</th>\n",
       "    </tr>\n",
       "  </thead>\n",
       "  <tbody>\n",
       "    <tr>\n",
       "      <th>1876</th>\n",
       "      <td>YOUR ARE FUCKING GAY WAD !  !  !  !  !  !  !  ...</td>\n",
       "      <td>0512b588a4b80e45</td>\n",
       "      <td>1.0</td>\n",
       "      <td>1.0</td>\n",
       "      <td>1.0</td>\n",
       "      <td>0.0</td>\n",
       "      <td>0.0</td>\n",
       "      <td>1.0</td>\n",
       "      <td>0.809524</td>\n",
       "      <td>322</td>\n",
       "      <td>fucking gay wad fuck mum oh wait gay dont mom ...</td>\n",
       "      <td>508</td>\n",
       "      <td>63</td>\n",
       "      <td>18</td>\n",
       "    </tr>\n",
       "    <tr>\n",
       "      <th>11796</th>\n",
       "      <td>=  = U R GAY =  =  \\n\\nFUCKFUCKFUCKFUCKFUCKFU...</td>\n",
       "      <td>1f31848ca28571da</td>\n",
       "      <td>1.0</td>\n",
       "      <td>1.0</td>\n",
       "      <td>1.0</td>\n",
       "      <td>1.0</td>\n",
       "      <td>0.0</td>\n",
       "      <td>1.0</td>\n",
       "      <td>1.000000</td>\n",
       "      <td>4955</td>\n",
       "      <td>u r gay fuckfuckfuckfuckfuckfuckfuckfuckfuckfu...</td>\n",
       "      <td>12</td>\n",
       "      <td>4</td>\n",
       "      <td>1</td>\n",
       "    </tr>\n",
       "    <tr>\n",
       "      <th>12964</th>\n",
       "      <td>Hello ,  24 - 7水野 ,  and welcome to Wikipedia ...</td>\n",
       "      <td>2256374810e57006</td>\n",
       "      <td>0.0</td>\n",
       "      <td>0.0</td>\n",
       "      <td>0.0</td>\n",
       "      <td>0.0</td>\n",
       "      <td>0.0</td>\n",
       "      <td>0.0</td>\n",
       "      <td>0.000000</td>\n",
       "      <td>104</td>\n",
       "      <td>hello 24 7水野 welcome wikipedia effort improve ...</td>\n",
       "      <td>92</td>\n",
       "      <td>31</td>\n",
       "      <td>3</td>\n",
       "    </tr>\n",
       "    <tr>\n",
       "      <th>17945</th>\n",
       "      <td>Yamla _ likes _ to _ fuck _ babies _ up _ the ...</td>\n",
       "      <td>2f6282bf19d1b9ce</td>\n",
       "      <td>0.0</td>\n",
       "      <td>1.0</td>\n",
       "      <td>1.0</td>\n",
       "      <td>0.0</td>\n",
       "      <td>0.0</td>\n",
       "      <td>1.0</td>\n",
       "      <td>0.000000</td>\n",
       "      <td>132</td>\n",
       "      <td>yamla like fuck baby ass wwwwwwwwwwwwwwwwwwwww...</td>\n",
       "      <td>39</td>\n",
       "      <td>15</td>\n",
       "      <td>3</td>\n",
       "    </tr>\n",
       "    <tr>\n",
       "      <th>18888</th>\n",
       "      <td>Small TextInsert non - formatted text here [  ...</td>\n",
       "      <td>31d9e971fd76329d</td>\n",
       "      <td>0.0</td>\n",
       "      <td>0.0</td>\n",
       "      <td>0.0</td>\n",
       "      <td>0.0</td>\n",
       "      <td>0.0</td>\n",
       "      <td>0.0</td>\n",
       "      <td>0.000000</td>\n",
       "      <td>1412</td>\n",
       "      <td>small textinsert non format text media media e...</td>\n",
       "      <td>69</td>\n",
       "      <td>29</td>\n",
       "      <td>8</td>\n",
       "    </tr>\n",
       "    <tr>\n",
       "      <th>...</th>\n",
       "      <td>...</td>\n",
       "      <td>...</td>\n",
       "      <td>...</td>\n",
       "      <td>...</td>\n",
       "      <td>...</td>\n",
       "      <td>...</td>\n",
       "      <td>...</td>\n",
       "      <td>...</td>\n",
       "      <td>...</td>\n",
       "      <td>...</td>\n",
       "      <td>...</td>\n",
       "      <td>...</td>\n",
       "      <td>...</td>\n",
       "      <td>...</td>\n",
       "    </tr>\n",
       "    <tr>\n",
       "      <th>308749</th>\n",
       "      <td>=  =  I lllllllllllllllllllllllllllllllllluuu...</td>\n",
       "      <td>f95d10dde1ed32ab</td>\n",
       "      <td>NaN</td>\n",
       "      <td>NaN</td>\n",
       "      <td>NaN</td>\n",
       "      <td>NaN</td>\n",
       "      <td>NaN</td>\n",
       "      <td>NaN</td>\n",
       "      <td>0.018519</td>\n",
       "      <td>129</td>\n",
       "      <td>lllllllllllllllllllllllllllllllllluuuuuuuuuuuu...</td>\n",
       "      <td>402</td>\n",
       "      <td>54</td>\n",
       "      <td>9</td>\n",
       "    </tr>\n",
       "    <tr>\n",
       "      <th>308846</th>\n",
       "      <td>my huge cock u fatt looser bastad 648942567724...</td>\n",
       "      <td>f982767625efbf20</td>\n",
       "      <td>NaN</td>\n",
       "      <td>NaN</td>\n",
       "      <td>NaN</td>\n",
       "      <td>NaN</td>\n",
       "      <td>NaN</td>\n",
       "      <td>NaN</td>\n",
       "      <td>0.666667</td>\n",
       "      <td>329</td>\n",
       "      <td>huge cock u fatt loose bastad 6489425677246980...</td>\n",
       "      <td>39</td>\n",
       "      <td>21</td>\n",
       "      <td>10</td>\n",
       "    </tr>\n",
       "    <tr>\n",
       "      <th>308950</th>\n",
       "      <td>RASASSSSSSSSSSSSSSSSSSSSSSSSSSSSSSSSSSSSSSSSSS...</td>\n",
       "      <td>f9b8632d1444cacd</td>\n",
       "      <td>NaN</td>\n",
       "      <td>NaN</td>\n",
       "      <td>NaN</td>\n",
       "      <td>NaN</td>\n",
       "      <td>NaN</td>\n",
       "      <td>NaN</td>\n",
       "      <td>1.000000</td>\n",
       "      <td>262</td>\n",
       "      <td>rasassssssssssssssssssssssssssssssssssssssssss...</td>\n",
       "      <td>4</td>\n",
       "      <td>4</td>\n",
       "      <td>4</td>\n",
       "    </tr>\n",
       "    <tr>\n",
       "      <th>310416</th>\n",
       "      <td>I hate you long time go die I HATE YOU DONT DE...</td>\n",
       "      <td>fc2a7b5abfa35466</td>\n",
       "      <td>NaN</td>\n",
       "      <td>NaN</td>\n",
       "      <td>NaN</td>\n",
       "      <td>NaN</td>\n",
       "      <td>NaN</td>\n",
       "      <td>NaN</td>\n",
       "      <td>0.636364</td>\n",
       "      <td>856</td>\n",
       "      <td>hate long time die hate dont delete friends ed...</td>\n",
       "      <td>113</td>\n",
       "      <td>66</td>\n",
       "      <td>12</td>\n",
       "    </tr>\n",
       "    <tr>\n",
       "      <th>311513</th>\n",
       "      <td>=  =  ur dumb  =  =  \\n\\n you jerk you blocke...</td>\n",
       "      <td>fde3334312a8ea67</td>\n",
       "      <td>NaN</td>\n",
       "      <td>NaN</td>\n",
       "      <td>NaN</td>\n",
       "      <td>NaN</td>\n",
       "      <td>NaN</td>\n",
       "      <td>NaN</td>\n",
       "      <td>0.015385</td>\n",
       "      <td>104</td>\n",
       "      <td>ur dumb jerk block gonna switserland car fill ...</td>\n",
       "      <td>308</td>\n",
       "      <td>65</td>\n",
       "      <td>6</td>\n",
       "    </tr>\n",
       "  </tbody>\n",
       "</table>\n",
       "<p>229 rows × 14 columns</p>\n",
       "</div>"
      ],
      "text/plain": [
       "                                             comment_text                id  \\\n",
       "1876    YOUR ARE FUCKING GAY WAD !  !  !  !  !  !  !  ...  0512b588a4b80e45   \n",
       "11796    =  = U R GAY =  =  \\n\\nFUCKFUCKFUCKFUCKFUCKFU...  1f31848ca28571da   \n",
       "12964   Hello ,  24 - 7水野 ,  and welcome to Wikipedia ...  2256374810e57006   \n",
       "17945   Yamla _ likes _ to _ fuck _ babies _ up _ the ...  2f6282bf19d1b9ce   \n",
       "18888   Small TextInsert non - formatted text here [  ...  31d9e971fd76329d   \n",
       "...                                                   ...               ...   \n",
       "308749   =  =  I lllllllllllllllllllllllllllllllllluuu...  f95d10dde1ed32ab   \n",
       "308846  my huge cock u fatt looser bastad 648942567724...  f982767625efbf20   \n",
       "308950  RASASSSSSSSSSSSSSSSSSSSSSSSSSSSSSSSSSSSSSSSSSS...  f9b8632d1444cacd   \n",
       "310416  I hate you long time go die I HATE YOU DONT DE...  fc2a7b5abfa35466   \n",
       "311513   =  =  ur dumb  =  =  \\n\\n you jerk you blocke...  fde3334312a8ea67   \n",
       "\n",
       "        identity_hate  insult  obscene  severe_toxic  threat  toxic      caps  \\\n",
       "1876              1.0     1.0      1.0           0.0     0.0    1.0  0.809524   \n",
       "11796             1.0     1.0      1.0           1.0     0.0    1.0  1.000000   \n",
       "12964             0.0     0.0      0.0           0.0     0.0    0.0  0.000000   \n",
       "17945             0.0     1.0      1.0           0.0     0.0    1.0  0.000000   \n",
       "18888             0.0     0.0      0.0           0.0     0.0    0.0  0.000000   \n",
       "...               ...     ...      ...           ...     ...    ...       ...   \n",
       "308749            NaN     NaN      NaN           NaN     NaN    NaN  0.018519   \n",
       "308846            NaN     NaN      NaN           NaN     NaN    NaN  0.666667   \n",
       "308950            NaN     NaN      NaN           NaN     NaN    NaN  1.000000   \n",
       "310416            NaN     NaN      NaN           NaN     NaN    NaN  0.636364   \n",
       "311513            NaN     NaN      NaN           NaN     NaN    NaN  0.015385   \n",
       "\n",
       "        longest_word                                       cleaned_text  \\\n",
       "1876             322  fucking gay wad fuck mum oh wait gay dont mom ...   \n",
       "11796           4955  u r gay fuckfuckfuckfuckfuckfuckfuckfuckfuckfu...   \n",
       "12964            104  hello 24 7水野 welcome wikipedia effort improve ...   \n",
       "17945            132  yamla like fuck baby ass wwwwwwwwwwwwwwwwwwwww...   \n",
       "18888           1412  small textinsert non format text media media e...   \n",
       "...              ...                                                ...   \n",
       "308749           129  lllllllllllllllllllllllllllllllllluuuuuuuuuuuu...   \n",
       "308846           329  huge cock u fatt loose bastad 6489425677246980...   \n",
       "308950           262  rasassssssssssssssssssssssssssssssssssssssssss...   \n",
       "310416           856  hate long time die hate dont delete friends ed...   \n",
       "311513           104  ur dumb jerk block gonna switserland car fill ...   \n",
       "\n",
       "        len_doc  n_words  oov  \n",
       "1876        508       63   18  \n",
       "11796        12        4    1  \n",
       "12964        92       31    3  \n",
       "17945        39       15    3  \n",
       "18888        69       29    8  \n",
       "...         ...      ...  ...  \n",
       "308749      402       54    9  \n",
       "308846       39       21   10  \n",
       "308950        4        4    4  \n",
       "310416      113       66   12  \n",
       "311513      308       65    6  \n",
       "\n",
       "[229 rows x 14 columns]"
      ]
     },
     "execution_count": 30,
     "metadata": {},
     "output_type": "execute_result"
    }
   ],
   "source": [
    "# abnormal long word\n",
    "full_set[full_set.longest_word>100]"
   ]
  },
  {
   "cell_type": "code",
   "execution_count": 31,
   "metadata": {
    "scrolled": true
   },
   "outputs": [
    {
     "data": {
      "text/html": [
       "<div>\n",
       "<style>\n",
       "    .dataframe thead tr:only-child th {\n",
       "        text-align: right;\n",
       "    }\n",
       "\n",
       "    .dataframe thead th {\n",
       "        text-align: left;\n",
       "    }\n",
       "\n",
       "    .dataframe tbody tr th {\n",
       "        vertical-align: top;\n",
       "    }\n",
       "</style>\n",
       "<table border=\"1\" class=\"dataframe\">\n",
       "  <thead>\n",
       "    <tr style=\"text-align: right;\">\n",
       "      <th></th>\n",
       "      <th>comment_text</th>\n",
       "      <th>id</th>\n",
       "      <th>identity_hate</th>\n",
       "      <th>insult</th>\n",
       "      <th>obscene</th>\n",
       "      <th>severe_toxic</th>\n",
       "      <th>threat</th>\n",
       "      <th>toxic</th>\n",
       "      <th>caps</th>\n",
       "      <th>longest_word</th>\n",
       "      <th>cleaned_text</th>\n",
       "      <th>len_doc</th>\n",
       "      <th>n_words</th>\n",
       "      <th>oov</th>\n",
       "    </tr>\n",
       "  </thead>\n",
       "  <tbody>\n",
       "    <tr>\n",
       "      <th>126</th>\n",
       "      <td>Ahh ,  Hello Witzeman \\n\\nipaddress  \\nSymbols...</td>\n",
       "      <td>00510c3d06745849</td>\n",
       "      <td>0.0</td>\n",
       "      <td>0.0</td>\n",
       "      <td>0.0</td>\n",
       "      <td>0.0</td>\n",
       "      <td>0.0</td>\n",
       "      <td>0.0</td>\n",
       "      <td>0.249017</td>\n",
       "      <td>14</td>\n",
       "      <td>ahh hello witzeman ipaddress symbols ↔ ↑ ↓ ¶ ½...</td>\n",
       "      <td>1281</td>\n",
       "      <td>763</td>\n",
       "      <td>309</td>\n",
       "    </tr>\n",
       "    <tr>\n",
       "      <th>160</th>\n",
       "      <td>\"  =  =  Attributing and classifying of perso...</td>\n",
       "      <td>0063a8786a7034fc</td>\n",
       "      <td>0.0</td>\n",
       "      <td>0.0</td>\n",
       "      <td>0.0</td>\n",
       "      <td>0.0</td>\n",
       "      <td>0.0</td>\n",
       "      <td>0.0</td>\n",
       "      <td>0.017804</td>\n",
       "      <td>15</td>\n",
       "      <td>attributing classify personality invitation in...</td>\n",
       "      <td>841</td>\n",
       "      <td>337</td>\n",
       "      <td>31</td>\n",
       "    </tr>\n",
       "    <tr>\n",
       "      <th>321</th>\n",
       "      <td>\" \\n\\nipaddress ' s rant\\n\\nPresently ,  we a...</td>\n",
       "      <td>00ced92ee28c7ee8</td>\n",
       "      <td>0.0</td>\n",
       "      <td>0.0</td>\n",
       "      <td>0.0</td>\n",
       "      <td>0.0</td>\n",
       "      <td>0.0</td>\n",
       "      <td>0.0</td>\n",
       "      <td>0.004515</td>\n",
       "      <td>13</td>\n",
       "      <td>ipaddress s rant presently witness open war cr...</td>\n",
       "      <td>1116</td>\n",
       "      <td>443</td>\n",
       "      <td>81</td>\n",
       "    </tr>\n",
       "    <tr>\n",
       "      <th>666</th>\n",
       "      <td>\"  {  |  class =  \"  \" wikitable \"  \"  style ...</td>\n",
       "      <td>01cec91ecf91d6ff</td>\n",
       "      <td>0.0</td>\n",
       "      <td>0.0</td>\n",
       "      <td>0.0</td>\n",
       "      <td>0.0</td>\n",
       "      <td>0.0</td>\n",
       "      <td>0.0</td>\n",
       "      <td>0.008929</td>\n",
       "      <td>15</td>\n",
       "      <td>class wikitable style border 1px solid 8888aa ...</td>\n",
       "      <td>385</td>\n",
       "      <td>112</td>\n",
       "      <td>22</td>\n",
       "    </tr>\n",
       "    <tr>\n",
       "      <th>1184</th>\n",
       "      <td>And \\n\\nPaganism\\n\\nSouthgate ,  who has a deg...</td>\n",
       "      <td>0334049b60e326b8</td>\n",
       "      <td>0.0</td>\n",
       "      <td>0.0</td>\n",
       "      <td>0.0</td>\n",
       "      <td>0.0</td>\n",
       "      <td>0.0</td>\n",
       "      <td>0.0</td>\n",
       "      <td>0.008949</td>\n",
       "      <td>14</td>\n",
       "      <td>paganism southgate degree theology religious s...</td>\n",
       "      <td>908</td>\n",
       "      <td>447</td>\n",
       "      <td>65</td>\n",
       "    </tr>\n",
       "    <tr>\n",
       "      <th>...</th>\n",
       "      <td>...</td>\n",
       "      <td>...</td>\n",
       "      <td>...</td>\n",
       "      <td>...</td>\n",
       "      <td>...</td>\n",
       "      <td>...</td>\n",
       "      <td>...</td>\n",
       "      <td>...</td>\n",
       "      <td>...</td>\n",
       "      <td>...</td>\n",
       "      <td>...</td>\n",
       "      <td>...</td>\n",
       "      <td>...</td>\n",
       "      <td>...</td>\n",
       "    </tr>\n",
       "    <tr>\n",
       "      <th>312505</th>\n",
       "      <td>سوال ۱۰ \\n سوال ۱۰ ۔ کیا اُم المومنین حضرت عائ...</td>\n",
       "      <td>ff9bbe71e8996418</td>\n",
       "      <td>NaN</td>\n",
       "      <td>NaN</td>\n",
       "      <td>NaN</td>\n",
       "      <td>NaN</td>\n",
       "      <td>NaN</td>\n",
       "      <td>NaN</td>\n",
       "      <td>0.000000</td>\n",
       "      <td>11</td>\n",
       "      <td>سوال ۱۰ سوال ۱۰ کیا اُم المومنین حضرت عائشہؓ ک...</td>\n",
       "      <td>1143</td>\n",
       "      <td>1076</td>\n",
       "      <td>770</td>\n",
       "    </tr>\n",
       "    <tr>\n",
       "      <th>312527</th>\n",
       "      <td>\"  \\n\\n To reply on what Frank Close actually...</td>\n",
       "      <td>ffa6dfca382e221b</td>\n",
       "      <td>NaN</td>\n",
       "      <td>NaN</td>\n",
       "      <td>NaN</td>\n",
       "      <td>NaN</td>\n",
       "      <td>NaN</td>\n",
       "      <td>NaN</td>\n",
       "      <td>0.019126</td>\n",
       "      <td>15</td>\n",
       "      <td>reply frank close actually extracts chapter 9 ...</td>\n",
       "      <td>1102</td>\n",
       "      <td>366</td>\n",
       "      <td>31</td>\n",
       "    </tr>\n",
       "    <tr>\n",
       "      <th>312631</th>\n",
       "      <td>\"  \\n\\n  =  =  \"  \" Armenian Mountains \"  \"  ...</td>\n",
       "      <td>ffd93a82ac72115b</td>\n",
       "      <td>NaN</td>\n",
       "      <td>NaN</td>\n",
       "      <td>NaN</td>\n",
       "      <td>NaN</td>\n",
       "      <td>NaN</td>\n",
       "      <td>NaN</td>\n",
       "      <td>0.092784</td>\n",
       "      <td>13</td>\n",
       "      <td>armenian mountains incorrect hurrians cames ar...</td>\n",
       "      <td>343</td>\n",
       "      <td>97</td>\n",
       "      <td>21</td>\n",
       "    </tr>\n",
       "    <tr>\n",
       "      <th>312669</th>\n",
       "      <td>\"  \\n\\n  =  =  WikiProject Christianity Newsl...</td>\n",
       "      <td>ffe54d29b90968a7</td>\n",
       "      <td>NaN</td>\n",
       "      <td>NaN</td>\n",
       "      <td>NaN</td>\n",
       "      <td>NaN</td>\n",
       "      <td>NaN</td>\n",
       "      <td>NaN</td>\n",
       "      <td>0.012308</td>\n",
       "      <td>12</td>\n",
       "      <td>wikiproject christianity newsletter june 2009 ...</td>\n",
       "      <td>1148</td>\n",
       "      <td>325</td>\n",
       "      <td>23</td>\n",
       "    </tr>\n",
       "    <tr>\n",
       "      <th>312703</th>\n",
       "      <td>\"  \\n  ' ve been reading this talk page and I...</td>\n",
       "      <td>fff23c3e174e895e</td>\n",
       "      <td>NaN</td>\n",
       "      <td>NaN</td>\n",
       "      <td>NaN</td>\n",
       "      <td>NaN</td>\n",
       "      <td>NaN</td>\n",
       "      <td>NaN</td>\n",
       "      <td>0.002331</td>\n",
       "      <td>15</td>\n",
       "      <td>read talk page amaze way people ready violent ...</td>\n",
       "      <td>1147</td>\n",
       "      <td>429</td>\n",
       "      <td>31</td>\n",
       "    </tr>\n",
       "  </tbody>\n",
       "</table>\n",
       "<p>2074 rows × 14 columns</p>\n",
       "</div>"
      ],
      "text/plain": [
       "                                             comment_text                id  \\\n",
       "126     Ahh ,  Hello Witzeman \\n\\nipaddress  \\nSymbols...  00510c3d06745849   \n",
       "160      \"  =  =  Attributing and classifying of perso...  0063a8786a7034fc   \n",
       "321      \" \\n\\nipaddress ' s rant\\n\\nPresently ,  we a...  00ced92ee28c7ee8   \n",
       "666      \"  {  |  class =  \"  \" wikitable \"  \"  style ...  01cec91ecf91d6ff   \n",
       "1184    And \\n\\nPaganism\\n\\nSouthgate ,  who has a deg...  0334049b60e326b8   \n",
       "...                                                   ...               ...   \n",
       "312505  سوال ۱۰ \\n سوال ۱۰ ۔ کیا اُم المومنین حضرت عائ...  ff9bbe71e8996418   \n",
       "312527   \"  \\n\\n To reply on what Frank Close actually...  ffa6dfca382e221b   \n",
       "312631   \"  \\n\\n  =  =  \"  \" Armenian Mountains \"  \"  ...  ffd93a82ac72115b   \n",
       "312669   \"  \\n\\n  =  =  WikiProject Christianity Newsl...  ffe54d29b90968a7   \n",
       "312703   \"  \\n  ' ve been reading this talk page and I...  fff23c3e174e895e   \n",
       "\n",
       "        identity_hate  insult  obscene  severe_toxic  threat  toxic      caps  \\\n",
       "126               0.0     0.0      0.0           0.0     0.0    0.0  0.249017   \n",
       "160               0.0     0.0      0.0           0.0     0.0    0.0  0.017804   \n",
       "321               0.0     0.0      0.0           0.0     0.0    0.0  0.004515   \n",
       "666               0.0     0.0      0.0           0.0     0.0    0.0  0.008929   \n",
       "1184              0.0     0.0      0.0           0.0     0.0    0.0  0.008949   \n",
       "...               ...     ...      ...           ...     ...    ...       ...   \n",
       "312505            NaN     NaN      NaN           NaN     NaN    NaN  0.000000   \n",
       "312527            NaN     NaN      NaN           NaN     NaN    NaN  0.019126   \n",
       "312631            NaN     NaN      NaN           NaN     NaN    NaN  0.092784   \n",
       "312669            NaN     NaN      NaN           NaN     NaN    NaN  0.012308   \n",
       "312703            NaN     NaN      NaN           NaN     NaN    NaN  0.002331   \n",
       "\n",
       "        longest_word                                       cleaned_text  \\\n",
       "126               14  ahh hello witzeman ipaddress symbols ↔ ↑ ↓ ¶ ½...   \n",
       "160               15  attributing classify personality invitation in...   \n",
       "321               13  ipaddress s rant presently witness open war cr...   \n",
       "666               15  class wikitable style border 1px solid 8888aa ...   \n",
       "1184              14  paganism southgate degree theology religious s...   \n",
       "...              ...                                                ...   \n",
       "312505            11  سوال ۱۰ سوال ۱۰ کیا اُم المومنین حضرت عائشہؓ ک...   \n",
       "312527            15  reply frank close actually extracts chapter 9 ...   \n",
       "312631            13  armenian mountains incorrect hurrians cames ar...   \n",
       "312669            12  wikiproject christianity newsletter june 2009 ...   \n",
       "312703            15  read talk page amaze way people ready violent ...   \n",
       "\n",
       "        len_doc  n_words  oov  \n",
       "126        1281      763  309  \n",
       "160         841      337   31  \n",
       "321        1116      443   81  \n",
       "666         385      112   22  \n",
       "1184        908      447   65  \n",
       "...         ...      ...  ...  \n",
       "312505     1143     1076  770  \n",
       "312527     1102      366   31  \n",
       "312631      343       97   21  \n",
       "312669     1148      325   23  \n",
       "312703     1147      429   31  \n",
       "\n",
       "[2074 rows x 14 columns]"
      ]
     },
     "execution_count": 31,
     "metadata": {},
     "output_type": "execute_result"
    }
   ],
   "source": [
    "# abnormal number of oov words\n",
    "full_set[full_set.oov>20]"
   ]
  },
  {
   "cell_type": "code",
   "execution_count": 32,
   "metadata": {},
   "outputs": [
    {
     "data": {
      "image/png": "[encoded data removed]",
      "text/plain": [
       "<matplotlib.figure.Figure at 0x14c4c9c8080>"
      ]
     },
     "metadata": {},
     "output_type": "display_data"
    }
   ],
   "source": [
    "# visuallize the distribution of features\n",
    "full_set.iloc[:, 8:].hist(figsize=(10,5), layout=(2,3))\n",
    "plt.show()"
   ]
  },
  {
   "cell_type": "code",
   "execution_count": 33,
   "metadata": {},
   "outputs": [
    {
     "data": {
      "image/png": "[encoded data removed]",
      "text/plain": [
       "<matplotlib.figure.Figure at 0x14c4cb485f8>"
      ]
     },
     "metadata": {},
     "output_type": "display_data"
    }
   ],
   "source": [
    "# checking correlation in the train set\n",
    "\n",
    "plt.figure(figsize=(13,11))\n",
    "sns.set(font_scale=1.5)\n",
    "sns.heatmap(full_set.iloc[:n_train,2:].corr(), annot=True, square=True, linewidths=0.1, fmt='.2f')\n",
    "plt.show()"
   ]
  },
  {
   "cell_type": "markdown",
   "metadata": {},
   "source": [
    "## comments to vector"
   ]
  },
  {
   "cell_type": "code",
   "execution_count": 36,
   "metadata": {
    "collapsed": true
   },
   "outputs": [],
   "source": [
    "from sklearn.feature_extraction.text import TfidfVectorizer\n",
    "from sklearn.naive_bayes import MultinomialNB\n",
    "from sklearn.model_selection import train_test_split, GridSearchCV\n",
    "from sklearn import metrics\n",
    "from sklearn.linear_model import LogisticRegression\n",
    "from sklearn.pipeline import Pipeline, FeatureUnion\n",
    "from sklearn.svm import SVC\n",
    "from scipy.sparse import hstack"
   ]
  },
  {
   "cell_type": "markdown",
   "metadata": {},
   "source": [
    "**parameters: max_df, min_df, ngrame_range, max_features**"
   ]
  },
  {
   "cell_type": "code",
   "execution_count": 85,
   "metadata": {},
   "outputs": [
    {
     "name": "stderr",
     "output_type": "stream",
     "text": [
      "C:\\Users\\liyad\\Anaconda3\\lib\\site-packages\\sklearn\\feature_extraction\\text.py:1089: FutureWarning: Conversion of the second argument of issubdtype from `float` to `np.floating` is deprecated. In future, it will be treated as `np.float64 == np.dtype(float).type`.\n",
      "  if hasattr(X, 'dtype') and np.issubdtype(X.dtype, np.float):\n"
     ]
    },
    {
     "name": "stdout",
     "output_type": "stream",
     "text": [
      "(312735, 12855) (312735, 40000)\n",
      "Wall time: 5min 56s\n"
     ]
    }
   ],
   "source": [
    "%%time\n",
    "\n",
    "# Takes few minutes to process\n",
    "word_tfidf = TfidfVectorizer(analyzer='word', max_df=0.2, min_df=0.0001)\n",
    "x_word = word_tfidf.fit_transform(full_set.cleaned_text)\n",
    "char_tfidf = TfidfVectorizer(analyzer='char', max_df=0.15, min_df=0.0003, ngram_range=(1,5), max_features=40000)\n",
    "x_char = char_tfidf.fit_transform(full_set.cleaned_text)\n",
    "print(x_word.shape, x_char.shape)"
   ]
  },
  {
   "cell_type": "code",
   "execution_count": 87,
   "metadata": {
    "collapsed": true
   },
   "outputs": [],
   "source": [
    "x_train, x_test, y_train, y_test, train_idx, test_idx = train_test_split(full_set.cleaned_text[:n_train], \n",
    "                                                        full_set['toxic'][:n_train], \n",
    "                                                        np.arange(n_train),\n",
    "                                                        test_size = 0.2, \n",
    "                                                        random_state=2018,\n",
    "                                                        stratify = full_set['toxic'][:n_train])"
   ]
  },
  {
   "cell_type": "code",
   "execution_count": 88,
   "metadata": {},
   "outputs": [
    {
     "data": {
      "text/plain": [
       "<127656x52855 sparse matrix of type '<class 'numpy.float64'>'\n",
       "\twith 51435346 stored elements in COOrdinate format>"
      ]
     },
     "execution_count": 88,
     "metadata": {},
     "output_type": "execute_result"
    }
   ],
   "source": [
    "weight = [1, 0.25]\n",
    "x_train_comb = hstack([x_word[train_idx]*weight[0], x_char[train_idx]*weight[1]])\n",
    "x_test_comb = hstack([x_word[test_idx]*weight[0], x_char[test_idx]*weight[1]])\n",
    "x_sub_comb = hstack([x_word[n_train:]*weight[0], x_char[n_train:]*weight[1]])\n",
    "x_train_comb"
   ]
  },
  {
   "cell_type": "markdown",
   "metadata": {},
   "source": [
    "## Multinomial naive Bayes"
   ]
  },
  {
   "cell_type": "code",
   "execution_count": 89,
   "metadata": {},
   "outputs": [
    {
     "name": "stdout",
     "output_type": "stream",
     "text": [
      "Fitting 5 folds for each of 5 candidates, totalling 25 fits\n"
     ]
    },
    {
     "name": "stderr",
     "output_type": "stream",
     "text": [
      "[Parallel(n_jobs=-1)]: Done  25 out of  25 | elapsed:  1.2min finished\n"
     ]
    },
    {
     "name": "stdout",
     "output_type": "stream",
     "text": [
      "{'alpha': 0.2}\n",
      "0.9551830252802104\n",
      "Training score(roc_auc): 0.967056108699374\n",
      "Test score(roc_auc): 0.9586210870621062\n",
      "Wall time: 2min 14s\n"
     ]
    }
   ],
   "source": [
    "%%time\n",
    "\n",
    "# try on a single label\n",
    "# use 1:0.3 joined word char features better than 1:1 for toxic label\n",
    "mnb = MultinomialNB()\n",
    "parameters = {'alpha': (1, 0.6, 0.4, 0.2, 0.1)}\n",
    "nb_toxic = GridSearchCV(mnb, parameters, n_jobs=-1, scoring = 'roc_auc', verbose=1, cv=5)\n",
    "nb_toxic.fit(x_train_comb, y_train)\n",
    "print(nb_toxic.best_params_)\n",
    "print(nb_toxic.best_score_)\n",
    "print(r\"Training score(roc_auc): {}\".format(metrics.roc_auc_score(y_train, nb_toxic.predict_proba(x_train_comb)[:,1])))\n",
    "print(r\"Test score(roc_auc): {}\".format(metrics.roc_auc_score(y_test, nb_toxic.predict_proba(x_test_comb)[:,1])))"
   ]
  },
  {
   "cell_type": "markdown",
   "metadata": {},
   "source": [
    "### multi label models"
   ]
  },
  {
   "cell_type": "code",
   "execution_count": 34,
   "metadata": {
    "scrolled": true
   },
   "outputs": [
    {
     "name": "stdout",
     "output_type": "stream",
     "text": [
      "Start training classifier on toxic label\n",
      "Best params: {'alpha': 0.2}, cv_score: 0.953085464608997, train_score: 0.9642777587057523, test_score: 0.9572685514517963\n",
      "Fitting final model and making prediction for submission on toxic label\n",
      "Start training classifier on severe_toxic label\n",
      "Best params: {'alpha': 0.05}, cv_score: 0.9792746002817502, train_score: 0.9907503481315494, test_score: 0.9779548798089991\n",
      "Fitting final model and making prediction for submission on severe_toxic label\n",
      "Start training classifier on obscene label\n",
      "Best params: {'alpha': 0.15}, cv_score: 0.9628703189390334, train_score: 0.9743467421973552, test_score: 0.9623762902491668\n",
      "Fitting final model and making prediction for submission on obscene label\n",
      "Start training classifier on threat label\n",
      "Best params: {'alpha': 0.03}, cv_score: 0.9598730252145119, train_score: 0.9924866822760343, test_score: 0.9565077403961993\n",
      "Fitting final model and making prediction for submission on threat label\n",
      "Start training classifier on insult label\n",
      "Best params: {'alpha': 0.1}, cv_score: 0.9595981255497568, train_score: 0.9732805107421509, test_score: 0.9638679411118437\n",
      "Fitting final model and making prediction for submission on insult label\n",
      "Start training classifier on identity_hate label\n",
      "Best params: {'alpha': 0.05}, cv_score: 0.9594014874182109, train_score: 0.9853096112409302, test_score: 0.9686102861982141\n",
      "Fitting final model and making prediction for submission on identity_hate label\n",
      "Wall time: 17min 10s\n"
     ]
    }
   ],
   "source": [
    "%%time\n",
    "\n",
    "mnb_records = pd.DataFrame(index=labels, columns=['best_params', 'cv_score', 'train_score', 'test_score'])\n",
    "mnb_submission = pd.read_csv('sample_submission.csv')\n",
    "for label in labels:\n",
    "    print('Start training classifier on {} label'.format(label))\n",
    "    x_train, x_test, y_train, y_test, train_idx, test_idx = train_test_split(full_set.cleaned_text[:n_train], \n",
    "                                                        full_set[label][:n_train], \n",
    "                                                        np.arange(n_train),\n",
    "                                                        test_size = 0.2, \n",
    "                                                        random_state=2018,\n",
    "                                                        stratify = full_set[label][:n_train])\n",
    "    weight = [1, 0.3]\n",
    "    x_train_comb = hstack([x_word[train_idx]*weight[0], x_char[train_idx]*weight[1]])\n",
    "    x_test_comb = hstack([x_word[test_idx]*weight[0], x_char[test_idx]*weight[1]])\n",
    "    x_sub_comb = hstack([x_word[n_train:]*weight[0], x_char[n_train:]*weight[1]])\n",
    "    mnb = MultinomialNB()\n",
    "    parameters = {'alpha': (0.2, 0.15, 0.1, 0.05, 0.03)}\n",
    "    mnb_cv = GridSearchCV(mnb, parameters, n_jobs=-1, scoring = 'roc_auc', cv=5)\n",
    "    mnb_cv.fit(x_train_comb, y_train)\n",
    "    mnb_records.loc[label,'best_params'] = str(mnb_cv.best_params_)\n",
    "    mnb_records.loc[label,'cv_score'] = mnb_cv.best_score_\n",
    "    mnb_records.loc[label, 'train_score'] = metrics.roc_auc_score(y_train, mnb_cv.predict_proba(x_train_comb)[:,1])\n",
    "    mnb_records.loc[label, 'test_score'] = metrics.roc_auc_score(y_test, mnb_cv.predict_proba(x_test_comb)[:,1])\n",
    "    print('Best params: {}, cv_score: {}, train_score: {}, test_score: {}'.format(*mnb_records.loc[label]))\n",
    "    mnb.set_params(**mnb_cv.best_params_)\n",
    "    print('Fitting final model and making prediction for submission on {} label'.format(label))\n",
    "    mnb.fit(hstack([x_word[:n_train]*weight[0], x_char[:n_train]*weight[1]]), full_set[label][:n_train])\n",
    "    mnb_submission[label] = mnb.predict_proba(hstack([x_word[n_train:]*weight[0], x_char[n_train:]*weight[1]]))[:,1]\n",
    "    "
   ]
  },
  {
   "cell_type": "code",
   "execution_count": 35,
   "metadata": {},
   "outputs": [
    {
     "data": {
      "text/html": [
       "<div>\n",
       "<style>\n",
       "    .dataframe thead tr:only-child th {\n",
       "        text-align: right;\n",
       "    }\n",
       "\n",
       "    .dataframe thead th {\n",
       "        text-align: left;\n",
       "    }\n",
       "\n",
       "    .dataframe tbody tr th {\n",
       "        vertical-align: top;\n",
       "    }\n",
       "</style>\n",
       "<table border=\"1\" class=\"dataframe\">\n",
       "  <thead>\n",
       "    <tr style=\"text-align: right;\">\n",
       "      <th></th>\n",
       "      <th>best_params</th>\n",
       "      <th>cv_score</th>\n",
       "      <th>train_score</th>\n",
       "      <th>test_score</th>\n",
       "    </tr>\n",
       "  </thead>\n",
       "  <tbody>\n",
       "    <tr>\n",
       "      <th>toxic</th>\n",
       "      <td>{'alpha': 0.2}</td>\n",
       "      <td>0.953085</td>\n",
       "      <td>0.964278</td>\n",
       "      <td>0.957269</td>\n",
       "    </tr>\n",
       "    <tr>\n",
       "      <th>severe_toxic</th>\n",
       "      <td>{'alpha': 0.05}</td>\n",
       "      <td>0.979275</td>\n",
       "      <td>0.99075</td>\n",
       "      <td>0.977955</td>\n",
       "    </tr>\n",
       "    <tr>\n",
       "      <th>obscene</th>\n",
       "      <td>{'alpha': 0.15}</td>\n",
       "      <td>0.96287</td>\n",
       "      <td>0.974347</td>\n",
       "      <td>0.962376</td>\n",
       "    </tr>\n",
       "    <tr>\n",
       "      <th>threat</th>\n",
       "      <td>{'alpha': 0.03}</td>\n",
       "      <td>0.959873</td>\n",
       "      <td>0.992487</td>\n",
       "      <td>0.956508</td>\n",
       "    </tr>\n",
       "    <tr>\n",
       "      <th>insult</th>\n",
       "      <td>{'alpha': 0.1}</td>\n",
       "      <td>0.959598</td>\n",
       "      <td>0.973281</td>\n",
       "      <td>0.963868</td>\n",
       "    </tr>\n",
       "    <tr>\n",
       "      <th>identity_hate</th>\n",
       "      <td>{'alpha': 0.05}</td>\n",
       "      <td>0.959401</td>\n",
       "      <td>0.98531</td>\n",
       "      <td>0.96861</td>\n",
       "    </tr>\n",
       "  </tbody>\n",
       "</table>\n",
       "</div>"
      ],
      "text/plain": [
       "                   best_params  cv_score train_score test_score\n",
       "toxic           {'alpha': 0.2}  0.953085    0.964278   0.957269\n",
       "severe_toxic   {'alpha': 0.05}  0.979275     0.99075   0.977955\n",
       "obscene        {'alpha': 0.15}   0.96287    0.974347   0.962376\n",
       "threat         {'alpha': 0.03}  0.959873    0.992487   0.956508\n",
       "insult          {'alpha': 0.1}  0.959598    0.973281   0.963868\n",
       "identity_hate  {'alpha': 0.05}  0.959401     0.98531    0.96861"
      ]
     },
     "execution_count": 35,
     "metadata": {},
     "output_type": "execute_result"
    }
   ],
   "source": [
    "mnb_records"
   ]
  },
  {
   "cell_type": "code",
   "execution_count": 36,
   "metadata": {},
   "outputs": [
    {
     "data": {
      "text/plain": [
       "cv_score       0.962351\n",
       "train_score    0.980075\n",
       "test_score     0.964431\n",
       "dtype: float64"
      ]
     },
     "execution_count": 36,
     "metadata": {},
     "output_type": "execute_result"
    }
   ],
   "source": [
    "mnb_records.iloc[:,1:].mean()"
   ]
  },
  {
   "cell_type": "code",
   "execution_count": 77,
   "metadata": {
    "collapsed": true
   },
   "outputs": [],
   "source": [
    "mnb_submission.to_csv('mnb_submission.csv',index=False)"
   ]
  },
  {
   "cell_type": "markdown",
   "metadata": {},
   "source": [
    "# mnb: \n",
    "- using weight(1, 0.3) to join word and char features better than 1:1 join\n",
    "\n",
    "{'alpha': 0.2}\n",
    "0.953085464608997\n",
    "Training score(roc_auc): 0.9642777587057523\n",
    "Test score(roc_auc): 0.9572685514517963\n",
    "\n",
    "0.2  0.05  0.15 0.03 0.1 0.05\n",
    "\n",
    "cv_score       0.962351\n",
    "train_score    0.980075\n",
    "test_score     0.964431\n",
    "\n",
    "kaggle score: 0.9555"
   ]
  },
  {
   "cell_type": "markdown",
   "metadata": {},
   "source": [
    "## with pipline single label"
   ]
  },
  {
   "cell_type": "code",
   "execution_count": 37,
   "metadata": {},
   "outputs": [],
   "source": [
    "x_train, x_test, y_train, y_test = train_test_split(full_set.cleaned_text[:n_train], \n",
    "                                                    full_set['toxic'][:n_train], \n",
    "                                                    test_size = 0.2, \n",
    "                                                    stratify = full_set['toxic'][:n_train])\n",
    "pipe_nb_toxic = Pipeline([('tfidf', TfidfVectorizer()), ('nb', MultinomialNB())])"
   ]
  },
  {
   "cell_type": "code",
   "execution_count": 81,
   "metadata": {},
   "outputs": [
    {
     "name": "stdout",
     "output_type": "stream",
     "text": [
      "Fitting 5 folds for each of 1 candidates, totalling 5 fits\n"
     ]
    },
    {
     "name": "stderr",
     "output_type": "stream",
     "text": [
      "[Parallel(n_jobs=-1)]: Done   5 out of   5 | elapsed:   30.9s finished\n",
      "C:\\Users\\liyad\\Anaconda3\\lib\\site-packages\\sklearn\\feature_extraction\\text.py:1089: FutureWarning: Conversion of the second argument of issubdtype from `float` to `np.floating` is deprecated. In future, it will be treated as `np.float64 == np.dtype(float).type`.\n",
      "  if hasattr(X, 'dtype') and np.issubdtype(X.dtype, np.float):\n"
     ]
    },
    {
     "name": "stdout",
     "output_type": "stream",
     "text": [
      "{'nb__alpha': 0.4, 'tfidf__max_df': 0.2, 'tfidf__min_df': 0.0001}\n",
      "0.955109427915134\n",
      "Training score(roc_auc): 0.9681823150456108\n",
      "Test score(roc_auc): 0.9572388756271292\n",
      "Wall time: 47 s\n"
     ]
    }
   ],
   "source": [
    "%%time\n",
    "# just word features\n",
    "parameters = {'tfidf__max_df': [0.2],\\\n",
    "              'tfidf__min_df': [0.0001],\\\n",
    "              'nb__alpha': [0.4]\n",
    "             }\n",
    "mnb_word_toxic = GridSearchCV(pipe_nb_toxic, parameters, n_jobs=-1, scoring = 'roc_auc', verbose=1, cv=5)\n",
    "mnb_word_toxic.fit(x_train, y_train)\n",
    "print(mnb_word_toxic.best_params_)\n",
    "print(mnb_word_toxic.best_score_)\n",
    "print(r\"Training score(roc_auc): {}\".format(metrics.roc_auc_score(y_train, mnb_word_toxic.predict_proba(x_train)[:,1])))\n",
    "print(r\"Test score(roc_auc): {}\".format(metrics.roc_auc_score(y_test, mnb_word_toxic.predict_proba(x_test)[:,1])))"
   ]
  },
  {
   "cell_type": "markdown",
   "metadata": {},
   "source": [
    "{'nb__alpha': 0.4, 'tfidf__max_df': 0.4, 'tfidf__min_df': 20}\n",
    "0.9548802633829122\n",
    "\n",
    "{'nb__alpha': 0.6, 'tfidf__max_df': 0.3, 'tfidf__min_df': 0.0003}\n",
    "0.9546047253386121\n",
    "\n",
    "{'nb__alpha': 0.4, 'tfidf__max_df': 0.2, 'tfidf__min_df': 0.0001}\n",
    "0.955109427915134"
   ]
  },
  {
   "cell_type": "code",
   "execution_count": 82,
   "metadata": {},
   "outputs": [
    {
     "name": "stdout",
     "output_type": "stream",
     "text": [
      "Fitting 3 folds for each of 1 candidates, totalling 3 fits\n"
     ]
    },
    {
     "name": "stderr",
     "output_type": "stream",
     "text": [
      "[Parallel(n_jobs=-1)]: Done   3 out of   3 | elapsed:  4.8min remaining:    0.0s\n",
      "[Parallel(n_jobs=-1)]: Done   3 out of   3 | elapsed:  4.8min finished\n",
      "C:\\Users\\liyad\\Anaconda3\\lib\\site-packages\\sklearn\\feature_extraction\\text.py:1089: FutureWarning: Conversion of the second argument of issubdtype from `float` to `np.floating` is deprecated. In future, it will be treated as `np.float64 == np.dtype(float).type`.\n",
      "  if hasattr(X, 'dtype') and np.issubdtype(X.dtype, np.float):\n"
     ]
    },
    {
     "name": "stdout",
     "output_type": "stream",
     "text": [
      "{'nb__alpha': 0.4, 'tfidf__analyzer': 'char', 'tfidf__max_df': 0.15, 'tfidf__max_features': 40000, 'tfidf__min_df': 0.0003, 'tfidf__ngram_range': (1, 5)}\n",
      "0.9443888224165012\n",
      "Training score(roc_auc): 0.9513343689715263\n",
      "Test score(roc_auc): 0.9467136326762108\n",
      "Wall time: 8min 51s\n"
     ]
    }
   ],
   "source": [
    "%%time\n",
    "# just char features\n",
    "parameters = {'tfidf__analyzer': ['char'],\\\n",
    "              'tfidf__max_df': [0.15],\\\n",
    "              'tfidf__min_df': [0.0003],\\\n",
    "              'tfidf__ngram_range': [(1,5)],\\\n",
    "              'tfidf__max_features': [40000],\\\n",
    "              'nb__alpha': [0.4]}\n",
    "mnb_char_toxic = GridSearchCV(pipe_nb_toxic, parameters, n_jobs=-1, scoring = 'roc_auc', verbose=5, cv=5)\n",
    "mnb_char_toxic.fit(x_train, y_train)\n",
    "print(mnb_char_toxic.best_params_)\n",
    "print(mnb_char_toxic.best_score_)\n",
    "print(r\"Training score(roc_auc): {}\".format(metrics.roc_auc_score(y_train, mnb_char_toxic.predict_proba(x_train)[:,1])))\n",
    "print(r\"Test score(roc_auc): {}\".format(metrics.roc_auc_score(y_test, mnb_char_toxic.predict_proba(x_test)[:,1])))"
   ]
  },
  {
   "cell_type": "markdown",
   "metadata": {},
   "source": [
    "{'nb__alpha': 0.4, 'tfidf__analyzer': 'char', 'tfidf__max_df': 0.2, 'tfidf__max_features': 30000, 'tfidf__min_df': 0.001, 'tfidf__ngram_range': (1, 4)}\n",
    "0.939792906316925\n",
    "Training score(roc_auc): 0.9461465635299896\n",
    "Test score(roc_auc): 0.941953299598244\n",
    "Wall time: 4h 30min 5s\n",
    "\n",
    "{'nb__alpha': 0.4, 'tfidf__analyzer': 'char', 'tfidf__max_df': 0.15, 'tfidf__max_features': 30000, 'tfidf__min_df': 0.001, 'tfidf__ngram_range': (1, 5)}\n",
    "0.9431876996662475\n",
    "Training score(roc_auc): 0.9487234081778911\n",
    "Test score(roc_auc): 0.9449681911864919\n",
    "Wall time: 23min 2s\n",
    "\n",
    "{'nb__alpha': 0.4, 'tfidf__analyzer': 'char', 'tfidf__max_df': 0.15, 'tfidf__max_features': 40000, 'tfidf__min_df': 0.0003, 'tfidf__ngram_range': (1, 5)}\n",
    "0.9443888224165012\n",
    "Training score(roc_auc): 0.9513343689715263\n",
    "Test score(roc_auc): 0.9467136326762108\n",
    "Wall time: 5h 46min 39s"
   ]
  },
  {
   "cell_type": "markdown",
   "metadata": {},
   "source": [
    "## with pipeline+Featureunion single label"
   ]
  },
  {
   "cell_type": "code",
   "execution_count": 79,
   "metadata": {},
   "outputs": [
    {
     "name": "stdout",
     "output_type": "stream",
     "text": [
      "Fitting 3 folds for each of 3 candidates, totalling 9 fits\n"
     ]
    },
    {
     "name": "stderr",
     "output_type": "stream",
     "text": [
      "[Parallel(n_jobs=-1)]: Done   4 out of   9 | elapsed:  7.3min remaining:  9.1min\n",
      "[Parallel(n_jobs=-1)]: Done   6 out of   9 | elapsed: 15.1min remaining:  7.5min\n",
      "[Parallel(n_jobs=-1)]: Done   9 out of   9 | elapsed: 18.5min finished\n",
      "C:\\Users\\liyad\\Anaconda3\\lib\\site-packages\\sklearn\\feature_extraction\\text.py:1089: FutureWarning: Conversion of the second argument of issubdtype from `float` to `np.floating` is deprecated. In future, it will be treated as `np.float64 == np.dtype(float).type`.\n",
      "  if hasattr(X, 'dtype') and np.issubdtype(X.dtype, np.float):\n",
      "C:\\Users\\liyad\\Anaconda3\\lib\\site-packages\\sklearn\\feature_extraction\\text.py:1089: FutureWarning: Conversion of the second argument of issubdtype from `float` to `np.floating` is deprecated. In future, it will be treated as `np.float64 == np.dtype(float).type`.\n",
      "  if hasattr(X, 'dtype') and np.issubdtype(X.dtype, np.float):\n"
     ]
    },
    {
     "name": "stdout",
     "output_type": "stream",
     "text": [
      "{'nb__alpha': 0.2, 'union__tfidf_char__tfidf__max_df': 0.15, 'union__tfidf_char__tfidf__max_features': 40000, 'union__tfidf_char__tfidf__min_df': 0.0003, 'union__tfidf_char__tfidf__ngram_range': (1, 5), 'union__tfidf_word__tfidf__max_df': 0.2, 'union__tfidf_word__tfidf__min_df': 0.0001}\n",
      "0.955850195663717\n",
      "Training score(roc_auc): 0.9689354350879801\n",
      "Test score(roc_auc): 0.9580927452277831\n",
      "Wall time: 23min 19s\n"
     ]
    }
   ],
   "source": [
    "%%time\n",
    "pip_mnb_union = Pipeline([\n",
    "           \n",
    "            # use FeatureUnion to combine features from tfidf and other already generated features\n",
    "            ('union', FeatureUnion(\n",
    "                transformer_list=[\n",
    "                    \n",
    "                    # pipeline to generate features from comments using tfidf analyzed by word\n",
    "                    ('tfidf_word', Pipeline([\n",
    "                        ('tfidf', TfidfVectorizer(analyzer='word'))\n",
    "                    ])),\n",
    "                    \n",
    "                    # pipeline to generate features from comments using tfidf analyzed by char\n",
    "                    ('tfidf_char', Pipeline([\n",
    "                        ('tfidf', TfidfVectorizer(analyzer='char'))\n",
    "                    ]))\n",
    "                ],    \n",
    "                transformer_weights={\n",
    "                    'tfidf_word': 1.0,\n",
    "                    'tfidf_char': 0.2,\n",
    "                }\n",
    "                \n",
    "            )),\n",
    "    \n",
    "            ('nb', MultinomialNB())\n",
    "            ])\n",
    "\n",
    "parameters = {'union__tfidf_word__tfidf__max_df': [0.2],\\\n",
    "              'union__tfidf_word__tfidf__min_df': [0.0001],\\\n",
    "              'union__tfidf_char__tfidf__max_df': [0.15],\\\n",
    "              'union__tfidf_char__tfidf__min_df': [0.0003],\\\n",
    "              'union__tfidf_char__tfidf__max_features': [40000],\\\n",
    "              'union__tfidf_char__tfidf__ngram_range': [(1,5)],\\\n",
    "              'nb__alpha': [0.6,0.4,0.2],\n",
    "              }\n",
    "\n",
    "union_mnb_cv = GridSearchCV(pip_mnb_union, parameters, n_jobs=-1, scoring = 'roc_auc', verbose=5, cv=3)\n",
    "union_mnb_cv.fit(x_train, y_train)\n",
    "print(union_mnb_cv.best_params_)\n",
    "print(union_mnb_cv.best_score_)\n",
    "print(r\"Training score(roc_auc): {}\".format(metrics.roc_auc_score(y_train, union_mnb_cv.predict_proba(x_train)[:,1])))\n",
    "print(r\"Test score(roc_auc): {}\".format(metrics.roc_auc_score(y_test, union_mnb_cv.predict_proba(x_test)[:,1])))"
   ]
  },
  {
   "cell_type": "markdown",
   "metadata": {},
   "source": [
    "{'nb__alpha': 0.4, 'union__tfidf_char__tfidf__max_df': 0.15, 'union__tfidf_char__tfidf__max_features': 40000, 'union__tfidf_char__tfidf__min_df': 0.0003, 'union__tfidf_char__tfidf__ngram_range': (1, 5), 'union__tfidf_word__tfidf__max_df': 0.2, 'union__tfidf_word__tfidf__min_df': 0.0001}\n",
    "0.9526365240927905\n",
    "Training score(roc_auc): 0.9615181461083318\n",
    "Test score(roc_auc): 0.9547861593721046\n",
    "\n",
    "{'nb__alpha': 0.2, 'union__tfidf_char__tfidf__max_df': 0.15, 'union__tfidf_char__tfidf__max_features': 40000, 'union__tfidf_char__tfidf__min_df': 0.0003, 'union__tfidf_char__tfidf__ngram_range': (1, 5), 'union__tfidf_word__tfidf__max_df': 0.2, 'union__tfidf_word__tfidf__min_df': 0.0001}\n",
    "0.955850195663717\n",
    "Training score(roc_auc): 0.9689354350879801\n",
    "Test score(roc_auc): 0.9580927452277831\n",
    "Wall time: 23min 19s"
   ]
  },
  {
   "cell_type": "markdown",
   "metadata": {},
   "source": [
    "## simple stacking pipline models with word and char features"
   ]
  },
  {
   "cell_type": "code",
   "execution_count": 84,
   "metadata": {},
   "outputs": [
    {
     "name": "stderr",
     "output_type": "stream",
     "text": [
      "C:\\Users\\liyad\\Anaconda3\\lib\\site-packages\\sklearn\\feature_extraction\\text.py:1089: FutureWarning: Conversion of the second argument of issubdtype from `float` to `np.floating` is deprecated. In future, it will be treated as `np.float64 == np.dtype(float).type`.\n",
      "  if hasattr(X, 'dtype') and np.issubdtype(X.dtype, np.float):\n"
     ]
    },
    {
     "name": "stdout",
     "output_type": "stream",
     "text": [
      "Training score(roc_auc): 0.9685301647630753\n",
      "Test score(roc_auc): 0.9589809694527178\n"
     ]
    }
   ],
   "source": [
    "print(r\"Training score(roc_auc): {}\".format(metrics.roc_auc_score(y_train, (mnb_word_toxic.predict_proba(x_train)[:,1]*0.8+\n",
    "                                                                               mnb_char_toxic.predict_proba(x_train)[:,1]*0.2))))\n",
    "print(r\"Test score(roc_auc): {}\".format(metrics.roc_auc_score(y_test, (mnb_word_toxic.predict_proba(x_test)[:,1]*0.8+\n",
    "                                                                          mnb_char_toxic.predict_proba(x_test)[:,1]*0.2))))"
   ]
  },
  {
   "cell_type": "markdown",
   "metadata": {},
   "source": [
    "1:1\n",
    "Training score(roc_auc): 0.9651714798553057\n",
    "Test score(roc_auc): 0.9568482298458384\n",
    "\n",
    "4:1\n",
    "Training score(roc_auc): 0.9685301647630753\n",
    "Test score(roc_auc): 0.9589809694527178"
   ]
  },
  {
   "cell_type": "markdown",
   "metadata": {},
   "source": [
    "## model from word features, all labels"
   ]
  },
  {
   "cell_type": "code",
   "execution_count": null,
   "metadata": {},
   "outputs": [
    {
     "name": "stdout",
     "output_type": "stream",
     "text": [
      "Start training classifier on toxic label\n"
     ]
    },
    {
     "name": "stderr",
     "output_type": "stream",
     "text": [
      "C:\\Users\\liyad\\Anaconda3\\lib\\site-packages\\sklearn\\feature_extraction\\text.py:1089: FutureWarning: Conversion of the second argument of issubdtype from `float` to `np.floating` is deprecated. In future, it will be treated as `np.float64 == np.dtype(float).type`.\n",
      "  if hasattr(X, 'dtype') and np.issubdtype(X.dtype, np.float):\n"
     ]
    },
    {
     "name": "stdout",
     "output_type": "stream",
     "text": [
      "Best params: {'nb__alpha': 0.4, 'tfidf__max_df': 0.2, 'tfidf__min_df': 0.0001}, cv_score: 0.9550078827130518, train_score: 0.9679276328979506, test_score: 0.9596303256634855\n",
      "Fitting final model and making prediction for submission on toxic label\n"
     ]
    },
    {
     "name": "stderr",
     "output_type": "stream",
     "text": [
      "C:\\Users\\liyad\\Anaconda3\\lib\\site-packages\\sklearn\\feature_extraction\\text.py:1089: FutureWarning: Conversion of the second argument of issubdtype from `float` to `np.floating` is deprecated. In future, it will be treated as `np.float64 == np.dtype(float).type`.\n",
      "  if hasattr(X, 'dtype') and np.issubdtype(X.dtype, np.float):\n"
     ]
    },
    {
     "name": "stdout",
     "output_type": "stream",
     "text": [
      "Start training classifier on severe_toxic label\n"
     ]
    },
    {
     "name": "stderr",
     "output_type": "stream",
     "text": [
      "C:\\Users\\liyad\\Anaconda3\\lib\\site-packages\\sklearn\\feature_extraction\\text.py:1089: FutureWarning: Conversion of the second argument of issubdtype from `float` to `np.floating` is deprecated. In future, it will be treated as `np.float64 == np.dtype(float).type`.\n",
      "  if hasattr(X, 'dtype') and np.issubdtype(X.dtype, np.float):\n"
     ]
    },
    {
     "name": "stdout",
     "output_type": "stream",
     "text": [
      "Best params: {'nb__alpha': 0.2, 'tfidf__max_df': 0.2, 'tfidf__min_df': 0.0003}, cv_score: 0.9789676614405037, train_score: 0.9883241955519528, test_score: 0.9772268899559129\n",
      "Fitting final model and making prediction for submission on severe_toxic label\n"
     ]
    },
    {
     "name": "stderr",
     "output_type": "stream",
     "text": [
      "C:\\Users\\liyad\\Anaconda3\\lib\\site-packages\\sklearn\\feature_extraction\\text.py:1089: FutureWarning: Conversion of the second argument of issubdtype from `float` to `np.floating` is deprecated. In future, it will be treated as `np.float64 == np.dtype(float).type`.\n",
      "  if hasattr(X, 'dtype') and np.issubdtype(X.dtype, np.float):\n"
     ]
    },
    {
     "name": "stdout",
     "output_type": "stream",
     "text": [
      "Start training classifier on obscene label\n"
     ]
    },
    {
     "name": "stderr",
     "output_type": "stream",
     "text": [
      "C:\\Users\\liyad\\Anaconda3\\lib\\site-packages\\sklearn\\feature_extraction\\text.py:1089: FutureWarning: Conversion of the second argument of issubdtype from `float` to `np.floating` is deprecated. In future, it will be treated as `np.float64 == np.dtype(float).type`.\n",
      "  if hasattr(X, 'dtype') and np.issubdtype(X.dtype, np.float):\n"
     ]
    },
    {
     "name": "stdout",
     "output_type": "stream",
     "text": [
      "Best params: {'nb__alpha': 0.4, 'tfidf__max_df': 0.2, 'tfidf__min_df': 0.0003}, cv_score: 0.9653922123249993, train_score: 0.9738800379820505, test_score: 0.9637549052716068\n",
      "Fitting final model and making prediction for submission on obscene label\n"
     ]
    },
    {
     "name": "stderr",
     "output_type": "stream",
     "text": [
      "C:\\Users\\liyad\\Anaconda3\\lib\\site-packages\\sklearn\\feature_extraction\\text.py:1089: FutureWarning: Conversion of the second argument of issubdtype from `float` to `np.floating` is deprecated. In future, it will be treated as `np.float64 == np.dtype(float).type`.\n",
      "  if hasattr(X, 'dtype') and np.issubdtype(X.dtype, np.float):\n"
     ]
    },
    {
     "name": "stdout",
     "output_type": "stream",
     "text": [
      "Start training classifier on threat label\n"
     ]
    },
    {
     "name": "stderr",
     "output_type": "stream",
     "text": [
      "C:\\Users\\liyad\\Anaconda3\\lib\\site-packages\\sklearn\\feature_extraction\\text.py:1089: FutureWarning: Conversion of the second argument of issubdtype from `float` to `np.floating` is deprecated. In future, it will be treated as `np.float64 == np.dtype(float).type`.\n",
      "  if hasattr(X, 'dtype') and np.issubdtype(X.dtype, np.float):\n"
     ]
    },
    {
     "name": "stdout",
     "output_type": "stream",
     "text": [
      "Best params: {'nb__alpha': 0.1, 'tfidf__max_df': 0.3, 'tfidf__min_df': 0.001}, cv_score: 0.968654060258725, train_score: 0.9904868948692713, test_score: 0.9657327710382686\n",
      "Fitting final model and making prediction for submission on threat label\n"
     ]
    },
    {
     "name": "stderr",
     "output_type": "stream",
     "text": [
      "C:\\Users\\liyad\\Anaconda3\\lib\\site-packages\\sklearn\\feature_extraction\\text.py:1089: FutureWarning: Conversion of the second argument of issubdtype from `float` to `np.floating` is deprecated. In future, it will be treated as `np.float64 == np.dtype(float).type`.\n",
      "  if hasattr(X, 'dtype') and np.issubdtype(X.dtype, np.float):\n"
     ]
    },
    {
     "name": "stdout",
     "output_type": "stream",
     "text": [
      "Start training classifier on insult label\n"
     ]
    }
   ],
   "source": [
    "%%time\n",
    "\n",
    "word_mnb_records = pd.DataFrame(index=labels, columns=['best_params', 'cv_score', 'train_score', 'test_score'])\n",
    "word_mnb_submission = pd.read_csv('sample_submission.csv')\n",
    "for label in labels:\n",
    "    print('Start training classifier on {} label'.format(label))\n",
    "    x_train, x_test, y_train, y_test, train_idx, test_idx = train_test_split(full_set.cleaned_text[:n_train], \n",
    "                                                        full_set[label][:n_train], \n",
    "                                                        np.arange(n_train),\n",
    "                                                        test_size = 0.2, \n",
    "                                                        random_state=2018,\n",
    "                                                        stratify = full_set[label][:n_train])\n",
    "    word_mnb = Pipeline([('tfidf', TfidfVectorizer()), ('nb', MultinomialNB())])\n",
    "    parameters = {'tfidf__max_df': [0.3, 0.2, 0.15],\\\n",
    "                  'tfidf__min_df': [0.00003, 0.0001, 0.0003, 0.001],\\\n",
    "                  'nb__alpha': [0.4, 0.2, 0.1, 0.05, 0.03]\n",
    "                 }\n",
    "    word_mnb_cv = GridSearchCV(word_mnb, parameters, n_jobs=-1, scoring = 'roc_auc', cv=5)\n",
    "    word_mnb_cv.fit(x_train, y_train)\n",
    "    word_mnb_records.loc[label,'best_params'] = str(word_mnb_cv.best_params_)\n",
    "    word_mnb_records.loc[label,'cv_score'] = word_mnb_cv.best_score_\n",
    "    word_mnb_records.loc[label, 'train_score'] = metrics.roc_auc_score(y_train, word_mnb_cv.predict_proba(x_train)[:,1])\n",
    "    word_mnb_records.loc[label, 'test_score'] = metrics.roc_auc_score(y_test, word_mnb_cv.predict_proba(x_test)[:,1])\n",
    "    print('Best params: {}, cv_score: {}, train_score: {}, test_score: {}'.format(*word_mnb_records.loc[label]))\n",
    "    word_mnb.set_params(**word_mnb_cv.best_params_)\n",
    "    print('Fitting final model and making prediction for submission on {} label'.format(label))\n",
    "    word_mnb.fit(full_set.cleaned_text[:n_train], full_set[label][:n_train])\n",
    "    word_mnb_submission[label] = word_mnb.predict_proba(full_set.cleaned_text[n_train:])[:,1]"
   ]
  },
  {
   "cell_type": "code",
   "execution_count": null,
   "metadata": {
    "collapsed": true
   },
   "outputs": [],
   "source": []
  },
  {
   "cell_type": "code",
   "execution_count": null,
   "metadata": {
    "collapsed": true
   },
   "outputs": [],
   "source": []
  },
  {
   "cell_type": "code",
   "execution_count": null,
   "metadata": {
    "collapsed": true
   },
   "outputs": [],
   "source": []
  },
  {
   "cell_type": "code",
   "execution_count": null,
   "metadata": {
    "collapsed": true
   },
   "outputs": [],
   "source": []
  },
  {
   "cell_type": "code",
   "execution_count": null,
   "metadata": {
    "collapsed": true
   },
   "outputs": [],
   "source": []
  },
  {
   "cell_type": "markdown",
   "metadata": {},
   "source": [
    "## Logistic Regression"
   ]
  },
  {
   "cell_type": "code",
   "execution_count": 123,
   "metadata": {},
   "outputs": [
    {
     "name": "stdout",
     "output_type": "stream",
     "text": [
      "Fitting 5 folds for each of 6 candidates, totalling 30 fits\n"
     ]
    },
    {
     "name": "stderr",
     "output_type": "stream",
     "text": [
      "[Parallel(n_jobs=-1)]: Done  10 tasks      | elapsed:  3.3min\n",
      "[Parallel(n_jobs=-1)]: Done  30 out of  30 | elapsed:  8.9min remaining:    0.0s\n",
      "[Parallel(n_jobs=-1)]: Done  30 out of  30 | elapsed:  8.9min finished\n"
     ]
    },
    {
     "name": "stdout",
     "output_type": "stream",
     "text": [
      "{'C': 0.3, 'class_weight': 'balanced', 'solver': 'newton-cg'}\n",
      "0.9794813511602982\n",
      "Training score(roc_auc): 0.9963089668397781\n",
      "Test score(roc_auc): 0.9855039073459635\n",
      "Wall time: 10min 3s\n"
     ]
    }
   ],
   "source": [
    "%%time\n",
    "\n",
    "# use 1:1 joined word char features\n",
    "lg = LogisticRegression()\n",
    "parameters = {'C': [0.03, 0.1, 0.3, 0.9],\\\n",
    "             'class_weight': ['balanced'],\\\n",
    "             'solver': ['lbfgs'],\\\n",
    "             }\n",
    "lg_toxic = GridSearchCV(lg, parameters, n_jobs=-1, scoring = 'roc_auc', verbose=5, cv=5)\n",
    "lg_toxic.fit(x_train_comb, y_train)\n",
    "print(lg_toxic.best_params_)\n",
    "print(lg_toxic.best_score_)\n",
    "print(r\"Training score(roc_auc): {}\".format(metrics.roc_auc_score(y_train, lg_toxic.predict_proba(x_train_comb)[:,1])))\n",
    "print(r\"Test score(roc_auc): {}\".format(metrics.roc_auc_score(y_test, lg_toxic.predict_proba(x_test_comb)[:,1])))"
   ]
  },
  {
   "cell_type": "markdown",
   "metadata": {},
   "source": [
    "### multi label models"
   ]
  },
  {
   "cell_type": "code",
   "execution_count": 38,
   "metadata": {
    "scrolled": true
   },
   "outputs": [
    {
     "name": "stdout",
     "output_type": "stream",
     "text": [
      "Start training classifier on toxic label\n",
      "Fitting 5 folds for each of 4 candidates, totalling 20 fits\n"
     ]
    },
    {
     "name": "stderr",
     "output_type": "stream",
     "text": [
      "[Parallel(n_jobs=-1)]: Done  20 out of  20 | elapsed:  3.5min finished\n"
     ]
    },
    {
     "name": "stdout",
     "output_type": "stream",
     "text": [
      "Best params: {'C': 0.8, 'class_weight': 'balanced', 'solver': 'lbfgs'}, cv_score: 0.973023, train_score: 0.991355, test_score: 0.975484\n",
      "Fitting final model and making prediction for submission on toxic label\n",
      "Start training classifier on severe_toxic label\n",
      "Fitting 5 folds for each of 4 candidates, totalling 20 fits\n"
     ]
    },
    {
     "name": "stderr",
     "output_type": "stream",
     "text": [
      "[Parallel(n_jobs=-1)]: Done  20 out of  20 | elapsed:  2.7min finished\n"
     ]
    },
    {
     "name": "stdout",
     "output_type": "stream",
     "text": [
      "Best params: {'C': 0.1, 'class_weight': 'balanced', 'solver': 'lbfgs'}, cv_score: 0.987395, train_score: 0.993149, test_score: 0.987970\n",
      "Fitting final model and making prediction for submission on severe_toxic label\n",
      "Start training classifier on obscene label\n",
      "Fitting 5 folds for each of 4 candidates, totalling 20 fits\n"
     ]
    },
    {
     "name": "stderr",
     "output_type": "stream",
     "text": [
      "[Parallel(n_jobs=-1)]: Done  20 out of  20 | elapsed:  3.5min finished\n"
     ]
    },
    {
     "name": "stdout",
     "output_type": "stream",
     "text": [
      "Best params: {'C': 0.4, 'class_weight': 'balanced', 'solver': 'lbfgs'}, cv_score: 0.990068, train_score: 0.996483, test_score: 0.989666\n",
      "Fitting final model and making prediction for submission on obscene label\n",
      "Start training classifier on threat label\n",
      "Fitting 5 folds for each of 4 candidates, totalling 20 fits\n"
     ]
    },
    {
     "name": "stderr",
     "output_type": "stream",
     "text": [
      "[Parallel(n_jobs=-1)]: Done  20 out of  20 | elapsed:  2.9min finished\n"
     ]
    },
    {
     "name": "stdout",
     "output_type": "stream",
     "text": [
      "Best params: {'C': 0.1, 'class_weight': 'balanced', 'solver': 'lbfgs'}, cv_score: 0.981855, train_score: 0.998335, test_score: 0.977534\n",
      "Fitting final model and making prediction for submission on threat label\n",
      "Start training classifier on insult label\n",
      "Fitting 5 folds for each of 4 candidates, totalling 20 fits\n"
     ]
    },
    {
     "name": "stderr",
     "output_type": "stream",
     "text": [
      "[Parallel(n_jobs=-1)]: Done  20 out of  20 | elapsed:  3.7min finished\n"
     ]
    },
    {
     "name": "stdout",
     "output_type": "stream",
     "text": [
      "Best params: {'C': 0.4, 'class_weight': 'balanced', 'solver': 'lbfgs'}, cv_score: 0.980003, train_score: 0.991660, test_score: 0.978746\n",
      "Fitting final model and making prediction for submission on insult label\n",
      "Start training classifier on identity_hate label\n",
      "Fitting 5 folds for each of 4 candidates, totalling 20 fits\n"
     ]
    },
    {
     "name": "stderr",
     "output_type": "stream",
     "text": [
      "[Parallel(n_jobs=-1)]: Done  20 out of  20 | elapsed:  3.4min finished\n"
     ]
    },
    {
     "name": "stdout",
     "output_type": "stream",
     "text": [
      "Best params: {'C': 0.2, 'class_weight': 'balanced', 'solver': 'lbfgs'}, cv_score: 0.979516, train_score: 0.995637, test_score: 0.985557\n",
      "Fitting final model and making prediction for submission on identity_hate label\n",
      "Wall time: 37min 9s\n"
     ]
    }
   ],
   "source": [
    "%%time\n",
    "\n",
    "lg_records = pd.DataFrame(index=labels, columns=['best_params', 'cv_score', 'train_score', 'test_score'])\n",
    "lg_submission = pd.read_csv('sample_submission.csv')\n",
    "for label in labels:\n",
    "    print('Start training classifier on {} label'.format(label))\n",
    "    x_train, x_test, y_train, y_test, train_idx, test_idx = train_test_split(full_set.cleaned_text[:n_train], \n",
    "                                                        full_set[label][:n_train], \n",
    "                                                        np.arange(n_train),\n",
    "                                                        test_size = 0.2, \n",
    "                                                        random_state=2018,\n",
    "                                                        stratify = full_set[label][:n_train])\n",
    "    weight = [1, 1]\n",
    "    x_train_comb = hstack([x_word[train_idx]*weight[0], x_char[train_idx]*weight[1]])\n",
    "    x_test_comb = hstack([x_word[test_idx]*weight[0], x_char[test_idx]*weight[1]])\n",
    "    x_sub_comb = hstack([x_word[n_train:]*weight[0], x_char[n_train:]*weight[1]])\n",
    "    lg = LogisticRegression()\n",
    "    parameters = {'C': [0.1, 0.2, 0.4, 0.8],\\\n",
    "                  'class_weight': ['balanced'],\\\n",
    "                  'solver': ['lbfgs'],\\\n",
    "                 }\n",
    "    lg_cv = GridSearchCV(lg, parameters, n_jobs=-1, scoring = 'roc_auc', verbose=1, cv=5)\n",
    "    lg_cv.fit(x_train_comb, y_train)\n",
    "    lg_records.loc[label,'best_params'] = str(lg_cv.best_params_)\n",
    "    lg_records.loc[label,'cv_score'] = lg_cv.best_score_\n",
    "    lg_records.loc[label, 'train_score'] = metrics.roc_auc_score(y_train, lg_cv.predict_proba(x_train_comb)[:,1])\n",
    "    lg_records.loc[label, 'test_score'] = metrics.roc_auc_score(y_test, lg_cv.predict_proba(x_test_comb)[:,1])\n",
    "    print('Best params: {}, cv_score: {:.6f}, train_score: {:.6f}, test_score: {:.6f}'.format(*lg_records.loc[label]))\n",
    "    lg.set_params(**lg_cv.best_params_)\n",
    "    print('Fitting final model and making prediction for submission on {} label'.format(label))\n",
    "    lg.fit(hstack([x_word[:n_train]*weight[0], x_char[:n_train]*weight[1]]), full_set[label][:n_train])\n",
    "    lg_submission[label] = lg.predict_proba(x_sub_comb)[:,1]"
   ]
  },
  {
   "cell_type": "code",
   "execution_count": 39,
   "metadata": {},
   "outputs": [
    {
     "data": {
      "text/html": [
       "<div>\n",
       "<style>\n",
       "    .dataframe thead tr:only-child th {\n",
       "        text-align: right;\n",
       "    }\n",
       "\n",
       "    .dataframe thead th {\n",
       "        text-align: left;\n",
       "    }\n",
       "\n",
       "    .dataframe tbody tr th {\n",
       "        vertical-align: top;\n",
       "    }\n",
       "</style>\n",
       "<table border=\"1\" class=\"dataframe\">\n",
       "  <thead>\n",
       "    <tr style=\"text-align: right;\">\n",
       "      <th></th>\n",
       "      <th>best_params</th>\n",
       "      <th>cv_score</th>\n",
       "      <th>train_score</th>\n",
       "      <th>test_score</th>\n",
       "    </tr>\n",
       "  </thead>\n",
       "  <tbody>\n",
       "    <tr>\n",
       "      <th>toxic</th>\n",
       "      <td>{'C': 0.8, 'class_weight': 'balanced', 'solver...</td>\n",
       "      <td>0.973023</td>\n",
       "      <td>0.991355</td>\n",
       "      <td>0.975484</td>\n",
       "    </tr>\n",
       "    <tr>\n",
       "      <th>severe_toxic</th>\n",
       "      <td>{'C': 0.1, 'class_weight': 'balanced', 'solver...</td>\n",
       "      <td>0.987395</td>\n",
       "      <td>0.993149</td>\n",
       "      <td>0.98797</td>\n",
       "    </tr>\n",
       "    <tr>\n",
       "      <th>obscene</th>\n",
       "      <td>{'C': 0.4, 'class_weight': 'balanced', 'solver...</td>\n",
       "      <td>0.990068</td>\n",
       "      <td>0.996483</td>\n",
       "      <td>0.989666</td>\n",
       "    </tr>\n",
       "    <tr>\n",
       "      <th>threat</th>\n",
       "      <td>{'C': 0.1, 'class_weight': 'balanced', 'solver...</td>\n",
       "      <td>0.981855</td>\n",
       "      <td>0.998335</td>\n",
       "      <td>0.977534</td>\n",
       "    </tr>\n",
       "    <tr>\n",
       "      <th>insult</th>\n",
       "      <td>{'C': 0.4, 'class_weight': 'balanced', 'solver...</td>\n",
       "      <td>0.980003</td>\n",
       "      <td>0.99166</td>\n",
       "      <td>0.978746</td>\n",
       "    </tr>\n",
       "    <tr>\n",
       "      <th>identity_hate</th>\n",
       "      <td>{'C': 0.2, 'class_weight': 'balanced', 'solver...</td>\n",
       "      <td>0.979516</td>\n",
       "      <td>0.995637</td>\n",
       "      <td>0.985557</td>\n",
       "    </tr>\n",
       "  </tbody>\n",
       "</table>\n",
       "</div>"
      ],
      "text/plain": [
       "                                                     best_params  cv_score  \\\n",
       "toxic          {'C': 0.8, 'class_weight': 'balanced', 'solver...  0.973023   \n",
       "severe_toxic   {'C': 0.1, 'class_weight': 'balanced', 'solver...  0.987395   \n",
       "obscene        {'C': 0.4, 'class_weight': 'balanced', 'solver...  0.990068   \n",
       "threat         {'C': 0.1, 'class_weight': 'balanced', 'solver...  0.981855   \n",
       "insult         {'C': 0.4, 'class_weight': 'balanced', 'solver...  0.980003   \n",
       "identity_hate  {'C': 0.2, 'class_weight': 'balanced', 'solver...  0.979516   \n",
       "\n",
       "              train_score test_score  \n",
       "toxic            0.991355   0.975484  \n",
       "severe_toxic     0.993149    0.98797  \n",
       "obscene          0.996483   0.989666  \n",
       "threat           0.998335   0.977534  \n",
       "insult            0.99166   0.978746  \n",
       "identity_hate    0.995637   0.985557  "
      ]
     },
     "execution_count": 39,
     "metadata": {},
     "output_type": "execute_result"
    }
   ],
   "source": [
    "lg_records"
   ]
  },
  {
   "cell_type": "code",
   "execution_count": 40,
   "metadata": {},
   "outputs": [
    {
     "data": {
      "text/plain": [
       "cv_score       0.981977\n",
       "train_score    0.994437\n",
       "test_score     0.982493\n",
       "dtype: float64"
      ]
     },
     "execution_count": 40,
     "metadata": {},
     "output_type": "execute_result"
    }
   ],
   "source": [
    "lg_records.iloc[:,1:].mean()"
   ]
  },
  {
   "cell_type": "code",
   "execution_count": 41,
   "metadata": {
    "collapsed": true
   },
   "outputs": [],
   "source": [
    "lg_submission.to_csv('lg_submission.csv',index=False)"
   ]
  },
  {
   "cell_type": "markdown",
   "metadata": {
    "collapsed": true
   },
   "source": [
    "# logistic regression\n",
    "- [1,1] joined word and char features better than [1,0.3] joined features\n",
    "\n",
    "{'C': 0.1, 'class_weight': 'balanced', 'solver': 'lbfgs'}\n",
    "0.9873947097951655\n",
    "Training score(roc_auc): 0.993149330451378\n",
    "Test score(roc_auc): 0.9879700358880396\n",
    "Wall time: 4min 33s\n",
    "\n",
    "0.8 0.1 0.4 0.1 0.4 0.2\n",
    "\n",
    "cv_score       0.981977\n",
    "train_score    0.994437\n",
    "test_score     0.982493\n",
    "\n",
    "kaggle score: 0.9774"
   ]
  },
  {
   "cell_type": "markdown",
   "metadata": {},
   "source": [
    "## Tree"
   ]
  },
  {
   "cell_type": "code",
   "execution_count": 135,
   "metadata": {
    "collapsed": true
   },
   "outputs": [],
   "source": [
    "import xgboost"
   ]
  },
  {
   "cell_type": "code",
   "execution_count": 136,
   "metadata": {
    "collapsed": true
   },
   "outputs": [],
   "source": [
    "train_df = xgboost.DMatrix(x_train_comb, label = y_train)"
   ]
  },
  {
   "cell_type": "code",
   "execution_count": 154,
   "metadata": {
    "scrolled": true
   },
   "outputs": [
    {
     "name": "stdout",
     "output_type": "stream",
     "text": [
      "[0]\ttrain-auc:0.796981+0.0109959\ttest-auc:0.793915+0.0140373\n",
      "[1]\ttrain-auc:0.840044+0.00536002\ttest-auc:0.835227+0.00176337\n",
      "[2]\ttrain-auc:0.855341+0.00357857\ttest-auc:0.849412+0.00128116\n",
      "[3]\ttrain-auc:0.872474+0.00264374\ttest-auc:0.86389+0.00552894\n",
      "[4]\ttrain-auc:0.882874+0.00193005\ttest-auc:0.873201+0.00536483\n",
      "[5]\ttrain-auc:0.890423+0.00134486\ttest-auc:0.880574+0.00371775\n",
      "[6]\ttrain-auc:0.895957+0.00222922\ttest-auc:0.886053+0.00329777\n",
      "[7]\ttrain-auc:0.901025+0.00183939\ttest-auc:0.890153+0.00403479\n",
      "[8]\ttrain-auc:0.905073+0.00109418\ttest-auc:0.894136+0.00258031\n",
      "[9]\ttrain-auc:0.909567+0.00118027\ttest-auc:0.897777+0.00247806\n",
      "[10]\ttrain-auc:0.914597+0.00127315\ttest-auc:0.902341+0.0026341\n",
      "[11]\ttrain-auc:0.918612+0.000832952\ttest-auc:0.906448+0.00193617\n",
      "[12]\ttrain-auc:0.921774+0.00163709\ttest-auc:0.909214+0.00226672\n",
      "[13]\ttrain-auc:0.924727+0.00224918\ttest-auc:0.912225+0.00146467\n",
      "[14]\ttrain-auc:0.928284+0.0020549\ttest-auc:0.914742+0.00133552\n",
      "[15]\ttrain-auc:0.931768+0.00152825\ttest-auc:0.917365+0.00167313\n",
      "[16]\ttrain-auc:0.933961+0.0013659\ttest-auc:0.919604+0.00141144\n",
      "[17]\ttrain-auc:0.936358+0.000686579\ttest-auc:0.921777+0.00160059\n",
      "[18]\ttrain-auc:0.938465+0.000590026\ttest-auc:0.923938+0.00179121\n",
      "[19]\ttrain-auc:0.94054+0.000573124\ttest-auc:0.925953+0.00138512\n",
      "[20]\ttrain-auc:0.942162+0.000498446\ttest-auc:0.927296+0.00124324\n",
      "[21]\ttrain-auc:0.943817+0.000170381\ttest-auc:0.92894+0.00139943\n",
      "[22]\ttrain-auc:0.945589+0.000116874\ttest-auc:0.93024+0.00132313\n",
      "[23]\ttrain-auc:0.947203+0.000429369\ttest-auc:0.93144+0.00133299\n",
      "[24]\ttrain-auc:0.948592+0.00083849\ttest-auc:0.932712+0.00187484\n",
      "[25]\ttrain-auc:0.949919+0.000829609\ttest-auc:0.933896+0.00202438\n",
      "[26]\ttrain-auc:0.951274+0.000759396\ttest-auc:0.934916+0.00200897\n",
      "[27]\ttrain-auc:0.952116+0.000534906\ttest-auc:0.935704+0.00186759\n",
      "[28]\ttrain-auc:0.953024+0.000233969\ttest-auc:0.936421+0.00140109\n",
      "[29]\ttrain-auc:0.954203+7.67869e-05\ttest-auc:0.937413+0.00134766\n",
      "[30]\ttrain-auc:0.955227+0.000115728\ttest-auc:0.938131+0.0014991\n",
      "[31]\ttrain-auc:0.956145+0.000134046\ttest-auc:0.938996+0.00150325\n",
      "[32]\ttrain-auc:0.957049+0.000127625\ttest-auc:0.939701+0.00147316\n",
      "[33]\ttrain-auc:0.957874+0.00011903\ttest-auc:0.940316+0.00135166\n",
      "[34]\ttrain-auc:0.958785+0.000287187\ttest-auc:0.941007+0.00127584\n",
      "[35]\ttrain-auc:0.959393+0.000197711\ttest-auc:0.941744+0.00118668\n",
      "[36]\ttrain-auc:0.960082+0.000167692\ttest-auc:0.942403+0.00111949\n",
      "[37]\ttrain-auc:0.960769+0.000331273\ttest-auc:0.942781+0.0012872\n",
      "[38]\ttrain-auc:0.961352+0.000404464\ttest-auc:0.943182+0.00129472\n",
      "[39]\ttrain-auc:0.962046+0.000561986\ttest-auc:0.94386+0.00119009\n",
      "[40]\ttrain-auc:0.96251+0.000531156\ttest-auc:0.944236+0.00117185\n",
      "[41]\ttrain-auc:0.963143+0.000307671\ttest-auc:0.944797+0.001286\n",
      "[42]\ttrain-auc:0.963807+0.000260708\ttest-auc:0.945319+0.0012229\n",
      "[43]\ttrain-auc:0.964221+0.000248203\ttest-auc:0.945746+0.00138705\n",
      "[44]\ttrain-auc:0.964743+0.000341902\ttest-auc:0.946163+0.00133115\n",
      "[45]\ttrain-auc:0.965235+0.000391792\ttest-auc:0.946592+0.00134196\n",
      "[46]\ttrain-auc:0.965895+0.000289393\ttest-auc:0.946951+0.00144641\n",
      "[47]\ttrain-auc:0.966491+7.82318e-05\ttest-auc:0.947373+0.00138689\n",
      "[48]\ttrain-auc:0.966979+0.000187173\ttest-auc:0.9476+0.0012706\n",
      "[49]\ttrain-auc:0.967525+7.80356e-05\ttest-auc:0.947979+0.00129204\n",
      "[50]\ttrain-auc:0.967942+0.000270223\ttest-auc:0.948266+0.00133262\n",
      "[51]\ttrain-auc:0.968394+0.000232088\ttest-auc:0.948561+0.00140207\n",
      "[52]\ttrain-auc:0.968926+0.000236981\ttest-auc:0.949007+0.00133641\n",
      "[53]\ttrain-auc:0.969214+0.000409914\ttest-auc:0.94923+0.00136661\n",
      "[54]\ttrain-auc:0.969598+0.000437678\ttest-auc:0.949446+0.00127906\n",
      "[55]\ttrain-auc:0.969992+0.000487509\ttest-auc:0.949736+0.00130177\n",
      "[56]\ttrain-auc:0.97039+0.000380079\ttest-auc:0.950008+0.00131002\n",
      "[57]\ttrain-auc:0.97066+0.000345018\ttest-auc:0.950307+0.0013811\n",
      "[58]\ttrain-auc:0.971023+0.0003923\ttest-auc:0.95048+0.00143097\n",
      "[59]\ttrain-auc:0.971381+0.000453725\ttest-auc:0.950709+0.00146849\n",
      "[60]\ttrain-auc:0.971685+0.000447882\ttest-auc:0.950902+0.00142093\n",
      "[61]\ttrain-auc:0.972019+0.00048455\ttest-auc:0.951137+0.001326\n",
      "[62]\ttrain-auc:0.972376+0.000551227\ttest-auc:0.951341+0.00135996\n",
      "[63]\ttrain-auc:0.972854+0.000542201\ttest-auc:0.951594+0.00139346\n",
      "[64]\ttrain-auc:0.973218+0.000565664\ttest-auc:0.951746+0.00149691\n",
      "[65]\ttrain-auc:0.973632+0.000505859\ttest-auc:0.952054+0.00143823\n",
      "[66]\ttrain-auc:0.973884+0.000361745\ttest-auc:0.952237+0.00137752\n",
      "[67]\ttrain-auc:0.974093+0.000436549\ttest-auc:0.952309+0.00128274\n",
      "[68]\ttrain-auc:0.974365+0.000388198\ttest-auc:0.952402+0.00140326\n",
      "[69]\ttrain-auc:0.974699+0.000347181\ttest-auc:0.952557+0.00128404\n",
      "[70]\ttrain-auc:0.974955+0.000341042\ttest-auc:0.952688+0.00122913\n",
      "[71]\ttrain-auc:0.97517+0.000300058\ttest-auc:0.952871+0.00116844\n",
      "[72]\ttrain-auc:0.975534+0.000411517\ttest-auc:0.952892+0.00118542\n",
      "[73]\ttrain-auc:0.975694+0.000460576\ttest-auc:0.953103+0.00108378\n",
      "[74]\ttrain-auc:0.975977+0.000393423\ttest-auc:0.953229+0.00102746\n",
      "[75]\ttrain-auc:0.9762+0.000393442\ttest-auc:0.953555+0.00108673\n",
      "[76]\ttrain-auc:0.976348+0.000338849\ttest-auc:0.953696+0.00108604\n",
      "[77]\ttrain-auc:0.976604+0.000328827\ttest-auc:0.953831+0.000907547\n",
      "[78]\ttrain-auc:0.97686+0.000328366\ttest-auc:0.953984+0.000979951\n",
      "[79]\ttrain-auc:0.977065+0.000402748\ttest-auc:0.954084+0.00100954\n",
      "[80]\ttrain-auc:0.977275+0.000340406\ttest-auc:0.954245+0.00111274\n",
      "[81]\ttrain-auc:0.977532+0.000400503\ttest-auc:0.954432+0.00121113\n",
      "[82]\ttrain-auc:0.977672+0.000440482\ttest-auc:0.954515+0.00112401\n",
      "[83]\ttrain-auc:0.977836+0.000414193\ttest-auc:0.954665+0.00108558\n",
      "[84]\ttrain-auc:0.978027+0.000382851\ttest-auc:0.95476+0.00107532\n",
      "[85]\ttrain-auc:0.978237+0.000321155\ttest-auc:0.954947+0.00100491\n",
      "[86]\ttrain-auc:0.978387+0.000301367\ttest-auc:0.955049+0.00103123\n",
      "[87]\ttrain-auc:0.978686+0.000216115\ttest-auc:0.955161+0.00104919\n",
      "[88]\ttrain-auc:0.978902+0.000152999\ttest-auc:0.955285+0.00107876\n",
      "[89]\ttrain-auc:0.979141+0.000148507\ttest-auc:0.955435+0.00113196\n",
      "[90]\ttrain-auc:0.979332+0.000100685\ttest-auc:0.955558+0.00120006\n",
      "[91]\ttrain-auc:0.979521+8.20894e-05\ttest-auc:0.955731+0.00116341\n",
      "[92]\ttrain-auc:0.979701+7.07861e-05\ttest-auc:0.95579+0.00129599\n",
      "[93]\ttrain-auc:0.979854+0.000109675\ttest-auc:0.955891+0.00134399\n",
      "[94]\ttrain-auc:0.980073+0.000226205\ttest-auc:0.956034+0.00127648\n",
      "[95]\ttrain-auc:0.980319+0.000237389\ttest-auc:0.956115+0.00133212\n",
      "[96]\ttrain-auc:0.980611+0.000228331\ttest-auc:0.956234+0.0012594\n",
      "[97]\ttrain-auc:0.980754+0.000200362\ttest-auc:0.956272+0.00126497\n",
      "[98]\ttrain-auc:0.98098+0.000263935\ttest-auc:0.956305+0.00126932\n",
      "[99]\ttrain-auc:0.98113+0.000293673\ttest-auc:0.956408+0.001324\n",
      "[100]\ttrain-auc:0.981354+0.000338851\ttest-auc:0.956461+0.00133647\n",
      "[101]\ttrain-auc:0.981487+0.000351948\ttest-auc:0.956446+0.00135583\n",
      "[102]\ttrain-auc:0.981685+0.00035689\ttest-auc:0.956579+0.00134935\n",
      "[103]\ttrain-auc:0.98193+0.000472006\ttest-auc:0.956667+0.0013369\n",
      "[104]\ttrain-auc:0.982056+0.000421237\ttest-auc:0.956731+0.00133323\n",
      "[105]\ttrain-auc:0.982181+0.000368361\ttest-auc:0.956847+0.00134909\n",
      "[106]\ttrain-auc:0.98236+0.000359422\ttest-auc:0.956854+0.0014413\n",
      "[107]\ttrain-auc:0.982497+0.000296722\ttest-auc:0.95693+0.0014596\n",
      "[108]\ttrain-auc:0.982594+0.000299493\ttest-auc:0.957042+0.00142645\n",
      "[109]\ttrain-auc:0.982757+0.000277528\ttest-auc:0.957141+0.00139025\n",
      "[110]\ttrain-auc:0.982936+0.000293153\ttest-auc:0.957226+0.00142894\n",
      "[111]\ttrain-auc:0.983077+0.000332548\ttest-auc:0.95727+0.00141334\n",
      "[112]\ttrain-auc:0.983185+0.000344722\ttest-auc:0.957339+0.00138379\n",
      "[113]\ttrain-auc:0.983312+0.000408974\ttest-auc:0.95735+0.00143656\n",
      "[114]\ttrain-auc:0.983442+0.000387825\ttest-auc:0.957401+0.00150521\n",
      "[115]\ttrain-auc:0.983558+0.000424478\ttest-auc:0.957452+0.00152985\n",
      "[116]\ttrain-auc:0.983644+0.000422571\ttest-auc:0.957547+0.00152346\n",
      "[117]\ttrain-auc:0.983793+0.000362102\ttest-auc:0.957525+0.00146844\n",
      "[118]\ttrain-auc:0.98399+0.000357418\ttest-auc:0.957579+0.00153513\n",
      "[119]\ttrain-auc:0.98408+0.000382145\ttest-auc:0.957688+0.00156634\n",
      "[120]\ttrain-auc:0.984169+0.000344212\ttest-auc:0.957696+0.00150835\n",
      "[121]\ttrain-auc:0.984289+0.000330077\ttest-auc:0.957715+0.00155557\n",
      "[122]\ttrain-auc:0.984383+0.000376485\ttest-auc:0.957865+0.00157562\n",
      "[123]\ttrain-auc:0.984511+0.000370486\ttest-auc:0.957937+0.00151692\n",
      "[124]\ttrain-auc:0.984644+0.000339821\ttest-auc:0.957969+0.0014913\n",
      "[125]\ttrain-auc:0.984769+0.00033753\ttest-auc:0.957951+0.00145568\n",
      "[126]\ttrain-auc:0.984858+0.000352169\ttest-auc:0.958017+0.00144381\n"
     ]
    },
    {
     "name": "stdout",
     "output_type": "stream",
     "text": [
      "[127]\ttrain-auc:0.984978+0.000310459\ttest-auc:0.958162+0.00140564\n",
      "[128]\ttrain-auc:0.985044+0.000301753\ttest-auc:0.95822+0.00138128\n",
      "[129]\ttrain-auc:0.985204+0.00032011\ttest-auc:0.958254+0.00143411\n",
      "[130]\ttrain-auc:0.985301+0.00029648\ttest-auc:0.95824+0.0014943\n",
      "[131]\ttrain-auc:0.985395+0.000315274\ttest-auc:0.958366+0.00145999\n",
      "[132]\ttrain-auc:0.985485+0.00032092\ttest-auc:0.95841+0.00137368\n",
      "[133]\ttrain-auc:0.985563+0.000308775\ttest-auc:0.958431+0.0013365\n",
      "[134]\ttrain-auc:0.985689+0.000358371\ttest-auc:0.958442+0.00138365\n",
      "[135]\ttrain-auc:0.985793+0.000342098\ttest-auc:0.958467+0.0014016\n",
      "[136]\ttrain-auc:0.985865+0.000353201\ttest-auc:0.95848+0.00136974\n",
      "[137]\ttrain-auc:0.98595+0.00036762\ttest-auc:0.958469+0.00144499\n",
      "[138]\ttrain-auc:0.986056+0.000363803\ttest-auc:0.95848+0.00146892\n",
      "[139]\ttrain-auc:0.986117+0.000344475\ttest-auc:0.958575+0.00150398\n",
      "[140]\ttrain-auc:0.98619+0.000346898\ttest-auc:0.958597+0.00145529\n",
      "[141]\ttrain-auc:0.986295+0.000410759\ttest-auc:0.958774+0.00143263\n",
      "[142]\ttrain-auc:0.986389+0.000413839\ttest-auc:0.958777+0.00151073\n",
      "[143]\ttrain-auc:0.986484+0.000416704\ttest-auc:0.958779+0.00151284\n",
      "[144]\ttrain-auc:0.986587+0.000366792\ttest-auc:0.958728+0.00146517\n",
      "[145]\ttrain-auc:0.986678+0.00033904\ttest-auc:0.958724+0.00148807\n",
      "[146]\ttrain-auc:0.986761+0.000335915\ttest-auc:0.958732+0.00156724\n",
      "[147]\ttrain-auc:0.986874+0.000325806\ttest-auc:0.958778+0.0015559\n",
      "[148]\ttrain-auc:0.986961+0.000325568\ttest-auc:0.958946+0.00151203\n",
      "[149]\ttrain-auc:0.987031+0.000329408\ttest-auc:0.958934+0.00147589\n",
      "[150]\ttrain-auc:0.98711+0.000311199\ttest-auc:0.958974+0.00146544\n",
      "[151]\ttrain-auc:0.987159+0.000288331\ttest-auc:0.959021+0.0014448\n",
      "[152]\ttrain-auc:0.987277+0.000241192\ttest-auc:0.95906+0.00144667\n",
      "[153]\ttrain-auc:0.987366+0.000235061\ttest-auc:0.959034+0.00149625\n",
      "[154]\ttrain-auc:0.987449+0.00023839\ttest-auc:0.959019+0.00147395\n",
      "[155]\ttrain-auc:0.987521+0.000264334\ttest-auc:0.959076+0.00155164\n",
      "[156]\ttrain-auc:0.987615+0.000247032\ttest-auc:0.959091+0.0015273\n",
      "[157]\ttrain-auc:0.987699+0.00024932\ttest-auc:0.95916+0.0015275\n",
      "[158]\ttrain-auc:0.987752+0.000225871\ttest-auc:0.959181+0.00149502\n",
      "[159]\ttrain-auc:0.987811+0.0002201\ttest-auc:0.959201+0.00148574\n",
      "[160]\ttrain-auc:0.987907+0.000207163\ttest-auc:0.959206+0.00143857\n",
      "[161]\ttrain-auc:0.988024+0.00012893\ttest-auc:0.959386+0.00151792\n",
      "[162]\ttrain-auc:0.988082+0.00013708\ttest-auc:0.959416+0.00150985\n",
      "[163]\ttrain-auc:0.988135+0.000104385\ttest-auc:0.959451+0.00149207\n",
      "[164]\ttrain-auc:0.988209+0.000108103\ttest-auc:0.959464+0.00150535\n",
      "[165]\ttrain-auc:0.988299+9.00531e-05\ttest-auc:0.959536+0.00143172\n",
      "[166]\ttrain-auc:0.988366+8.35823e-05\ttest-auc:0.959562+0.00143237\n",
      "[167]\ttrain-auc:0.988434+6.34262e-05\ttest-auc:0.959636+0.00139539\n",
      "[168]\ttrain-auc:0.988517+9.88871e-05\ttest-auc:0.959629+0.00146306\n",
      "[169]\ttrain-auc:0.988585+9.72831e-05\ttest-auc:0.959668+0.00146843\n",
      "[170]\ttrain-auc:0.988645+0.000118663\ttest-auc:0.959677+0.00150349\n",
      "[171]\ttrain-auc:0.988697+0.000123777\ttest-auc:0.9597+0.00147961\n",
      "[172]\ttrain-auc:0.988777+0.000153866\ttest-auc:0.959715+0.00146765\n",
      "[173]\ttrain-auc:0.988858+0.000159209\ttest-auc:0.959744+0.00147042\n",
      "[174]\ttrain-auc:0.988891+0.000147271\ttest-auc:0.959791+0.00148534\n",
      "[175]\ttrain-auc:0.98894+0.000138025\ttest-auc:0.959814+0.00145295\n",
      "[176]\ttrain-auc:0.989003+0.000134947\ttest-auc:0.959795+0.0014467\n",
      "[177]\ttrain-auc:0.989039+0.000160227\ttest-auc:0.959852+0.00144355\n",
      "[178]\ttrain-auc:0.989098+0.000171855\ttest-auc:0.959841+0.00140788\n",
      "[179]\ttrain-auc:0.98913+0.000168662\ttest-auc:0.95981+0.00142356\n",
      "[180]\ttrain-auc:0.989187+0.00018864\ttest-auc:0.959889+0.00141091\n",
      "[181]\ttrain-auc:0.989243+0.000195442\ttest-auc:0.959945+0.0014403\n",
      "[182]\ttrain-auc:0.989298+0.000187733\ttest-auc:0.95998+0.00143019\n",
      "[183]\ttrain-auc:0.989417+0.000196629\ttest-auc:0.960006+0.00143189\n",
      "[184]\ttrain-auc:0.989472+0.000225895\ttest-auc:0.960054+0.0013266\n",
      "[185]\ttrain-auc:0.989531+0.000209943\ttest-auc:0.960065+0.00135169\n",
      "[186]\ttrain-auc:0.989596+0.000212007\ttest-auc:0.960056+0.00137926\n",
      "[187]\ttrain-auc:0.989655+0.000205515\ttest-auc:0.96005+0.00132136\n",
      "[188]\ttrain-auc:0.989701+0.000218921\ttest-auc:0.960133+0.00132156\n",
      "[189]\ttrain-auc:0.989767+0.000186244\ttest-auc:0.960139+0.00131139\n",
      "[190]\ttrain-auc:0.989847+0.000172018\ttest-auc:0.960106+0.00125342\n",
      "[191]\ttrain-auc:0.989906+0.000216953\ttest-auc:0.960114+0.00135006\n",
      "[192]\ttrain-auc:0.989958+0.000214023\ttest-auc:0.960136+0.00144074\n",
      "[193]\ttrain-auc:0.989999+0.000204369\ttest-auc:0.960208+0.00142067\n",
      "[194]\ttrain-auc:0.990063+0.000188045\ttest-auc:0.960227+0.00132693\n",
      "[195]\ttrain-auc:0.990104+0.000194253\ttest-auc:0.960186+0.00130423\n",
      "[196]\ttrain-auc:0.990145+0.000187518\ttest-auc:0.960147+0.00134213\n",
      "[197]\ttrain-auc:0.990205+0.000176845\ttest-auc:0.960204+0.00136027\n",
      "[198]\ttrain-auc:0.990241+0.000181969\ttest-auc:0.960264+0.00134494\n",
      "[199]\ttrain-auc:0.990279+0.000180086\ttest-auc:0.960324+0.0013584\n",
      "[200]\ttrain-auc:0.990312+0.000187505\ttest-auc:0.960304+0.00126783\n",
      "[201]\ttrain-auc:0.990345+0.000201143\ttest-auc:0.960348+0.00128861\n",
      "[202]\ttrain-auc:0.990401+0.000187512\ttest-auc:0.960304+0.00133626\n",
      "[203]\ttrain-auc:0.990451+0.000206471\ttest-auc:0.960337+0.00135947\n",
      "[204]\ttrain-auc:0.990515+0.000179791\ttest-auc:0.960281+0.00134276\n",
      "[205]\ttrain-auc:0.990569+0.000170885\ttest-auc:0.960346+0.00135649\n",
      "[206]\ttrain-auc:0.990646+0.000176247\ttest-auc:0.960324+0.0013467\n",
      "[207]\ttrain-auc:0.990671+0.000176175\ttest-auc:0.960381+0.00134678\n",
      "[208]\ttrain-auc:0.99077+0.000163651\ttest-auc:0.96036+0.00130155\n",
      "[209]\ttrain-auc:0.990813+0.000169329\ttest-auc:0.960383+0.00127043\n",
      "[210]\ttrain-auc:0.990834+0.000162697\ttest-auc:0.960435+0.001281\n",
      "[211]\ttrain-auc:0.990873+0.000140741\ttest-auc:0.960423+0.00127581\n",
      "[212]\ttrain-auc:0.990911+0.000138594\ttest-auc:0.960455+0.00125086\n",
      "[213]\ttrain-auc:0.990955+0.000131233\ttest-auc:0.960475+0.00125606\n",
      "[214]\ttrain-auc:0.991006+0.00013179\ttest-auc:0.960414+0.00120017\n",
      "[215]\ttrain-auc:0.991053+0.000128863\ttest-auc:0.960427+0.0012476\n",
      "[216]\ttrain-auc:0.991088+0.000132024\ttest-auc:0.960498+0.00123007\n",
      "[217]\ttrain-auc:0.991141+0.00011681\ttest-auc:0.96056+0.0012043\n",
      "[218]\ttrain-auc:0.991207+0.000101853\ttest-auc:0.960617+0.0011853\n",
      "[219]\ttrain-auc:0.991229+0.000101883\ttest-auc:0.960634+0.00117505\n",
      "[220]\ttrain-auc:0.99126+9.46338e-05\ttest-auc:0.960686+0.00118765\n",
      "[221]\ttrain-auc:0.991312+6.91392e-05\ttest-auc:0.960686+0.00118188\n",
      "[222]\ttrain-auc:0.991341+6.41474e-05\ttest-auc:0.960678+0.00119329\n",
      "[223]\ttrain-auc:0.99138+5.74862e-05\ttest-auc:0.960709+0.00118278\n",
      "[224]\ttrain-auc:0.99142+5.61486e-05\ttest-auc:0.960756+0.0011848\n",
      "[225]\ttrain-auc:0.991458+5.16333e-05\ttest-auc:0.96076+0.00112809\n",
      "[226]\ttrain-auc:0.991493+4.23425e-05\ttest-auc:0.960767+0.00110575\n",
      "[227]\ttrain-auc:0.991515+3.47563e-05\ttest-auc:0.960778+0.00113197\n"
     ]
    },
    {
     "ename": "KeyboardInterrupt",
     "evalue": "",
     "output_type": "error",
     "traceback": [
      "\u001b[1;31m---------------------------------------------------------------------------\u001b[0m",
      "\u001b[1;31mKeyboardInterrupt\u001b[0m                         Traceback (most recent call last)",
      "\u001b[1;32m<ipython-input-154-e739bb2b3e0e>\u001b[0m in \u001b[0;36m<module>\u001b[1;34m()\u001b[0m\n\u001b[1;32m----> 1\u001b[1;33m \u001b[0mget_ipython\u001b[0m\u001b[1;33m(\u001b[0m\u001b[1;33m)\u001b[0m\u001b[1;33m.\u001b[0m\u001b[0mrun_cell_magic\u001b[0m\u001b[1;33m(\u001b[0m\u001b[1;34m'time'\u001b[0m\u001b[1;33m,\u001b[0m \u001b[1;34m''\u001b[0m\u001b[1;33m,\u001b[0m \u001b[1;34m'\\n# use 1:1 joined word char features\\n\\nparam = {\\'eta\\':0.3,  # learning_rate\\n         \\'silent\\':0,  # printing running messages\\n         \\'objective\\':\\'binary:logistic\\', # logistic regression for binary classification, output probability\\n         \\'subsample\\': 1,  # subsample rows\\n         \\'scale_pos_weight\\': 9, # for balancing the classes         \\n         \\'colsample_bytree\\': 0.3,  # subsample columns\\n         \\'gamma\\': 11, # minimum loss reduction required to make a further partition on a leaf node of the tree\\n         \\'max_depth\\':5,  # maximum depth of a tree, 4-10\\n         \\'min_child_weight\\': 50,  # minimum sum of instance weight (hessian) needed in a child\\n#          \\'colsample_bylevel\\': 1, # subsample ratio of columns for each split, in each level\\n#          \\'max_delta_step\\': 0 # help in logistic regression when class is extremely imbalanced, 1-10\\n         }\\nxgb_toxic = xgboost.cv(params=param, dtrain=train_df, num_boost_round=500, nfold=3, metrics=\\'auc\\',\\\\\\n                   stratified=True, early_stopping_rounds=50,\\\\\\n                   verbose_eval=True, seed=2018)\\n\\n# print(lg_toxic.best_params_)\\n# print(lg_toxic.best_score_)\\n# print(r\"Training score(roc_auc): {}\".format(metrics.roc_auc_score(y_train, lg_toxic.predict_proba(x_train_comb)[:,1])))\\n# print(r\"Test score(roc_auc): {}\".format(metrics.roc_auc_score(y_test, lg_toxic.predict_proba(x_test_comb)[:,1])))'\u001b[0m\u001b[1;33m)\u001b[0m\u001b[1;33m\u001b[0m\u001b[0m\n\u001b[0m",
      "\u001b[1;32mC:\\Users\\liyad\\Anaconda3\\lib\\site-packages\\IPython\\core\\interactiveshell.py\u001b[0m in \u001b[0;36mrun_cell_magic\u001b[1;34m(self, magic_name, line, cell)\u001b[0m\n\u001b[0;32m   2113\u001b[0m             \u001b[0mmagic_arg_s\u001b[0m \u001b[1;33m=\u001b[0m \u001b[0mself\u001b[0m\u001b[1;33m.\u001b[0m\u001b[0mvar_expand\u001b[0m\u001b[1;33m(\u001b[0m\u001b[0mline\u001b[0m\u001b[1;33m,\u001b[0m \u001b[0mstack_depth\u001b[0m\u001b[1;33m)\u001b[0m\u001b[1;33m\u001b[0m\u001b[0m\n\u001b[0;32m   2114\u001b[0m             \u001b[1;32mwith\u001b[0m \u001b[0mself\u001b[0m\u001b[1;33m.\u001b[0m\u001b[0mbuiltin_trap\u001b[0m\u001b[1;33m:\u001b[0m\u001b[1;33m\u001b[0m\u001b[0m\n\u001b[1;32m-> 2115\u001b[1;33m                 \u001b[0mresult\u001b[0m \u001b[1;33m=\u001b[0m \u001b[0mfn\u001b[0m\u001b[1;33m(\u001b[0m\u001b[0mmagic_arg_s\u001b[0m\u001b[1;33m,\u001b[0m \u001b[0mcell\u001b[0m\u001b[1;33m)\u001b[0m\u001b[1;33m\u001b[0m\u001b[0m\n\u001b[0m\u001b[0;32m   2116\u001b[0m             \u001b[1;32mreturn\u001b[0m \u001b[0mresult\u001b[0m\u001b[1;33m\u001b[0m\u001b[0m\n\u001b[0;32m   2117\u001b[0m \u001b[1;33m\u001b[0m\u001b[0m\n",
      "\u001b[1;32m<decorator-gen-60>\u001b[0m in \u001b[0;36mtime\u001b[1;34m(self, line, cell, local_ns)\u001b[0m\n",
      "\u001b[1;32mC:\\Users\\liyad\\Anaconda3\\lib\\site-packages\\IPython\\core\\magic.py\u001b[0m in \u001b[0;36m<lambda>\u001b[1;34m(f, *a, **k)\u001b[0m\n\u001b[0;32m    186\u001b[0m     \u001b[1;31m# but it's overkill for just that one bit of state.\u001b[0m\u001b[1;33m\u001b[0m\u001b[1;33m\u001b[0m\u001b[0m\n\u001b[0;32m    187\u001b[0m     \u001b[1;32mdef\u001b[0m \u001b[0mmagic_deco\u001b[0m\u001b[1;33m(\u001b[0m\u001b[0marg\u001b[0m\u001b[1;33m)\u001b[0m\u001b[1;33m:\u001b[0m\u001b[1;33m\u001b[0m\u001b[0m\n\u001b[1;32m--> 188\u001b[1;33m         \u001b[0mcall\u001b[0m \u001b[1;33m=\u001b[0m \u001b[1;32mlambda\u001b[0m \u001b[0mf\u001b[0m\u001b[1;33m,\u001b[0m \u001b[1;33m*\u001b[0m\u001b[0ma\u001b[0m\u001b[1;33m,\u001b[0m \u001b[1;33m**\u001b[0m\u001b[0mk\u001b[0m\u001b[1;33m:\u001b[0m \u001b[0mf\u001b[0m\u001b[1;33m(\u001b[0m\u001b[1;33m*\u001b[0m\u001b[0ma\u001b[0m\u001b[1;33m,\u001b[0m \u001b[1;33m**\u001b[0m\u001b[0mk\u001b[0m\u001b[1;33m)\u001b[0m\u001b[1;33m\u001b[0m\u001b[0m\n\u001b[0m\u001b[0;32m    189\u001b[0m \u001b[1;33m\u001b[0m\u001b[0m\n\u001b[0;32m    190\u001b[0m         \u001b[1;32mif\u001b[0m \u001b[0mcallable\u001b[0m\u001b[1;33m(\u001b[0m\u001b[0marg\u001b[0m\u001b[1;33m)\u001b[0m\u001b[1;33m:\u001b[0m\u001b[1;33m\u001b[0m\u001b[0m\n",
      "\u001b[1;32mC:\\Users\\liyad\\Anaconda3\\lib\\site-packages\\IPython\\core\\magics\\execution.py\u001b[0m in \u001b[0;36mtime\u001b[1;34m(self, line, cell, local_ns)\u001b[0m\n\u001b[0;32m   1183\u001b[0m         \u001b[1;32melse\u001b[0m\u001b[1;33m:\u001b[0m\u001b[1;33m\u001b[0m\u001b[0m\n\u001b[0;32m   1184\u001b[0m             \u001b[0mst\u001b[0m \u001b[1;33m=\u001b[0m \u001b[0mclock2\u001b[0m\u001b[1;33m(\u001b[0m\u001b[1;33m)\u001b[0m\u001b[1;33m\u001b[0m\u001b[0m\n\u001b[1;32m-> 1185\u001b[1;33m             \u001b[0mexec\u001b[0m\u001b[1;33m(\u001b[0m\u001b[0mcode\u001b[0m\u001b[1;33m,\u001b[0m \u001b[0mglob\u001b[0m\u001b[1;33m,\u001b[0m \u001b[0mlocal_ns\u001b[0m\u001b[1;33m)\u001b[0m\u001b[1;33m\u001b[0m\u001b[0m\n\u001b[0m\u001b[0;32m   1186\u001b[0m             \u001b[0mend\u001b[0m \u001b[1;33m=\u001b[0m \u001b[0mclock2\u001b[0m\u001b[1;33m(\u001b[0m\u001b[1;33m)\u001b[0m\u001b[1;33m\u001b[0m\u001b[0m\n\u001b[0;32m   1187\u001b[0m             \u001b[0mout\u001b[0m \u001b[1;33m=\u001b[0m \u001b[1;32mNone\u001b[0m\u001b[1;33m\u001b[0m\u001b[0m\n",
      "\u001b[1;32m<timed exec>\u001b[0m in \u001b[0;36m<module>\u001b[1;34m()\u001b[0m\n",
      "\u001b[1;32mC:\\Users\\liyad\\Anaconda3\\lib\\site-packages\\xgboost\\training.py\u001b[0m in \u001b[0;36mcv\u001b[1;34m(params, dtrain, num_boost_round, nfold, stratified, folds, metrics, obj, feval, maximize, early_stopping_rounds, fpreproc, as_pandas, verbose_eval, show_stdv, seed, callbacks)\u001b[0m\n\u001b[0;32m    398\u001b[0m                            evaluation_result_list=None))\n\u001b[0;32m    399\u001b[0m         \u001b[1;32mfor\u001b[0m \u001b[0mfold\u001b[0m \u001b[1;32min\u001b[0m \u001b[0mcvfolds\u001b[0m\u001b[1;33m:\u001b[0m\u001b[1;33m\u001b[0m\u001b[0m\n\u001b[1;32m--> 400\u001b[1;33m             \u001b[0mfold\u001b[0m\u001b[1;33m.\u001b[0m\u001b[0mupdate\u001b[0m\u001b[1;33m(\u001b[0m\u001b[0mi\u001b[0m\u001b[1;33m,\u001b[0m \u001b[0mobj\u001b[0m\u001b[1;33m)\u001b[0m\u001b[1;33m\u001b[0m\u001b[0m\n\u001b[0m\u001b[0;32m    401\u001b[0m         \u001b[0mres\u001b[0m \u001b[1;33m=\u001b[0m \u001b[0maggcv\u001b[0m\u001b[1;33m(\u001b[0m\u001b[1;33m[\u001b[0m\u001b[0mf\u001b[0m\u001b[1;33m.\u001b[0m\u001b[0meval\u001b[0m\u001b[1;33m(\u001b[0m\u001b[0mi\u001b[0m\u001b[1;33m,\u001b[0m \u001b[0mfeval\u001b[0m\u001b[1;33m)\u001b[0m \u001b[1;32mfor\u001b[0m \u001b[0mf\u001b[0m \u001b[1;32min\u001b[0m \u001b[0mcvfolds\u001b[0m\u001b[1;33m]\u001b[0m\u001b[1;33m)\u001b[0m\u001b[1;33m\u001b[0m\u001b[0m\n\u001b[0;32m    402\u001b[0m \u001b[1;33m\u001b[0m\u001b[0m\n",
      "\u001b[1;32mC:\\Users\\liyad\\Anaconda3\\lib\\site-packages\\xgboost\\training.py\u001b[0m in \u001b[0;36mupdate\u001b[1;34m(self, iteration, fobj)\u001b[0m\n\u001b[0;32m    217\u001b[0m     \u001b[1;32mdef\u001b[0m \u001b[0mupdate\u001b[0m\u001b[1;33m(\u001b[0m\u001b[0mself\u001b[0m\u001b[1;33m,\u001b[0m \u001b[0miteration\u001b[0m\u001b[1;33m,\u001b[0m \u001b[0mfobj\u001b[0m\u001b[1;33m)\u001b[0m\u001b[1;33m:\u001b[0m\u001b[1;33m\u001b[0m\u001b[0m\n\u001b[0;32m    218\u001b[0m         \u001b[1;34m\"\"\"\"Update the boosters for one iteration\"\"\"\u001b[0m\u001b[1;33m\u001b[0m\u001b[0m\n\u001b[1;32m--> 219\u001b[1;33m         \u001b[0mself\u001b[0m\u001b[1;33m.\u001b[0m\u001b[0mbst\u001b[0m\u001b[1;33m.\u001b[0m\u001b[0mupdate\u001b[0m\u001b[1;33m(\u001b[0m\u001b[0mself\u001b[0m\u001b[1;33m.\u001b[0m\u001b[0mdtrain\u001b[0m\u001b[1;33m,\u001b[0m \u001b[0miteration\u001b[0m\u001b[1;33m,\u001b[0m \u001b[0mfobj\u001b[0m\u001b[1;33m)\u001b[0m\u001b[1;33m\u001b[0m\u001b[0m\n\u001b[0m\u001b[0;32m    220\u001b[0m \u001b[1;33m\u001b[0m\u001b[0m\n\u001b[0;32m    221\u001b[0m     \u001b[1;32mdef\u001b[0m \u001b[0meval\u001b[0m\u001b[1;33m(\u001b[0m\u001b[0mself\u001b[0m\u001b[1;33m,\u001b[0m \u001b[0miteration\u001b[0m\u001b[1;33m,\u001b[0m \u001b[0mfeval\u001b[0m\u001b[1;33m)\u001b[0m\u001b[1;33m:\u001b[0m\u001b[1;33m\u001b[0m\u001b[0m\n",
      "\u001b[1;32mC:\\Users\\liyad\\Anaconda3\\lib\\site-packages\\xgboost\\core.py\u001b[0m in \u001b[0;36mupdate\u001b[1;34m(self, dtrain, iteration, fobj)\u001b[0m\n\u001b[0;32m    804\u001b[0m \u001b[1;33m\u001b[0m\u001b[0m\n\u001b[0;32m    805\u001b[0m         \u001b[1;32mif\u001b[0m \u001b[0mfobj\u001b[0m \u001b[1;32mis\u001b[0m \u001b[1;32mNone\u001b[0m\u001b[1;33m:\u001b[0m\u001b[1;33m\u001b[0m\u001b[0m\n\u001b[1;32m--> 806\u001b[1;33m             \u001b[0m_check_call\u001b[0m\u001b[1;33m(\u001b[0m\u001b[0m_LIB\u001b[0m\u001b[1;33m.\u001b[0m\u001b[0mXGBoosterUpdateOneIter\u001b[0m\u001b[1;33m(\u001b[0m\u001b[0mself\u001b[0m\u001b[1;33m.\u001b[0m\u001b[0mhandle\u001b[0m\u001b[1;33m,\u001b[0m \u001b[0miteration\u001b[0m\u001b[1;33m,\u001b[0m \u001b[0mdtrain\u001b[0m\u001b[1;33m.\u001b[0m\u001b[0mhandle\u001b[0m\u001b[1;33m)\u001b[0m\u001b[1;33m)\u001b[0m\u001b[1;33m\u001b[0m\u001b[0m\n\u001b[0m\u001b[0;32m    807\u001b[0m         \u001b[1;32melse\u001b[0m\u001b[1;33m:\u001b[0m\u001b[1;33m\u001b[0m\u001b[0m\n\u001b[0;32m    808\u001b[0m             \u001b[0mpred\u001b[0m \u001b[1;33m=\u001b[0m \u001b[0mself\u001b[0m\u001b[1;33m.\u001b[0m\u001b[0mpredict\u001b[0m\u001b[1;33m(\u001b[0m\u001b[0mdtrain\u001b[0m\u001b[1;33m)\u001b[0m\u001b[1;33m\u001b[0m\u001b[0m\n",
      "\u001b[1;31mKeyboardInterrupt\u001b[0m: "
     ]
    }
   ],
   "source": [
    "%%time\n",
    "\n",
    "# use 1:1 joined word char features\n",
    "\n",
    "param = {'eta':0.3,  # learning_rate\n",
    "         'silent':0,  # printing running messages\n",
    "         'objective':'binary:logistic', # logistic regression for binary classification, output probability\n",
    "         'subsample': 1,  # subsample rows\n",
    "         'scale_pos_weight': 1, # for balancing the classes         \n",
    "         'colsample_bytree': 0.2,  # subsample columns\n",
    "         'gamma': 11, # minimum loss reduction required to make a further partition on a leaf node of the tree\n",
    "         'max_depth':4,  # maximum depth of a tree, 4-10\n",
    "         'min_child_weight': 5,  # minimum sum of instance weight (hessian) needed in a child\n",
    "#          'colsample_bylevel': 1, # subsample ratio of columns for each split, in each level\n",
    "#          'max_delta_step': 0 # help in logistic regression when class is extremely imbalanced, 1-10\n",
    "         }\n",
    "xgb_toxic = xgboost.cv(params=param, dtrain=train_df, num_boost_round=500, nfold=3, metrics='auc',\\\n",
    "                   stratified=True, early_stopping_rounds=50,\\\n",
    "                   verbose_eval=True, seed=2018)\n",
    "\n",
    "# print(lg_toxic.best_params_)\n",
    "# print(lg_toxic.best_score_)\n",
    "# print(r\"Training score(roc_auc): {}\".format(metrics.roc_auc_score(y_train, lg_toxic.predict_proba(x_train_comb)[:,1])))\n",
    "# print(r\"Test score(roc_auc): {}\".format(metrics.roc_auc_score(y_test, lg_toxic.predict_proba(x_test_comb)[:,1])))"
   ]
  },
  {
   "cell_type": "markdown",
   "metadata": {},
   "source": [
    "- best auc:\n",
    "[231]\ttrain-auc:0.983466+0.000306972\ttest-auc:0.962364+0.00119056\n",
    "[2777]\ttrain-auc:0.984029+0.000176414\ttest-auc:0.964967+0.00121307\n",
    "\n",
    "[158]\ttrain-auc:0.983336+0.000192297\ttest-auc:0.959391+0.000734916\n",
    "[151]\ttrain-auc:0.983416+0.000487931\ttest-auc:0.958959+0.000854794\n",
    "\n",
    "         'eta':0.3, \n",
    "         'silent':0,  \n",
    "         'objective':'binary:logistic', \n",
    "         'subsample': 1,  \n",
    "         'scale_pos_weight': 1,                          9\n",
    "         'colsample_bytree': 0.2,                        0.3\n",
    "         'gamma': 11,                                    11\n",
    "         'max_depth':4,  \n",
    "         'min_child_weight': 5,                          50\n",
    "         'colsample_bylevel': 1, \n"
   ]
  },
  {
   "cell_type": "code",
   "execution_count": null,
   "metadata": {
    "collapsed": true
   },
   "outputs": [],
   "source": []
  },
  {
   "cell_type": "markdown",
   "metadata": {
    "collapsed": true
   },
   "source": [
    "## nbsvm "
   ]
  },
  {
   "cell_type": "code",
   "execution_count": 48,
   "metadata": {
    "collapsed": true
   },
   "outputs": [],
   "source": [
    "from sklearn.base import BaseEstimator, ClassifierMixin\n",
    "from sklearn.utils.validation import check_X_y, check_is_fitted\n",
    "from sklearn.linear_model import LogisticRegression\n",
    "from scipy import sparse\n",
    "class NbSvmClassifier(BaseEstimator, ClassifierMixin):\n",
    "    def __init__(self, C=1.0, dual=False, n_jobs=1):\n",
    "        self.C = C\n",
    "        self.dual = dual\n",
    "        self.n_jobs = n_jobs\n",
    "\n",
    "    def predict(self, x):\n",
    "        # Verify that model has been fit\n",
    "        check_is_fitted(self, ['_r', '_clf'])\n",
    "        return self._clf.predict(x.multiply(self._r))\n",
    "\n",
    "    def predict_proba(self, x):\n",
    "        # Verify that model has been fit\n",
    "        check_is_fitted(self, ['_r', '_clf'])\n",
    "        return self._clf.predict_proba(x.multiply(self._r))\n",
    "\n",
    "    def fit(self, x, y):\n",
    "        # Check that X and y have correct shape\n",
    "        y = y.values\n",
    "        x, y = check_X_y(x, y, accept_sparse=True)\n",
    "\n",
    "        def pr(x, y_i, y):\n",
    "            p = x[y==y_i].sum(0)\n",
    "            return (p+1) / ((y==y_i).sum()+1)\n",
    "\n",
    "        self._r = sparse.csr_matrix(np.log(pr(x,1,y) / pr(x,0,y)))\n",
    "        x_nb = x.multiply(self._r)\n",
    "        self._clf = LogisticRegression(C=self.C, dual=self.dual, \n",
    "                                       n_jobs=self.n_jobs, class_weight='balanced',\n",
    "                                      solver='sag').fit(x_nb, y)\n",
    "        return self"
   ]
  },
  {
   "cell_type": "code",
   "execution_count": null,
   "metadata": {},
   "outputs": [
    {
     "name": "stdout",
     "output_type": "stream",
     "text": [
      "Fitting 3 folds for each of 4 candidates, totalling 12 fits\n"
     ]
    }
   ],
   "source": [
    "%%time\n",
    "\n",
    "# \n",
    "nbsvm = NbSvmClassifier()\n",
    "parameters = {'C': [0.01, 0.1, 1, 3],\\\n",
    "             }\n",
    "svm_toxic = GridSearchCV(nbsvm, parameters, n_jobs=-1, scoring = 'roc_auc', verbose=5, cv=3)\n",
    "svm_toxic.fit(x_train_comb, y_train)\n",
    "print(svm_toxic.best_params_)\n",
    "print(svm_toxic.best_score_)\n",
    "print(r\"Training score(roc_auc): {}\".format(metrics.roc_auc_score(y_train, svm_toxic.predict_proba(x_train_comb)[:,1])))\n",
    "print(r\"Test score(roc_auc): {}\".format(metrics.roc_auc_score(y_test, svm_toxic.predict_proba(x_test_comb)[:,1])))"
   ]
  },
  {
   "cell_type": "code",
   "execution_count": null,
   "metadata": {
    "collapsed": true
   },
   "outputs": [],
   "source": []
  },
  {
   "cell_type": "code",
   "execution_count": null,
   "metadata": {
    "collapsed": true
   },
   "outputs": [],
   "source": []
  },
  {
   "cell_type": "code",
   "execution_count": null,
   "metadata": {
    "collapsed": true
   },
   "outputs": [],
   "source": []
  },
  {
   "cell_type": "code",
   "execution_count": null,
   "metadata": {
    "collapsed": true
   },
   "outputs": [],
   "source": []
  },
  {
   "cell_type": "code",
   "execution_count": null,
   "metadata": {
    "collapsed": true
   },
   "outputs": [],
   "source": []
  },
  {
   "cell_type": "code",
   "execution_count": null,
   "metadata": {
    "collapsed": true
   },
   "outputs": [],
   "source": []
  },
  {
   "cell_type": "code",
   "execution_count": null,
   "metadata": {
    "collapsed": true
   },
   "outputs": [],
   "source": []
  },
  {
   "cell_type": "markdown",
   "metadata": {
    "collapsed": true
   },
   "source": [
    "## recycle bin"
   ]
  },
  {
   "cell_type": "code",
   "execution_count": 33,
   "metadata": {
    "collapsed": true
   },
   "outputs": [],
   "source": [
    "from sklearn.base import BaseEstimator, TransformerMixin\n",
    "from sklearn.pipeline import Pipeline, FeatureUnion\n",
    "class ItemSelector(BaseEstimator, TransformerMixin):\n",
    "    def __init__(self, key='comment', idx=None):\n",
    "        self.key = key\n",
    "        self.idx = idx\n",
    "\n",
    "    def fit(self, x, y=None):\n",
    "        return(self)\n",
    "\n",
    "    def transform(self, data_dict):\n",
    "        if self.key == 'comment':\n",
    "            return(data_dict[self.key])\n",
    "        elif self.key == 'features':\n",
    "            print('Select {}x{} previous generated feature matrix'.format(len(self.idx), \n",
    "                                                                          data_dict[self.key].shape[1]))\n",
    "            return(data_dict[self.key].iloc[self.idx,:])\n",
    "\n",
    "class CommentFeatureExtractor(BaseEstimator, TransformerMixin):\n",
    "    '''\n",
    "    input data should contain cleaned comments from both train and test set\n",
    "    (first n_train samples from train set, the rest from test set), \n",
    "    as well as featurs already generated during text preprocessing\n",
    "    '''\n",
    "    def __init__(self, n_train=None):\n",
    "        self.n_train = n_train\n",
    "        \n",
    "    def fit(self, x, y=None):\n",
    "        return(self)\n",
    "\n",
    "    def transform(self, full_set):\n",
    "        data = {}\n",
    "        data['comment'] = full_set.cleaned_text\n",
    "        data['features'] = full_set.drop('cleaned_text',axis=1)[:self.n_train]\n",
    "        print('Extracted {} comments and {} feature matrix'.format(len(data['comment']), data['features'].shape))\n",
    "        return(data)\n",
    "\n",
    "class MyTfidf(BaseEstimator, TransformerMixin):\n",
    "    def __init__(self, max_df=1.0, min_df=1, max_features=None, idx=None, analyzer='word'):\n",
    "        self.max_df = max_df\n",
    "        self.min_df = min_df\n",
    "        self.max_features = max_features\n",
    "        self.idx = idx\n",
    "        self.analyzer = analyzer\n",
    "        \n",
    "    def fit(self, x, y=None):\n",
    "        return(self)\n",
    "    \n",
    "    def transform(self, comments):\n",
    "        if self.analyzer == 'word':\n",
    "            ngram_range=(1, 1)\n",
    "        elif self.analyzer == 'char':\n",
    "            ngram_range=(1, 4)\n",
    "        vectorizer = TfidfVectorizer(max_df=self.max_df, ngram_range=ngram_range, min_df=self.min_df, \n",
    "                                          max_features=self.max_features, analyzer=self.analyzer,)\n",
    "        matrix = vectorizer.fit_transform(comments)\n",
    "        print('Finished tf-idf from {}, shape of generated matrix: {}x{}'.format(self.analyzer, \n",
    "                                                                                 len(self.idx), \n",
    "                                                                                 matrix.shape[1]))\n",
    "        return(matrix[self.idx])"
   ]
  },
  {
   "cell_type": "code",
   "execution_count": 35,
   "metadata": {},
   "outputs": [
    {
     "data": {
      "text/plain": [
       "Pipeline(memory=None,\n",
       "     steps=[('commentfeature', CommentFeatureExtractor(n_train=159571)), ('union', FeatureUnion(n_jobs=1,\n",
       "       transformer_list=[('tfidf_word', Pipeline(memory=None,\n",
       "     steps=[('selector', ItemSelector(idx=None, key='comment')), ('tfidf', MyTfidf(analyzer='word', idx=array([143061,  91099, ...,    35...eatures=30000, min_df=50))]))],\n",
       "       transformer_weights={'tfidf_word': 1.0, 'tfidf_char': 1.0}))])"
      ]
     },
     "execution_count": 35,
     "metadata": {},
     "output_type": "execute_result"
    }
   ],
   "source": [
    "pip = Pipeline([\n",
    "            # Extract comments and features columns\n",
    "            ('commentfeature', CommentFeatureExtractor()),\n",
    "            \n",
    "            # use FeatureUnion to combine features from tfidf and other already generated features\n",
    "            ('union', FeatureUnion(\n",
    "                transformer_list=[\n",
    "                    \n",
    "                    # pipeline to generate features from comments using tfidf analyzed by word\n",
    "                    ('tfidf_word', Pipeline([\n",
    "                        ('selector', ItemSelector(key='comment')),\n",
    "                        ('tfidf', MyTfidf(analyzer='word'))\n",
    "                    ])),\n",
    "                    \n",
    "                    # pipeline to generate features from comments using tfidf analyzed by char\n",
    "                    ('tfidf_char', Pipeline([\n",
    "                        ('selector', ItemSelector(key='comment')),\n",
    "                        ('tfidf', MyTfidf(analyzer='char'))\n",
    "                    ])),\n",
    "                    \n",
    "                    # get other generated features \n",
    "#                     ('other_features', Pipeline([\n",
    "#                         ('selector', ItemSelector(key='features'))\n",
    "#                     ]))\n",
    "                ], \n",
    "#                 n_jobs=-1,\n",
    "                transformer_weights={\n",
    "                    'tfidf_word': 1.0,\n",
    "                    'tfidf_char': 1.0,\n",
    "#                     'other_features': 1.0,\n",
    "                }\n",
    "            )),            \n",
    "            ])"
   ]
  },
  {
   "cell_type": "code",
   "execution_count": 37,
   "metadata": {},
   "outputs": [
    {
     "name": "stdout",
     "output_type": "stream",
     "text": [
      "Wall time: 0 ns\n",
      "Extracted 312735 comments and (159571, 6) feature matrix\n"
     ]
    },
    {
     "name": "stderr",
     "output_type": "stream",
     "text": [
      "C:\\Users\\liyad\\Anaconda3\\lib\\site-packages\\sklearn\\feature_extraction\\text.py:1089: FutureWarning: Conversion of the second argument of issubdtype from `float` to `np.floating` is deprecated. In future, it will be treated as `np.float64 == np.dtype(float).type`.\n",
      "  if hasattr(X, 'dtype') and np.issubdtype(X.dtype, np.float):\n"
     ]
    },
    {
     "name": "stdout",
     "output_type": "stream",
     "text": [
      "Finished tf-idf from word, shape of generated matrix: 127656x9600\n",
      "Finished tf-idf from char, shape of generated matrix: 127656x30000\n"
     ]
    }
   ],
   "source": [
    "# takes a few minutes\n",
    "\n",
    "%%time\n",
    "parameters = {'commentfeature__n_train': n_train,\\\n",
    "              'union__tfidf_word__tfidf__max_df': 1.0,\\\n",
    "              'union__tfidf_word__tfidf__min_df': 50,\\\n",
    "              'union__tfidf_word__tfidf__idx': train_idx,\\\n",
    "              'union__tfidf_char__tfidf__max_df': 1.0,\\\n",
    "              'union__tfidf_char__tfidf__min_df': 50,\\\n",
    "              'union__tfidf_char__tfidf__idx': train_idx,\\\n",
    "              'union__tfidf_char__tfidf__max_features': 30000,\\\n",
    "#               'union__other_features__selector__idx': train_idx,\\\n",
    "              }\n",
    "pip.set_params(**parameters)\n",
    "\n",
    "x_train_comb = pip.transform(full_set.drop(['comment_text', 'id', \n",
    "                                            'identity_hate', 'insult', \n",
    "                                            'obscene', 'severe_toxic', \n",
    "                                            'threat'], axis=1))"
   ]
  },
  {
   "cell_type": "code",
   "execution_count": 55,
   "metadata": {},
   "outputs": [
    {
     "name": "stdout",
     "output_type": "stream",
     "text": [
      "Extracted 312735 comments and (159571, 6) feature matrix\n"
     ]
    },
    {
     "name": "stderr",
     "output_type": "stream",
     "text": [
      "C:\\Users\\liyad\\Anaconda3\\lib\\site-packages\\sklearn\\feature_extraction\\text.py:1089: FutureWarning: Conversion of the second argument of issubdtype from `float` to `np.floating` is deprecated. In future, it will be treated as `np.float64 == np.dtype(float).type`.\n",
      "  if hasattr(X, 'dtype') and np.issubdtype(X.dtype, np.float):\n"
     ]
    },
    {
     "name": "stdout",
     "output_type": "stream",
     "text": [
      "Finished tf-idf from word, shape of generated matrix: 31915x9600\n",
      "Finished tf-idf from char, shape of generated matrix: 31915x30000\n"
     ]
    }
   ],
   "source": [
    "parameters = {'commentfeature__n_train': n_train,\\\n",
    "              'union__tfidf_word__tfidf__max_df': 1.0,\\\n",
    "              'union__tfidf_word__tfidf__min_df': 50,\\\n",
    "              'union__tfidf_word__tfidf__idx': test_idx,\\\n",
    "              'union__tfidf_char__tfidf__max_df': 1.0,\\\n",
    "              'union__tfidf_char__tfidf__min_df': 50,\\\n",
    "              'union__tfidf_char__tfidf__idx': test_idx,\\\n",
    "              'union__tfidf_char__tfidf__max_features': 30000,\\\n",
    "#               'union__other_features__selector__idx': train_idx,\\\n",
    "              }\n",
    "pip.set_params(**parameters)\n",
    "x_test_comb = pip.transform(full_set.drop(['comment_text', 'id', \n",
    "                                            'identity_hate', 'insult', \n",
    "                                            'obscene', 'severe_toxic', \n",
    "                                            'threat'], axis=1))"
   ]
  },
  {
   "cell_type": "code",
   "execution_count": 38,
   "metadata": {},
   "outputs": [
    {
     "name": "stdout",
     "output_type": "stream",
     "text": [
      "(127656, 39600)\n"
     ]
    }
   ],
   "source": [
    "print(x_train_comb.shape)"
   ]
  },
  {
   "cell_type": "markdown",
   "metadata": {},
   "source": [
    "Checking a sample"
   ]
  },
  {
   "cell_type": "code",
   "execution_count": 89,
   "metadata": {},
   "outputs": [
    {
     "data": {
      "text/plain": [
       "91099"
      ]
     },
     "execution_count": 89,
     "metadata": {},
     "output_type": "execute_result"
    }
   ],
   "source": [
    "train_idx[1]"
   ]
  },
  {
   "cell_type": "code",
   "execution_count": 100,
   "metadata": {},
   "outputs": [
    {
     "data": {
      "text/plain": [
       "caps                                                          0.5\n",
       "longest_word                                                   10\n",
       "cleaned_text    s exact quote t understand official press rele...\n",
       "len_doc                                                        43\n",
       "n_words                                                        10\n",
       "oov                                                             0\n",
       "Name: 91099, dtype: object"
      ]
     },
     "execution_count": 100,
     "metadata": {},
     "output_type": "execute_result"
    }
   ],
   "source": [
    "full_set.iloc[91099,-6:]"
   ]
  },
  {
   "cell_type": "code",
   "execution_count": 98,
   "metadata": {},
   "outputs": [
    {
     "name": "stdout",
     "output_type": "stream",
     "text": [
      "  (0, 0)\t0.5\n",
      "  (0, 1)\t10.0\n",
      "  (0, 2)\t43.0\n",
      "  (0, 3)\t10.0\n"
     ]
    }
   ],
   "source": [
    "print(x_train_comb[1,-5:])"
   ]
  },
  {
   "cell_type": "code",
   "execution_count": null,
   "metadata": {
    "collapsed": true
   },
   "outputs": [],
   "source": []
  },
  {
   "cell_type": "code",
   "execution_count": 39,
   "metadata": {
    "collapsed": true
   },
   "outputs": [],
   "source": [
    "mnb = MultinomialNB()"
   ]
  },
  {
   "cell_type": "code",
   "execution_count": 52,
   "metadata": {
    "collapsed": true
   },
   "outputs": [],
   "source": [
    "parameters = {'alpha': (1, 0.25, 0.2, 0.15, 0.1)}\n",
    "nb_toxic = GridSearchCV(mnb, parameters, n_jobs=-1, scoring = 'roc_auc', verbose=1, cv=5)"
   ]
  },
  {
   "cell_type": "code",
   "execution_count": 53,
   "metadata": {},
   "outputs": [
    {
     "name": "stdout",
     "output_type": "stream",
     "text": [
      "Fitting 5 folds for each of 5 candidates, totalling 25 fits\n"
     ]
    },
    {
     "name": "stderr",
     "output_type": "stream",
     "text": [
      "[Parallel(n_jobs=-1)]: Done  25 out of  25 | elapsed:   38.7s finished\n"
     ]
    },
    {
     "data": {
      "text/plain": [
       "GridSearchCV(cv=5, error_score='raise',\n",
       "       estimator=MultinomialNB(alpha=1.0, class_prior=None, fit_prior=True),\n",
       "       fit_params=None, iid=True, n_jobs=-1,\n",
       "       param_grid={'alpha': (1, 0.25, 0.2, 0.15, 0.1)},\n",
       "       pre_dispatch='2*n_jobs', refit=True, return_train_score=True,\n",
       "       scoring='roc_auc', verbose=1)"
      ]
     },
     "execution_count": 53,
     "metadata": {},
     "output_type": "execute_result"
    }
   ],
   "source": [
    "nb_toxic.fit(x_train_comb, y_train)"
   ]
  },
  {
   "cell_type": "code",
   "execution_count": 54,
   "metadata": {},
   "outputs": [
    {
     "name": "stdout",
     "output_type": "stream",
     "text": [
      "{'alpha': 0.2}\n",
      "0.9497373584576353\n"
     ]
    }
   ],
   "source": [
    "print(nb_toxic.best_params_)\n",
    "print(nb_toxic.best_score_)"
   ]
  },
  {
   "cell_type": "code",
   "execution_count": null,
   "metadata": {
    "collapsed": true
   },
   "outputs": [],
   "source": [
    "print(r\"Training score(roc_auc): {}\".format(metrics.roc_auc_score(y_train, nb_toxic.predict_proba(x_train)[:,1])))\n",
    "print(r\"Test score(roc_auc): {}\".format(metrics.roc_auc_score(y_test, gs_nb_toxic.predict_proba(x_test)[:,1])))"
   ]
  },
  {
   "cell_type": "code",
   "execution_count": null,
   "metadata": {
    "collapsed": true
   },
   "outputs": [],
   "source": [
    "{'alpha': 0.2}\n",
    "0.9497373584576353"
   ]
  },
  {
   "cell_type": "code",
   "execution_count": null,
   "metadata": {
    "collapsed": true
   },
   "outputs": [],
   "source": []
  },
  {
   "cell_type": "markdown",
   "metadata": {},
   "source": [
    "**for one label: toxic**"
   ]
  },
  {
   "cell_type": "code",
   "execution_count": 36,
   "metadata": {
    "collapsed": true
   },
   "outputs": [],
   "source": [
    "\n",
    "# def evaluate_model(clf, actual, predicted):\n",
    "#     \"\"\"Scores a model with the created train and test sets.\"\"\"\n",
    "#     train_loss = metrics.roc_auc_score(y_train, clf.predict_proba(x_train)[:,1])\n",
    "#     test_loss = metrics.roc_auc_score(y_test, clf.predict_proba(x_test)[:,1])\n",
    "#     matrix = confusion_matrix(actual, predicted)\n",
    "#     report = metrics.classification_report(actual, predicted, target_names = ['0', '1'])\n",
    "#     print(\"Train score:\", train_loss)\n",
    "#     print(\"Test score:\", test_loss)\n",
    "#     print('Confusion Matrix:\\n', matrix)\n",
    "#     print('Classification report:\\n', report)\n",
    "\n",
    "#     return test_loss"
   ]
  },
  {
   "cell_type": "code",
   "execution_count": 91,
   "metadata": {
    "collapsed": true
   },
   "outputs": [],
   "source": [
    "x_train, x_test, y_train, y_test = train_test_split(full_set.cleaned_text[:n_train], \n",
    "                                                    full_set['toxic'][:n_train], \n",
    "                                                    test_size = 0.2, \n",
    "                                                    stratify = full_set['toxic'][:n_train])\n",
    "pipe_nb_toxic = Pipeline([('tfidf', TfidfVectorizer()), ('nb', MultinomialNB())])"
   ]
  },
  {
   "cell_type": "code",
   "execution_count": 92,
   "metadata": {
    "collapsed": true
   },
   "outputs": [],
   "source": [
    "parameters = {'tfidf__max_df': (0.70, 0.80, 0.90, 1.0),\\\n",
    "              'tfidf__min_df': (0, 0.01,0.03,0.1),\\\n",
    "              'nb__alpha': (1, 0.3, 0.1, 0.03, 0.01, 0.003)}\n",
    "gs_nb_toxic = GridSearchCV(pipe_nb_toxic, parameters, n_jobs=-1, scoring = 'roc_auc', verbose=10)"
   ]
  },
  {
   "cell_type": "code",
   "execution_count": 52,
   "metadata": {
    "scrolled": true
   },
   "outputs": [
    {
     "name": "stdout",
     "output_type": "stream",
     "text": [
      "Fitting 3 folds for each of 96 candidates, totalling 288 fits\n"
     ]
    },
    {
     "name": "stderr",
     "output_type": "stream",
     "text": [
      "[Parallel(n_jobs=-1)]: Done   5 tasks      | elapsed:   35.2s\n",
      "[Parallel(n_jobs=-1)]: Done  10 tasks      | elapsed:   53.7s\n",
      "[Parallel(n_jobs=-1)]: Done  17 tasks      | elapsed:  1.4min\n",
      "[Parallel(n_jobs=-1)]: Done  24 tasks      | elapsed:  1.8min\n",
      "[Parallel(n_jobs=-1)]: Done  33 tasks      | elapsed:  2.5min\n",
      "[Parallel(n_jobs=-1)]: Done  42 tasks      | elapsed:  3.2min\n",
      "[Parallel(n_jobs=-1)]: Done  53 tasks      | elapsed:  4.0min\n",
      "[Parallel(n_jobs=-1)]: Done  64 tasks      | elapsed:  4.6min\n",
      "[Parallel(n_jobs=-1)]: Done  77 tasks      | elapsed:  5.6min\n",
      "[Parallel(n_jobs=-1)]: Done  90 tasks      | elapsed:  6.5min\n",
      "[Parallel(n_jobs=-1)]: Done 105 tasks      | elapsed:  7.5min\n",
      "[Parallel(n_jobs=-1)]: Done 120 tasks      | elapsed:  8.4min\n",
      "[Parallel(n_jobs=-1)]: Done 137 tasks      | elapsed:  9.8min\n",
      "[Parallel(n_jobs=-1)]: Done 154 tasks      | elapsed: 11.0min\n",
      "[Parallel(n_jobs=-1)]: Done 173 tasks      | elapsed: 12.4min\n",
      "[Parallel(n_jobs=-1)]: Done 192 tasks      | elapsed: 13.6min\n",
      "[Parallel(n_jobs=-1)]: Done 213 tasks      | elapsed: 15.1min\n",
      "[Parallel(n_jobs=-1)]: Done 234 tasks      | elapsed: 16.4min\n",
      "[Parallel(n_jobs=-1)]: Done 257 tasks      | elapsed: 18.0min\n",
      "[Parallel(n_jobs=-1)]: Done 280 tasks      | elapsed: 19.5min\n",
      "[Parallel(n_jobs=-1)]: Done 288 out of 288 | elapsed: 20.0min finished\n",
      "C:\\Users\\liyad\\Anaconda3\\lib\\site-packages\\sklearn\\feature_extraction\\text.py:1089: FutureWarning: Conversion of the second argument of issubdtype from `float` to `np.floating` is deprecated. In future, it will be treated as `np.float64 == np.dtype(float).type`.\n",
      "  if hasattr(X, 'dtype') and np.issubdtype(X.dtype, np.float):\n"
     ]
    },
    {
     "name": "stdout",
     "output_type": "stream",
     "text": [
      "Wall time: 20min 10s\n"
     ]
    },
    {
     "data": {
      "text/plain": [
       "GridSearchCV(cv=None, error_score='raise',\n",
       "       estimator=Pipeline(memory=None,\n",
       "     steps=[('tfidf', TfidfVectorizer(analyzer='word', binary=False, decode_error='strict',\n",
       "        dtype=<class 'numpy.int64'>, encoding='utf-8', input='content',\n",
       "        lowercase=True, max_df=1.0, max_features=None, min_df=1,\n",
       "        ngram_range=(1, 1), norm='l2', preprocessor=None, smooth_idf=True,\n",
       " ...True,\n",
       "        vocabulary=None)), ('nb', MultinomialNB(alpha=1.0, class_prior=None, fit_prior=True))]),\n",
       "       fit_params=None, iid=True, n_jobs=-1,\n",
       "       param_grid={'tfidf__max_df': (0.7, 0.8, 0.9, 1.0), 'tfidf__min_df': (0, 0.01, 0.03, 0.1), 'nb__alpha': (1, 0.3, 0.1, 0.03, 0.01, 0.003)},\n",
       "       pre_dispatch='2*n_jobs', refit=True, return_train_score=True,\n",
       "       scoring='roc_auc', verbose=10)"
      ]
     },
     "execution_count": 52,
     "metadata": {},
     "output_type": "execute_result"
    }
   ],
   "source": [
    "%%time\n",
    "\n",
    "gs_nb_toxic.fit(x_train, y_train)"
   ]
  },
  {
   "cell_type": "code",
   "execution_count": 53,
   "metadata": {},
   "outputs": [
    {
     "data": {
      "text/plain": [
       "{'nb__alpha': 0.03, 'tfidf__max_df': 0.7, 'tfidf__min_df': 0}"
      ]
     },
     "execution_count": 53,
     "metadata": {},
     "output_type": "execute_result"
    }
   ],
   "source": [
    "gs_nb_toxic.best_params_"
   ]
  },
  {
   "cell_type": "code",
   "execution_count": 66,
   "metadata": {},
   "outputs": [
    {
     "data": {
      "text/plain": [
       "0.9426850756559979"
      ]
     },
     "execution_count": 66,
     "metadata": {},
     "output_type": "execute_result"
    }
   ],
   "source": [
    "gs_nb_toxic.best_score_"
   ]
  },
  {
   "cell_type": "code",
   "execution_count": 65,
   "metadata": {},
   "outputs": [
    {
     "name": "stderr",
     "output_type": "stream",
     "text": [
      "C:\\Users\\liyad\\Anaconda3\\lib\\site-packages\\sklearn\\feature_extraction\\text.py:1089: FutureWarning: Conversion of the second argument of issubdtype from `float` to `np.floating` is deprecated. In future, it will be treated as `np.float64 == np.dtype(float).type`.\n",
      "  if hasattr(X, 'dtype') and np.issubdtype(X.dtype, np.float):\n"
     ]
    },
    {
     "name": "stdout",
     "output_type": "stream",
     "text": [
      "Training score(roc_auc): 0.987459821357174\n",
      "Test score(roc_auc): 0.9482863041090147\n"
     ]
    }
   ],
   "source": [
    "print(r\"Training score(roc_auc): {}\".format(metrics.roc_auc_score(y_train, gs_nb_toxic.predict_proba(x_train)[:,1])))\n",
    "print(r\"Test score(roc_auc): {}\".format(metrics.roc_auc_score(y_test, gs_nb_toxic.predict_proba(x_test)[:,1])))"
   ]
  },
  {
   "cell_type": "code",
   "execution_count": 76,
   "metadata": {},
   "outputs": [
    {
     "name": "stderr",
     "output_type": "stream",
     "text": [
      "C:\\Users\\liyad\\Anaconda3\\lib\\site-packages\\sklearn\\feature_extraction\\text.py:1089: FutureWarning: Conversion of the second argument of issubdtype from `float` to `np.floating` is deprecated. In future, it will be treated as `np.float64 == np.dtype(float).type`.\n",
      "  if hasattr(X, 'dtype') and np.issubdtype(X.dtype, np.float):\n"
     ]
    },
    {
     "data": {
      "text/plain": [
       "array([[28585,   271],\n",
       "       [ 1380,  1679]], dtype=int64)"
      ]
     },
     "execution_count": 76,
     "metadata": {},
     "output_type": "execute_result"
    }
   ],
   "source": [
    "metrics.confusion_matrix(y_test, gs_nb_toxic.predict(x_test))"
   ]
  },
  {
   "cell_type": "code",
   "execution_count": 70,
   "metadata": {},
   "outputs": [
    {
     "name": "stderr",
     "output_type": "stream",
     "text": [
      "C:\\Users\\liyad\\Anaconda3\\lib\\site-packages\\sklearn\\feature_extraction\\text.py:1089: FutureWarning: Conversion of the second argument of issubdtype from `float` to `np.floating` is deprecated. In future, it will be treated as `np.float64 == np.dtype(float).type`.\n",
      "  if hasattr(X, 'dtype') and np.issubdtype(X.dtype, np.float):\n"
     ]
    },
    {
     "data": {
      "image/png": "[encoded data removed]",
      "text/plain": [
       "<matplotlib.figure.Figure at 0x25d2b199828>"
      ]
     },
     "metadata": {},
     "output_type": "display_data"
    }
   ],
   "source": [
    "a = metrics.roc_curve(y_test, gs_nb_toxic.predict_proba(x_test)[:,1])\n",
    "plt.plot(a[0],a[1])\n",
    "plt.show()"
   ]
  },
  {
   "cell_type": "markdown",
   "metadata": {
    "collapsed": true
   },
   "source": [
    "**Train multipyl classifiers**"
   ]
  },
  {
   "cell_type": "code",
   "execution_count": null,
   "metadata": {
    "collapsed": true
   },
   "outputs": [],
   "source": []
  },
  {
   "cell_type": "code",
   "execution_count": null,
   "metadata": {
    "collapsed": true
   },
   "outputs": [],
   "source": []
  },
  {
   "cell_type": "code",
   "execution_count": null,
   "metadata": {
    "collapsed": true
   },
   "outputs": [],
   "source": []
  },
  {
   "cell_type": "code",
   "execution_count": null,
   "metadata": {
    "collapsed": true
   },
   "outputs": [],
   "source": []
  },
  {
   "cell_type": "code",
   "execution_count": null,
   "metadata": {
    "collapsed": true
   },
   "outputs": [],
   "source": []
  },
  {
   "cell_type": "code",
   "execution_count": null,
   "metadata": {
    "collapsed": true
   },
   "outputs": [],
   "source": []
  },
  {
   "cell_type": "code",
   "execution_count": null,
   "metadata": {
    "collapsed": true
   },
   "outputs": [],
   "source": []
  },
  {
   "cell_type": "code",
   "execution_count": null,
   "metadata": {
    "collapsed": true
   },
   "outputs": [],
   "source": []
  },
  {
   "cell_type": "markdown",
   "metadata": {},
   "source": [
    "issue:\n",
    "  - fixed  <s>is_stop dose not work with en_core_web_lg, works with en_core_web_sm</s>  \n",
    "  - is_oov dose not work with en_core_web_sm, works with en_core_web_lg"
   ]
  },
  {
   "cell_type": "markdown",
   "metadata": {},
   "source": [
    "notes:\n",
    " - keep -PRON-\n",
    " - ngrams?\n",
    " - vector from en_core_web_lg token?\n",
    " - other tokenizer?\n",
    " - tfidf with analyzer=char\n",
    " \n",
    " \n",
    "   "
   ]
  },
  {
   "cell_type": "markdown",
   "metadata": {},
   "source": [
    "data: \n",
    "   - v1. en_core_web_lg, nlp.pip, is_stop dose not work with lg model, http address not removed\n",
    "   - v2. en_core_web_sm, nlp.pip, stop words removed, http address removed, is_oov dose not work with sm model\n",
    "   - v3. en_core_web_lg, tokenize.pip http address removed, stop word remove fixed, is_oov working\n",
    "   - v4. en_core_web_lg, tokenize.pip, processed on full set (train and test set combined)"
   ]
  },
  {
   "cell_type": "code",
   "execution_count": 32,
   "metadata": {
    "collapsed": true
   },
   "outputs": [],
   "source": [
    "# dose not work, x, y need to have same number of rows\n",
    "\n",
    "# class ItemSelector(BaseEstimator, TransformerMixin):\n",
    "#     def __init__(self, key='comment', idx=None):\n",
    "#         self.key = key\n",
    "#         self.idx = idx\n",
    "\n",
    "#     def fit(self, x, y=None):\n",
    "#         return(self)\n",
    "\n",
    "#     def transform(self, data_dict):\n",
    "#         if self.key == 'comment':\n",
    "#             return(data_dict[self.key])\n",
    "#         elif self.key == 'features':\n",
    "#             return(data_dict[self.key][self.idx,:])\n",
    "\n",
    "# class CommentFeatureExtractor(BaseEstimator, TransformerMixin):\n",
    "#     '''\n",
    "#     input data should contain a column of cleaned comments from both train and test set\n",
    "#     (first n_train samples from train set, the rest from test set), \n",
    "#     as well as featurs generated from comments ready for training\n",
    "#     '''\n",
    "#     def __init__(self, n_train=None):\n",
    "#         self.n_train = n_train\n",
    "        \n",
    "#     def fit(self, x, y=None):\n",
    "#         return(self)\n",
    "\n",
    "#     def transform(self, full_set):\n",
    "#         data = {}\n",
    "#         data['comment'] = full_set.cleaned_text\n",
    "#         data['features'] = full_set.drop('cleaned_text',axis=1)[:self.n_train]\n",
    "#         return(data)\n",
    "    \n",
    "# class MyTfidf(BaseEstimator, TransformerMixin):\n",
    "#     def __init__(self, max_df=1.0, min_df=1, max_features=None, idx=None, analyzer='word'):\n",
    "#         self.max_df = max_df\n",
    "#         self.min_df = min_df\n",
    "#         self.max_features = max_features\n",
    "#         self.idx = idx\n",
    "#         self.analyzer = analyzer\n",
    "        \n",
    "#     def fit(self, x, y=None):\n",
    "#         return(self)\n",
    "    \n",
    "#     def transform(self, comments):\n",
    "#         if self.analyzer == 'word':\n",
    "#             ngram_range=(1, 1)\n",
    "#         elif self.analyzer == 'char':\n",
    "#             ngram_range=(1, 4)\n",
    "#         Vectorizer_word = TfidfVectorizer(max_df=self.max_df, ngram_range=ngram_range, min_df=self.min_df, \n",
    "#                                           max_features=self.max_features, analyzer=self.analyzer,)\n",
    "#         word_vector = Vectorizer_word.fit_transform(comments)\n",
    "#         return(word_vector[self.idx])\n",
    "\n",
    "# # pipeline for training multipule classifiers\n",
    "# pip = Pipeline([\n",
    "#             # Extract comments and features columns\n",
    "#             ('commentfeature', CommentFeatureExtractor()),\n",
    "            \n",
    "#             # use FeatureUnion to combine features from tfidf and other already generated features\n",
    "#             ('union', FeatureUnion(\n",
    "#                 transformer_list=[\n",
    "                    \n",
    "#                     # pipeline to generate features from comments using tfidf analyzed by word\n",
    "#                     ('tfidf_word', Pipeline([\n",
    "#                         ('selector', ItemSelector(key='comment')),\n",
    "#                         ('tfidf', MyTfidf(analyzer='word'))\n",
    "#                     ])),\n",
    "                    \n",
    "#                     # pipeline to generate features from comments using tfidf analyzed by char\n",
    "#                     ('tfidf_char', Pipeline([\n",
    "#                         ('selector', ItemSelector(key='comment')),\n",
    "#                         ('tfidf', MyTfidf(analyzer='char'))\n",
    "#                     ])),\n",
    "                    \n",
    "#                     # get other generated features \n",
    "#                     ('other_features', Pipeline([\n",
    "#                         ('selector', ItemSelector(key='features'))\n",
    "#                     ]))\n",
    "#                 ], \n",
    "#                 n_jobs=-1,\n",
    "#                 transformer_weights={\n",
    "#                     'tfidf_word': 1.0,\n",
    "#                     'tfidf_char': 1.0,\n",
    "#                     'other_features': 1.0,\n",
    "#                 }\n",
    "#             )),\n",
    "            \n",
    "#             # run MNB model on x_train, y_train\n",
    "#             ('mnb', MultinomialNB())\n",
    "#             ])\n",
    "\n",
    "# parameters = {'commentfeature__n_train': [n_train],\\\n",
    "#               'union__tfidf_word__tfidf__max_df': [0.6, 0.7, 0.8, 0.9],\\\n",
    "#               'union__tfidf_word__tfidf__min_df': [0, 10, 30, 100],\\\n",
    "#               'union__tfidf_word__tfidf__idx': [train_idx],\\\n",
    "#               'union__tfidf_char__tfidf__max_df': [1],\\\n",
    "#               'union__tfidf_char__tfidf__min_df': [0],\\\n",
    "#               'union__tfidf_char__tfidf__idx': [train_idx],\\\n",
    "#               'union__other_features__selector__idx': [train_idx],\\\n",
    "#               'nb__alpha': [1, 0.3, 0.1, 0.03, 0.01, 0.003]}\n",
    "# nb_toxic = GridSearchCV(pip, parameters, n_jobs=-1, scoring = 'roc_auc', verbose=1)\n",
    "# nb_toxic.fit(full_set.drop(['comment_text', 'id', 'identity_hate', 'insult', 'obscene', 'severe_toxic', 'threat'], \n",
    "#                            axis=1),\n",
    "#             y_train)"
   ]
  }
 ],
 "metadata": {
  "kernelspec": {
   "display_name": "Python 3",
   "language": "python",
   "name": "python3"
  },
  "language_info": {
   "codemirror_mode": {
    "name": "ipython",
    "version": 3
   },
   "file_extension": ".py",
   "mimetype": "text/x-python",
   "name": "python",
   "nbconvert_exporter": "python",
   "pygments_lexer": "ipython3",
   "version": "3.6.1"
  }
 },
 "nbformat": 4,
 "nbformat_minor": 2
}
